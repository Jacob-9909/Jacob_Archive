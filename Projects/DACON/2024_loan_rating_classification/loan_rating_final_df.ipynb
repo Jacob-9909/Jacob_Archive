{
  "cells": [
    {
      "cell_type": "code",
      "execution_count": 1,
      "metadata": {
        "colab": {
          "base_uri": "https://localhost:8080/"
        },
        "id": "1m6YEbuZgNzX",
        "outputId": "083a5e09-ec58-4d5d-e59a-d3644e514c98"
      },
      "outputs": [
        {
          "name": "stdout",
          "output_type": "stream",
          "text": [
            "Mounted at /content/drive\n"
          ]
        }
      ],
      "source": [
        "# from google.colab import drive\n",
        "# drive.mount('/content/drive')"
      ]
    },
    {
      "cell_type": "code",
      "execution_count": 2,
      "metadata": {
        "colab": {
          "base_uri": "https://localhost:8080/"
        },
        "id": "dOadHm6SgOe3",
        "outputId": "5bec2a6c-46f8-41bb-cd24-4f5fa63c823c"
      },
      "outputs": [
        {
          "name": "stdout",
          "output_type": "stream",
          "text": [
            "Collecting catboost\n",
            "  Downloading catboost-1.2.2-cp310-cp310-manylinux2014_x86_64.whl (98.7 MB)\n",
            "\u001b[2K     \u001b[90m━━━━━━━━━━━━━━━━━━━━━━━━━━━━━━━━━━━━━━━━\u001b[0m \u001b[32m98.7/98.7 MB\u001b[0m \u001b[31m4.6 MB/s\u001b[0m eta \u001b[36m0:00:00\u001b[0m\n",
            "\u001b[?25hRequirement already satisfied: graphviz in /usr/local/lib/python3.10/dist-packages (from catboost) (0.20.1)\n",
            "Requirement already satisfied: matplotlib in /usr/local/lib/python3.10/dist-packages (from catboost) (3.7.1)\n",
            "Requirement already satisfied: numpy>=1.16.0 in /usr/local/lib/python3.10/dist-packages (from catboost) (1.23.5)\n",
            "Requirement already satisfied: pandas>=0.24 in /usr/local/lib/python3.10/dist-packages (from catboost) (1.5.3)\n",
            "Requirement already satisfied: scipy in /usr/local/lib/python3.10/dist-packages (from catboost) (1.11.4)\n",
            "Requirement already satisfied: plotly in /usr/local/lib/python3.10/dist-packages (from catboost) (5.15.0)\n",
            "Requirement already satisfied: six in /usr/local/lib/python3.10/dist-packages (from catboost) (1.16.0)\n",
            "Requirement already satisfied: python-dateutil>=2.8.1 in /usr/local/lib/python3.10/dist-packages (from pandas>=0.24->catboost) (2.8.2)\n",
            "Requirement already satisfied: pytz>=2020.1 in /usr/local/lib/python3.10/dist-packages (from pandas>=0.24->catboost) (2023.4)\n",
            "Requirement already satisfied: contourpy>=1.0.1 in /usr/local/lib/python3.10/dist-packages (from matplotlib->catboost) (1.2.0)\n",
            "Requirement already satisfied: cycler>=0.10 in /usr/local/lib/python3.10/dist-packages (from matplotlib->catboost) (0.12.1)\n",
            "Requirement already satisfied: fonttools>=4.22.0 in /usr/local/lib/python3.10/dist-packages (from matplotlib->catboost) (4.47.2)\n",
            "Requirement already satisfied: kiwisolver>=1.0.1 in /usr/local/lib/python3.10/dist-packages (from matplotlib->catboost) (1.4.5)\n",
            "Requirement already satisfied: packaging>=20.0 in /usr/local/lib/python3.10/dist-packages (from matplotlib->catboost) (23.2)\n",
            "Requirement already satisfied: pillow>=6.2.0 in /usr/local/lib/python3.10/dist-packages (from matplotlib->catboost) (9.4.0)\n",
            "Requirement already satisfied: pyparsing>=2.3.1 in /usr/local/lib/python3.10/dist-packages (from matplotlib->catboost) (3.1.1)\n",
            "Requirement already satisfied: tenacity>=6.2.0 in /usr/local/lib/python3.10/dist-packages (from plotly->catboost) (8.2.3)\n",
            "Installing collected packages: catboost\n",
            "Successfully installed catboost-1.2.2\n"
          ]
        }
      ],
      "source": [
        "# pip install catboost"
      ]
    },
    {
      "cell_type": "code",
      "execution_count": 3,
      "metadata": {
        "colab": {
          "base_uri": "https://localhost:8080/"
        },
        "id": "3Ny1icDQgPLB",
        "outputId": "7282f081-de61-4f42-b3b3-588a84509e35"
      },
      "outputs": [
        {
          "name": "stdout",
          "output_type": "stream",
          "text": [
            "Collecting optuna\n",
            "  Downloading optuna-3.5.0-py3-none-any.whl (413 kB)\n",
            "\u001b[2K     \u001b[90m━━━━━━━━━━━━━━━━━━━━━━━━━━━━━━━━━━━━━━━━\u001b[0m \u001b[32m413.4/413.4 kB\u001b[0m \u001b[31m3.1 MB/s\u001b[0m eta \u001b[36m0:00:00\u001b[0m\n",
            "\u001b[?25hCollecting alembic>=1.5.0 (from optuna)\n",
            "  Downloading alembic-1.13.1-py3-none-any.whl (233 kB)\n",
            "\u001b[2K     \u001b[90m━━━━━━━━━━━━━━━━━━━━━━━━━━━━━━━━━━━━━━━━\u001b[0m \u001b[32m233.4/233.4 kB\u001b[0m \u001b[31m16.1 MB/s\u001b[0m eta \u001b[36m0:00:00\u001b[0m\n",
            "\u001b[?25hCollecting colorlog (from optuna)\n",
            "  Downloading colorlog-6.8.2-py3-none-any.whl (11 kB)\n",
            "Requirement already satisfied: numpy in /usr/local/lib/python3.10/dist-packages (from optuna) (1.23.5)\n",
            "Requirement already satisfied: packaging>=20.0 in /usr/local/lib/python3.10/dist-packages (from optuna) (23.2)\n",
            "Requirement already satisfied: sqlalchemy>=1.3.0 in /usr/local/lib/python3.10/dist-packages (from optuna) (2.0.24)\n",
            "Requirement already satisfied: tqdm in /usr/local/lib/python3.10/dist-packages (from optuna) (4.66.1)\n",
            "Requirement already satisfied: PyYAML in /usr/local/lib/python3.10/dist-packages (from optuna) (6.0.1)\n",
            "Collecting Mako (from alembic>=1.5.0->optuna)\n",
            "  Downloading Mako-1.3.2-py3-none-any.whl (78 kB)\n",
            "\u001b[2K     \u001b[90m━━━━━━━━━━━━━━━━━━━━━━━━━━━━━━━━━━━━━━━━\u001b[0m \u001b[32m78.7/78.7 kB\u001b[0m \u001b[31m8.6 MB/s\u001b[0m eta \u001b[36m0:00:00\u001b[0m\n",
            "\u001b[?25hRequirement already satisfied: typing-extensions>=4 in /usr/local/lib/python3.10/dist-packages (from alembic>=1.5.0->optuna) (4.5.0)\n",
            "Requirement already satisfied: greenlet!=0.4.17 in /usr/local/lib/python3.10/dist-packages (from sqlalchemy>=1.3.0->optuna) (3.0.3)\n",
            "Requirement already satisfied: MarkupSafe>=0.9.2 in /usr/local/lib/python3.10/dist-packages (from Mako->alembic>=1.5.0->optuna) (2.1.4)\n",
            "Installing collected packages: Mako, colorlog, alembic, optuna\n",
            "Successfully installed Mako-1.3.2 alembic-1.13.1 colorlog-6.8.2 optuna-3.5.0\n"
          ]
        }
      ],
      "source": [
        "# pip install optuna"
      ]
    },
    {
      "cell_type": "code",
      "execution_count": 4,
      "metadata": {
        "id": "FrVusLMH18NO"
      },
      "outputs": [],
      "source": [
        "import os\n",
        "import random\n",
        "import pickle\n",
        "import gc\n",
        "import warnings\n",
        "import seaborn as sns\n",
        "import numpy as np\n",
        "import pandas as pd\n",
        "import matplotlib.pyplot as plt\n",
        "from matplotlib import font_manager, rc\n",
        "from sklearn.compose import ColumnTransformer, make_column_transformer\n",
        "from sklearn.base import BaseEstimator, TransformerMixin\n",
        "from sklearn.impute import SimpleImputer\n",
        "from sklearn.experimental import enable_iterative_imputer\n",
        "from sklearn.manifold import LocallyLinearEmbedding\n",
        "from sklearn.cluster import KMeans, MiniBatchKMeans\n",
        "from sklearn.preprocessing import (\n",
        "    StandardScaler, PowerTransformer, OrdinalEncoder,\n",
        "    OneHotEncoder, FunctionTransformer, PolynomialFeatures, LabelEncoder\n",
        ")\n",
        "from sklearn.decomposition import PCA, IncrementalPCA, KernelPCA\n",
        "from sklearn.feature_selection import SelectKBest, SelectPercentile\n",
        "from sklearn.feature_extraction.text import CountVectorizer\n",
        "from sklearn.linear_model import (\n",
        "    LogisticRegression, LinearRegression, Ridge, Lasso,\n",
        "    SGDRegressor, ElasticNet\n",
        ")\n",
        "from sklearn.model_selection import (\n",
        "    train_test_split, cross_val_score, cross_validate,\n",
        "    GridSearchCV, KFold, cross_val_predict\n",
        ")\n",
        "from sklearn.metrics import (\n",
        "    roc_auc_score, mean_squared_error, make_scorer, accuracy_score, log_loss\n",
        ")\n",
        "from sklearn import set_config, datasets\n",
        "from catboost import (\n",
        "    CatBoostRegressor, CatBoostClassifier\n",
        ")\n",
        "from sklearn.pipeline import (\n",
        "    Pipeline, FeatureUnion, make_pipeline\n",
        ")\n",
        "from sklearn.ensemble import (\n",
        "    RandomForestClassifier, StackingClassifier, StackingRegressor,\n",
        "    GradientBoostingRegressor, VotingClassifier, VotingRegressor,\n",
        "    HistGradientBoostingRegressor, GradientBoostingClassifier,\n",
        "    BaggingClassifier, AdaBoostClassifier, RandomForestRegressor,ExtraTreesRegressor\n",
        ")\n",
        "\n",
        "from lightgbm import LGBMRegressor, LGBMClassifier\n",
        "from sklearn.svm import SVC, SVR, LinearSVC\n",
        "from xgboost import XGBRegressor, XGBClassifier\n",
        "from sklearn.neural_network import MLPClassifier\n",
        "from sklearn.neighbors import KNeighborsClassifier\n",
        "from sklearn.naive_bayes import GaussianNB\n",
        "from sklearn.tree import DecisionTreeClassifier\n",
        "from sklearn.datasets import make_moons\n",
        "\n",
        "import xgboost as xgb\n",
        "import lightgbm as lgb\n",
        "import re\n",
        "import optuna\n",
        "import math\n",
        "from pandas.errors import DataError\n",
        "from scipy.stats import zscore\n",
        "\n",
        "%matplotlib inline\n",
        "\n",
        "warnings.filterwarnings(\"ignore\")"
      ]
    },
    {
      "cell_type": "code",
      "execution_count": 5,
      "metadata": {
        "id": "YaKOdbov18NQ"
      },
      "outputs": [],
      "source": [
        "def seed_everything(seed: int = 42):\n",
        "    random.seed(seed)\n",
        "    np.random.seed(seed)\n",
        "    os.environ[\"PYTHONHASHSEED\"] = str(seed)\n",
        "seed_everything(42)"
      ]
    },
    {
      "cell_type": "code",
      "execution_count": 6,
      "metadata": {
        "id": "cjdRAEZP18NQ"
      },
      "outputs": [],
      "source": [
        "#데이터 로드\n",
        "train = pd.read_csv(\"/content/drive/MyDrive/3-2/머신러닝/dacon/고객 대출등급 분류 해커톤/train.csv\")\n",
        "test = pd.read_csv(\"/content/drive/MyDrive/3-2/머신러닝/dacon/고객 대출등급 분류 해커톤/test.csv\")\n",
        "\n",
        "# #데이터 로드\n",
        "# train = pd.read_csv(\"train.csv\")\n",
        "# test = pd.read_csv(\"test.csv\")"
      ]
    },
    {
      "cell_type": "code",
      "execution_count": 7,
      "metadata": {
        "colab": {
          "base_uri": "https://localhost:8080/"
        },
        "id": "nuUxyQJPgEIE",
        "outputId": "ba65fb1c-454a-495a-836c-e6925fe4042e"
      },
      "outputs": [
        {
          "name": "stdout",
          "output_type": "stream",
          "text": [
            "전처리 전 train 크기 : (96294, 15)\n",
            "전처리 전 test 크기 : (64197, 14)\n",
            "=================전처리 중=================\n",
            "전처리 후 train 크기 : (96294, 15)\n",
            "전처리 후 test 크기 : (64197, 14)\n"
          ]
        }
      ],
      "source": [
        "#전처리\n",
        "def pre_all(train, test):\n",
        "    print(f\"전처리 전 train 크기 : {train.shape}\")\n",
        "    print(f\"전처리 전 test 크기 : {test.shape}\")\n",
        "    print(\"=================전처리 중=================\")\n",
        "\n",
        "    df = pd.concat([train,test]).reset_index(drop = True)\n",
        "\n",
        "\n",
        "    df['근로기간'] = df['근로기간'].replace({\n",
        "        '10+ years' : '10',\n",
        "        '2 years' : '2',\n",
        "        '< 1 year' : '1',\n",
        "        '3 years' : '3',\n",
        "        '1 year' : '1',\n",
        "        'Unknown' : '12',\n",
        "        '5 years' : '5',\n",
        "        '4 years' : '4',\n",
        "        '8 years' : '8',\n",
        "        '6 years' : '6',\n",
        "        '7 years' : '7',\n",
        "        '9 years' : '9',\n",
        "        '10+years': '10',\n",
        "        '<1 year' : '1',\n",
        "        '1 years' : '1'\n",
        "    })\n",
        "    df['근로기간'] = df['근로기간'].astype('int64')\n",
        "\n",
        "    #대출기간 전처리\n",
        "    def preprocess_loan_term(term):\n",
        "        if pd.isnull(term):\n",
        "            return None\n",
        "        else:\n",
        "            return int(term.replace(' months', '').strip())\n",
        "    df['대출기간'] = df['대출기간'].apply(preprocess_loan_term)\n",
        "\n",
        "    train = df[~df[\"대출등급\"].isnull()].sort_values(\"ID\").reset_index(drop = True)\n",
        "    test = df[df[\"대출등급\"].isnull()].sort_values(\"ID\").reset_index(drop=True)\n",
        "    test = test.drop(columns=[\"대출등급\"])\n",
        "\n",
        "    print(f\"전처리 후 train 크기 : {train.shape}\")\n",
        "    print(f\"전처리 후 test 크기 : {test.shape}\")\n",
        "\n",
        "    return train, test\n",
        "\n",
        "train_pre, test_pre = pre_all(train, test)"
      ]
    },
    {
      "cell_type": "code",
      "execution_count": 8,
      "metadata": {
        "id": "yE05j1x8gEIF"
      },
      "outputs": [],
      "source": [
        "label_encoder = LabelEncoder()\n",
        "train_pre.대출등급= label_encoder.fit_transform(train.대출등급)"
      ]
    },
    {
      "cell_type": "markdown",
      "metadata": {
        "id": "TfbrN71_gEIF"
      },
      "source": [
        "# 총상환원금"
      ]
    },
    {
      "cell_type": "code",
      "execution_count": 9,
      "metadata": {
        "id": "QNu8VsEzgEIG"
      },
      "outputs": [],
      "source": [
        "train_pre['상환여부'] = (train_pre['총상환원금'] + train_pre['총상환이자'] > 0).astype(int)\n",
        "train_pre['상환여부_원금'] = (train_pre['총상환원금'] > 0).astype(int)\n",
        "train_pre['상환여부_이자'] = (train_pre['총상환이자'] > 0).astype(int)\n",
        "\n",
        "test_pre['상환여부'] = (test_pre['총상환원금'] + test_pre['총상환이자'] > 0).astype(int)\n",
        "test_pre['상환여부_원금'] = (test_pre['총상환원금'] > 0).astype(int)\n",
        "test_pre['상환여부_이자'] = (test_pre['총상환이자'] > 0).astype(int)\n",
        "\n",
        "#OHE\n",
        "cat = ['주택소유상태','대출목적']\n",
        "ohe = OneHotEncoder(handle_unknown='ignore', sparse=False)\n",
        "ohe.fit(train_pre[cat])\n",
        "columns = []\n",
        "for i, c in enumerate(cat):\n",
        "    columns += [f'{c}_{v}' for v in ohe.categories_[i]]\n",
        "# 생성된 dummy를 DataFrame으로 변환\n",
        "df_ohe = pd.DataFrame(ohe.transform(train_pre[cat]), columns=columns)\n",
        "# 인코딩한 feature는 제거하고 나머지 feature와 결합\n",
        "train_pre= pd.concat([train_pre.drop(columns=cat).reset_index(drop=True), df_ohe], axis=1) # 원래 피처 삭제 후 OHE된 feature 병합\n",
        "\n",
        "columns = []\n",
        "for i, c in enumerate(cat):\n",
        "    columns += [f'{c}_{v}' for v in ohe.categories_[i]]\n",
        "# 생성된 dummy를 DataFrame으로 변환\n",
        "df_ohe = pd.DataFrame(ohe.transform(test_pre[cat]), columns=columns)\n",
        "# 인코딩한 feature는 제거하고 나머지 feature와 결합\n",
        "test_pre= pd.concat([test_pre.drop(columns=cat).reset_index(drop=True), df_ohe], axis=1) # 원래 피처 삭제 후 OHE된 feature 병합\n",
        "\n"
      ]
    },
    {
      "cell_type": "code",
      "execution_count": 10,
      "metadata": {
        "id": "dZhpqx0gSWNL"
      },
      "outputs": [],
      "source": [
        "근로기간_train = train_pre[train_pre['근로기간'] != 12]\n",
        "근로기간_test= train_pre[train_pre['근로기간'] == 12]"
      ]
    },
    {
      "cell_type": "code",
      "execution_count": null,
      "metadata": {
        "id": "sxy_zaazSLWN"
      },
      "outputs": [],
      "source": [
        "# from pycaret.classification import *\n",
        "# x_train, x_test, y_train, y_test = train_test_split(근로기간_train.drop(columns=[\"ID\"]), 근로기간_train['근로기간'])\n",
        "# exp_clf = setup(data=x_train, target='근로기간', session_id=123 ,  use_gpu=True)\n",
        "\n",
        "# best_model = compare_models()"
      ]
    },
    {
      "cell_type": "code",
      "execution_count": 11,
      "metadata": {
        "colab": {
          "base_uri": "https://localhost:8080/"
        },
        "id": "JuaRcTTcWN9i",
        "outputId": "12190340-24c2-4b7f-d26e-d23e46038488"
      },
      "outputs": [
        {
          "name": "stderr",
          "output_type": "stream",
          "text": [
            "[I 2024-02-02 04:56:58,889] A new study created in memory with name: no-name-a79becaf-4e6c-4633-ae07-a212fba5ef17\n",
            "[I 2024-02-02 04:57:30,727] Trial 0 finished with value: 0.6353404200537021 and parameters: {'n_estimators': 52, 'learning_rate': 0.25283975689807814, 'algorithm': 'SAMME'}. Best is trial 0 with value: 0.6353404200537021.\n",
            "[I 2024-02-02 04:58:34,455] Trial 1 finished with value: 0.6347519034832825 and parameters: {'n_estimators': 292, 'learning_rate': 0.004996882868239982, 'algorithm': 'SAMME'}. Best is trial 1 with value: 0.6347519034832825.\n",
            "[I 2024-02-02 04:59:15,069] Trial 2 finished with value: 0.6460808474638614 and parameters: {'n_estimators': 380, 'learning_rate': 0.0014915582688123652, 'algorithm': 'SAMME.R'}. Best is trial 1 with value: 0.6347519034832825.\n",
            "[I 2024-02-02 05:00:02,084] Trial 3 finished with value: 0.6326553132011623 and parameters: {'n_estimators': 438, 'learning_rate': 0.21839141511364094, 'algorithm': 'SAMME.R'}. Best is trial 3 with value: 0.6326553132011623.\n",
            "[I 2024-02-02 05:00:22,008] Trial 4 finished with value: 0.6329863537720234 and parameters: {'n_estimators': 184, 'learning_rate': 0.454293588005812, 'algorithm': 'SAMME.R'}. Best is trial 3 with value: 0.6326553132011623.\n",
            "[I 2024-02-02 05:01:07,807] Trial 5 finished with value: 0.6347519034832825 and parameters: {'n_estimators': 497, 'learning_rate': 0.006098937453173132, 'algorithm': 'SAMME'}. Best is trial 3 with value: 0.6326553132011623.\n",
            "[I 2024-02-02 05:01:52,168] Trial 6 finished with value: 0.6320300143450914 and parameters: {'n_estimators': 406, 'learning_rate': 0.2007141895179214, 'algorithm': 'SAMME.R'}. Best is trial 6 with value: 0.6320300143450914.\n",
            "[I 2024-02-02 05:02:18,396] Trial 7 finished with value: 0.6460808474638614 and parameters: {'n_estimators': 320, 'learning_rate': 0.0012840818540282091, 'algorithm': 'SAMME'}. Best is trial 6 with value: 0.6320300143450914.\n",
            "[I 2024-02-02 05:03:07,207] Trial 8 finished with value: 0.6460808474638614 and parameters: {'n_estimators': 438, 'learning_rate': 0.0013132983962915927, 'algorithm': 'SAMME.R'}. Best is trial 6 with value: 0.6320300143450914.\n",
            "[I 2024-02-02 05:03:27,780] Trial 9 finished with value: 0.6350093794828411 and parameters: {'n_estimators': 196, 'learning_rate': 0.04010054221072458, 'algorithm': 'SAMME.R'}. Best is trial 6 with value: 0.6320300143450914.\n",
            "[I 2024-02-02 05:03:50,069] Trial 10 finished with value: 0.634531209769375 and parameters: {'n_estimators': 206, 'learning_rate': 0.06339764283437962, 'algorithm': 'SAMME.R'}. Best is trial 6 with value: 0.6320300143450914.\n",
            "[I 2024-02-02 05:04:49,222] Trial 11 finished with value: 0.6325817486298599 and parameters: {'n_estimators': 396, 'learning_rate': 0.9827516699858561, 'algorithm': 'SAMME.R'}. Best is trial 6 with value: 0.6320300143450914.\n",
            "[I 2024-02-02 05:05:28,392] Trial 12 finished with value: 0.6328024423437673 and parameters: {'n_estimators': 361, 'learning_rate': 0.921863642541437, 'algorithm': 'SAMME.R'}. Best is trial 6 with value: 0.6320300143450914.\n",
            "[I 2024-02-02 05:06:12,127] Trial 13 finished with value: 0.6321403612020451 and parameters: {'n_estimators': 416, 'learning_rate': 0.13721815175192706, 'algorithm': 'SAMME.R'}. Best is trial 6 with value: 0.6320300143450914.\n",
            "[I 2024-02-02 05:07:03,204] Trial 14 finished with value: 0.6321403612020451 and parameters: {'n_estimators': 473, 'learning_rate': 0.10057195597105428, 'algorithm': 'SAMME.R'}. Best is trial 6 with value: 0.6320300143450914.\n",
            "[I 2024-02-02 05:07:39,992] Trial 15 finished with value: 0.6358921543384706 and parameters: {'n_estimators': 344, 'learning_rate': 0.015767883013411768, 'algorithm': 'SAMME.R'}. Best is trial 6 with value: 0.6320300143450914.\n",
            "[I 2024-02-02 05:08:05,159] Trial 16 finished with value: 0.6328024423437673 and parameters: {'n_estimators': 243, 'learning_rate': 0.11595740606451313, 'algorithm': 'SAMME.R'}. Best is trial 6 with value: 0.6320300143450914.\n",
            "[I 2024-02-02 05:08:50,901] Trial 17 finished with value: 0.6347886857689337 and parameters: {'n_estimators': 426, 'learning_rate': 0.018693693083033567, 'algorithm': 'SAMME.R'}. Best is trial 6 with value: 0.6320300143450914.\n",
            "[I 2024-02-02 05:08:59,971] Trial 18 finished with value: 0.6347886857689337 and parameters: {'n_estimators': 114, 'learning_rate': 0.34304047503161705, 'algorithm': 'SAMME'}. Best is trial 6 with value: 0.6320300143450914.\n",
            "[I 2024-02-02 05:09:32,807] Trial 19 finished with value: 0.6322507080589987 and parameters: {'n_estimators': 310, 'learning_rate': 0.11553449641412215, 'algorithm': 'SAMME.R'}. Best is trial 6 with value: 0.6320300143450914.\n",
            "[I 2024-02-02 05:10:16,839] Trial 20 finished with value: 0.6338323463420017 and parameters: {'n_estimators': 418, 'learning_rate': 0.04073919801942858, 'algorithm': 'SAMME.R'}. Best is trial 6 with value: 0.6320300143450914.\n",
            "[I 2024-02-02 05:11:11,655] Trial 21 finished with value: 0.6322139257733476 and parameters: {'n_estimators': 500, 'learning_rate': 0.11799344656608104, 'algorithm': 'SAMME.R'}. Best is trial 6 with value: 0.6320300143450914.\n",
            "[I 2024-02-02 05:12:04,631] Trial 22 finished with value: 0.6322139257733476 and parameters: {'n_estimators': 468, 'learning_rate': 0.07951135264064596, 'algorithm': 'SAMME.R'}. Best is trial 6 with value: 0.6320300143450914.\n",
            "[I 2024-02-02 05:12:55,872] Trial 23 finished with value: 0.6322507080589987 and parameters: {'n_estimators': 473, 'learning_rate': 0.16941075723070895, 'algorithm': 'SAMME.R'}. Best is trial 6 with value: 0.6320300143450914.\n",
            "[I 2024-02-02 05:13:36,243] Trial 24 finished with value: 0.6319196674881378 and parameters: {'n_estimators': 385, 'learning_rate': 0.4096541005881881, 'algorithm': 'SAMME.R'}. Best is trial 24 with value: 0.6319196674881378.\n",
            "[I 2024-02-02 05:14:12,250] Trial 25 finished with value: 0.6330599183433259 and parameters: {'n_estimators': 347, 'learning_rate': 0.5398359791515503, 'algorithm': 'SAMME.R'}. Best is trial 24 with value: 0.6319196674881378.\n",
            "[I 2024-02-02 05:14:33,807] Trial 26 finished with value: 0.6344944274837239 and parameters: {'n_estimators': 262, 'learning_rate': 0.35922264782227065, 'algorithm': 'SAMME'}. Best is trial 24 with value: 0.6319196674881378.\n",
            "[I 2024-02-02 05:15:13,883] Trial 27 finished with value: 0.6321771434876964 and parameters: {'n_estimators': 384, 'learning_rate': 0.616332411424665, 'algorithm': 'SAMME.R'}. Best is trial 24 with value: 0.6319196674881378.\n",
            "[I 2024-02-02 05:15:57,857] Trial 28 finished with value: 0.6320300143450914 and parameters: {'n_estimators': 414, 'learning_rate': 0.20491318914073858, 'algorithm': 'SAMME.R'}. Best is trial 24 with value: 0.6319196674881378.\n",
            "[I 2024-02-02 05:16:04,944] Trial 29 finished with value: 0.6353404200537021 and parameters: {'n_estimators': 79, 'learning_rate': 0.20462894616484656, 'algorithm': 'SAMME'}. Best is trial 24 with value: 0.6319196674881378.\n"
          ]
        },
        {
          "name": "stdout",
          "output_type": "stream",
          "text": [
            "최적 하이퍼파라미터: {'n_estimators': 385, 'learning_rate': 0.4096541005881881, 'algorithm': 'SAMME.R'}\n"
          ]
        }
      ],
      "source": [
        "def objective(trial):\n",
        "    x_train, x_test, y_train, y_test = train_test_split(\n",
        "        근로기간_train.drop('근로기간', axis=1),\n",
        "        근로기간_train['근로기간'],\n",
        "        test_size=0.3,\n",
        "        random_state=42\n",
        "    )\n",
        "\n",
        "    # Change ExtraTreesRegressor to AdaBoostClassifier\n",
        "    classifier = AdaBoostClassifier(\n",
        "        n_estimators=trial.suggest_int('n_estimators', 50, 500),\n",
        "        learning_rate=trial.suggest_loguniform('learning_rate', 0.001, 1.0),\n",
        "        algorithm=trial.suggest_categorical('algorithm', ['SAMME', 'SAMME.R']),\n",
        "        random_state=42\n",
        "    )\n",
        "\n",
        "    classifier.fit(x_train.drop(columns=['ID']), y_train.drop(columns=['ID']))\n",
        "    y_pred = classifier.predict(x_test.drop(columns=['ID']))\n",
        "\n",
        "    # Use accuracy as the metric (you may adjust based on your specific requirements)\n",
        "    accuracy = accuracy_score(y_test.drop(columns=['ID']), y_pred)\n",
        "\n",
        "    return 1 - accuracy  # Minimize the error rate\n",
        "\n",
        "study = optuna.create_study(direction='minimize')\n",
        "study.optimize(objective, n_trials=25)\n",
        "\n",
        "adaboost_best_params_근로기간 = study.best_params\n",
        "print(f\"최적 하이퍼파라미터: {adaboost_best_params_근로기간}\")\n"
      ]
    },
    {
      "cell_type": "code",
      "execution_count": 12,
      "metadata": {
        "id": "h1CdZuT2SLSB"
      },
      "outputs": [],
      "source": [
        "근로기간_test.drop(columns= ['근로기간'], inplace= True)\n",
        "\n",
        "ada_classification_근로기간 = AdaBoostClassifier(**adaboost_best_params_근로기간)\n",
        "ada_classification_근로기간.fit(근로기간_train.drop(['ID','근로기간','대출등급'], axis=1), 근로기간_train['근로기간'])\n",
        "\n",
        "근로기간_test['근로기간'] = ada_classification_근로기간.predict(근로기간_test.drop(columns=['ID','대출등급']))\n",
        "\n",
        "train_pre = pd.concat([근로기간_train, 근로기간_test], axis=0)\n",
        "\n",
        "train_pre = train_pre.sort_values(by='ID')"
      ]
    },
    {
      "cell_type": "code",
      "execution_count": 13,
      "metadata": {
        "id": "JQceXnkRSJCQ"
      },
      "outputs": [],
      "source": [
        "원금_train = train_pre[train_pre['상환여부_원금'] != 0]\n",
        "원금_test= train_pre[train_pre['상환여부_원금'] == 0]"
      ]
    },
    {
      "cell_type": "code",
      "execution_count": 14,
      "metadata": {
        "colab": {
          "base_uri": "https://localhost:8080/"
        },
        "id": "9EjnIMjrgEIG",
        "outputId": "e6612cc0-cc85-48e0-9f6b-504f9106052f"
      },
      "outputs": [
        {
          "name": "stderr",
          "output_type": "stream",
          "text": [
            "[I 2024-02-02 05:17:03,687] A new study created in memory with name: no-name-3cc839c0-610e-4363-8e9d-6724e5a346b0\n",
            "[I 2024-02-02 05:17:05,123] Trial 0 finished with value: 985340.6042928292 and parameters: {'n_estimators': 340, 'max_depth': 7, 'min_samples_split': 0.8280270177740388, 'min_samples_leaf': 0.3544196288416567, 'max_features': 'sqrt'}. Best is trial 0 with value: 985340.6042928292.\n",
            "[I 2024-02-02 05:17:05,704] Trial 1 finished with value: 985760.1675167395 and parameters: {'n_estimators': 142, 'max_depth': 19, 'min_samples_split': 0.24363673055601365, 'min_samples_leaf': 0.3451060447532698, 'max_features': 'sqrt'}. Best is trial 0 with value: 985340.6042928292.\n",
            "[I 2024-02-02 05:17:07,613] Trial 2 finished with value: 975466.851685234 and parameters: {'n_estimators': 371, 'max_depth': 5, 'min_samples_split': 0.19661033048527907, 'min_samples_leaf': 0.18493001832910833, 'max_features': 'log2'}. Best is trial 2 with value: 975466.851685234.\n",
            "[I 2024-02-02 05:17:09,321] Trial 3 finished with value: 988272.7231346221 and parameters: {'n_estimators': 432, 'max_depth': 6, 'min_samples_split': 0.9653008892566881, 'min_samples_leaf': 0.41888531824069075, 'max_features': 'sqrt'}. Best is trial 2 with value: 975466.851685234.\n",
            "[I 2024-02-02 05:17:09,959] Trial 4 finished with value: 976079.2000012677 and parameters: {'n_estimators': 138, 'max_depth': 9, 'min_samples_split': 0.7283029506643116, 'min_samples_leaf': 0.12642855616080345, 'max_features': 'sqrt'}. Best is trial 2 with value: 975466.851685234.\n",
            "[I 2024-02-02 05:17:11,155] Trial 5 finished with value: 989960.1012916999 and parameters: {'n_estimators': 184, 'max_depth': 19, 'min_samples_split': 0.6845865465371698, 'min_samples_leaf': 0.3939098192436049, 'max_features': 'log2'}. Best is trial 2 with value: 975466.851685234.\n",
            "[I 2024-02-02 05:17:15,871] Trial 6 finished with value: 978031.4177648771 and parameters: {'n_estimators': 293, 'max_depth': 17, 'min_samples_split': 0.5034722149560186, 'min_samples_leaf': 0.427619778902092, 'max_features': 'auto'}. Best is trial 2 with value: 975466.851685234.\n",
            "[I 2024-02-02 05:17:21,607] Trial 7 finished with value: 914787.5948491917 and parameters: {'n_estimators': 261, 'max_depth': 18, 'min_samples_split': 0.5147150603106968, 'min_samples_leaf': 0.22660778894412614, 'max_features': 'auto'}. Best is trial 7 with value: 914787.5948491917.\n",
            "[I 2024-02-02 05:17:22,543] Trial 8 finished with value: 989249.3908794674 and parameters: {'n_estimators': 225, 'max_depth': 20, 'min_samples_split': 0.4249254218483586, 'min_samples_leaf': 0.42379126352424623, 'max_features': 'sqrt'}. Best is trial 7 with value: 914787.5948491917.\n",
            "[I 2024-02-02 05:17:23,373] Trial 9 finished with value: 989482.2235012545 and parameters: {'n_estimators': 201, 'max_depth': 17, 'min_samples_split': 0.4944405423852216, 'min_samples_leaf': 0.46636779486106417, 'max_features': 'sqrt'}. Best is trial 7 with value: 914787.5948491917.\n",
            "[I 2024-02-02 05:17:25,795] Trial 10 finished with value: 924711.6333912319 and parameters: {'n_estimators': 63, 'max_depth': 14, 'min_samples_split': 0.33019711859494405, 'min_samples_leaf': 0.25033918034094943, 'max_features': 'auto'}. Best is trial 7 with value: 914787.5948491917.\n",
            "[I 2024-02-02 05:17:28,099] Trial 11 finished with value: 924752.340294748 and parameters: {'n_estimators': 75, 'max_depth': 13, 'min_samples_split': 0.37036403600045337, 'min_samples_leaf': 0.2552859286207857, 'max_features': 'auto'}. Best is trial 7 with value: 914787.5948491917.\n",
            "[I 2024-02-02 05:17:40,896] Trial 12 finished with value: 916892.2959953293 and parameters: {'n_estimators': 495, 'max_depth': 14, 'min_samples_split': 0.2915020597888466, 'min_samples_leaf': 0.24194262043836115, 'max_features': 'auto'}. Best is trial 7 with value: 914787.5948491917.\n",
            "[I 2024-02-02 05:17:50,768] Trial 13 finished with value: 909629.0154728997 and parameters: {'n_estimators': 493, 'max_depth': 15, 'min_samples_split': 0.6239579992507707, 'min_samples_leaf': 0.20080953291516346, 'max_features': 'auto'}. Best is trial 13 with value: 909629.0154728997.\n",
            "[I 2024-02-02 05:17:57,854] Trial 14 finished with value: 899474.2310086135 and parameters: {'n_estimators': 279, 'max_depth': 11, 'min_samples_split': 0.6285277196501998, 'min_samples_leaf': 0.1592766271228112, 'max_features': 'auto'}. Best is trial 14 with value: 899474.2310086135.\n",
            "[I 2024-02-02 05:18:09,758] Trial 15 finished with value: 892010.5299304769 and parameters: {'n_estimators': 487, 'max_depth': 10, 'min_samples_split': 0.6198594902282984, 'min_samples_leaf': 0.10521689053600392, 'max_features': 'auto'}. Best is trial 15 with value: 892010.5299304769.\n",
            "[I 2024-02-02 05:18:16,082] Trial 16 finished with value: 928731.0575194578 and parameters: {'n_estimators': 415, 'max_depth': 10, 'min_samples_split': 0.7928804500358482, 'min_samples_leaf': 0.13203646949647485, 'max_features': 'auto'}. Best is trial 15 with value: 892010.5299304769.\n",
            "[I 2024-02-02 05:18:24,388] Trial 17 finished with value: 890346.48205793 and parameters: {'n_estimators': 331, 'max_depth': 3, 'min_samples_split': 0.6015381854446145, 'min_samples_leaf': 0.10942170518483632, 'max_features': 'auto'}. Best is trial 17 with value: 890346.48205793.\n",
            "[I 2024-02-02 05:18:25,967] Trial 18 finished with value: 978571.4884059638 and parameters: {'n_estimators': 428, 'max_depth': 3, 'min_samples_split': 0.9590904108380618, 'min_samples_leaf': 0.10541802990534696, 'max_features': 'log2'}. Best is trial 17 with value: 890346.48205793.\n",
            "[I 2024-02-02 05:18:30,508] Trial 19 finished with value: 952614.8591169092 and parameters: {'n_estimators': 331, 'max_depth': 3, 'min_samples_split': 0.8304321338065493, 'min_samples_leaf': 0.2864178461545516, 'max_features': 'auto'}. Best is trial 17 with value: 890346.48205793.\n",
            "[I 2024-02-02 05:18:39,752] Trial 20 finished with value: 900523.934906488 and parameters: {'n_estimators': 384, 'max_depth': 9, 'min_samples_split': 0.5991466758636091, 'min_samples_leaf': 0.16668091352784697, 'max_features': 'auto'}. Best is trial 17 with value: 890346.48205793.\n",
            "[I 2024-02-02 05:18:46,754] Trial 21 finished with value: 902098.3241611016 and parameters: {'n_estimators': 289, 'max_depth': 11, 'min_samples_split': 0.6493781634164933, 'min_samples_leaf': 0.15537514454514562, 'max_features': 'auto'}. Best is trial 17 with value: 890346.48205793.\n",
            "[I 2024-02-02 05:18:51,641] Trial 22 finished with value: 921704.9497949468 and parameters: {'n_estimators': 262, 'max_depth': 8, 'min_samples_split': 0.7290449612272634, 'min_samples_leaf': 0.11042289972468274, 'max_features': 'auto'}. Best is trial 17 with value: 890346.48205793.\n",
            "[I 2024-02-02 05:18:59,033] Trial 23 finished with value: 896231.8819370839 and parameters: {'n_estimators': 310, 'max_depth': 12, 'min_samples_split': 0.5644773670588233, 'min_samples_leaf': 0.15358582344281724, 'max_features': 'auto'}. Best is trial 17 with value: 890346.48205793.\n",
            "[I 2024-02-02 05:19:09,030] Trial 24 finished with value: 871908.376144258 and parameters: {'n_estimators': 331, 'max_depth': 12, 'min_samples_split': 0.4332039514422677, 'min_samples_leaf': 0.10118792538734353, 'max_features': 'auto'}. Best is trial 24 with value: 871908.376144258.\n",
            "[I 2024-02-02 05:19:11,886] Trial 25 finished with value: 968603.81098428 and parameters: {'n_estimators': 464, 'max_depth': 5, 'min_samples_split': 0.41682345734428516, 'min_samples_leaf': 0.10282518645417447, 'max_features': 'log2'}. Best is trial 24 with value: 871908.376144258.\n",
            "[I 2024-02-02 05:19:21,463] Trial 26 finished with value: 906452.4955960088 and parameters: {'n_estimators': 367, 'max_depth': 12, 'min_samples_split': 0.43229764843472934, 'min_samples_leaf': 0.20702796977202798, 'max_features': 'auto'}. Best is trial 24 with value: 871908.376144258.\n",
            "[I 2024-02-02 05:19:36,685] Trial 27 finished with value: 866038.3730688131 and parameters: {'n_estimators': 395, 'max_depth': 15, 'min_samples_split': 0.1313157030202053, 'min_samples_leaf': 0.14034205540627606, 'max_features': 'auto'}. Best is trial 27 with value: 866038.3730688131.\n",
            "[I 2024-02-02 05:19:49,970] Trial 28 finished with value: 866813.0028325377 and parameters: {'n_estimators': 344, 'max_depth': 16, 'min_samples_split': 0.15768675905481178, 'min_samples_leaf': 0.13797226344388192, 'max_features': 'auto'}. Best is trial 27 with value: 866038.3730688131.\n",
            "[I 2024-02-02 05:19:51,817] Trial 29 finished with value: 983977.5513249921 and parameters: {'n_estimators': 400, 'max_depth': 15, 'min_samples_split': 0.10959153789094106, 'min_samples_leaf': 0.29781674059575425, 'max_features': 'log2'}. Best is trial 27 with value: 866038.3730688131.\n",
            "[I 2024-02-02 05:19:57,458] Trial 30 finished with value: 962437.9650114127 and parameters: {'n_estimators': 347, 'max_depth': 16, 'min_samples_split': 0.10960027128535052, 'min_samples_leaf': 0.3445653040423188, 'max_features': 'auto'}. Best is trial 27 with value: 866038.3730688131.\n",
            "[I 2024-02-02 05:20:11,247] Trial 31 finished with value: 866229.4718263233 and parameters: {'n_estimators': 345, 'max_depth': 13, 'min_samples_split': 0.17661089208510786, 'min_samples_leaf': 0.1369014638619906, 'max_features': 'auto'}. Best is trial 27 with value: 866038.3730688131.\n",
            "[I 2024-02-02 05:20:25,597] Trial 32 finished with value: 867396.419608454 and parameters: {'n_estimators': 353, 'max_depth': 15, 'min_samples_split': 0.195843298010994, 'min_samples_leaf': 0.14041177690954654, 'max_features': 'auto'}. Best is trial 27 with value: 866038.3730688131.\n",
            "[I 2024-02-02 05:20:36,571] Trial 33 finished with value: 894597.1288304084 and parameters: {'n_estimators': 355, 'max_depth': 16, 'min_samples_split': 0.19439015482204586, 'min_samples_leaf': 0.18208762388398977, 'max_features': 'auto'}. Best is trial 27 with value: 866038.3730688131.\n",
            "[I 2024-02-02 05:20:51,737] Trial 34 finished with value: 864765.6586877665 and parameters: {'n_estimators': 384, 'max_depth': 14, 'min_samples_split': 0.18646594963858604, 'min_samples_leaf': 0.13363127107447031, 'max_features': 'auto'}. Best is trial 34 with value: 864765.6586877665.\n",
            "[I 2024-02-02 05:20:54,397] Trial 35 finished with value: 973905.1332411448 and parameters: {'n_estimators': 447, 'max_depth': 13, 'min_samples_split': 0.2511055355986906, 'min_samples_leaf': 0.18341418888977096, 'max_features': 'sqrt'}. Best is trial 34 with value: 864765.6586877665.\n",
            "[I 2024-02-02 05:21:04,227] Trial 36 finished with value: 907192.9115077384 and parameters: {'n_estimators': 392, 'max_depth': 14, 'min_samples_split': 0.1561461550482995, 'min_samples_leaf': 0.21073526299462964, 'max_features': 'auto'}. Best is trial 34 with value: 864765.6586877665.\n",
            "[I 2024-02-02 05:21:06,365] Trial 37 finished with value: 971461.8070597358 and parameters: {'n_estimators': 406, 'max_depth': 17, 'min_samples_split': 0.23540456703770696, 'min_samples_leaf': 0.13454977796480624, 'max_features': 'log2'}. Best is trial 34 with value: 864765.6586877665.\n",
            "[I 2024-02-02 05:21:08,984] Trial 38 finished with value: 972443.8331789824 and parameters: {'n_estimators': 456, 'max_depth': 19, 'min_samples_split': 0.15622458930379673, 'min_samples_leaf': 0.17298682138136215, 'max_features': 'sqrt'}. Best is trial 34 with value: 864765.6586877665.\n",
            "[I 2024-02-02 05:21:15,002] Trial 39 finished with value: 936367.6221884259 and parameters: {'n_estimators': 234, 'max_depth': 16, 'min_samples_split': 0.28245266058624807, 'min_samples_leaf': 0.27005799140928566, 'max_features': 'auto'}. Best is trial 34 with value: 864765.6586877665.\n",
            "[I 2024-02-02 05:21:21,947] Trial 40 finished with value: 909918.8064555749 and parameters: {'n_estimators': 308, 'max_depth': 18, 'min_samples_split': 0.15199308838996897, 'min_samples_leaf': 0.22223337401437876, 'max_features': 'auto'}. Best is trial 34 with value: 864765.6586877665.\n",
            "[I 2024-02-02 05:21:36,604] Trial 41 finished with value: 865864.8169095838 and parameters: {'n_estimators': 370, 'max_depth': 15, 'min_samples_split': 0.21195227528377852, 'min_samples_leaf': 0.13635301857135307, 'max_features': 'auto'}. Best is trial 34 with value: 864765.6586877665.\n",
            "[I 2024-02-02 05:21:53,094] Trial 42 finished with value: 865822.9490715712 and parameters: {'n_estimators': 427, 'max_depth': 13, 'min_samples_split': 0.2398911619096326, 'min_samples_leaf': 0.1401471239919668, 'max_features': 'auto'}. Best is trial 34 with value: 864765.6586877665.\n",
            "[I 2024-02-02 05:21:59,105] Trial 43 finished with value: 962386.6336064979 and parameters: {'n_estimators': 374, 'max_depth': 13, 'min_samples_split': 0.2394837014956487, 'min_samples_leaf': 0.33991230229271574, 'max_features': 'auto'}. Best is trial 34 with value: 864765.6586877665.\n",
            "[I 2024-02-02 05:22:01,594] Trial 44 finished with value: 970446.0369992116 and parameters: {'n_estimators': 425, 'max_depth': 14, 'min_samples_split': 0.34999401102532657, 'min_samples_leaf': 0.14739779492694666, 'max_features': 'sqrt'}. Best is trial 34 with value: 864765.6586877665.\n"
          ]
        },
        {
          "name": "stdout",
          "output_type": "stream",
          "text": [
            "최적 하이퍼파라미터: {'n_estimators': 384, 'max_depth': 14, 'min_samples_split': 0.18646594963858604, 'min_samples_leaf': 0.13363127107447031, 'max_features': 'auto'}\n"
          ]
        }
      ],
      "source": [
        "def objective(trial):\n",
        "\n",
        "    x_train, x_test, y_train, y_test = train_test_split(\n",
        "        원금_train.drop('총상환원금', axis=1),\n",
        "        원금_train['총상환원금'],\n",
        "        test_size=0.3,\n",
        "        random_state=42\n",
        "    )\n",
        "\n",
        "    regressor = ExtraTreesRegressor(\n",
        "        n_estimators=trial.suggest_int('n_estimators', 50, 500),\n",
        "        max_depth=trial.suggest_int('max_depth', 3, 20),\n",
        "        min_samples_split=trial.suggest_float('min_samples_split', 0.1, 1.0),\n",
        "        min_samples_leaf=trial.suggest_float('min_samples_leaf', 0.1, 0.5),\n",
        "        max_features=trial.suggest_categorical('max_features', ['auto', 'sqrt', 'log2']),\n",
        "        random_state=42\n",
        "    )\n",
        "\n",
        "    regressor.fit(x_train.drop(columns = ['ID']), y_train.drop(columns = ['ID']))\n",
        "    y_pred = regressor.predict(x_test.drop(columns = ['ID']))\n",
        "    # RMSE 계산\n",
        "    rmse = np.sqrt(mean_squared_error(y_test.drop(columns = ['ID']), y_pred))\n",
        "\n",
        "    return rmse\n",
        "\n",
        "study = optuna.create_study(direction='minimize')\n",
        "study.optimize(objective, n_trials=40)\n",
        "\n",
        "et_best_params_원금 = study.best_params\n",
        "print(f\"최적 하이퍼파라미터: {et_best_params_원금}\")"
      ]
    },
    {
      "cell_type": "code",
      "execution_count": 15,
      "metadata": {
        "id": "VfIQ-oM8gEIG"
      },
      "outputs": [],
      "source": [
        "원금_test.drop(columns= ['총상환원금'], inplace= True)\n",
        "\n",
        "from sklearn.ensemble import ExtraTreesRegressor\n",
        "et_regressor_원금 = ExtraTreesRegressor(**et_best_params_원금)\n",
        "et_regressor_원금.fit(원금_train.drop(['ID','총상환원금','대출등급'], axis=1), 원금_train['총상환원금'])\n",
        "\n",
        "원금_test['총상환원금'] = et_regressor_원금.predict(원금_test.drop(columns=['ID','대출등급']))"
      ]
    },
    {
      "cell_type": "code",
      "execution_count": 16,
      "metadata": {
        "id": "tJtj5mm8fspz"
      },
      "outputs": [],
      "source": [
        "train_pre = pd.concat([원금_train, 원금_test], axis=0)"
      ]
    },
    {
      "cell_type": "code",
      "execution_count": 17,
      "metadata": {
        "id": "pHJ7hX_fffbO"
      },
      "outputs": [],
      "source": [
        "train_pre = train_pre.sort_values(by='ID')"
      ]
    },
    {
      "cell_type": "code",
      "execution_count": 18,
      "metadata": {
        "id": "3UlXZ9yfgEIG"
      },
      "outputs": [],
      "source": [
        "이자_train = train_pre[train_pre['상환여부_이자'] != 0]\n",
        "이자_test= train_pre[train_pre['상환여부_이자'] == 0]"
      ]
    },
    {
      "cell_type": "code",
      "execution_count": 19,
      "metadata": {
        "colab": {
          "base_uri": "https://localhost:8080/"
        },
        "id": "TL8O8tpagEIG",
        "outputId": "03476b67-c91e-4e86-e239-1946ddb55f5f"
      },
      "outputs": [
        {
          "name": "stderr",
          "output_type": "stream",
          "text": [
            "[I 2024-02-02 05:22:23,451] A new study created in memory with name: no-name-8392bbe0-2f53-4279-b2ae-c381a54a6a3c\n",
            "[I 2024-02-02 05:22:25,299] Trial 0 finished with value: 437998.2814872672 and parameters: {'n_estimators': 470, 'max_depth': 19, 'min_samples_split': 0.5268146345215683, 'min_samples_leaf': 0.35850143818602953, 'max_features': 'sqrt'}. Best is trial 0 with value: 437998.2814872672.\n",
            "[I 2024-02-02 05:22:26,451] Trial 1 finished with value: 442130.4812926793 and parameters: {'n_estimators': 324, 'max_depth': 20, 'min_samples_split': 0.32078008850712814, 'min_samples_leaf': 0.42829528872294065, 'max_features': 'log2'}. Best is trial 0 with value: 437998.2814872672.\n",
            "[I 2024-02-02 05:22:28,013] Trial 2 finished with value: 441651.03296521096 and parameters: {'n_estimators': 493, 'max_depth': 7, 'min_samples_split': 0.27085203885142894, 'min_samples_leaf': 0.3964092623872304, 'max_features': 'log2'}. Best is trial 0 with value: 437998.2814872672.\n",
            "[I 2024-02-02 05:22:31,206] Trial 3 finished with value: 370447.3244531598 and parameters: {'n_estimators': 228, 'max_depth': 9, 'min_samples_split': 0.9569707694560392, 'min_samples_leaf': 0.14775238757715725, 'max_features': 'auto'}. Best is trial 3 with value: 370447.3244531598.\n",
            "[I 2024-02-02 05:22:39,824] Trial 4 finished with value: 364047.593442844 and parameters: {'n_estimators': 310, 'max_depth': 13, 'min_samples_split': 0.16652306855111135, 'min_samples_leaf': 0.20225360708805346, 'max_features': 'auto'}. Best is trial 4 with value: 364047.593442844.\n",
            "[I 2024-02-02 05:22:40,620] Trial 5 finished with value: 422687.8248479232 and parameters: {'n_estimators': 201, 'max_depth': 17, 'min_samples_split': 0.9535447297214603, 'min_samples_leaf': 0.2088698374828217, 'max_features': 'sqrt'}. Best is trial 4 with value: 364047.593442844.\n",
            "[I 2024-02-02 05:22:44,931] Trial 6 finished with value: 365779.1287183492 and parameters: {'n_estimators': 272, 'max_depth': 4, 'min_samples_split': 0.6954739338730593, 'min_samples_leaf': 0.1177939660870818, 'max_features': 'auto'}. Best is trial 4 with value: 364047.593442844.\n",
            "[I 2024-02-02 05:22:47,626] Trial 7 finished with value: 443875.384860696 and parameters: {'n_estimators': 140, 'max_depth': 6, 'min_samples_split': 0.25015136717091835, 'min_samples_leaf': 0.4918310180181388, 'max_features': 'auto'}. Best is trial 4 with value: 364047.593442844.\n",
            "[I 2024-02-02 05:22:48,793] Trial 8 finished with value: 424808.5891039793 and parameters: {'n_estimators': 185, 'max_depth': 12, 'min_samples_split': 0.6417077202734388, 'min_samples_leaf': 0.20361344448541976, 'max_features': 'log2'}. Best is trial 4 with value: 364047.593442844.\n",
            "[I 2024-02-02 05:22:49,224] Trial 9 finished with value: 443670.5201749224 and parameters: {'n_estimators': 102, 'max_depth': 10, 'min_samples_split': 0.6697036322756058, 'min_samples_leaf': 0.47076241988786516, 'max_features': 'sqrt'}. Best is trial 4 with value: 364047.593442844.\n",
            "[I 2024-02-02 05:22:57,007] Trial 10 finished with value: 376909.0049048866 and parameters: {'n_estimators': 381, 'max_depth': 15, 'min_samples_split': 0.141586240720803, 'min_samples_leaf': 0.27887482941523783, 'max_features': 'auto'}. Best is trial 4 with value: 364047.593442844.\n",
            "[I 2024-02-02 05:23:02,815] Trial 11 finished with value: 366323.7111122744 and parameters: {'n_estimators': 305, 'max_depth': 3, 'min_samples_split': 0.7751645202781353, 'min_samples_leaf': 0.11867253198559097, 'max_features': 'auto'}. Best is trial 4 with value: 364047.593442844.\n",
            "[I 2024-02-02 05:23:11,386] Trial 12 finished with value: 362861.9210724439 and parameters: {'n_estimators': 383, 'max_depth': 13, 'min_samples_split': 0.4381054407247098, 'min_samples_leaf': 0.19834138532658413, 'max_features': 'auto'}. Best is trial 12 with value: 362861.9210724439.\n",
            "[I 2024-02-02 05:23:20,835] Trial 13 finished with value: 376826.204449674 and parameters: {'n_estimators': 399, 'max_depth': 14, 'min_samples_split': 0.4576461014595872, 'min_samples_leaf': 0.2805867892848438, 'max_features': 'auto'}. Best is trial 12 with value: 362861.9210724439.\n",
            "[I 2024-02-02 05:23:30,811] Trial 14 finished with value: 365192.8358306976 and parameters: {'n_estimators': 380, 'max_depth': 12, 'min_samples_split': 0.1064757773184325, 'min_samples_leaf': 0.20823077723373867, 'max_features': 'auto'}. Best is trial 12 with value: 362861.9210724439.\n",
            "[I 2024-02-02 05:23:39,989] Trial 15 finished with value: 371488.69291826885 and parameters: {'n_estimators': 412, 'max_depth': 15, 'min_samples_split': 0.3846359008285975, 'min_samples_leaf': 0.24026431978824836, 'max_features': 'auto'}. Best is trial 12 with value: 362861.9210724439.\n",
            "[I 2024-02-02 05:23:45,458] Trial 16 finished with value: 411284.4613186092 and parameters: {'n_estimators': 330, 'max_depth': 13, 'min_samples_split': 0.19251080616106148, 'min_samples_leaf': 0.3340510111081402, 'max_features': 'auto'}. Best is trial 12 with value: 362861.9210724439.\n",
            "[I 2024-02-02 05:23:52,199] Trial 17 finished with value: 359982.62829227926 and parameters: {'n_estimators': 265, 'max_depth': 17, 'min_samples_split': 0.4041411010698832, 'min_samples_leaf': 0.17198631283506183, 'max_features': 'auto'}. Best is trial 17 with value: 359982.62829227926.\n",
            "[I 2024-02-02 05:23:54,190] Trial 18 finished with value: 414567.8747318449 and parameters: {'n_estimators': 254, 'max_depth': 17, 'min_samples_split': 0.44835473233581585, 'min_samples_leaf': 0.16473201798052758, 'max_features': 'sqrt'}. Best is trial 17 with value: 359982.62829227926.\n",
            "[I 2024-02-02 05:23:56,485] Trial 19 finished with value: 426372.79523856315 and parameters: {'n_estimators': 431, 'max_depth': 17, 'min_samples_split': 0.5639130434521235, 'min_samples_leaf': 0.24832112280847046, 'max_features': 'log2'}. Best is trial 17 with value: 359982.62829227926.\n",
            "[I 2024-02-02 05:24:06,570] Trial 20 finished with value: 348423.425837662 and parameters: {'n_estimators': 357, 'max_depth': 10, 'min_samples_split': 0.37668459285748257, 'min_samples_leaf': 0.10042382823870938, 'max_features': 'auto'}. Best is trial 20 with value: 348423.425837662.\n",
            "[I 2024-02-02 05:24:17,552] Trial 21 finished with value: 356518.5122934292 and parameters: {'n_estimators': 366, 'max_depth': 10, 'min_samples_split': 0.37099938140563204, 'min_samples_leaf': 0.15767880116718067, 'max_features': 'auto'}. Best is trial 20 with value: 348423.425837662.\n",
            "[I 2024-02-02 05:24:29,851] Trial 22 finished with value: 347300.0223668459 and parameters: {'n_estimators': 363, 'max_depth': 10, 'min_samples_split': 0.35227195338930783, 'min_samples_leaf': 0.10634560307382981, 'max_features': 'auto'}. Best is trial 22 with value: 347300.0223668459.\n",
            "[I 2024-02-02 05:24:41,990] Trial 23 finished with value: 346036.4552150804 and parameters: {'n_estimators': 353, 'max_depth': 9, 'min_samples_split': 0.32971491938037, 'min_samples_leaf': 0.10090287839683271, 'max_features': 'auto'}. Best is trial 23 with value: 346036.4552150804.\n",
            "[I 2024-02-02 05:24:58,203] Trial 24 finished with value: 340632.4692695812 and parameters: {'n_estimators': 433, 'max_depth': 8, 'min_samples_split': 0.2964931704532546, 'min_samples_leaf': 0.1137522186194549, 'max_features': 'auto'}. Best is trial 24 with value: 340632.4692695812.\n",
            "[I 2024-02-02 05:25:15,059] Trial 25 finished with value: 347073.8363602006 and parameters: {'n_estimators': 444, 'max_depth': 7, 'min_samples_split': 0.2922101640484056, 'min_samples_leaf': 0.1312313202160881, 'max_features': 'auto'}. Best is trial 24 with value: 340632.4692695812.\n",
            "[I 2024-02-02 05:25:32,146] Trial 26 finished with value: 348775.90879382315 and parameters: {'n_estimators': 454, 'max_depth': 6, 'min_samples_split': 0.23881889685901653, 'min_samples_leaf': 0.14144086110199328, 'max_features': 'auto'}. Best is trial 24 with value: 340632.4692695812.\n",
            "[I 2024-02-02 05:25:47,934] Trial 27 finished with value: 348374.9257647627 and parameters: {'n_estimators': 432, 'max_depth': 8, 'min_samples_split': 0.2867857415803524, 'min_samples_leaf': 0.13625178499141105, 'max_features': 'auto'}. Best is trial 24 with value: 340632.4692695812.\n",
            "[I 2024-02-02 05:25:50,202] Trial 28 finished with value: 420041.1839212415 and parameters: {'n_estimators': 499, 'max_depth': 5, 'min_samples_split': 0.5085845691976087, 'min_samples_leaf': 0.18331113972287388, 'max_features': 'log2'}. Best is trial 24 with value: 340632.4692695812.\n",
            "[I 2024-02-02 05:25:52,266] Trial 29 finished with value: 425507.26556104835 and parameters: {'n_estimators': 467, 'max_depth': 8, 'min_samples_split': 0.5440858693563309, 'min_samples_leaf': 0.31825400055174285, 'max_features': 'sqrt'}. Best is trial 24 with value: 340632.4692695812.\n",
            "[I 2024-02-02 05:25:55,517] Trial 30 finished with value: 421702.5849229984 and parameters: {'n_estimators': 434, 'max_depth': 7, 'min_samples_split': 0.20071961090382098, 'min_samples_leaf': 0.23278200489038145, 'max_features': 'sqrt'}. Best is trial 24 with value: 340632.4692695812.\n",
            "[I 2024-02-02 05:26:06,785] Trial 31 finished with value: 339264.75200297945 and parameters: {'n_estimators': 339, 'max_depth': 9, 'min_samples_split': 0.3260309219841774, 'min_samples_leaf': 0.10120034619535977, 'max_features': 'auto'}. Best is trial 31 with value: 339264.75200297945.\n",
            "[I 2024-02-02 05:26:18,412] Trial 32 finished with value: 347172.40345728863 and parameters: {'n_estimators': 336, 'max_depth': 8, 'min_samples_split': 0.3244223615720434, 'min_samples_leaf': 0.1310919174423592, 'max_features': 'auto'}. Best is trial 31 with value: 339264.75200297945.\n",
            "[I 2024-02-02 05:26:34,611] Trial 33 finished with value: 338480.96084618295 and parameters: {'n_estimators': 413, 'max_depth': 9, 'min_samples_split': 0.3097340612111864, 'min_samples_leaf': 0.10033693153563406, 'max_features': 'auto'}. Best is trial 33 with value: 338480.96084618295.\n",
            "[I 2024-02-02 05:26:46,543] Trial 34 finished with value: 336263.40433644113 and parameters: {'n_estimators': 294, 'max_depth': 11, 'min_samples_split': 0.24138442506250507, 'min_samples_leaf': 0.10027684970089015, 'max_features': 'auto'}. Best is trial 34 with value: 336263.40433644113.\n",
            "[I 2024-02-02 05:26:48,108] Trial 35 finished with value: 441456.3861167772 and parameters: {'n_estimators': 309, 'max_depth': 11, 'min_samples_split': 0.2267452610480896, 'min_samples_leaf': 0.3780426004912724, 'max_features': 'log2'}. Best is trial 34 with value: 336263.40433644113.\n",
            "[I 2024-02-02 05:27:02,060] Trial 36 finished with value: 352954.55892927886 and parameters: {'n_estimators': 402, 'max_depth': 11, 'min_samples_split': 0.16122230737460788, 'min_samples_leaf': 0.15382498896619295, 'max_features': 'auto'}. Best is trial 34 with value: 336263.40433644113.\n",
            "[I 2024-02-02 05:27:12,464] Trial 37 finished with value: 343734.5454938513 and parameters: {'n_estimators': 290, 'max_depth': 9, 'min_samples_split': 0.2844786264124821, 'min_samples_leaf': 0.12421997690178439, 'max_features': 'auto'}. Best is trial 34 with value: 336263.40433644113.\n",
            "[I 2024-02-02 05:27:20,040] Trial 38 finished with value: 425315.4157415111 and parameters: {'n_estimators': 478, 'max_depth': 6, 'min_samples_split': 0.1014984066496912, 'min_samples_leaf': 0.4257064241772072, 'max_features': 'auto'}. Best is trial 34 with value: 336263.40433644113.\n",
            "[I 2024-02-02 05:27:21,074] Trial 39 finished with value: 419943.7651988524 and parameters: {'n_estimators': 223, 'max_depth': 9, 'min_samples_split': 0.47571972079766595, 'min_samples_leaf': 0.18151307469915395, 'max_features': 'log2'}. Best is trial 34 with value: 336263.40433644113.\n",
            "[I 2024-02-02 05:27:25,592] Trial 40 finished with value: 369678.7868781462 and parameters: {'n_estimators': 236, 'max_depth': 5, 'min_samples_split': 0.8240743983167602, 'min_samples_leaf': 0.1509938329821759, 'max_features': 'auto'}. Best is trial 34 with value: 336263.40433644113.\n",
            "[I 2024-02-02 05:27:38,781] Trial 41 finished with value: 341994.1981695472 and parameters: {'n_estimators': 292, 'max_depth': 9, 'min_samples_split': 0.2833656096355429, 'min_samples_leaf': 0.11814423594140352, 'max_features': 'auto'}. Best is trial 34 with value: 336263.40433644113.\n",
            "[I 2024-02-02 05:27:50,483] Trial 42 finished with value: 336106.66110535857 and parameters: {'n_estimators': 286, 'max_depth': 11, 'min_samples_split': 0.24902663956979654, 'min_samples_leaf': 0.10014692919264011, 'max_features': 'auto'}. Best is trial 42 with value: 336106.66110535857.\n",
            "[I 2024-02-02 05:27:59,856] Trial 43 finished with value: 338222.30750562315 and parameters: {'n_estimators': 197, 'max_depth': 11, 'min_samples_split': 0.19608658958299158, 'min_samples_leaf': 0.10524126554302471, 'max_features': 'auto'}. Best is trial 42 with value: 336106.66110535857.\n",
            "[I 2024-02-02 05:28:07,814] Trial 44 finished with value: 337285.3741316458 and parameters: {'n_estimators': 193, 'max_depth': 11, 'min_samples_split': 0.21082646407773564, 'min_samples_leaf': 0.10081888508836488, 'max_features': 'auto'}. Best is trial 42 with value: 336106.66110535857.\n",
            "[I 2024-02-02 05:28:09,418] Trial 45 finished with value: 412995.3366939991 and parameters: {'n_estimators': 165, 'max_depth': 12, 'min_samples_split': 0.19151722627154094, 'min_samples_leaf': 0.14675402537320054, 'max_features': 'sqrt'}. Best is trial 42 with value: 336106.66110535857.\n",
            "[I 2024-02-02 05:28:12,082] Trial 46 finished with value: 348753.76196041825 and parameters: {'n_estimators': 69, 'max_depth': 11, 'min_samples_split': 0.2352570867533625, 'min_samples_leaf': 0.1296761681321106, 'max_features': 'auto'}. Best is trial 42 with value: 336106.66110535857.\n",
            "[I 2024-02-02 05:28:15,721] Trial 47 finished with value: 362098.07729218196 and parameters: {'n_estimators': 143, 'max_depth': 14, 'min_samples_split': 0.15345087654605044, 'min_samples_leaf': 0.1798610073861081, 'max_features': 'auto'}. Best is trial 42 with value: 336106.66110535857.\n",
            "[I 2024-02-02 05:28:24,140] Trial 48 finished with value: 343650.71109169954 and parameters: {'n_estimators': 203, 'max_depth': 12, 'min_samples_split': 0.12819039995027504, 'min_samples_leaf': 0.11765354700547029, 'max_features': 'auto'}. Best is trial 42 with value: 336106.66110535857.\n",
            "[I 2024-02-02 05:28:29,628] Trial 49 finished with value: 356126.1853058004 and parameters: {'n_estimators': 174, 'max_depth': 20, 'min_samples_split': 0.19426667936785402, 'min_samples_leaf': 0.16277842042714685, 'max_features': 'auto'}. Best is trial 42 with value: 336106.66110535857.\n"
          ]
        },
        {
          "name": "stdout",
          "output_type": "stream",
          "text": [
            "최적 하이퍼파라미터: {'n_estimators': 286, 'max_depth': 11, 'min_samples_split': 0.24902663956979654, 'min_samples_leaf': 0.10014692919264011, 'max_features': 'auto'}\n"
          ]
        }
      ],
      "source": [
        "def objective(trial):\n",
        "\n",
        "    x_train, x_test, y_train, y_test = train_test_split(\n",
        "        이자_train.drop(['ID','총상환이자'], axis=1),\n",
        "        이자_train['총상환이자'],\n",
        "        test_size=0.3,\n",
        "        random_state=42\n",
        "    )\n",
        "\n",
        "    regressor = ExtraTreesRegressor(\n",
        "        n_estimators=trial.suggest_int('n_estimators', 50, 500),\n",
        "        max_depth=trial.suggest_int('max_depth', 3, 20),\n",
        "        min_samples_split=trial.suggest_float('min_samples_split', 0.1, 1.0),\n",
        "        min_samples_leaf=trial.suggest_float('min_samples_leaf', 0.1, 0.5),\n",
        "        max_features=trial.suggest_categorical('max_features', ['auto', 'sqrt', 'log2']),\n",
        "        random_state=42\n",
        "    )\n",
        "\n",
        "    regressor.fit(x_train, y_train)\n",
        "    y_pred = regressor.predict(x_test)\n",
        "    # RMSE 계산\n",
        "    rmse = np.sqrt(mean_squared_error(y_test, y_pred))\n",
        "\n",
        "    return rmse\n",
        "\n",
        "study = optuna.create_study(direction='minimize')\n",
        "study.optimize(objective, n_trials=40)\n",
        "\n",
        "et_best_params_이자 = study.best_params\n",
        "print(f\"최적 하이퍼파라미터: {et_best_params_이자}\")"
      ]
    },
    {
      "cell_type": "code",
      "execution_count": 20,
      "metadata": {
        "id": "gIg22EPlgEIH"
      },
      "outputs": [],
      "source": [
        "이자_test.drop(columns= ['총상환이자'], inplace= True)\n",
        "\n",
        "from sklearn.ensemble import ExtraTreesRegressor\n",
        "et_regressor_이자 = ExtraTreesRegressor(**et_best_params_이자)\n",
        "et_regressor_이자.fit(이자_train.drop(['ID','총상환이자','대출등급'], axis=1), 이자_train['총상환이자'])\n",
        "\n",
        "이자_test['총상환이자'] = et_regressor_이자.predict(이자_test.drop(columns=['ID','대출등급']))\n",
        "\n",
        "train_pre = pd.concat([이자_train, 이자_test], axis=0)\n",
        "train_pre = train_pre.sort_values(by='ID')"
      ]
    },
    {
      "cell_type": "markdown",
      "metadata": {
        "id": "4nM-JEgdgEIH"
      },
      "source": [
        "# test 셋 적용"
      ]
    },
    {
      "cell_type": "code",
      "execution_count": 21,
      "metadata": {
        "id": "6y0jvl5cgEIH"
      },
      "outputs": [],
      "source": [
        "근로기간_test_test= test_pre[test_pre['근로기간'] == 12]\n",
        "근로기간_test_train= test_pre[test_pre['근로기간'] != 12]\n",
        "근로기간_test_test.drop(columns= ['근로기간'], inplace= True)\n",
        "근로기간_test_test['근로기간'] = ada_classification_근로기간.predict(근로기간_test_test.drop(columns = ['ID']))\n",
        "test_pre = pd.concat([근로기간_test_train, 근로기간_test_test], axis=0)\n",
        "\n",
        "원금_test_test= test_pre[test_pre['상환여부_원금'] == 0]\n",
        "원금_test_train= test_pre[test_pre['상환여부_원금'] != 0]\n",
        "원금_test_test.drop(columns= ['총상환원금'], inplace= True)\n",
        "원금_test_test['총상환원금'] = et_regressor_원금.predict(원금_test_test.drop(columns = ['ID']))\n",
        "test_pre = pd.concat([원금_test_train, 원금_test_test], axis=0)\n",
        "\n",
        "이자_test_train= test_pre[test_pre['상환여부_이자'] != 0]\n",
        "이자_test_test= test_pre[test_pre['상환여부_이자'] == 0]\n",
        "이자_test_test.drop(columns= ['총상환이자'], inplace= True)\n",
        "이자_test_test['총상환이자'] = et_regressor_이자.predict(이자_test_test.drop(columns = ['ID']))\n",
        "test_pre = pd.concat([이자_test_train, 이자_test_test], axis=0)"
      ]
    },
    {
      "cell_type": "code",
      "execution_count": 22,
      "metadata": {
        "id": "8Duj3jKzgBms"
      },
      "outputs": [],
      "source": [
        "test_pre = test_pre.sort_values(by='ID')"
      ]
    },
    {
      "cell_type": "code",
      "execution_count": 23,
      "metadata": {
        "colab": {
          "base_uri": "https://localhost:8080/"
        },
        "id": "WTu1g6xl18NQ",
        "outputId": "9220dd71-4965-49fa-c35a-960e2b426a66"
      },
      "outputs": [
        {
          "name": "stdout",
          "output_type": "stream",
          "text": [
            "전처리 전 train 크기 : (96294, 32)\n",
            "전처리 전 test 크기 : (64197, 31)\n",
            "=================전처리 중=================\n",
            "전처리 후 train 크기 : (96294, 46)\n",
            "전처리 후 test 크기 : (64197, 45)\n"
          ]
        }
      ],
      "source": [
        "#전처리\n",
        "def pre_all(train, test):\n",
        "    print(f\"전처리 전 train 크기 : {train_pre.shape}\")\n",
        "    print(f\"전처리 전 test 크기 : {test_pre.shape}\")\n",
        "    print(\"=================전처리 중=================\")\n",
        "\n",
        "    df = pd.concat([train_pre,test_pre]).reset_index(drop = True)\n",
        "\n",
        "    df[\"월_대출금액\"] = round(df[\"대출금액\"] /df[\"대출기간\"],1)\n",
        "    df[\"월_대출대비_소득비율\"] = round((df[\"연간소득\"]/12)/df[\"월_대출금액\"],1)\n",
        "\n",
        "    df[\"계좌수\"] =df[\"총계좌수\"] / (df[\"연체계좌수\"] + 1)\n",
        "\n",
        "    df[\"대출금액_총상환이자_비율\"] = np.where(df[\"총상환이자\"] == 0, np.nan,df[\"대출금액\"] /df[\"총상환이자\"])\n",
        "    df[\"대출금액_총상환이자_비율\"].fillna(0, inplace=True)\n",
        "\n",
        "    df[\"대출금액_총상환원금_비율\"] = np.where(df[\"총상환원금\"] == 0, np.nan,df[\"대출금액\"] /df[\"총상환원금\"])\n",
        "    df[\"대출금액_총상환원금_비율\"].fillna(0, inplace=True)\n",
        "\n",
        "    df[\"상환이자_상환원금\"] =df.apply(lambda x : 0 if x[\"총상환이자\"] == x[\"총상환원금\"] else (1 if x[\"총상환이자\"] > x[\"총상환원금\"] else 2), axis=1)\n",
        "\n",
        "    # \"상환여부\" 피쳐 추가\n",
        "    df['상환여부'] = (df['총상환원금'] + df['총상환이자'] > 0).astype(int)\n",
        "    df['상환여부_원금'] = (df['총상환원금'] > 0).astype(int)\n",
        "    df['상환여부_이자'] = (df['총상환이자'] > 0).astype(int)\n",
        "\n",
        "    df[\"최근_2년간_연체_횟수\"] =df[\"최근_2년간_연체_횟수\"].apply(lambda x: 1 if x > 0 else 0)\n",
        "\n",
        "    df[\"총상환액\"] =df[\"총상환원금\"] + df[\"총상환이자\"]\n",
        "\n",
        "    df[\"소득대비_총상환액_비율\"] =df[\"총상환액\"] /df[\"연간소득\"]\n",
        "    df[\"대출대비_총상환액_비율\"] =df[\"총상환액\"] /df[\"대출금액\"]\n",
        "    df[\"기간대비_총상환액_비율\"] =df[\"총상환액\"] /df[\"대출기간\"]\n",
        "\n",
        "    df[\"대출대비_총상환원금_비율\"] =df[\"총상환원금\"] /df[\"대출금액\"]\n",
        "    df[\"대출대비_총상환이자_비율\"] =df[\"총상환이자\"] /df[\"대출금액\"]\n",
        "\n",
        "    df[\"소득대비_총상환원금_비율\"] =df[\"총상환원금\"] /df[\"연간소득\"]\n",
        "    df[\"소득대비_총상환이자_비율\"] =df[\"총상환이자\"] /df[\"연간소득\"]\n",
        "\n",
        "    df[\"기간대비_총상환원금_비율\"] =df[\"총상환원금\"] /df[\"대출기간\"]\n",
        "    df[\"기간대비_총상환이자_비율\"] =df[\"총상환이자\"] /df[\"대출기간\"]\n",
        "\n",
        "    df[\"월_이자_지불액\"] =df[\"대출금액\"] *df[\"대출금액_총상환이자_비율\"] /df[\"대출기간\"]\n",
        "\n",
        "    df.replace([np.inf, -np.inf], 0, inplace=True)\n",
        "\n",
        "    df.drop([\"총계좌수\", \"연체계좌수\", \"총연체금액\"], axis=1, inplace=True)\n",
        "    # df 분리하기\n",
        "    train = df[~df[\"대출등급\"].isnull()].reset_index(drop = True)\n",
        "    test = df[df[\"대출등급\"].isnull()].reset_index(drop=True)\n",
        "    test = test.drop(columns=[\"대출등급\"])\n",
        "\n",
        "    print(f\"전처리 후 train 크기 : {train.shape}\")\n",
        "    print(f\"전처리 후 test 크기 : {test.shape}\")\n",
        "\n",
        "    return train, test\n",
        "\n",
        "train_pre, test_pre = pre_all(train, test)"
      ]
    },
    {
      "cell_type": "markdown",
      "metadata": {
        "id": "pQSXTwgU18NR"
      },
      "source": [
        "---"
      ]
    },
    {
      "cell_type": "code",
      "execution_count": null,
      "metadata": {
        "id": "Y0RAfB5n18NT"
      },
      "outputs": [],
      "source": [
        "# def outlier(df, col, z):\n",
        "#     return df[abs(df[col] - np.mean(df[col]))/np.std(df[col])>z].index\n",
        "\n",
        "# def find_z_score_indices(df, col, z_threshold):\n",
        "#     z_scores = zscore(df[col])\n",
        "#     z_indices = np.where(np.abs(z_scores) >= z_threshold)[0]\n",
        "#     return z_indices"
      ]
    },
    {
      "cell_type": "code",
      "execution_count": null,
      "metadata": {
        "id": "TlaJ4zH_18NT"
      },
      "outputs": [],
      "source": [
        "# 연간소득_train_for_z_1 = find_z_score_indices(train_pre, '연간소득', 3)\n",
        "# 총상환원금_train_for_z_1 = find_z_score_indices(train_pre, '총상환원금', 3)\n",
        "# 총상환이자_train_for_z_1 = find_z_score_indices(train_pre, '총상환이자', 3)\n",
        "\n",
        "# 연간소득_test_for_z_1 = find_z_score_indices(test_pre, '연간소득', 3)\n",
        "# 총상환원금_test_for_z_1 = find_z_score_indices(test_pre, '총상환원금', 3)\n",
        "# 총상환이자_test_for_z_1 = find_z_score_indices(test_pre, '총상환이자', 3)\n",
        "\n",
        "# train_pre.loc[outlier(train, '연간소득', 3), \"연간소득\"] = 연간소득_train_for_z_1\n",
        "# train_pre.loc[outlier(train, '총상환원금', 3), \"총상환원금\"] = 총상환원금_train_for_z_1\n",
        "# train_pre.loc[outlier(train, '총상환이자', 3), \"총상환이자\"] = 총상환이자_train_for_z_1\n",
        "\n",
        "# test_pre.loc[outlier(test, '연간소득', 3), \"연간소득\"] = 연간소득_test_for_z_1\n",
        "# test_pre.loc[outlier(test, '총상환원금', 3), '총상환원금'] = 총상환원금_test_for_z_1\n",
        "# test_pre.loc[outlier(test, '총상환이자', 3), '총상환이자'] = 총상환이자_test_for_z_1"
      ]
    },
    {
      "cell_type": "code",
      "execution_count": 24,
      "metadata": {
        "id": "VRNKZA8U18NT"
      },
      "outputs": [],
      "source": [
        "target = train_pre.대출등급\n",
        "train_pre = train_pre.drop(['ID',\"대출등급\"], axis=1)\n",
        "test_pre = test_pre.drop(['ID'], axis=1)\n",
        "ID_test = test.ID"
      ]
    },
    {
      "cell_type": "markdown",
      "metadata": {
        "id": "iu1BCYrB18NT"
      },
      "source": [
        "# 로그화"
      ]
    },
    {
      "cell_type": "code",
      "execution_count": 25,
      "metadata": {
        "id": "wyHuuEX8nlGp"
      },
      "outputs": [],
      "source": [
        "train_pre['총상환원금_총상환이자_곱'] = train_pre['총상환원금'] * train_pre['총상환이자']\n",
        "train_pre['총상환원금_총상환이자_뺄'] = train_pre['총상환원금'] - train_pre['총상환이자']\n",
        "\n",
        "test_pre['총상환원금_총상환이자_곱'] = test_pre['총상환원금'] * test_pre['총상환이자']\n",
        "test_pre['총상환원금_총상환이자_뺄'] = test_pre['총상환원금'] - test_pre['총상환이자']"
      ]
    },
    {
      "cell_type": "code",
      "execution_count": null,
      "metadata": {
        "id": "oY0OSSNF18NT"
      },
      "outputs": [],
      "source": [
        "# scaler = StandardScaler()\n",
        "# list_num = ['대출금액', '연간소득','총상환원금','총상환이자', '총연체금액', '월평균소득','대출금액_총상환이자','총상환원금_총상환이자']\n",
        "# train_pre[list_num] = scaler.fit_transform(train_pre[list_num])\n",
        "# test_pre[list_num] = scaler.transform(test_pre[list_num])\n",
        "# log_train = train_pre\n",
        "# log_test = test_pre"
      ]
    },
    {
      "cell_type": "code",
      "execution_count": 26,
      "metadata": {
        "id": "SyrK4_kS18NU"
      },
      "outputs": [],
      "source": [
        "list_num = ['대출금액', '연간소득','총상환원금','총상환이자','월_대출금액', '상환이자_상환원금', '총상환액', '총상환원금_총상환이자_곱']\n",
        "# items_to_exclude에 있는 항목을 제외한 리스트 생성\n",
        "filtered_list_train = [x for x in train_pre.columns if x not in list_num]\n",
        "filtered_list_test = [x for x in test_pre.columns if x not in list_num]\n",
        "\n",
        "log_train = train_pre[list_num].apply(lambda x : np.log(x+1))\n",
        "log_train = pd.concat([train_pre[filtered_list_train], log_train,], axis=1)\n",
        "\n",
        "log_test = test_pre[list_num].apply(lambda x : np.log(x+1))\n",
        "log_test = pd.concat([ test_pre[filtered_list_test],log_test], axis=1)"
      ]
    },
    {
      "cell_type": "markdown",
      "metadata": {
        "id": "MpKuS7dO18NU"
      },
      "source": [
        "# LDA"
      ]
    },
    {
      "cell_type": "code",
      "execution_count": 27,
      "metadata": {
        "colab": {
          "base_uri": "https://localhost:8080/",
          "height": 564
        },
        "id": "kLReSXRJ18NU",
        "outputId": "4a441cb8-cbe7-4f87-8100-4fcfeac88eed"
      },
      "outputs": [
        {
          "data": {
            "image/png": "[encoded data removed]",
            "text/plain": [
              "<Figure size 1000x600 with 1 Axes>"
            ]
          },
          "metadata": {},
          "output_type": "display_data"
        }
      ],
      "source": [
        "from sklearn.discriminant_analysis import LinearDiscriminantAnalysis as LDA\n",
        "lda = LDA()\n",
        "\n",
        "# LDA를 훈련 데이터에 적용\n",
        "lda.fit(log_train, target)\n",
        "lda_transformed_train = lda.transform(log_train)\n",
        "\n",
        "plt.figure(figsize=(10, 6))\n",
        "plt.plot(range(1, lda_transformed_train.shape[1] + 1), lda.explained_variance_ratio_)\n",
        "plt.xlabel('LDA Components')\n",
        "plt.ylabel('Explained Variance Ratio')\n",
        "plt.title('Scree Plot for LDA')\n",
        "plt.show()"
      ]
    },
    {
      "cell_type": "code",
      "execution_count": 28,
      "metadata": {
        "id": "KX66ZArv18NU"
      },
      "outputs": [],
      "source": [
        "# LDA수는 가장 적합한 2로 설정해서 다시 적용\n",
        "lda = LDA(n_components=2)\n",
        "\n",
        "lda.fit(log_train, target)\n",
        "lda_transformed_train = lda.transform(log_train)\n",
        "lda_transformed_test = lda.transform(log_test)\n",
        "\n",
        "# LDA로 생성된 칼럼명을 작성하기 위함\n",
        "lda_columns_train = [f'LDA{i+1}' for i in range(lda_transformed_train.shape[1])]\n",
        "lda_columns_test = [f'LDA{i+1}' for i in range(lda_transformed_test.shape[1])]\n",
        "\n",
        "lda_df_train = pd.DataFrame(lda_transformed_train, columns = lda_columns_train)\n",
        "lda_df_test = pd.DataFrame(lda_transformed_test, columns = lda_columns_test)\n",
        "\n",
        "# NumPy 배열을 데이터프레임으로 변환\n",
        "scaled_train = pd.DataFrame(log_train, columns=train_pre.columns, index=train_pre.index)\n",
        "scaled_test = pd.DataFrame(log_test, columns=test_pre.columns, index=test_pre.index)\n",
        "\n",
        "lda_train_x = pd.concat([scaled_train, lda_df_train], axis=1)\n",
        "lda_test_x = pd.concat([scaled_test, lda_df_test], axis=1)"
      ]
    },
    {
      "cell_type": "markdown",
      "metadata": {
        "id": "hCvm7KWt18NU"
      },
      "source": [
        "# smote"
      ]
    },
    {
      "cell_type": "code",
      "execution_count": 29,
      "metadata": {
        "colab": {
          "base_uri": "https://localhost:8080/"
        },
        "id": "PGsXw6Pg18NU",
        "outputId": "2c0d6f9a-78c9-420f-9fe1-8e0136b04328"
      },
      "outputs": [
        {
          "name": "stdout",
          "output_type": "stream",
          "text": [
            "클래스 분포 (이전): {0.0: 16772, 1.0: 28817, 2.0: 27623, 3.0: 13354, 4.0: 7354, 5.0: 1954, 6.0: 420}\n",
            "클래스 분포 (이후): {0.0: 28817, 1.0: 28817, 2.0: 28817, 3.0: 28817, 4.0: 28817, 5.0: 28817, 6.0: 28817}\n"
          ]
        }
      ],
      "source": [
        "from imblearn.over_sampling import SMOTE\n",
        "from sklearn.datasets import make_classification\n",
        "from sklearn.model_selection import train_test_split\n",
        "import numpy as np\n",
        "\n",
        "# SMOTE 적용\n",
        "smote = SMOTE(random_state=42)\n",
        "X_resampled, y_resampled = smote.fit_resample(lda_train_x, target)\n",
        "\n",
        "# SMOTE 이전과 이후의 클래스 분포 확인\n",
        "print(\"클래스 분포 (이전):\", dict(zip(*np.unique(target, return_counts=True))))\n",
        "print(\"클래스 분포 (이후):\", dict(zip(*np.unique(y_resampled, return_counts=True))))\n"
      ]
    },
    {
      "cell_type": "markdown",
      "metadata": {
        "id": "ekegu6lN18NU"
      },
      "source": [
        "여기서부터 X_resampled, y_resampled로 진행"
      ]
    },
    {
      "cell_type": "markdown",
      "metadata": {
        "id": "XPS0DQ2V18NU"
      },
      "source": [
        "# Optuna"
      ]
    },
    {
      "cell_type": "code",
      "execution_count": 30,
      "metadata": {
        "colab": {
          "base_uri": "https://localhost:8080/"
        },
        "id": "g65XNhIJ18NU",
        "outputId": "c082c883-7fe3-4f35-93c7-269778081086"
      },
      "outputs": [
        {
          "name": "stderr",
          "output_type": "stream",
          "text": [
            "[I 2024-02-02 05:29:07,140] A new study created in memory with name: no-name-a5631b48-fca0-4410-84fb-39295ce26e29\n"
          ]
        },
        {
          "name": "stdout",
          "output_type": "stream",
          "text": [
            "[LightGBM] [Warning] Found whitespace in feature_names, replace with underlines\n",
            "[LightGBM] [Info] Auto-choosing col-wise multi-threading, the overhead of testing was 0.096983 seconds.\n",
            "You can set `force_col_wise=true` to remove the overhead.\n",
            "[LightGBM] [Info] Total Bins 10284\n",
            "[LightGBM] [Info] Number of data points in the train set: 141203, number of used features: 44\n",
            "[LightGBM] [Info] Start training from score -1.942340\n",
            "[LightGBM] [Info] Start training from score -1.944120\n",
            "[LightGBM] [Info] Start training from score -1.947590\n",
            "[LightGBM] [Info] Start training from score -1.943972\n",
            "[LightGBM] [Info] Start training from score -1.947292\n",
            "[LightGBM] [Info] Start training from score -1.954266\n",
            "[LightGBM] [Info] Start training from score -1.941846\n"
          ]
        },
        {
          "name": "stderr",
          "output_type": "stream",
          "text": [
            "[I 2024-02-02 05:29:40,725] Trial 0 finished with value: 0.9514391787480836 and parameters: {'subsample': 0.7960173788475091, 'colsample_bytree': 0.7754940755635624, 'learning_rate': 0.07576083817303467, 'max_depth': 27, 'num_leaves': 35}. Best is trial 0 with value: 0.9514391787480836.\n"
          ]
        },
        {
          "name": "stdout",
          "output_type": "stream",
          "text": [
            "[LightGBM] [Warning] Found whitespace in feature_names, replace with underlines\n",
            "[LightGBM] [Info] Auto-choosing col-wise multi-threading, the overhead of testing was 0.092343 seconds.\n",
            "You can set `force_col_wise=true` to remove the overhead.\n",
            "[LightGBM] [Info] Total Bins 10284\n",
            "[LightGBM] [Info] Number of data points in the train set: 141203, number of used features: 44\n",
            "[LightGBM] [Info] Start training from score -1.942340\n",
            "[LightGBM] [Info] Start training from score -1.944120\n",
            "[LightGBM] [Info] Start training from score -1.947590\n",
            "[LightGBM] [Info] Start training from score -1.943972\n",
            "[LightGBM] [Info] Start training from score -1.947292\n",
            "[LightGBM] [Info] Start training from score -1.954266\n",
            "[LightGBM] [Info] Start training from score -1.941846\n"
          ]
        },
        {
          "name": "stderr",
          "output_type": "stream",
          "text": [
            "[I 2024-02-02 05:30:18,888] Trial 1 finished with value: 0.9527044905531707 and parameters: {'subsample': 0.5081890931015095, 'colsample_bytree': 0.5998687207075932, 'learning_rate': 0.03341913498492814, 'max_depth': 21, 'num_leaves': 88}. Best is trial 1 with value: 0.9527044905531707.\n"
          ]
        },
        {
          "name": "stdout",
          "output_type": "stream",
          "text": [
            "[LightGBM] [Warning] Found whitespace in feature_names, replace with underlines\n",
            "[LightGBM] [Info] Auto-choosing col-wise multi-threading, the overhead of testing was 0.115183 seconds.\n",
            "You can set `force_col_wise=true` to remove the overhead.\n",
            "[LightGBM] [Info] Total Bins 10284\n",
            "[LightGBM] [Info] Number of data points in the train set: 141203, number of used features: 44\n",
            "[LightGBM] [Info] Start training from score -1.942340\n",
            "[LightGBM] [Info] Start training from score -1.944120\n",
            "[LightGBM] [Info] Start training from score -1.947590\n",
            "[LightGBM] [Info] Start training from score -1.943972\n",
            "[LightGBM] [Info] Start training from score -1.947292\n",
            "[LightGBM] [Info] Start training from score -1.954266\n",
            "[LightGBM] [Info] Start training from score -1.941846\n"
          ]
        },
        {
          "name": "stderr",
          "output_type": "stream",
          "text": [
            "[I 2024-02-02 05:30:57,690] Trial 2 finished with value: 0.9606044924198317 and parameters: {'subsample': 0.839038390543714, 'colsample_bytree': 0.7254649524514173, 'learning_rate': 0.08025556107822633, 'max_depth': 21, 'num_leaves': 85}. Best is trial 2 with value: 0.9606044924198317.\n"
          ]
        },
        {
          "name": "stdout",
          "output_type": "stream",
          "text": [
            "[LightGBM] [Warning] Found whitespace in feature_names, replace with underlines\n",
            "[LightGBM] [Info] Auto-choosing col-wise multi-threading, the overhead of testing was 0.091533 seconds.\n",
            "You can set `force_col_wise=true` to remove the overhead.\n",
            "[LightGBM] [Info] Total Bins 10284\n",
            "[LightGBM] [Info] Number of data points in the train set: 141203, number of used features: 44\n",
            "[LightGBM] [Info] Start training from score -1.942340\n",
            "[LightGBM] [Info] Start training from score -1.944120\n",
            "[LightGBM] [Info] Start training from score -1.947590\n",
            "[LightGBM] [Info] Start training from score -1.943972\n",
            "[LightGBM] [Info] Start training from score -1.947292\n",
            "[LightGBM] [Info] Start training from score -1.954266\n",
            "[LightGBM] [Info] Start training from score -1.941846\n"
          ]
        },
        {
          "name": "stderr",
          "output_type": "stream",
          "text": [
            "[I 2024-02-02 05:31:28,053] Trial 3 finished with value: 0.9539292566605504 and parameters: {'subsample': 0.9117736012601236, 'colsample_bytree': 0.6430816221711155, 'learning_rate': 0.0706094442888039, 'max_depth': 9, 'num_leaves': 53}. Best is trial 2 with value: 0.9606044924198317.\n"
          ]
        },
        {
          "name": "stdout",
          "output_type": "stream",
          "text": [
            "[LightGBM] [Warning] Found whitespace in feature_names, replace with underlines\n",
            "[LightGBM] [Info] Auto-choosing col-wise multi-threading, the overhead of testing was 0.094060 seconds.\n",
            "You can set `force_col_wise=true` to remove the overhead.\n",
            "[LightGBM] [Info] Total Bins 10284\n",
            "[LightGBM] [Info] Number of data points in the train set: 141203, number of used features: 44\n",
            "[LightGBM] [Info] Start training from score -1.942340\n",
            "[LightGBM] [Info] Start training from score -1.944120\n",
            "[LightGBM] [Info] Start training from score -1.947590\n",
            "[LightGBM] [Info] Start training from score -1.943972\n",
            "[LightGBM] [Info] Start training from score -1.947292\n",
            "[LightGBM] [Info] Start training from score -1.954266\n",
            "[LightGBM] [Info] Start training from score -1.941846\n"
          ]
        },
        {
          "name": "stderr",
          "output_type": "stream",
          "text": [
            "[I 2024-02-02 05:31:56,311] Trial 4 finished with value: 0.9420798433527761 and parameters: {'subsample': 0.6825059897888825, 'colsample_bytree': 0.8639221094178547, 'learning_rate': 0.061381899004961264, 'max_depth': 18, 'num_leaves': 24}. Best is trial 2 with value: 0.9606044924198317.\n"
          ]
        },
        {
          "name": "stdout",
          "output_type": "stream",
          "text": [
            "[LightGBM] [Warning] Found whitespace in feature_names, replace with underlines\n",
            "[LightGBM] [Info] Auto-choosing col-wise multi-threading, the overhead of testing was 0.089026 seconds.\n",
            "You can set `force_col_wise=true` to remove the overhead.\n",
            "[LightGBM] [Info] Total Bins 10284\n",
            "[LightGBM] [Info] Number of data points in the train set: 141203, number of used features: 44\n",
            "[LightGBM] [Info] Start training from score -1.942340\n",
            "[LightGBM] [Info] Start training from score -1.944120\n",
            "[LightGBM] [Info] Start training from score -1.947590\n",
            "[LightGBM] [Info] Start training from score -1.943972\n",
            "[LightGBM] [Info] Start training from score -1.947292\n",
            "[LightGBM] [Info] Start training from score -1.954266\n",
            "[LightGBM] [Info] Start training from score -1.941846\n",
            "[LightGBM] [Warning] No further splits with positive gain, best gain: -inf\n",
            "[LightGBM] [Warning] No further splits with positive gain, best gain: -inf\n",
            "[LightGBM] [Warning] No further splits with positive gain, best gain: -inf\n",
            "[LightGBM] [Warning] No further splits with positive gain, best gain: -inf\n",
            "[LightGBM] [Warning] No further splits with positive gain, best gain: -inf\n",
            "[LightGBM] [Warning] No further splits with positive gain, best gain: -inf\n",
            "[LightGBM] [Warning] No further splits with positive gain, best gain: -inf\n",
            "[LightGBM] [Warning] No further splits with positive gain, best gain: -inf\n",
            "[LightGBM] [Warning] No further splits with positive gain, best gain: -inf\n",
            "[LightGBM] [Warning] No further splits with positive gain, best gain: -inf\n",
            "[LightGBM] [Warning] No further splits with positive gain, best gain: -inf\n",
            "[LightGBM] [Warning] No further splits with positive gain, best gain: -inf\n",
            "[LightGBM] [Warning] No further splits with positive gain, best gain: -inf\n",
            "[LightGBM] [Warning] No further splits with positive gain, best gain: -inf\n",
            "[LightGBM] [Warning] No further splits with positive gain, best gain: -inf\n",
            "[LightGBM] [Warning] No further splits with positive gain, best gain: -inf\n",
            "[LightGBM] [Warning] No further splits with positive gain, best gain: -inf\n",
            "[LightGBM] [Warning] No further splits with positive gain, best gain: -inf\n",
            "[LightGBM] [Warning] No further splits with positive gain, best gain: -inf\n",
            "[LightGBM] [Warning] No further splits with positive gain, best gain: -inf\n",
            "[LightGBM] [Warning] No further splits with positive gain, best gain: -inf\n",
            "[LightGBM] [Warning] No further splits with positive gain, best gain: -inf\n",
            "[LightGBM] [Warning] No further splits with positive gain, best gain: -inf\n",
            "[LightGBM] [Warning] No further splits with positive gain, best gain: -inf\n",
            "[LightGBM] [Warning] No further splits with positive gain, best gain: -inf\n",
            "[LightGBM] [Warning] No further splits with positive gain, best gain: -inf\n",
            "[LightGBM] [Warning] No further splits with positive gain, best gain: -inf\n",
            "[LightGBM] [Warning] No further splits with positive gain, best gain: -inf\n",
            "[LightGBM] [Warning] No further splits with positive gain, best gain: -inf\n",
            "[LightGBM] [Warning] No further splits with positive gain, best gain: -inf\n",
            "[LightGBM] [Warning] No further splits with positive gain, best gain: -inf\n"
          ]
        },
        {
          "name": "stderr",
          "output_type": "stream",
          "text": [
            "[I 2024-02-02 05:32:23,562] Trial 5 finished with value: 0.9490972383828579 and parameters: {'subsample': 0.9376509524183845, 'colsample_bytree': 0.7505494387892333, 'learning_rate': 0.09173597745903757, 'max_depth': 6, 'num_leaves': 37}. Best is trial 2 with value: 0.9606044924198317.\n"
          ]
        },
        {
          "name": "stdout",
          "output_type": "stream",
          "text": [
            "[LightGBM] [Warning] Found whitespace in feature_names, replace with underlines\n",
            "[LightGBM] [Info] Auto-choosing row-wise multi-threading, the overhead of testing was 0.024496 seconds.\n",
            "You can set `force_row_wise=true` to remove the overhead.\n",
            "And if memory is not enough, you can set `force_col_wise=true`.\n",
            "[LightGBM] [Info] Total Bins 10284\n",
            "[LightGBM] [Info] Number of data points in the train set: 141203, number of used features: 44\n",
            "[LightGBM] [Info] Start training from score -1.942340\n",
            "[LightGBM] [Info] Start training from score -1.944120\n",
            "[LightGBM] [Info] Start training from score -1.947590\n",
            "[LightGBM] [Info] Start training from score -1.943972\n",
            "[LightGBM] [Info] Start training from score -1.947292\n",
            "[LightGBM] [Info] Start training from score -1.954266\n",
            "[LightGBM] [Info] Start training from score -1.941846\n"
          ]
        },
        {
          "name": "stderr",
          "output_type": "stream",
          "text": [
            "[I 2024-02-02 05:32:51,010] Trial 6 finished with value: 0.9387784581556053 and parameters: {'subsample': 0.8008335877330459, 'colsample_bytree': 0.513417596927058, 'learning_rate': 0.07963190647920797, 'max_depth': 19, 'num_leaves': 16}. Best is trial 2 with value: 0.9606044924198317.\n"
          ]
        },
        {
          "name": "stdout",
          "output_type": "stream",
          "text": [
            "[LightGBM] [Warning] Found whitespace in feature_names, replace with underlines\n",
            "[LightGBM] [Info] Auto-choosing row-wise multi-threading, the overhead of testing was 0.040230 seconds.\n",
            "You can set `force_row_wise=true` to remove the overhead.\n",
            "And if memory is not enough, you can set `force_col_wise=true`.\n",
            "[LightGBM] [Info] Total Bins 10284\n",
            "[LightGBM] [Info] Number of data points in the train set: 141203, number of used features: 44\n",
            "[LightGBM] [Info] Start training from score -1.942340\n",
            "[LightGBM] [Info] Start training from score -1.944120\n",
            "[LightGBM] [Info] Start training from score -1.947590\n",
            "[LightGBM] [Info] Start training from score -1.943972\n",
            "[LightGBM] [Info] Start training from score -1.947292\n",
            "[LightGBM] [Info] Start training from score -1.954266\n",
            "[LightGBM] [Info] Start training from score -1.941846\n"
          ]
        },
        {
          "name": "stderr",
          "output_type": "stream",
          "text": [
            "[I 2024-02-02 05:33:28,571] Trial 7 finished with value: 0.9617176285380064 and parameters: {'subsample': 0.8162927240522784, 'colsample_bytree': 0.6735559185645827, 'learning_rate': 0.0947300823891042, 'max_depth': 18, 'num_leaves': 76}. Best is trial 7 with value: 0.9617176285380064.\n"
          ]
        },
        {
          "name": "stdout",
          "output_type": "stream",
          "text": [
            "[LightGBM] [Warning] Found whitespace in feature_names, replace with underlines\n",
            "[LightGBM] [Info] Auto-choosing row-wise multi-threading, the overhead of testing was 0.029712 seconds.\n",
            "You can set `force_row_wise=true` to remove the overhead.\n",
            "And if memory is not enough, you can set `force_col_wise=true`.\n",
            "[LightGBM] [Info] Total Bins 10284\n",
            "[LightGBM] [Info] Number of data points in the train set: 141203, number of used features: 44\n",
            "[LightGBM] [Info] Start training from score -1.942340\n",
            "[LightGBM] [Info] Start training from score -1.944120\n",
            "[LightGBM] [Info] Start training from score -1.947590\n",
            "[LightGBM] [Info] Start training from score -1.943972\n",
            "[LightGBM] [Info] Start training from score -1.947292\n",
            "[LightGBM] [Info] Start training from score -1.954266\n",
            "[LightGBM] [Info] Start training from score -1.941846\n"
          ]
        },
        {
          "name": "stderr",
          "output_type": "stream",
          "text": [
            "[I 2024-02-02 05:34:08,900] Trial 8 finished with value: 0.960951332834449 and parameters: {'subsample': 0.9980156403738187, 'colsample_bytree': 0.9179890894938472, 'learning_rate': 0.09508568653026855, 'max_depth': 13, 'num_leaves': 86}. Best is trial 7 with value: 0.9617176285380064.\n"
          ]
        },
        {
          "name": "stdout",
          "output_type": "stream",
          "text": [
            "[LightGBM] [Warning] Found whitespace in feature_names, replace with underlines\n",
            "[LightGBM] [Info] Auto-choosing col-wise multi-threading, the overhead of testing was 0.091038 seconds.\n",
            "You can set `force_col_wise=true` to remove the overhead.\n",
            "[LightGBM] [Info] Total Bins 10284\n",
            "[LightGBM] [Info] Number of data points in the train set: 141203, number of used features: 44\n",
            "[LightGBM] [Info] Start training from score -1.942340\n",
            "[LightGBM] [Info] Start training from score -1.944120\n",
            "[LightGBM] [Info] Start training from score -1.947590\n",
            "[LightGBM] [Info] Start training from score -1.943972\n",
            "[LightGBM] [Info] Start training from score -1.947292\n",
            "[LightGBM] [Info] Start training from score -1.954266\n",
            "[LightGBM] [Info] Start training from score -1.941846\n"
          ]
        },
        {
          "name": "stderr",
          "output_type": "stream",
          "text": [
            "[I 2024-02-02 05:34:43,169] Trial 9 finished with value: 0.9519591803283275 and parameters: {'subsample': 0.7337674757026496, 'colsample_bytree': 0.6135834166595772, 'learning_rate': 0.03671544756587696, 'max_depth': 16, 'num_leaves': 75}. Best is trial 7 with value: 0.9617176285380064.\n"
          ]
        },
        {
          "name": "stdout",
          "output_type": "stream",
          "text": [
            "[LightGBM] [Warning] Found whitespace in feature_names, replace with underlines\n",
            "[LightGBM] [Info] Auto-choosing row-wise multi-threading, the overhead of testing was 0.024772 seconds.\n",
            "You can set `force_row_wise=true` to remove the overhead.\n",
            "And if memory is not enough, you can set `force_col_wise=true`.\n",
            "[LightGBM] [Info] Total Bins 10284\n",
            "[LightGBM] [Info] Number of data points in the train set: 141203, number of used features: 44\n",
            "[LightGBM] [Info] Start training from score -1.942340\n",
            "[LightGBM] [Info] Start training from score -1.944120\n",
            "[LightGBM] [Info] Start training from score -1.947590\n",
            "[LightGBM] [Info] Start training from score -1.943972\n",
            "[LightGBM] [Info] Start training from score -1.947292\n",
            "[LightGBM] [Info] Start training from score -1.954266\n",
            "[LightGBM] [Info] Start training from score -1.941846\n"
          ]
        },
        {
          "name": "stderr",
          "output_type": "stream",
          "text": [
            "[I 2024-02-02 05:35:19,405] Trial 10 finished with value: 0.9182213588459367 and parameters: {'subsample': 0.6393223574579444, 'colsample_bytree': 0.51274043507867, 'learning_rate': 0.003736810821615505, 'max_depth': 32, 'num_leaves': 64}. Best is trial 7 with value: 0.9617176285380064.\n"
          ]
        },
        {
          "name": "stdout",
          "output_type": "stream",
          "text": [
            "[LightGBM] [Warning] Found whitespace in feature_names, replace with underlines\n",
            "[LightGBM] [Info] Auto-choosing row-wise multi-threading, the overhead of testing was 0.030639 seconds.\n",
            "You can set `force_row_wise=true` to remove the overhead.\n",
            "And if memory is not enough, you can set `force_col_wise=true`.\n",
            "[LightGBM] [Info] Total Bins 10284\n",
            "[LightGBM] [Info] Number of data points in the train set: 141203, number of used features: 44\n",
            "[LightGBM] [Info] Start training from score -1.942340\n",
            "[LightGBM] [Info] Start training from score -1.944120\n",
            "[LightGBM] [Info] Start training from score -1.947590\n",
            "[LightGBM] [Info] Start training from score -1.943972\n",
            "[LightGBM] [Info] Start training from score -1.947292\n",
            "[LightGBM] [Info] Start training from score -1.954266\n",
            "[LightGBM] [Info] Start training from score -1.941846\n"
          ]
        },
        {
          "name": "stderr",
          "output_type": "stream",
          "text": [
            "[I 2024-02-02 05:36:02,931] Trial 11 finished with value: 0.9619698089121328 and parameters: {'subsample': 0.9992913914587053, 'colsample_bytree': 0.9828127930165965, 'learning_rate': 0.0997404718912089, 'max_depth': 12, 'num_leaves': 96}. Best is trial 11 with value: 0.9619698089121328.\n"
          ]
        },
        {
          "name": "stdout",
          "output_type": "stream",
          "text": [
            "[LightGBM] [Warning] Found whitespace in feature_names, replace with underlines\n",
            "[LightGBM] [Info] Auto-choosing row-wise multi-threading, the overhead of testing was 0.036390 seconds.\n",
            "You can set `force_row_wise=true` to remove the overhead.\n",
            "And if memory is not enough, you can set `force_col_wise=true`.\n",
            "[LightGBM] [Info] Total Bins 10284\n",
            "[LightGBM] [Info] Number of data points in the train set: 141203, number of used features: 44\n",
            "[LightGBM] [Info] Start training from score -1.942340\n",
            "[LightGBM] [Info] Start training from score -1.944120\n",
            "[LightGBM] [Info] Start training from score -1.947590\n",
            "[LightGBM] [Info] Start training from score -1.943972\n",
            "[LightGBM] [Info] Start training from score -1.947292\n",
            "[LightGBM] [Info] Start training from score -1.954266\n",
            "[LightGBM] [Info] Start training from score -1.941846\n"
          ]
        },
        {
          "name": "stderr",
          "output_type": "stream",
          "text": [
            "[I 2024-02-02 05:36:47,406] Trial 12 finished with value: 0.9619834893321796 and parameters: {'subsample': 0.9014751193731703, 'colsample_bytree': 0.9794999666321113, 'learning_rate': 0.09866910006026416, 'max_depth': 12, 'num_leaves': 97}. Best is trial 12 with value: 0.9619834893321796.\n"
          ]
        },
        {
          "name": "stdout",
          "output_type": "stream",
          "text": [
            "[LightGBM] [Warning] Found whitespace in feature_names, replace with underlines\n",
            "[LightGBM] [Info] Auto-choosing row-wise multi-threading, the overhead of testing was 0.046053 seconds.\n",
            "You can set `force_row_wise=true` to remove the overhead.\n",
            "And if memory is not enough, you can set `force_col_wise=true`.\n",
            "[LightGBM] [Info] Total Bins 10284\n",
            "[LightGBM] [Info] Number of data points in the train set: 141203, number of used features: 44\n",
            "[LightGBM] [Info] Start training from score -1.942340\n",
            "[LightGBM] [Info] Start training from score -1.944120\n",
            "[LightGBM] [Info] Start training from score -1.947590\n",
            "[LightGBM] [Info] Start training from score -1.943972\n",
            "[LightGBM] [Info] Start training from score -1.947292\n",
            "[LightGBM] [Info] Start training from score -1.954266\n",
            "[LightGBM] [Info] Start training from score -1.941846\n"
          ]
        },
        {
          "name": "stderr",
          "output_type": "stream",
          "text": [
            "[I 2024-02-02 05:37:30,280] Trial 13 finished with value: 0.9561348539831296 and parameters: {'subsample': 0.9921889517641911, 'colsample_bytree': 0.9963441953156356, 'learning_rate': 0.05417323728715293, 'max_depth': 11, 'num_leaves': 95}. Best is trial 12 with value: 0.9619834893321796.\n"
          ]
        },
        {
          "name": "stdout",
          "output_type": "stream",
          "text": [
            "[LightGBM] [Warning] Found whitespace in feature_names, replace with underlines\n",
            "[LightGBM] [Info] Auto-choosing row-wise multi-threading, the overhead of testing was 0.059297 seconds.\n",
            "You can set `force_row_wise=true` to remove the overhead.\n",
            "And if memory is not enough, you can set `force_col_wise=true`.\n",
            "[LightGBM] [Info] Total Bins 10284\n",
            "[LightGBM] [Info] Number of data points in the train set: 141203, number of used features: 44\n",
            "[LightGBM] [Info] Start training from score -1.942340\n",
            "[LightGBM] [Info] Start training from score -1.944120\n",
            "[LightGBM] [Info] Start training from score -1.947590\n",
            "[LightGBM] [Info] Start training from score -1.943972\n",
            "[LightGBM] [Info] Start training from score -1.947292\n",
            "[LightGBM] [Info] Start training from score -1.954266\n",
            "[LightGBM] [Info] Start training from score -1.941846\n",
            "[LightGBM] [Warning] No further splits with positive gain, best gain: -inf\n",
            "[LightGBM] [Warning] No further splits with positive gain, best gain: -inf\n",
            "[LightGBM] [Warning] No further splits with positive gain, best gain: -inf\n",
            "[LightGBM] [Warning] No further splits with positive gain, best gain: -inf\n",
            "[LightGBM] [Warning] No further splits with positive gain, best gain: -inf\n",
            "[LightGBM] [Warning] No further splits with positive gain, best gain: -inf\n",
            "[LightGBM] [Warning] No further splits with positive gain, best gain: -inf\n",
            "[LightGBM] [Warning] No further splits with positive gain, best gain: -inf\n",
            "[LightGBM] [Warning] No further splits with positive gain, best gain: -inf\n",
            "[LightGBM] [Warning] No further splits with positive gain, best gain: -inf\n",
            "[LightGBM] [Warning] No further splits with positive gain, best gain: -inf\n",
            "[LightGBM] [Warning] No further splits with positive gain, best gain: -inf\n",
            "[LightGBM] [Warning] No further splits with positive gain, best gain: -inf\n",
            "[LightGBM] [Warning] No further splits with positive gain, best gain: -inf\n",
            "[LightGBM] [Warning] No further splits with positive gain, best gain: -inf\n",
            "[LightGBM] [Warning] No further splits with positive gain, best gain: -inf\n",
            "[LightGBM] [Warning] No further splits with positive gain, best gain: -inf\n",
            "[LightGBM] [Warning] No further splits with positive gain, best gain: -inf\n",
            "[LightGBM] [Warning] No further splits with positive gain, best gain: -inf\n",
            "[LightGBM] [Warning] No further splits with positive gain, best gain: -inf\n",
            "[LightGBM] [Warning] No further splits with positive gain, best gain: -inf\n",
            "[LightGBM] [Warning] No further splits with positive gain, best gain: -inf\n",
            "[LightGBM] [Warning] No further splits with positive gain, best gain: -inf\n",
            "[LightGBM] [Warning] No further splits with positive gain, best gain: -inf\n",
            "[LightGBM] [Warning] No further splits with positive gain, best gain: -inf\n",
            "[LightGBM] [Warning] No further splits with positive gain, best gain: -inf\n",
            "[LightGBM] [Warning] No further splits with positive gain, best gain: -inf\n",
            "[LightGBM] [Warning] No further splits with positive gain, best gain: -inf\n",
            "[LightGBM] [Warning] No further splits with positive gain, best gain: -inf\n",
            "[LightGBM] [Warning] No further splits with positive gain, best gain: -inf\n",
            "[LightGBM] [Warning] No further splits with positive gain, best gain: -inf\n",
            "[LightGBM] [Warning] No further splits with positive gain, best gain: -inf\n",
            "[LightGBM] [Warning] No further splits with positive gain, best gain: -inf\n",
            "[LightGBM] [Warning] No further splits with positive gain, best gain: -inf\n",
            "[LightGBM] [Warning] No further splits with positive gain, best gain: -inf\n",
            "[LightGBM] [Warning] No further splits with positive gain, best gain: -inf\n",
            "[LightGBM] [Warning] No further splits with positive gain, best gain: -inf\n",
            "[LightGBM] [Warning] No further splits with positive gain, best gain: -inf\n",
            "[LightGBM] [Warning] No further splits with positive gain, best gain: -inf\n",
            "[LightGBM] [Warning] No further splits with positive gain, best gain: -inf\n",
            "[LightGBM] [Warning] No further splits with positive gain, best gain: -inf\n",
            "[LightGBM] [Warning] No further splits with positive gain, best gain: -inf\n",
            "[LightGBM] [Warning] No further splits with positive gain, best gain: -inf\n",
            "[LightGBM] [Warning] No further splits with positive gain, best gain: -inf\n",
            "[LightGBM] [Warning] No further splits with positive gain, best gain: -inf\n",
            "[LightGBM] [Warning] No further splits with positive gain, best gain: -inf\n",
            "[LightGBM] [Warning] No further splits with positive gain, best gain: -inf\n",
            "[LightGBM] [Warning] No further splits with positive gain, best gain: -inf\n",
            "[LightGBM] [Warning] No further splits with positive gain, best gain: -inf\n",
            "[LightGBM] [Warning] No further splits with positive gain, best gain: -inf\n",
            "[LightGBM] [Warning] No further splits with positive gain, best gain: -inf\n",
            "[LightGBM] [Warning] No further splits with positive gain, best gain: -inf\n",
            "[LightGBM] [Warning] No further splits with positive gain, best gain: -inf\n",
            "[LightGBM] [Warning] No further splits with positive gain, best gain: -inf\n",
            "[LightGBM] [Warning] No further splits with positive gain, best gain: -inf\n",
            "[LightGBM] [Warning] No further splits with positive gain, best gain: -inf\n",
            "[LightGBM] [Warning] No further splits with positive gain, best gain: -inf\n",
            "[LightGBM] [Warning] No further splits with positive gain, best gain: -inf\n",
            "[LightGBM] [Warning] No further splits with positive gain, best gain: -inf\n",
            "[LightGBM] [Warning] No further splits with positive gain, best gain: -inf\n",
            "[LightGBM] [Warning] No further splits with positive gain, best gain: -inf\n",
            "[LightGBM] [Warning] No further splits with positive gain, best gain: -inf\n",
            "[LightGBM] [Warning] No further splits with positive gain, best gain: -inf\n",
            "[LightGBM] [Warning] No further splits with positive gain, best gain: -inf\n",
            "[LightGBM] [Warning] No further splits with positive gain, best gain: -inf\n",
            "[LightGBM] [Warning] No further splits with positive gain, best gain: -inf\n",
            "[LightGBM] [Warning] No further splits with positive gain, best gain: -inf\n",
            "[LightGBM] [Warning] No further splits with positive gain, best gain: -inf\n",
            "[LightGBM] [Warning] No further splits with positive gain, best gain: -inf\n",
            "[LightGBM] [Warning] No further splits with positive gain, best gain: -inf\n",
            "[LightGBM] [Warning] No further splits with positive gain, best gain: -inf\n",
            "[LightGBM] [Warning] No further splits with positive gain, best gain: -inf\n",
            "[LightGBM] [Warning] No further splits with positive gain, best gain: -inf\n",
            "[LightGBM] [Warning] No further splits with positive gain, best gain: -inf\n",
            "[LightGBM] [Warning] No further splits with positive gain, best gain: -inf\n",
            "[LightGBM] [Warning] No further splits with positive gain, best gain: -inf\n",
            "[LightGBM] [Warning] No further splits with positive gain, best gain: -inf\n",
            "[LightGBM] [Warning] No further splits with positive gain, best gain: -inf\n",
            "[LightGBM] [Warning] No further splits with positive gain, best gain: -inf\n",
            "[LightGBM] [Warning] No further splits with positive gain, best gain: -inf\n",
            "[LightGBM] [Warning] No further splits with positive gain, best gain: -inf\n",
            "[LightGBM] [Warning] No further splits with positive gain, best gain: -inf\n",
            "[LightGBM] [Warning] No further splits with positive gain, best gain: -inf\n",
            "[LightGBM] [Warning] No further splits with positive gain, best gain: -inf\n",
            "[LightGBM] [Warning] No further splits with positive gain, best gain: -inf\n",
            "[LightGBM] [Warning] No further splits with positive gain, best gain: -inf\n",
            "[LightGBM] [Warning] No further splits with positive gain, best gain: -inf\n",
            "[LightGBM] [Warning] No further splits with positive gain, best gain: -inf\n",
            "[LightGBM] [Warning] No further splits with positive gain, best gain: -inf\n",
            "[LightGBM] [Warning] No further splits with positive gain, best gain: -inf\n",
            "[LightGBM] [Warning] No further splits with positive gain, best gain: -inf\n",
            "[LightGBM] [Warning] No further splits with positive gain, best gain: -inf\n",
            "[LightGBM] [Warning] No further splits with positive gain, best gain: -inf\n",
            "[LightGBM] [Warning] No further splits with positive gain, best gain: -inf\n",
            "[LightGBM] [Warning] No further splits with positive gain, best gain: -inf\n",
            "[LightGBM] [Warning] No further splits with positive gain, best gain: -inf\n",
            "[LightGBM] [Warning] No further splits with positive gain, best gain: -inf\n",
            "[LightGBM] [Warning] No further splits with positive gain, best gain: -inf\n",
            "[LightGBM] [Warning] No further splits with positive gain, best gain: -inf\n",
            "[LightGBM] [Warning] No further splits with positive gain, best gain: -inf\n",
            "[LightGBM] [Warning] No further splits with positive gain, best gain: -inf\n",
            "[LightGBM] [Warning] No further splits with positive gain, best gain: -inf\n",
            "[LightGBM] [Warning] No further splits with positive gain, best gain: -inf\n",
            "[LightGBM] [Warning] No further splits with positive gain, best gain: -inf\n",
            "[LightGBM] [Warning] No further splits with positive gain, best gain: -inf\n",
            "[LightGBM] [Warning] No further splits with positive gain, best gain: -inf\n",
            "[LightGBM] [Warning] No further splits with positive gain, best gain: -inf\n",
            "[LightGBM] [Warning] No further splits with positive gain, best gain: -inf\n",
            "[LightGBM] [Warning] No further splits with positive gain, best gain: -inf\n",
            "[LightGBM] [Warning] No further splits with positive gain, best gain: -inf\n",
            "[LightGBM] [Warning] No further splits with positive gain, best gain: -inf\n",
            "[LightGBM] [Warning] No further splits with positive gain, best gain: -inf\n",
            "[LightGBM] [Warning] No further splits with positive gain, best gain: -inf\n",
            "[LightGBM] [Warning] No further splits with positive gain, best gain: -inf\n",
            "[LightGBM] [Warning] No further splits with positive gain, best gain: -inf\n",
            "[LightGBM] [Warning] No further splits with positive gain, best gain: -inf\n",
            "[LightGBM] [Warning] No further splits with positive gain, best gain: -inf\n",
            "[LightGBM] [Warning] No further splits with positive gain, best gain: -inf\n",
            "[LightGBM] [Warning] No further splits with positive gain, best gain: -inf\n",
            "[LightGBM] [Warning] No further splits with positive gain, best gain: -inf\n",
            "[LightGBM] [Warning] No further splits with positive gain, best gain: -inf\n",
            "[LightGBM] [Warning] No further splits with positive gain, best gain: -inf\n",
            "[LightGBM] [Warning] No further splits with positive gain, best gain: -inf\n",
            "[LightGBM] [Warning] No further splits with positive gain, best gain: -inf\n",
            "[LightGBM] [Warning] No further splits with positive gain, best gain: -inf\n",
            "[LightGBM] [Warning] No further splits with positive gain, best gain: -inf\n",
            "[LightGBM] [Warning] No further splits with positive gain, best gain: -inf\n",
            "[LightGBM] [Warning] No further splits with positive gain, best gain: -inf\n",
            "[LightGBM] [Warning] No further splits with positive gain, best gain: -inf\n",
            "[LightGBM] [Warning] No further splits with positive gain, best gain: -inf\n",
            "[LightGBM] [Warning] No further splits with positive gain, best gain: -inf\n",
            "[LightGBM] [Warning] No further splits with positive gain, best gain: -inf\n",
            "[LightGBM] [Warning] No further splits with positive gain, best gain: -inf\n",
            "[LightGBM] [Warning] No further splits with positive gain, best gain: -inf\n",
            "[LightGBM] [Warning] No further splits with positive gain, best gain: -inf\n",
            "[LightGBM] [Warning] No further splits with positive gain, best gain: -inf\n",
            "[LightGBM] [Warning] No further splits with positive gain, best gain: -inf\n",
            "[LightGBM] [Warning] No further splits with positive gain, best gain: -inf\n",
            "[LightGBM] [Warning] No further splits with positive gain, best gain: -inf\n",
            "[LightGBM] [Warning] No further splits with positive gain, best gain: -inf\n",
            "[LightGBM] [Warning] No further splits with positive gain, best gain: -inf\n",
            "[LightGBM] [Warning] No further splits with positive gain, best gain: -inf\n",
            "[LightGBM] [Warning] No further splits with positive gain, best gain: -inf\n",
            "[LightGBM] [Warning] No further splits with positive gain, best gain: -inf\n",
            "[LightGBM] [Warning] No further splits with positive gain, best gain: -inf\n",
            "[LightGBM] [Warning] No further splits with positive gain, best gain: -inf\n",
            "[LightGBM] [Warning] No further splits with positive gain, best gain: -inf\n",
            "[LightGBM] [Warning] No further splits with positive gain, best gain: -inf\n",
            "[LightGBM] [Warning] No further splits with positive gain, best gain: -inf\n",
            "[LightGBM] [Warning] No further splits with positive gain, best gain: -inf\n",
            "[LightGBM] [Warning] No further splits with positive gain, best gain: -inf\n",
            "[LightGBM] [Warning] No further splits with positive gain, best gain: -inf\n",
            "[LightGBM] [Warning] No further splits with positive gain, best gain: -inf\n",
            "[LightGBM] [Warning] No further splits with positive gain, best gain: -inf\n",
            "[LightGBM] [Warning] No further splits with positive gain, best gain: -inf\n",
            "[LightGBM] [Warning] No further splits with positive gain, best gain: -inf\n",
            "[LightGBM] [Warning] No further splits with positive gain, best gain: -inf\n",
            "[LightGBM] [Warning] No further splits with positive gain, best gain: -inf\n",
            "[LightGBM] [Warning] No further splits with positive gain, best gain: -inf\n",
            "[LightGBM] [Warning] No further splits with positive gain, best gain: -inf\n",
            "[LightGBM] [Warning] No further splits with positive gain, best gain: -inf\n",
            "[LightGBM] [Warning] No further splits with positive gain, best gain: -inf\n",
            "[LightGBM] [Warning] No further splits with positive gain, best gain: -inf\n",
            "[LightGBM] [Warning] No further splits with positive gain, best gain: -inf\n",
            "[LightGBM] [Warning] No further splits with positive gain, best gain: -inf\n",
            "[LightGBM] [Warning] No further splits with positive gain, best gain: -inf\n",
            "[LightGBM] [Warning] No further splits with positive gain, best gain: -inf\n",
            "[LightGBM] [Warning] No further splits with positive gain, best gain: -inf\n",
            "[LightGBM] [Warning] No further splits with positive gain, best gain: -inf\n",
            "[LightGBM] [Warning] No further splits with positive gain, best gain: -inf\n",
            "[LightGBM] [Warning] No further splits with positive gain, best gain: -inf\n",
            "[LightGBM] [Warning] No further splits with positive gain, best gain: -inf\n",
            "[LightGBM] [Warning] No further splits with positive gain, best gain: -inf\n",
            "[LightGBM] [Warning] No further splits with positive gain, best gain: -inf\n",
            "[LightGBM] [Warning] No further splits with positive gain, best gain: -inf\n",
            "[LightGBM] [Warning] No further splits with positive gain, best gain: -inf\n",
            "[LightGBM] [Warning] No further splits with positive gain, best gain: -inf\n",
            "[LightGBM] [Warning] No further splits with positive gain, best gain: -inf\n",
            "[LightGBM] [Warning] No further splits with positive gain, best gain: -inf\n",
            "[LightGBM] [Warning] No further splits with positive gain, best gain: -inf\n",
            "[LightGBM] [Warning] No further splits with positive gain, best gain: -inf\n",
            "[LightGBM] [Warning] No further splits with positive gain, best gain: -inf\n",
            "[LightGBM] [Warning] No further splits with positive gain, best gain: -inf\n",
            "[LightGBM] [Warning] No further splits with positive gain, best gain: -inf\n",
            "[LightGBM] [Warning] No further splits with positive gain, best gain: -inf\n",
            "[LightGBM] [Warning] No further splits with positive gain, best gain: -inf\n",
            "[LightGBM] [Warning] No further splits with positive gain, best gain: -inf\n",
            "[LightGBM] [Warning] No further splits with positive gain, best gain: -inf\n",
            "[LightGBM] [Warning] No further splits with positive gain, best gain: -inf\n",
            "[LightGBM] [Warning] No further splits with positive gain, best gain: -inf\n",
            "[LightGBM] [Warning] No further splits with positive gain, best gain: -inf\n",
            "[LightGBM] [Warning] No further splits with positive gain, best gain: -inf\n",
            "[LightGBM] [Warning] No further splits with positive gain, best gain: -inf\n",
            "[LightGBM] [Warning] No further splits with positive gain, best gain: -inf\n",
            "[LightGBM] [Warning] No further splits with positive gain, best gain: -inf\n",
            "[LightGBM] [Warning] No further splits with positive gain, best gain: -inf\n",
            "[LightGBM] [Warning] No further splits with positive gain, best gain: -inf\n",
            "[LightGBM] [Warning] No further splits with positive gain, best gain: -inf\n",
            "[LightGBM] [Warning] No further splits with positive gain, best gain: -inf\n",
            "[LightGBM] [Warning] No further splits with positive gain, best gain: -inf\n",
            "[LightGBM] [Warning] No further splits with positive gain, best gain: -inf\n",
            "[LightGBM] [Warning] No further splits with positive gain, best gain: -inf\n",
            "[LightGBM] [Warning] No further splits with positive gain, best gain: -inf\n",
            "[LightGBM] [Warning] No further splits with positive gain, best gain: -inf\n",
            "[LightGBM] [Warning] No further splits with positive gain, best gain: -inf\n",
            "[LightGBM] [Warning] No further splits with positive gain, best gain: -inf\n",
            "[LightGBM] [Warning] No further splits with positive gain, best gain: -inf\n",
            "[LightGBM] [Warning] No further splits with positive gain, best gain: -inf\n",
            "[LightGBM] [Warning] No further splits with positive gain, best gain: -inf\n",
            "[LightGBM] [Warning] No further splits with positive gain, best gain: -inf\n",
            "[LightGBM] [Warning] No further splits with positive gain, best gain: -inf\n",
            "[LightGBM] [Warning] No further splits with positive gain, best gain: -inf\n",
            "[LightGBM] [Warning] No further splits with positive gain, best gain: -inf\n",
            "[LightGBM] [Warning] No further splits with positive gain, best gain: -inf\n",
            "[LightGBM] [Warning] No further splits with positive gain, best gain: -inf\n",
            "[LightGBM] [Warning] No further splits with positive gain, best gain: -inf\n",
            "[LightGBM] [Warning] No further splits with positive gain, best gain: -inf\n",
            "[LightGBM] [Warning] No further splits with positive gain, best gain: -inf\n",
            "[LightGBM] [Warning] No further splits with positive gain, best gain: -inf\n",
            "[LightGBM] [Warning] No further splits with positive gain, best gain: -inf\n",
            "[LightGBM] [Warning] No further splits with positive gain, best gain: -inf\n",
            "[LightGBM] [Warning] No further splits with positive gain, best gain: -inf\n",
            "[LightGBM] [Warning] No further splits with positive gain, best gain: -inf\n",
            "[LightGBM] [Warning] No further splits with positive gain, best gain: -inf\n",
            "[LightGBM] [Warning] No further splits with positive gain, best gain: -inf\n",
            "[LightGBM] [Warning] No further splits with positive gain, best gain: -inf\n",
            "[LightGBM] [Warning] No further splits with positive gain, best gain: -inf\n",
            "[LightGBM] [Warning] No further splits with positive gain, best gain: -inf\n",
            "[LightGBM] [Warning] No further splits with positive gain, best gain: -inf\n",
            "[LightGBM] [Warning] No further splits with positive gain, best gain: -inf\n",
            "[LightGBM] [Warning] No further splits with positive gain, best gain: -inf\n",
            "[LightGBM] [Warning] No further splits with positive gain, best gain: -inf\n",
            "[LightGBM] [Warning] No further splits with positive gain, best gain: -inf\n",
            "[LightGBM] [Warning] No further splits with positive gain, best gain: -inf\n",
            "[LightGBM] [Warning] No further splits with positive gain, best gain: -inf\n",
            "[LightGBM] [Warning] No further splits with positive gain, best gain: -inf\n",
            "[LightGBM] [Warning] No further splits with positive gain, best gain: -inf\n",
            "[LightGBM] [Warning] No further splits with positive gain, best gain: -inf\n",
            "[LightGBM] [Warning] No further splits with positive gain, best gain: -inf\n",
            "[LightGBM] [Warning] No further splits with positive gain, best gain: -inf\n",
            "[LightGBM] [Warning] No further splits with positive gain, best gain: -inf\n",
            "[LightGBM] [Warning] No further splits with positive gain, best gain: -inf\n",
            "[LightGBM] [Warning] No further splits with positive gain, best gain: -inf\n",
            "[LightGBM] [Warning] No further splits with positive gain, best gain: -inf\n",
            "[LightGBM] [Warning] No further splits with positive gain, best gain: -inf\n",
            "[LightGBM] [Warning] No further splits with positive gain, best gain: -inf\n",
            "[LightGBM] [Warning] No further splits with positive gain, best gain: -inf\n",
            "[LightGBM] [Warning] No further splits with positive gain, best gain: -inf\n",
            "[LightGBM] [Warning] No further splits with positive gain, best gain: -inf\n",
            "[LightGBM] [Warning] No further splits with positive gain, best gain: -inf\n",
            "[LightGBM] [Warning] No further splits with positive gain, best gain: -inf\n",
            "[LightGBM] [Warning] No further splits with positive gain, best gain: -inf\n",
            "[LightGBM] [Warning] No further splits with positive gain, best gain: -inf\n",
            "[LightGBM] [Warning] No further splits with positive gain, best gain: -inf\n",
            "[LightGBM] [Warning] No further splits with positive gain, best gain: -inf\n",
            "[LightGBM] [Warning] No further splits with positive gain, best gain: -inf\n",
            "[LightGBM] [Warning] No further splits with positive gain, best gain: -inf\n",
            "[LightGBM] [Warning] No further splits with positive gain, best gain: -inf\n",
            "[LightGBM] [Warning] No further splits with positive gain, best gain: -inf\n",
            "[LightGBM] [Warning] No further splits with positive gain, best gain: -inf\n",
            "[LightGBM] [Warning] No further splits with positive gain, best gain: -inf\n",
            "[LightGBM] [Warning] No further splits with positive gain, best gain: -inf\n",
            "[LightGBM] [Warning] No further splits with positive gain, best gain: -inf\n",
            "[LightGBM] [Warning] No further splits with positive gain, best gain: -inf\n",
            "[LightGBM] [Warning] No further splits with positive gain, best gain: -inf\n",
            "[LightGBM] [Warning] No further splits with positive gain, best gain: -inf\n",
            "[LightGBM] [Warning] No further splits with positive gain, best gain: -inf\n",
            "[LightGBM] [Warning] No further splits with positive gain, best gain: -inf\n",
            "[LightGBM] [Warning] No further splits with positive gain, best gain: -inf\n",
            "[LightGBM] [Warning] No further splits with positive gain, best gain: -inf\n",
            "[LightGBM] [Warning] No further splits with positive gain, best gain: -inf\n",
            "[LightGBM] [Warning] No further splits with positive gain, best gain: -inf\n",
            "[LightGBM] [Warning] No further splits with positive gain, best gain: -inf\n",
            "[LightGBM] [Warning] No further splits with positive gain, best gain: -inf\n",
            "[LightGBM] [Warning] No further splits with positive gain, best gain: -inf\n",
            "[LightGBM] [Warning] No further splits with positive gain, best gain: -inf\n",
            "[LightGBM] [Warning] No further splits with positive gain, best gain: -inf\n",
            "[LightGBM] [Warning] No further splits with positive gain, best gain: -inf\n",
            "[LightGBM] [Warning] No further splits with positive gain, best gain: -inf\n",
            "[LightGBM] [Warning] No further splits with positive gain, best gain: -inf\n",
            "[LightGBM] [Warning] No further splits with positive gain, best gain: -inf\n",
            "[LightGBM] [Warning] No further splits with positive gain, best gain: -inf\n",
            "[LightGBM] [Warning] No further splits with positive gain, best gain: -inf\n",
            "[LightGBM] [Warning] No further splits with positive gain, best gain: -inf\n",
            "[LightGBM] [Warning] No further splits with positive gain, best gain: -inf\n",
            "[LightGBM] [Warning] No further splits with positive gain, best gain: -inf\n",
            "[LightGBM] [Warning] No further splits with positive gain, best gain: -inf\n",
            "[LightGBM] [Warning] No further splits with positive gain, best gain: -inf\n",
            "[LightGBM] [Warning] No further splits with positive gain, best gain: -inf\n",
            "[LightGBM] [Warning] No further splits with positive gain, best gain: -inf\n",
            "[LightGBM] [Warning] No further splits with positive gain, best gain: -inf\n",
            "[LightGBM] [Warning] No further splits with positive gain, best gain: -inf\n",
            "[LightGBM] [Warning] No further splits with positive gain, best gain: -inf\n",
            "[LightGBM] [Warning] No further splits with positive gain, best gain: -inf\n",
            "[LightGBM] [Warning] No further splits with positive gain, best gain: -inf\n",
            "[LightGBM] [Warning] No further splits with positive gain, best gain: -inf\n",
            "[LightGBM] [Warning] No further splits with positive gain, best gain: -inf\n",
            "[LightGBM] [Warning] No further splits with positive gain, best gain: -inf\n",
            "[LightGBM] [Warning] No further splits with positive gain, best gain: -inf\n",
            "[LightGBM] [Warning] No further splits with positive gain, best gain: -inf\n",
            "[LightGBM] [Warning] No further splits with positive gain, best gain: -inf\n",
            "[LightGBM] [Warning] No further splits with positive gain, best gain: -inf\n",
            "[LightGBM] [Warning] No further splits with positive gain, best gain: -inf\n",
            "[LightGBM] [Warning] No further splits with positive gain, best gain: -inf\n",
            "[LightGBM] [Warning] No further splits with positive gain, best gain: -inf\n",
            "[LightGBM] [Warning] No further splits with positive gain, best gain: -inf\n",
            "[LightGBM] [Warning] No further splits with positive gain, best gain: -inf\n",
            "[LightGBM] [Warning] No further splits with positive gain, best gain: -inf\n",
            "[LightGBM] [Warning] No further splits with positive gain, best gain: -inf\n",
            "[LightGBM] [Warning] No further splits with positive gain, best gain: -inf\n",
            "[LightGBM] [Warning] No further splits with positive gain, best gain: -inf\n",
            "[LightGBM] [Warning] No further splits with positive gain, best gain: -inf\n",
            "[LightGBM] [Warning] No further splits with positive gain, best gain: -inf\n",
            "[LightGBM] [Warning] No further splits with positive gain, best gain: -inf\n",
            "[LightGBM] [Warning] No further splits with positive gain, best gain: -inf\n",
            "[LightGBM] [Warning] No further splits with positive gain, best gain: -inf\n",
            "[LightGBM] [Warning] No further splits with positive gain, best gain: -inf\n",
            "[LightGBM] [Warning] No further splits with positive gain, best gain: -inf\n",
            "[LightGBM] [Warning] No further splits with positive gain, best gain: -inf\n",
            "[LightGBM] [Warning] No further splits with positive gain, best gain: -inf\n",
            "[LightGBM] [Warning] No further splits with positive gain, best gain: -inf\n",
            "[LightGBM] [Warning] No further splits with positive gain, best gain: -inf\n",
            "[LightGBM] [Warning] No further splits with positive gain, best gain: -inf\n",
            "[LightGBM] [Warning] No further splits with positive gain, best gain: -inf\n",
            "[LightGBM] [Warning] No further splits with positive gain, best gain: -inf\n",
            "[LightGBM] [Warning] No further splits with positive gain, best gain: -inf\n",
            "[LightGBM] [Warning] No further splits with positive gain, best gain: -inf\n",
            "[LightGBM] [Warning] No further splits with positive gain, best gain: -inf\n",
            "[LightGBM] [Warning] No further splits with positive gain, best gain: -inf\n",
            "[LightGBM] [Warning] No further splits with positive gain, best gain: -inf\n",
            "[LightGBM] [Warning] No further splits with positive gain, best gain: -inf\n",
            "[LightGBM] [Warning] No further splits with positive gain, best gain: -inf\n",
            "[LightGBM] [Warning] No further splits with positive gain, best gain: -inf\n",
            "[LightGBM] [Warning] No further splits with positive gain, best gain: -inf\n",
            "[LightGBM] [Warning] No further splits with positive gain, best gain: -inf\n",
            "[LightGBM] [Warning] No further splits with positive gain, best gain: -inf\n",
            "[LightGBM] [Warning] No further splits with positive gain, best gain: -inf\n",
            "[LightGBM] [Warning] No further splits with positive gain, best gain: -inf\n",
            "[LightGBM] [Warning] No further splits with positive gain, best gain: -inf\n",
            "[LightGBM] [Warning] No further splits with positive gain, best gain: -inf\n",
            "[LightGBM] [Warning] No further splits with positive gain, best gain: -inf\n",
            "[LightGBM] [Warning] No further splits with positive gain, best gain: -inf\n",
            "[LightGBM] [Warning] No further splits with positive gain, best gain: -inf\n",
            "[LightGBM] [Warning] No further splits with positive gain, best gain: -inf\n",
            "[LightGBM] [Warning] No further splits with positive gain, best gain: -inf\n",
            "[LightGBM] [Warning] No further splits with positive gain, best gain: -inf\n",
            "[LightGBM] [Warning] No further splits with positive gain, best gain: -inf\n",
            "[LightGBM] [Warning] No further splits with positive gain, best gain: -inf\n",
            "[LightGBM] [Warning] No further splits with positive gain, best gain: -inf\n",
            "[LightGBM] [Warning] No further splits with positive gain, best gain: -inf\n",
            "[LightGBM] [Warning] No further splits with positive gain, best gain: -inf\n",
            "[LightGBM] [Warning] No further splits with positive gain, best gain: -inf\n",
            "[LightGBM] [Warning] No further splits with positive gain, best gain: -inf\n",
            "[LightGBM] [Warning] No further splits with positive gain, best gain: -inf\n",
            "[LightGBM] [Warning] No further splits with positive gain, best gain: -inf\n",
            "[LightGBM] [Warning] No further splits with positive gain, best gain: -inf\n",
            "[LightGBM] [Warning] No further splits with positive gain, best gain: -inf\n",
            "[LightGBM] [Warning] No further splits with positive gain, best gain: -inf\n",
            "[LightGBM] [Warning] No further splits with positive gain, best gain: -inf\n",
            "[LightGBM] [Warning] No further splits with positive gain, best gain: -inf\n",
            "[LightGBM] [Warning] No further splits with positive gain, best gain: -inf\n",
            "[LightGBM] [Warning] No further splits with positive gain, best gain: -inf\n",
            "[LightGBM] [Warning] No further splits with positive gain, best gain: -inf\n",
            "[LightGBM] [Warning] No further splits with positive gain, best gain: -inf\n",
            "[LightGBM] [Warning] No further splits with positive gain, best gain: -inf\n",
            "[LightGBM] [Warning] No further splits with positive gain, best gain: -inf\n",
            "[LightGBM] [Warning] No further splits with positive gain, best gain: -inf\n",
            "[LightGBM] [Warning] No further splits with positive gain, best gain: -inf\n",
            "[LightGBM] [Warning] No further splits with positive gain, best gain: -inf\n",
            "[LightGBM] [Warning] No further splits with positive gain, best gain: -inf\n",
            "[LightGBM] [Warning] No further splits with positive gain, best gain: -inf\n",
            "[LightGBM] [Warning] No further splits with positive gain, best gain: -inf\n",
            "[LightGBM] [Warning] No further splits with positive gain, best gain: -inf\n",
            "[LightGBM] [Warning] No further splits with positive gain, best gain: -inf\n",
            "[LightGBM] [Warning] No further splits with positive gain, best gain: -inf\n",
            "[LightGBM] [Warning] No further splits with positive gain, best gain: -inf\n",
            "[LightGBM] [Warning] No further splits with positive gain, best gain: -inf\n",
            "[LightGBM] [Warning] No further splits with positive gain, best gain: -inf\n",
            "[LightGBM] [Warning] No further splits with positive gain, best gain: -inf\n",
            "[LightGBM] [Warning] No further splits with positive gain, best gain: -inf\n",
            "[LightGBM] [Warning] No further splits with positive gain, best gain: -inf\n",
            "[LightGBM] [Warning] No further splits with positive gain, best gain: -inf\n",
            "[LightGBM] [Warning] No further splits with positive gain, best gain: -inf\n",
            "[LightGBM] [Warning] No further splits with positive gain, best gain: -inf\n",
            "[LightGBM] [Warning] No further splits with positive gain, best gain: -inf\n",
            "[LightGBM] [Warning] No further splits with positive gain, best gain: -inf\n",
            "[LightGBM] [Warning] No further splits with positive gain, best gain: -inf\n",
            "[LightGBM] [Warning] No further splits with positive gain, best gain: -inf\n",
            "[LightGBM] [Warning] No further splits with positive gain, best gain: -inf\n",
            "[LightGBM] [Warning] No further splits with positive gain, best gain: -inf\n",
            "[LightGBM] [Warning] No further splits with positive gain, best gain: -inf\n",
            "[LightGBM] [Warning] No further splits with positive gain, best gain: -inf\n",
            "[LightGBM] [Warning] No further splits with positive gain, best gain: -inf\n",
            "[LightGBM] [Warning] No further splits with positive gain, best gain: -inf\n",
            "[LightGBM] [Warning] No further splits with positive gain, best gain: -inf\n",
            "[LightGBM] [Warning] No further splits with positive gain, best gain: -inf\n",
            "[LightGBM] [Warning] No further splits with positive gain, best gain: -inf\n",
            "[LightGBM] [Warning] No further splits with positive gain, best gain: -inf\n",
            "[LightGBM] [Warning] No further splits with positive gain, best gain: -inf\n",
            "[LightGBM] [Warning] No further splits with positive gain, best gain: -inf\n",
            "[LightGBM] [Warning] No further splits with positive gain, best gain: -inf\n",
            "[LightGBM] [Warning] No further splits with positive gain, best gain: -inf\n",
            "[LightGBM] [Warning] No further splits with positive gain, best gain: -inf\n",
            "[LightGBM] [Warning] No further splits with positive gain, best gain: -inf\n",
            "[LightGBM] [Warning] No further splits with positive gain, best gain: -inf\n",
            "[LightGBM] [Warning] No further splits with positive gain, best gain: -inf\n",
            "[LightGBM] [Warning] No further splits with positive gain, best gain: -inf\n",
            "[LightGBM] [Warning] No further splits with positive gain, best gain: -inf\n",
            "[LightGBM] [Warning] No further splits with positive gain, best gain: -inf\n",
            "[LightGBM] [Warning] No further splits with positive gain, best gain: -inf\n",
            "[LightGBM] [Warning] No further splits with positive gain, best gain: -inf\n",
            "[LightGBM] [Warning] No further splits with positive gain, best gain: -inf\n",
            "[LightGBM] [Warning] No further splits with positive gain, best gain: -inf\n",
            "[LightGBM] [Warning] No further splits with positive gain, best gain: -inf\n",
            "[LightGBM] [Warning] No further splits with positive gain, best gain: -inf\n",
            "[LightGBM] [Warning] No further splits with positive gain, best gain: -inf\n",
            "[LightGBM] [Warning] No further splits with positive gain, best gain: -inf\n",
            "[LightGBM] [Warning] No further splits with positive gain, best gain: -inf\n",
            "[LightGBM] [Warning] No further splits with positive gain, best gain: -inf\n",
            "[LightGBM] [Warning] No further splits with positive gain, best gain: -inf\n",
            "[LightGBM] [Warning] No further splits with positive gain, best gain: -inf\n",
            "[LightGBM] [Warning] No further splits with positive gain, best gain: -inf\n",
            "[LightGBM] [Warning] No further splits with positive gain, best gain: -inf\n",
            "[LightGBM] [Warning] No further splits with positive gain, best gain: -inf\n",
            "[LightGBM] [Warning] No further splits with positive gain, best gain: -inf\n",
            "[LightGBM] [Warning] No further splits with positive gain, best gain: -inf\n",
            "[LightGBM] [Warning] No further splits with positive gain, best gain: -inf\n",
            "[LightGBM] [Warning] No further splits with positive gain, best gain: -inf\n",
            "[LightGBM] [Warning] No further splits with positive gain, best gain: -inf\n",
            "[LightGBM] [Warning] No further splits with positive gain, best gain: -inf\n",
            "[LightGBM] [Warning] No further splits with positive gain, best gain: -inf\n",
            "[LightGBM] [Warning] No further splits with positive gain, best gain: -inf\n",
            "[LightGBM] [Warning] No further splits with positive gain, best gain: -inf\n",
            "[LightGBM] [Warning] No further splits with positive gain, best gain: -inf\n",
            "[LightGBM] [Warning] No further splits with positive gain, best gain: -inf\n",
            "[LightGBM] [Warning] No further splits with positive gain, best gain: -inf\n",
            "[LightGBM] [Warning] No further splits with positive gain, best gain: -inf\n",
            "[LightGBM] [Warning] No further splits with positive gain, best gain: -inf\n",
            "[LightGBM] [Warning] No further splits with positive gain, best gain: -inf\n",
            "[LightGBM] [Warning] No further splits with positive gain, best gain: -inf\n",
            "[LightGBM] [Warning] No further splits with positive gain, best gain: -inf\n",
            "[LightGBM] [Warning] No further splits with positive gain, best gain: -inf\n",
            "[LightGBM] [Warning] No further splits with positive gain, best gain: -inf\n",
            "[LightGBM] [Warning] No further splits with positive gain, best gain: -inf\n",
            "[LightGBM] [Warning] No further splits with positive gain, best gain: -inf\n",
            "[LightGBM] [Warning] No further splits with positive gain, best gain: -inf\n",
            "[LightGBM] [Warning] No further splits with positive gain, best gain: -inf\n",
            "[LightGBM] [Warning] No further splits with positive gain, best gain: -inf\n",
            "[LightGBM] [Warning] No further splits with positive gain, best gain: -inf\n",
            "[LightGBM] [Warning] No further splits with positive gain, best gain: -inf\n",
            "[LightGBM] [Warning] No further splits with positive gain, best gain: -inf\n",
            "[LightGBM] [Warning] No further splits with positive gain, best gain: -inf\n",
            "[LightGBM] [Warning] No further splits with positive gain, best gain: -inf\n",
            "[LightGBM] [Warning] No further splits with positive gain, best gain: -inf\n",
            "[LightGBM] [Warning] No further splits with positive gain, best gain: -inf\n",
            "[LightGBM] [Warning] No further splits with positive gain, best gain: -inf\n",
            "[LightGBM] [Warning] No further splits with positive gain, best gain: -inf\n",
            "[LightGBM] [Warning] No further splits with positive gain, best gain: -inf\n",
            "[LightGBM] [Warning] No further splits with positive gain, best gain: -inf\n",
            "[LightGBM] [Warning] No further splits with positive gain, best gain: -inf\n",
            "[LightGBM] [Warning] No further splits with positive gain, best gain: -inf\n",
            "[LightGBM] [Warning] No further splits with positive gain, best gain: -inf\n",
            "[LightGBM] [Warning] No further splits with positive gain, best gain: -inf\n",
            "[LightGBM] [Warning] No further splits with positive gain, best gain: -inf\n",
            "[LightGBM] [Warning] No further splits with positive gain, best gain: -inf\n",
            "[LightGBM] [Warning] No further splits with positive gain, best gain: -inf\n",
            "[LightGBM] [Warning] No further splits with positive gain, best gain: -inf\n",
            "[LightGBM] [Warning] No further splits with positive gain, best gain: -inf\n",
            "[LightGBM] [Warning] No further splits with positive gain, best gain: -inf\n",
            "[LightGBM] [Warning] No further splits with positive gain, best gain: -inf\n",
            "[LightGBM] [Warning] No further splits with positive gain, best gain: -inf\n",
            "[LightGBM] [Warning] No further splits with positive gain, best gain: -inf\n",
            "[LightGBM] [Warning] No further splits with positive gain, best gain: -inf\n",
            "[LightGBM] [Warning] No further splits with positive gain, best gain: -inf\n",
            "[LightGBM] [Warning] No further splits with positive gain, best gain: -inf\n",
            "[LightGBM] [Warning] No further splits with positive gain, best gain: -inf\n",
            "[LightGBM] [Warning] No further splits with positive gain, best gain: -inf\n",
            "[LightGBM] [Warning] No further splits with positive gain, best gain: -inf\n",
            "[LightGBM] [Warning] No further splits with positive gain, best gain: -inf\n",
            "[LightGBM] [Warning] No further splits with positive gain, best gain: -inf\n",
            "[LightGBM] [Warning] No further splits with positive gain, best gain: -inf\n",
            "[LightGBM] [Warning] No further splits with positive gain, best gain: -inf\n",
            "[LightGBM] [Warning] No further splits with positive gain, best gain: -inf\n",
            "[LightGBM] [Warning] No further splits with positive gain, best gain: -inf\n",
            "[LightGBM] [Warning] No further splits with positive gain, best gain: -inf\n",
            "[LightGBM] [Warning] No further splits with positive gain, best gain: -inf\n",
            "[LightGBM] [Warning] No further splits with positive gain, best gain: -inf\n",
            "[LightGBM] [Warning] No further splits with positive gain, best gain: -inf\n",
            "[LightGBM] [Warning] No further splits with positive gain, best gain: -inf\n",
            "[LightGBM] [Warning] No further splits with positive gain, best gain: -inf\n",
            "[LightGBM] [Warning] No further splits with positive gain, best gain: -inf\n",
            "[LightGBM] [Warning] No further splits with positive gain, best gain: -inf\n",
            "[LightGBM] [Warning] No further splits with positive gain, best gain: -inf\n",
            "[LightGBM] [Warning] No further splits with positive gain, best gain: -inf\n",
            "[LightGBM] [Warning] No further splits with positive gain, best gain: -inf\n",
            "[LightGBM] [Warning] No further splits with positive gain, best gain: -inf\n",
            "[LightGBM] [Warning] No further splits with positive gain, best gain: -inf\n",
            "[LightGBM] [Warning] No further splits with positive gain, best gain: -inf\n",
            "[LightGBM] [Warning] No further splits with positive gain, best gain: -inf\n",
            "[LightGBM] [Warning] No further splits with positive gain, best gain: -inf\n",
            "[LightGBM] [Warning] No further splits with positive gain, best gain: -inf\n",
            "[LightGBM] [Warning] No further splits with positive gain, best gain: -inf\n",
            "[LightGBM] [Warning] No further splits with positive gain, best gain: -inf\n",
            "[LightGBM] [Warning] No further splits with positive gain, best gain: -inf\n",
            "[LightGBM] [Warning] No further splits with positive gain, best gain: -inf\n",
            "[LightGBM] [Warning] No further splits with positive gain, best gain: -inf\n",
            "[LightGBM] [Warning] No further splits with positive gain, best gain: -inf\n",
            "[LightGBM] [Warning] No further splits with positive gain, best gain: -inf\n",
            "[LightGBM] [Warning] No further splits with positive gain, best gain: -inf\n",
            "[LightGBM] [Warning] No further splits with positive gain, best gain: -inf\n",
            "[LightGBM] [Warning] No further splits with positive gain, best gain: -inf\n",
            "[LightGBM] [Warning] No further splits with positive gain, best gain: -inf\n",
            "[LightGBM] [Warning] No further splits with positive gain, best gain: -inf\n",
            "[LightGBM] [Warning] No further splits with positive gain, best gain: -inf\n",
            "[LightGBM] [Warning] No further splits with positive gain, best gain: -inf\n",
            "[LightGBM] [Warning] No further splits with positive gain, best gain: -inf\n",
            "[LightGBM] [Warning] No further splits with positive gain, best gain: -inf\n",
            "[LightGBM] [Warning] No further splits with positive gain, best gain: -inf\n",
            "[LightGBM] [Warning] No further splits with positive gain, best gain: -inf\n",
            "[LightGBM] [Warning] No further splits with positive gain, best gain: -inf\n",
            "[LightGBM] [Warning] No further splits with positive gain, best gain: -inf\n",
            "[LightGBM] [Warning] No further splits with positive gain, best gain: -inf\n",
            "[LightGBM] [Warning] No further splits with positive gain, best gain: -inf\n",
            "[LightGBM] [Warning] No further splits with positive gain, best gain: -inf\n",
            "[LightGBM] [Warning] No further splits with positive gain, best gain: -inf\n",
            "[LightGBM] [Warning] No further splits with positive gain, best gain: -inf\n",
            "[LightGBM] [Warning] No further splits with positive gain, best gain: -inf\n",
            "[LightGBM] [Warning] No further splits with positive gain, best gain: -inf\n",
            "[LightGBM] [Warning] No further splits with positive gain, best gain: -inf\n",
            "[LightGBM] [Warning] No further splits with positive gain, best gain: -inf\n",
            "[LightGBM] [Warning] No further splits with positive gain, best gain: -inf\n",
            "[LightGBM] [Warning] No further splits with positive gain, best gain: -inf\n",
            "[LightGBM] [Warning] No further splits with positive gain, best gain: -inf\n",
            "[LightGBM] [Warning] No further splits with positive gain, best gain: -inf\n",
            "[LightGBM] [Warning] No further splits with positive gain, best gain: -inf\n",
            "[LightGBM] [Warning] No further splits with positive gain, best gain: -inf\n",
            "[LightGBM] [Warning] No further splits with positive gain, best gain: -inf\n",
            "[LightGBM] [Warning] No further splits with positive gain, best gain: -inf\n",
            "[LightGBM] [Warning] No further splits with positive gain, best gain: -inf\n",
            "[LightGBM] [Warning] No further splits with positive gain, best gain: -inf\n",
            "[LightGBM] [Warning] No further splits with positive gain, best gain: -inf\n",
            "[LightGBM] [Warning] No further splits with positive gain, best gain: -inf\n",
            "[LightGBM] [Warning] No further splits with positive gain, best gain: -inf\n",
            "[LightGBM] [Warning] No further splits with positive gain, best gain: -inf\n",
            "[LightGBM] [Warning] No further splits with positive gain, best gain: -inf\n",
            "[LightGBM] [Warning] No further splits with positive gain, best gain: -inf\n",
            "[LightGBM] [Warning] No further splits with positive gain, best gain: -inf\n",
            "[LightGBM] [Warning] No further splits with positive gain, best gain: -inf\n",
            "[LightGBM] [Warning] No further splits with positive gain, best gain: -inf\n",
            "[LightGBM] [Warning] No further splits with positive gain, best gain: -inf\n",
            "[LightGBM] [Warning] No further splits with positive gain, best gain: -inf\n",
            "[LightGBM] [Warning] No further splits with positive gain, best gain: -inf\n",
            "[LightGBM] [Warning] No further splits with positive gain, best gain: -inf\n",
            "[LightGBM] [Warning] No further splits with positive gain, best gain: -inf\n",
            "[LightGBM] [Warning] No further splits with positive gain, best gain: -inf\n",
            "[LightGBM] [Warning] No further splits with positive gain, best gain: -inf\n",
            "[LightGBM] [Warning] No further splits with positive gain, best gain: -inf\n",
            "[LightGBM] [Warning] No further splits with positive gain, best gain: -inf\n",
            "[LightGBM] [Warning] No further splits with positive gain, best gain: -inf\n",
            "[LightGBM] [Warning] No further splits with positive gain, best gain: -inf\n",
            "[LightGBM] [Warning] No further splits with positive gain, best gain: -inf\n",
            "[LightGBM] [Warning] No further splits with positive gain, best gain: -inf\n",
            "[LightGBM] [Warning] No further splits with positive gain, best gain: -inf\n",
            "[LightGBM] [Warning] No further splits with positive gain, best gain: -inf\n",
            "[LightGBM] [Warning] No further splits with positive gain, best gain: -inf\n",
            "[LightGBM] [Warning] No further splits with positive gain, best gain: -inf\n",
            "[LightGBM] [Warning] No further splits with positive gain, best gain: -inf\n",
            "[LightGBM] [Warning] No further splits with positive gain, best gain: -inf\n",
            "[LightGBM] [Warning] No further splits with positive gain, best gain: -inf\n",
            "[LightGBM] [Warning] No further splits with positive gain, best gain: -inf\n",
            "[LightGBM] [Warning] No further splits with positive gain, best gain: -inf\n",
            "[LightGBM] [Warning] No further splits with positive gain, best gain: -inf\n",
            "[LightGBM] [Warning] No further splits with positive gain, best gain: -inf\n",
            "[LightGBM] [Warning] No further splits with positive gain, best gain: -inf\n",
            "[LightGBM] [Warning] No further splits with positive gain, best gain: -inf\n",
            "[LightGBM] [Warning] No further splits with positive gain, best gain: -inf\n",
            "[LightGBM] [Warning] No further splits with positive gain, best gain: -inf\n",
            "[LightGBM] [Warning] No further splits with positive gain, best gain: -inf\n",
            "[LightGBM] [Warning] No further splits with positive gain, best gain: -inf\n",
            "[LightGBM] [Warning] No further splits with positive gain, best gain: -inf\n",
            "[LightGBM] [Warning] No further splits with positive gain, best gain: -inf\n",
            "[LightGBM] [Warning] No further splits with positive gain, best gain: -inf\n",
            "[LightGBM] [Warning] No further splits with positive gain, best gain: -inf\n",
            "[LightGBM] [Warning] No further splits with positive gain, best gain: -inf\n",
            "[LightGBM] [Warning] No further splits with positive gain, best gain: -inf\n",
            "[LightGBM] [Warning] No further splits with positive gain, best gain: -inf\n",
            "[LightGBM] [Warning] No further splits with positive gain, best gain: -inf\n",
            "[LightGBM] [Warning] No further splits with positive gain, best gain: -inf\n",
            "[LightGBM] [Warning] No further splits with positive gain, best gain: -inf\n",
            "[LightGBM] [Warning] No further splits with positive gain, best gain: -inf\n",
            "[LightGBM] [Warning] No further splits with positive gain, best gain: -inf\n",
            "[LightGBM] [Warning] No further splits with positive gain, best gain: -inf\n",
            "[LightGBM] [Warning] No further splits with positive gain, best gain: -inf\n",
            "[LightGBM] [Warning] No further splits with positive gain, best gain: -inf\n",
            "[LightGBM] [Warning] No further splits with positive gain, best gain: -inf\n",
            "[LightGBM] [Warning] No further splits with positive gain, best gain: -inf\n",
            "[LightGBM] [Warning] No further splits with positive gain, best gain: -inf\n",
            "[LightGBM] [Warning] No further splits with positive gain, best gain: -inf\n",
            "[LightGBM] [Warning] No further splits with positive gain, best gain: -inf\n",
            "[LightGBM] [Warning] No further splits with positive gain, best gain: -inf\n",
            "[LightGBM] [Warning] No further splits with positive gain, best gain: -inf\n",
            "[LightGBM] [Warning] No further splits with positive gain, best gain: -inf\n",
            "[LightGBM] [Warning] No further splits with positive gain, best gain: -inf\n",
            "[LightGBM] [Warning] No further splits with positive gain, best gain: -inf\n",
            "[LightGBM] [Warning] No further splits with positive gain, best gain: -inf\n",
            "[LightGBM] [Warning] No further splits with positive gain, best gain: -inf\n",
            "[LightGBM] [Warning] No further splits with positive gain, best gain: -inf\n",
            "[LightGBM] [Warning] No further splits with positive gain, best gain: -inf\n",
            "[LightGBM] [Warning] No further splits with positive gain, best gain: -inf\n",
            "[LightGBM] [Warning] No further splits with positive gain, best gain: -inf\n",
            "[LightGBM] [Warning] No further splits with positive gain, best gain: -inf\n",
            "[LightGBM] [Warning] No further splits with positive gain, best gain: -inf\n",
            "[LightGBM] [Warning] No further splits with positive gain, best gain: -inf\n",
            "[LightGBM] [Warning] No further splits with positive gain, best gain: -inf\n",
            "[LightGBM] [Warning] No further splits with positive gain, best gain: -inf\n",
            "[LightGBM] [Warning] No further splits with positive gain, best gain: -inf\n",
            "[LightGBM] [Warning] No further splits with positive gain, best gain: -inf\n",
            "[LightGBM] [Warning] No further splits with positive gain, best gain: -inf\n",
            "[LightGBM] [Warning] No further splits with positive gain, best gain: -inf\n",
            "[LightGBM] [Warning] No further splits with positive gain, best gain: -inf\n",
            "[LightGBM] [Warning] No further splits with positive gain, best gain: -inf\n",
            "[LightGBM] [Warning] No further splits with positive gain, best gain: -inf\n",
            "[LightGBM] [Warning] No further splits with positive gain, best gain: -inf\n",
            "[LightGBM] [Warning] No further splits with positive gain, best gain: -inf\n",
            "[LightGBM] [Warning] No further splits with positive gain, best gain: -inf\n",
            "[LightGBM] [Warning] No further splits with positive gain, best gain: -inf\n",
            "[LightGBM] [Warning] No further splits with positive gain, best gain: -inf\n",
            "[LightGBM] [Warning] No further splits with positive gain, best gain: -inf\n",
            "[LightGBM] [Warning] No further splits with positive gain, best gain: -inf\n",
            "[LightGBM] [Warning] No further splits with positive gain, best gain: -inf\n",
            "[LightGBM] [Warning] No further splits with positive gain, best gain: -inf\n",
            "[LightGBM] [Warning] No further splits with positive gain, best gain: -inf\n",
            "[LightGBM] [Warning] No further splits with positive gain, best gain: -inf\n",
            "[LightGBM] [Warning] No further splits with positive gain, best gain: -inf\n",
            "[LightGBM] [Warning] No further splits with positive gain, best gain: -inf\n",
            "[LightGBM] [Warning] No further splits with positive gain, best gain: -inf\n",
            "[LightGBM] [Warning] No further splits with positive gain, best gain: -inf\n",
            "[LightGBM] [Warning] No further splits with positive gain, best gain: -inf\n",
            "[LightGBM] [Warning] No further splits with positive gain, best gain: -inf\n",
            "[LightGBM] [Warning] No further splits with positive gain, best gain: -inf\n",
            "[LightGBM] [Warning] No further splits with positive gain, best gain: -inf\n",
            "[LightGBM] [Warning] No further splits with positive gain, best gain: -inf\n",
            "[LightGBM] [Warning] No further splits with positive gain, best gain: -inf\n",
            "[LightGBM] [Warning] No further splits with positive gain, best gain: -inf\n",
            "[LightGBM] [Warning] No further splits with positive gain, best gain: -inf\n",
            "[LightGBM] [Warning] No further splits with positive gain, best gain: -inf\n",
            "[LightGBM] [Warning] No further splits with positive gain, best gain: -inf\n",
            "[LightGBM] [Warning] No further splits with positive gain, best gain: -inf\n",
            "[LightGBM] [Warning] No further splits with positive gain, best gain: -inf\n",
            "[LightGBM] [Warning] No further splits with positive gain, best gain: -inf\n",
            "[LightGBM] [Warning] No further splits with positive gain, best gain: -inf\n",
            "[LightGBM] [Warning] No further splits with positive gain, best gain: -inf\n",
            "[LightGBM] [Warning] No further splits with positive gain, best gain: -inf\n",
            "[LightGBM] [Warning] No further splits with positive gain, best gain: -inf\n",
            "[LightGBM] [Warning] No further splits with positive gain, best gain: -inf\n",
            "[LightGBM] [Warning] No further splits with positive gain, best gain: -inf\n",
            "[LightGBM] [Warning] No further splits with positive gain, best gain: -inf\n",
            "[LightGBM] [Warning] No further splits with positive gain, best gain: -inf\n",
            "[LightGBM] [Warning] No further splits with positive gain, best gain: -inf\n",
            "[LightGBM] [Warning] No further splits with positive gain, best gain: -inf\n",
            "[LightGBM] [Warning] No further splits with positive gain, best gain: -inf\n",
            "[LightGBM] [Warning] No further splits with positive gain, best gain: -inf\n",
            "[LightGBM] [Warning] No further splits with positive gain, best gain: -inf\n",
            "[LightGBM] [Warning] No further splits with positive gain, best gain: -inf\n",
            "[LightGBM] [Warning] No further splits with positive gain, best gain: -inf\n",
            "[LightGBM] [Warning] No further splits with positive gain, best gain: -inf\n",
            "[LightGBM] [Warning] No further splits with positive gain, best gain: -inf\n",
            "[LightGBM] [Warning] No further splits with positive gain, best gain: -inf\n",
            "[LightGBM] [Warning] No further splits with positive gain, best gain: -inf\n",
            "[LightGBM] [Warning] No further splits with positive gain, best gain: -inf\n",
            "[LightGBM] [Warning] No further splits with positive gain, best gain: -inf\n",
            "[LightGBM] [Warning] No further splits with positive gain, best gain: -inf\n",
            "[LightGBM] [Warning] No further splits with positive gain, best gain: -inf\n",
            "[LightGBM] [Warning] No further splits with positive gain, best gain: -inf\n",
            "[LightGBM] [Warning] No further splits with positive gain, best gain: -inf\n",
            "[LightGBM] [Warning] No further splits with positive gain, best gain: -inf\n",
            "[LightGBM] [Warning] No further splits with positive gain, best gain: -inf\n",
            "[LightGBM] [Warning] No further splits with positive gain, best gain: -inf\n",
            "[LightGBM] [Warning] No further splits with positive gain, best gain: -inf\n",
            "[LightGBM] [Warning] No further splits with positive gain, best gain: -inf\n",
            "[LightGBM] [Warning] No further splits with positive gain, best gain: -inf\n",
            "[LightGBM] [Warning] No further splits with positive gain, best gain: -inf\n",
            "[LightGBM] [Warning] No further splits with positive gain, best gain: -inf\n",
            "[LightGBM] [Warning] No further splits with positive gain, best gain: -inf\n",
            "[LightGBM] [Warning] No further splits with positive gain, best gain: -inf\n",
            "[LightGBM] [Warning] No further splits with positive gain, best gain: -inf\n",
            "[LightGBM] [Warning] No further splits with positive gain, best gain: -inf\n",
            "[LightGBM] [Warning] No further splits with positive gain, best gain: -inf\n",
            "[LightGBM] [Warning] No further splits with positive gain, best gain: -inf\n",
            "[LightGBM] [Warning] No further splits with positive gain, best gain: -inf\n",
            "[LightGBM] [Warning] No further splits with positive gain, best gain: -inf\n",
            "[LightGBM] [Warning] No further splits with positive gain, best gain: -inf\n",
            "[LightGBM] [Warning] No further splits with positive gain, best gain: -inf\n",
            "[LightGBM] [Warning] No further splits with positive gain, best gain: -inf\n",
            "[LightGBM] [Warning] No further splits with positive gain, best gain: -inf\n",
            "[LightGBM] [Warning] No further splits with positive gain, best gain: -inf\n",
            "[LightGBM] [Warning] No further splits with positive gain, best gain: -inf\n",
            "[LightGBM] [Warning] No further splits with positive gain, best gain: -inf\n",
            "[LightGBM] [Warning] No further splits with positive gain, best gain: -inf\n",
            "[LightGBM] [Warning] No further splits with positive gain, best gain: -inf\n"
          ]
        },
        {
          "name": "stderr",
          "output_type": "stream",
          "text": [
            "[I 2024-02-02 05:38:02,711] Trial 14 finished with value: 0.9514131976574792 and parameters: {'subsample': 0.9072762037531084, 'colsample_bytree': 0.9794477469033902, 'learning_rate': 0.09846184018013851, 'max_depth': 6, 'num_leaves': 97}. Best is trial 12 with value: 0.9619834893321796.\n"
          ]
        },
        {
          "name": "stdout",
          "output_type": "stream",
          "text": [
            "[LightGBM] [Warning] Found whitespace in feature_names, replace with underlines\n",
            "[LightGBM] [Info] Auto-choosing row-wise multi-threading, the overhead of testing was 0.031327 seconds.\n",
            "You can set `force_row_wise=true` to remove the overhead.\n",
            "And if memory is not enough, you can set `force_col_wise=true`.\n",
            "[LightGBM] [Info] Total Bins 10284\n",
            "[LightGBM] [Info] Number of data points in the train set: 141203, number of used features: 44\n",
            "[LightGBM] [Info] Start training from score -1.942340\n",
            "[LightGBM] [Info] Start training from score -1.944120\n",
            "[LightGBM] [Info] Start training from score -1.947590\n",
            "[LightGBM] [Info] Start training from score -1.943972\n",
            "[LightGBM] [Info] Start training from score -1.947292\n",
            "[LightGBM] [Info] Start training from score -1.954266\n",
            "[LightGBM] [Info] Start training from score -1.941846\n",
            "[LightGBM] [Warning] No further splits with positive gain, best gain: -inf\n",
            "[LightGBM] [Warning] No further splits with positive gain, best gain: -inf\n",
            "[LightGBM] [Warning] No further splits with positive gain, best gain: -inf\n",
            "[LightGBM] [Warning] No further splits with positive gain, best gain: -inf\n",
            "[LightGBM] [Warning] No further splits with positive gain, best gain: -inf\n",
            "[LightGBM] [Warning] No further splits with positive gain, best gain: -inf\n",
            "[LightGBM] [Warning] No further splits with positive gain, best gain: -inf\n",
            "[LightGBM] [Warning] No further splits with positive gain, best gain: -inf\n",
            "[LightGBM] [Warning] No further splits with positive gain, best gain: -inf\n",
            "[LightGBM] [Warning] No further splits with positive gain, best gain: -inf\n",
            "[LightGBM] [Warning] No further splits with positive gain, best gain: -inf\n",
            "[LightGBM] [Warning] No further splits with positive gain, best gain: -inf\n",
            "[LightGBM] [Warning] No further splits with positive gain, best gain: -inf\n",
            "[LightGBM] [Warning] No further splits with positive gain, best gain: -inf\n",
            "[LightGBM] [Warning] No further splits with positive gain, best gain: -inf\n"
          ]
        },
        {
          "name": "stderr",
          "output_type": "stream",
          "text": [
            "[I 2024-02-02 05:38:20,845] Trial 15 finished with value: 0.8653521832664488 and parameters: {'subsample': 0.8750609443648801, 'colsample_bytree': 0.8571188397252925, 'learning_rate': 0.034308508536689056, 'max_depth': 3, 'num_leaves': 59}. Best is trial 12 with value: 0.9619834893321796.\n"
          ]
        },
        {
          "name": "stdout",
          "output_type": "stream",
          "text": [
            "[LightGBM] [Warning] Found whitespace in feature_names, replace with underlines\n",
            "[LightGBM] [Info] Auto-choosing row-wise multi-threading, the overhead of testing was 0.035768 seconds.\n",
            "You can set `force_row_wise=true` to remove the overhead.\n",
            "And if memory is not enough, you can set `force_col_wise=true`.\n",
            "[LightGBM] [Info] Total Bins 10284\n",
            "[LightGBM] [Info] Number of data points in the train set: 141203, number of used features: 44\n",
            "[LightGBM] [Info] Start training from score -1.942340\n",
            "[LightGBM] [Info] Start training from score -1.944120\n",
            "[LightGBM] [Info] Start training from score -1.947590\n",
            "[LightGBM] [Info] Start training from score -1.943972\n",
            "[LightGBM] [Info] Start training from score -1.947292\n",
            "[LightGBM] [Info] Start training from score -1.954266\n",
            "[LightGBM] [Info] Start training from score -1.941846\n"
          ]
        },
        {
          "name": "stderr",
          "output_type": "stream",
          "text": [
            "[I 2024-02-02 05:39:04,166] Trial 16 finished with value: 0.9213157287543511 and parameters: {'subsample': 0.9535072770819568, 'colsample_bytree': 0.9190557906554032, 'learning_rate': 0.0020298355451079386, 'max_depth': 14, 'num_leaves': 99}. Best is trial 12 with value: 0.9619834893321796.\n"
          ]
        },
        {
          "name": "stdout",
          "output_type": "stream",
          "text": [
            "[LightGBM] [Warning] Found whitespace in feature_names, replace with underlines\n",
            "[LightGBM] [Info] Auto-choosing col-wise multi-threading, the overhead of testing was 0.156843 seconds.\n",
            "You can set `force_col_wise=true` to remove the overhead.\n",
            "[LightGBM] [Info] Total Bins 10284\n",
            "[LightGBM] [Info] Number of data points in the train set: 141203, number of used features: 44\n",
            "[LightGBM] [Info] Start training from score -1.942340\n",
            "[LightGBM] [Info] Start training from score -1.944120\n",
            "[LightGBM] [Info] Start training from score -1.947590\n",
            "[LightGBM] [Info] Start training from score -1.943972\n",
            "[LightGBM] [Info] Start training from score -1.947292\n",
            "[LightGBM] [Info] Start training from score -1.954266\n",
            "[LightGBM] [Info] Start training from score -1.941846\n"
          ]
        },
        {
          "name": "stderr",
          "output_type": "stream",
          "text": [
            "[I 2024-02-02 05:39:42,168] Trial 17 finished with value: 0.9586407805762245 and parameters: {'subsample': 0.8889013242192528, 'colsample_bytree': 0.835781609370543, 'learning_rate': 0.0856715275547174, 'max_depth': 9, 'num_leaves': 72}. Best is trial 12 with value: 0.9619834893321796.\n"
          ]
        },
        {
          "name": "stdout",
          "output_type": "stream",
          "text": [
            "[LightGBM] [Warning] Found whitespace in feature_names, replace with underlines\n",
            "[LightGBM] [Info] Auto-choosing row-wise multi-threading, the overhead of testing was 0.030793 seconds.\n",
            "You can set `force_row_wise=true` to remove the overhead.\n",
            "And if memory is not enough, you can set `force_col_wise=true`.\n",
            "[LightGBM] [Info] Total Bins 10284\n",
            "[LightGBM] [Info] Number of data points in the train set: 141203, number of used features: 44\n",
            "[LightGBM] [Info] Start training from score -1.942340\n",
            "[LightGBM] [Info] Start training from score -1.944120\n",
            "[LightGBM] [Info] Start training from score -1.947590\n",
            "[LightGBM] [Info] Start training from score -1.943972\n",
            "[LightGBM] [Info] Start training from score -1.947292\n",
            "[LightGBM] [Info] Start training from score -1.954266\n",
            "[LightGBM] [Info] Start training from score -1.941846\n"
          ]
        },
        {
          "name": "stderr",
          "output_type": "stream",
          "text": [
            "[I 2024-02-02 05:40:16,544] Trial 18 finished with value: 0.9521266325781642 and parameters: {'subsample': 0.9603557351198502, 'colsample_bytree': 0.9468020605539187, 'learning_rate': 0.06769538735190131, 'max_depth': 23, 'num_leaves': 43}. Best is trial 12 with value: 0.9619834893321796.\n"
          ]
        },
        {
          "name": "stdout",
          "output_type": "stream",
          "text": [
            "[LightGBM] [Warning] Found whitespace in feature_names, replace with underlines\n",
            "[LightGBM] [Info] Auto-choosing col-wise multi-threading, the overhead of testing was 0.096469 seconds.\n",
            "You can set `force_col_wise=true` to remove the overhead.\n",
            "[LightGBM] [Info] Total Bins 10284\n",
            "[LightGBM] [Info] Number of data points in the train set: 141203, number of used features: 44\n",
            "[LightGBM] [Info] Start training from score -1.942340\n",
            "[LightGBM] [Info] Start training from score -1.944120\n",
            "[LightGBM] [Info] Start training from score -1.947590\n",
            "[LightGBM] [Info] Start training from score -1.943972\n",
            "[LightGBM] [Info] Start training from score -1.947292\n",
            "[LightGBM] [Info] Start training from score -1.954266\n",
            "[LightGBM] [Info] Start training from score -1.941846\n"
          ]
        },
        {
          "name": "stderr",
          "output_type": "stream",
          "text": [
            "[I 2024-02-02 05:40:57,001] Trial 19 finished with value: 0.9428905891877798 and parameters: {'subsample': 0.5368011252197732, 'colsample_bytree': 0.8174674982093131, 'learning_rate': 0.02122783507517502, 'max_depth': 14, 'num_leaves': 82}. Best is trial 12 with value: 0.9619834893321796.\n"
          ]
        },
        {
          "name": "stdout",
          "output_type": "stream",
          "text": [
            "[LightGBM] [Warning] Found whitespace in feature_names, replace with underlines\n",
            "[LightGBM] [Info] Auto-choosing col-wise multi-threading, the overhead of testing was 0.100474 seconds.\n",
            "You can set `force_col_wise=true` to remove the overhead.\n",
            "[LightGBM] [Info] Total Bins 10284\n",
            "[LightGBM] [Info] Number of data points in the train set: 141203, number of used features: 44\n",
            "[LightGBM] [Info] Start training from score -1.942340\n",
            "[LightGBM] [Info] Start training from score -1.944120\n",
            "[LightGBM] [Info] Start training from score -1.947590\n",
            "[LightGBM] [Info] Start training from score -1.943972\n",
            "[LightGBM] [Info] Start training from score -1.947292\n",
            "[LightGBM] [Info] Start training from score -1.954266\n",
            "[LightGBM] [Info] Start training from score -1.941846\n",
            "[LightGBM] [Warning] No further splits with positive gain, best gain: -inf\n",
            "[LightGBM] [Warning] No further splits with positive gain, best gain: -inf\n",
            "[LightGBM] [Warning] No further splits with positive gain, best gain: -inf\n",
            "[LightGBM] [Warning] No further splits with positive gain, best gain: -inf\n",
            "[LightGBM] [Warning] No further splits with positive gain, best gain: -inf\n",
            "[LightGBM] [Warning] No further splits with positive gain, best gain: -inf\n",
            "[LightGBM] [Warning] No further splits with positive gain, best gain: -inf\n",
            "[LightGBM] [Warning] No further splits with positive gain, best gain: -inf\n",
            "[LightGBM] [Warning] No further splits with positive gain, best gain: -inf\n",
            "[LightGBM] [Warning] No further splits with positive gain, best gain: -inf\n",
            "[LightGBM] [Warning] No further splits with positive gain, best gain: -inf\n",
            "[LightGBM] [Warning] No further splits with positive gain, best gain: -inf\n"
          ]
        },
        {
          "name": "stderr",
          "output_type": "stream",
          "text": [
            "[I 2024-02-02 05:41:32,963] Trial 20 finished with value: 0.9447496649411377 and parameters: {'subsample': 0.7515118529110529, 'colsample_bytree': 0.9065456911733164, 'learning_rate': 0.04652261429044087, 'max_depth': 7, 'num_leaves': 67}. Best is trial 12 with value: 0.9619834893321796.\n"
          ]
        },
        {
          "name": "stdout",
          "output_type": "stream",
          "text": [
            "[LightGBM] [Warning] Found whitespace in feature_names, replace with underlines\n",
            "[LightGBM] [Info] Auto-choosing col-wise multi-threading, the overhead of testing was 0.105444 seconds.\n",
            "You can set `force_col_wise=true` to remove the overhead.\n",
            "[LightGBM] [Info] Total Bins 10284\n",
            "[LightGBM] [Info] Number of data points in the train set: 141203, number of used features: 44\n",
            "[LightGBM] [Info] Start training from score -1.942340\n",
            "[LightGBM] [Info] Start training from score -1.944120\n",
            "[LightGBM] [Info] Start training from score -1.947590\n",
            "[LightGBM] [Info] Start training from score -1.943972\n",
            "[LightGBM] [Info] Start training from score -1.947292\n",
            "[LightGBM] [Info] Start training from score -1.954266\n",
            "[LightGBM] [Info] Start training from score -1.941846\n"
          ]
        },
        {
          "name": "stderr",
          "output_type": "stream",
          "text": [
            "[I 2024-02-02 05:42:09,125] Trial 21 finished with value: 0.9619745349246469 and parameters: {'subsample': 0.8450279126628855, 'colsample_bytree': 0.6903802493559179, 'learning_rate': 0.09988149831708343, 'max_depth': 16, 'num_leaves': 77}. Best is trial 12 with value: 0.9619834893321796.\n"
          ]
        },
        {
          "name": "stdout",
          "output_type": "stream",
          "text": [
            "[LightGBM] [Warning] Found whitespace in feature_names, replace with underlines\n",
            "[LightGBM] [Info] Auto-choosing col-wise multi-threading, the overhead of testing was 0.101936 seconds.\n",
            "You can set `force_col_wise=true` to remove the overhead.\n",
            "[LightGBM] [Info] Total Bins 10284\n",
            "[LightGBM] [Info] Number of data points in the train set: 141203, number of used features: 44\n",
            "[LightGBM] [Info] Start training from score -1.942340\n",
            "[LightGBM] [Info] Start training from score -1.944120\n",
            "[LightGBM] [Info] Start training from score -1.947590\n",
            "[LightGBM] [Info] Start training from score -1.943972\n",
            "[LightGBM] [Info] Start training from score -1.947292\n",
            "[LightGBM] [Info] Start training from score -1.954266\n",
            "[LightGBM] [Info] Start training from score -1.941846\n"
          ]
        },
        {
          "name": "stderr",
          "output_type": "stream",
          "text": [
            "[I 2024-02-02 05:42:49,042] Trial 22 finished with value: 0.9616245214224354 and parameters: {'subsample': 0.8563030591791955, 'colsample_bytree': 0.7192585920815029, 'learning_rate': 0.09994701294202821, 'max_depth': 12, 'num_leaves': 91}. Best is trial 12 with value: 0.9619834893321796.\n"
          ]
        },
        {
          "name": "stdout",
          "output_type": "stream",
          "text": [
            "[LightGBM] [Warning] Found whitespace in feature_names, replace with underlines\n",
            "[LightGBM] [Info] Auto-choosing row-wise multi-threading, the overhead of testing was 0.030422 seconds.\n",
            "You can set `force_row_wise=true` to remove the overhead.\n",
            "And if memory is not enough, you can set `force_col_wise=true`.\n",
            "[LightGBM] [Info] Total Bins 10284\n",
            "[LightGBM] [Info] Number of data points in the train set: 141203, number of used features: 44\n",
            "[LightGBM] [Info] Start training from score -1.942340\n",
            "[LightGBM] [Info] Start training from score -1.944120\n",
            "[LightGBM] [Info] Start training from score -1.947590\n",
            "[LightGBM] [Info] Start training from score -1.943972\n",
            "[LightGBM] [Info] Start training from score -1.947292\n",
            "[LightGBM] [Info] Start training from score -1.954266\n",
            "[LightGBM] [Info] Start training from score -1.941846\n"
          ]
        },
        {
          "name": "stderr",
          "output_type": "stream",
          "text": [
            "[I 2024-02-02 05:43:34,244] Trial 23 finished with value: 0.962229630589604 and parameters: {'subsample': 0.9351827019578558, 'colsample_bytree': 0.9620380697686646, 'learning_rate': 0.08753700653105062, 'max_depth': 15, 'num_leaves': 100}. Best is trial 23 with value: 0.962229630589604.\n"
          ]
        },
        {
          "name": "stdout",
          "output_type": "stream",
          "text": [
            "[LightGBM] [Warning] Found whitespace in feature_names, replace with underlines\n",
            "[LightGBM] [Info] Auto-choosing col-wise multi-threading, the overhead of testing was 0.099900 seconds.\n",
            "You can set `force_col_wise=true` to remove the overhead.\n",
            "[LightGBM] [Info] Total Bins 10284\n",
            "[LightGBM] [Info] Number of data points in the train set: 141203, number of used features: 44\n",
            "[LightGBM] [Info] Start training from score -1.942340\n",
            "[LightGBM] [Info] Start training from score -1.944120\n",
            "[LightGBM] [Info] Start training from score -1.947590\n",
            "[LightGBM] [Info] Start training from score -1.943972\n",
            "[LightGBM] [Info] Start training from score -1.947292\n",
            "[LightGBM] [Info] Start training from score -1.954266\n",
            "[LightGBM] [Info] Start training from score -1.941846\n"
          ]
        },
        {
          "name": "stderr",
          "output_type": "stream",
          "text": [
            "[I 2024-02-02 05:44:15,083] Trial 24 finished with value: 0.961015660173966 and parameters: {'subsample': 0.7596351383760054, 'colsample_bytree': 0.7992063184450003, 'learning_rate': 0.0884042941839372, 'max_depth': 16, 'num_leaves': 81}. Best is trial 23 with value: 0.962229630589604.\n"
          ]
        },
        {
          "name": "stdout",
          "output_type": "stream",
          "text": [
            "[LightGBM] [Warning] Found whitespace in feature_names, replace with underlines\n",
            "[LightGBM] [Info] Auto-choosing col-wise multi-threading, the overhead of testing was 0.093014 seconds.\n",
            "You can set `force_col_wise=true` to remove the overhead.\n",
            "[LightGBM] [Info] Total Bins 10284\n",
            "[LightGBM] [Info] Number of data points in the train set: 141203, number of used features: 44\n",
            "[LightGBM] [Info] Start training from score -1.942340\n",
            "[LightGBM] [Info] Start training from score -1.944120\n",
            "[LightGBM] [Info] Start training from score -1.947590\n",
            "[LightGBM] [Info] Start training from score -1.943972\n",
            "[LightGBM] [Info] Start training from score -1.947292\n",
            "[LightGBM] [Info] Start training from score -1.954266\n",
            "[LightGBM] [Info] Start training from score -1.941846\n"
          ]
        },
        {
          "name": "stderr",
          "output_type": "stream",
          "text": [
            "[I 2024-02-02 05:44:53,905] Trial 25 finished with value: 0.9621181137715162 and parameters: {'subsample': 0.9232743615879782, 'colsample_bytree': 0.6899346615526138, 'learning_rate': 0.08560947869489004, 'max_depth': 24, 'num_leaves': 91}. Best is trial 23 with value: 0.962229630589604.\n"
          ]
        },
        {
          "name": "stdout",
          "output_type": "stream",
          "text": [
            "[LightGBM] [Warning] Found whitespace in feature_names, replace with underlines\n",
            "[LightGBM] [Info] Auto-choosing row-wise multi-threading, the overhead of testing was 0.025881 seconds.\n",
            "You can set `force_row_wise=true` to remove the overhead.\n",
            "And if memory is not enough, you can set `force_col_wise=true`.\n",
            "[LightGBM] [Info] Total Bins 10284\n",
            "[LightGBM] [Info] Number of data points in the train set: 141203, number of used features: 44\n",
            "[LightGBM] [Info] Start training from score -1.942340\n",
            "[LightGBM] [Info] Start training from score -1.944120\n",
            "[LightGBM] [Info] Start training from score -1.947590\n",
            "[LightGBM] [Info] Start training from score -1.943972\n",
            "[LightGBM] [Info] Start training from score -1.947292\n",
            "[LightGBM] [Info] Start training from score -1.954266\n",
            "[LightGBM] [Info] Start training from score -1.941846\n"
          ]
        },
        {
          "name": "stderr",
          "output_type": "stream",
          "text": [
            "[I 2024-02-02 05:45:37,376] Trial 26 finished with value: 0.9624176711378533 and parameters: {'subsample': 0.943336496433613, 'colsample_bytree': 0.5625826499722031, 'learning_rate': 0.08525380667144668, 'max_depth': 26, 'num_leaves': 99}. Best is trial 26 with value: 0.9624176711378533.\n"
          ]
        },
        {
          "name": "stdout",
          "output_type": "stream",
          "text": [
            "[LightGBM] [Warning] Found whitespace in feature_names, replace with underlines\n",
            "[LightGBM] [Info] Auto-choosing row-wise multi-threading, the overhead of testing was 0.025375 seconds.\n",
            "You can set `force_row_wise=true` to remove the overhead.\n",
            "And if memory is not enough, you can set `force_col_wise=true`.\n",
            "[LightGBM] [Info] Total Bins 10284\n",
            "[LightGBM] [Info] Number of data points in the train set: 141203, number of used features: 44\n",
            "[LightGBM] [Info] Start training from score -1.942340\n",
            "[LightGBM] [Info] Start training from score -1.944120\n",
            "[LightGBM] [Info] Start training from score -1.947590\n",
            "[LightGBM] [Info] Start training from score -1.943972\n",
            "[LightGBM] [Info] Start training from score -1.947292\n",
            "[LightGBM] [Info] Start training from score -1.954266\n",
            "[LightGBM] [Info] Start training from score -1.941846\n"
          ]
        },
        {
          "name": "stderr",
          "output_type": "stream",
          "text": [
            "[I 2024-02-02 05:46:19,180] Trial 27 finished with value: 0.960071317571531 and parameters: {'subsample': 0.9433894353238834, 'colsample_bytree': 0.5556918807145564, 'learning_rate': 0.06344435596215557, 'max_depth': 26, 'num_leaves': 91}. Best is trial 26 with value: 0.9624176711378533.\n"
          ]
        },
        {
          "name": "stdout",
          "output_type": "stream",
          "text": [
            "[LightGBM] [Warning] Found whitespace in feature_names, replace with underlines\n",
            "[LightGBM] [Info] Auto-choosing row-wise multi-threading, the overhead of testing was 0.026805 seconds.\n",
            "You can set `force_row_wise=true` to remove the overhead.\n",
            "And if memory is not enough, you can set `force_col_wise=true`.\n",
            "[LightGBM] [Info] Total Bins 10284\n",
            "[LightGBM] [Info] Number of data points in the train set: 141203, number of used features: 44\n",
            "[LightGBM] [Info] Start training from score -1.942340\n",
            "[LightGBM] [Info] Start training from score -1.944120\n",
            "[LightGBM] [Info] Start training from score -1.947590\n",
            "[LightGBM] [Info] Start training from score -1.943972\n",
            "[LightGBM] [Info] Start training from score -1.947292\n",
            "[LightGBM] [Info] Start training from score -1.954266\n",
            "[LightGBM] [Info] Start training from score -1.941846\n"
          ]
        },
        {
          "name": "stderr",
          "output_type": "stream",
          "text": [
            "[I 2024-02-02 05:47:03,340] Trial 28 finished with value: 0.9629246096249652 and parameters: {'subsample': 0.5988433038045311, 'colsample_bytree': 0.5739012533245045, 'learning_rate': 0.08429114087100556, 'max_depth': 29, 'num_leaves': 100}. Best is trial 28 with value: 0.9629246096249652.\n"
          ]
        },
        {
          "name": "stdout",
          "output_type": "stream",
          "text": [
            "[LightGBM] [Warning] Found whitespace in feature_names, replace with underlines\n",
            "[LightGBM] [Info] Auto-choosing row-wise multi-threading, the overhead of testing was 0.038563 seconds.\n",
            "You can set `force_row_wise=true` to remove the overhead.\n",
            "And if memory is not enough, you can set `force_col_wise=true`.\n",
            "[LightGBM] [Info] Total Bins 10284\n",
            "[LightGBM] [Info] Number of data points in the train set: 141203, number of used features: 44\n",
            "[LightGBM] [Info] Start training from score -1.942340\n",
            "[LightGBM] [Info] Start training from score -1.944120\n",
            "[LightGBM] [Info] Start training from score -1.947590\n",
            "[LightGBM] [Info] Start training from score -1.943972\n",
            "[LightGBM] [Info] Start training from score -1.947292\n",
            "[LightGBM] [Info] Start training from score -1.954266\n",
            "[LightGBM] [Info] Start training from score -1.941846\n"
          ]
        },
        {
          "name": "stderr",
          "output_type": "stream",
          "text": [
            "[I 2024-02-02 05:47:47,306] Trial 29 finished with value: 0.9615797419221586 and parameters: {'subsample': 0.6171587924855546, 'colsample_bytree': 0.5627984585786705, 'learning_rate': 0.07604210100302082, 'max_depth': 30, 'num_leaves': 100}. Best is trial 28 with value: 0.9629246096249652.\n"
          ]
        },
        {
          "name": "stdout",
          "output_type": "stream",
          "text": [
            "[LightGBM] [Warning] Found whitespace in feature_names, replace with underlines\n",
            "[LightGBM] [Info] Auto-choosing col-wise multi-threading, the overhead of testing was 0.093536 seconds.\n",
            "You can set `force_col_wise=true` to remove the overhead.\n",
            "[LightGBM] [Info] Total Bins 10284\n",
            "[LightGBM] [Info] Number of data points in the train set: 141203, number of used features: 44\n",
            "[LightGBM] [Info] Start training from score -1.942340\n",
            "[LightGBM] [Info] Start training from score -1.944120\n",
            "[LightGBM] [Info] Start training from score -1.947590\n",
            "[LightGBM] [Info] Start training from score -1.943972\n",
            "[LightGBM] [Info] Start training from score -1.947292\n",
            "[LightGBM] [Info] Start training from score -1.954266\n",
            "[LightGBM] [Info] Start training from score -1.941846\n"
          ]
        },
        {
          "name": "stderr",
          "output_type": "stream",
          "text": [
            "[I 2024-02-02 05:48:21,115] Trial 30 finished with value: 0.9565298640056183 and parameters: {'subsample': 0.6264344069535531, 'colsample_bytree': 0.5891474261656343, 'learning_rate': 0.05658383439948094, 'max_depth': 28, 'num_leaves': 69}. Best is trial 28 with value: 0.9629246096249652.\n"
          ]
        },
        {
          "name": "stdout",
          "output_type": "stream",
          "text": [
            "[LightGBM] [Warning] Found whitespace in feature_names, replace with underlines\n",
            "[LightGBM] [Info] Auto-choosing col-wise multi-threading, the overhead of testing was 0.090612 seconds.\n",
            "You can set `force_col_wise=true` to remove the overhead.\n",
            "[LightGBM] [Info] Total Bins 10284\n",
            "[LightGBM] [Info] Number of data points in the train set: 141203, number of used features: 44\n",
            "[LightGBM] [Info] Start training from score -1.942340\n",
            "[LightGBM] [Info] Start training from score -1.944120\n",
            "[LightGBM] [Info] Start training from score -1.947590\n",
            "[LightGBM] [Info] Start training from score -1.943972\n",
            "[LightGBM] [Info] Start training from score -1.947292\n",
            "[LightGBM] [Info] Start training from score -1.954266\n",
            "[LightGBM] [Info] Start training from score -1.941846\n"
          ]
        },
        {
          "name": "stderr",
          "output_type": "stream",
          "text": [
            "[I 2024-02-02 05:48:59,959] Trial 31 finished with value: 0.9618832586190537 and parameters: {'subsample': 0.5799781488956335, 'colsample_bytree': 0.6407583203265204, 'learning_rate': 0.0857845244811932, 'max_depth': 25, 'num_leaves': 91}. Best is trial 28 with value: 0.9629246096249652.\n"
          ]
        },
        {
          "name": "stdout",
          "output_type": "stream",
          "text": [
            "[LightGBM] [Warning] Found whitespace in feature_names, replace with underlines\n",
            "[LightGBM] [Info] Auto-choosing row-wise multi-threading, the overhead of testing was 0.025647 seconds.\n",
            "You can set `force_row_wise=true` to remove the overhead.\n",
            "And if memory is not enough, you can set `force_col_wise=true`.\n",
            "[LightGBM] [Info] Total Bins 10284\n",
            "[LightGBM] [Info] Number of data points in the train set: 141203, number of used features: 44\n",
            "[LightGBM] [Info] Start training from score -1.942340\n",
            "[LightGBM] [Info] Start training from score -1.944120\n",
            "[LightGBM] [Info] Start training from score -1.947590\n",
            "[LightGBM] [Info] Start training from score -1.943972\n",
            "[LightGBM] [Info] Start training from score -1.947292\n",
            "[LightGBM] [Info] Start training from score -1.954266\n",
            "[LightGBM] [Info] Start training from score -1.941846\n"
          ]
        },
        {
          "name": "stderr",
          "output_type": "stream",
          "text": [
            "[I 2024-02-02 05:49:41,445] Trial 32 finished with value: 0.9612651583015932 and parameters: {'subsample': 0.6872952087575352, 'colsample_bytree': 0.5541656851562802, 'learning_rate': 0.08175532065648469, 'max_depth': 28, 'num_leaves': 89}. Best is trial 28 with value: 0.9629246096249652.\n"
          ]
        },
        {
          "name": "stdout",
          "output_type": "stream",
          "text": [
            "[LightGBM] [Warning] Found whitespace in feature_names, replace with underlines\n",
            "[LightGBM] [Info] Auto-choosing col-wise multi-threading, the overhead of testing was 0.090749 seconds.\n",
            "You can set `force_col_wise=true` to remove the overhead.\n",
            "[LightGBM] [Info] Total Bins 10284\n",
            "[LightGBM] [Info] Number of data points in the train set: 141203, number of used features: 44\n",
            "[LightGBM] [Info] Start training from score -1.942340\n",
            "[LightGBM] [Info] Start training from score -1.944120\n",
            "[LightGBM] [Info] Start training from score -1.947590\n",
            "[LightGBM] [Info] Start training from score -1.943972\n",
            "[LightGBM] [Info] Start training from score -1.947292\n",
            "[LightGBM] [Info] Start training from score -1.954266\n",
            "[LightGBM] [Info] Start training from score -1.941846\n"
          ]
        },
        {
          "name": "stderr",
          "output_type": "stream",
          "text": [
            "[I 2024-02-02 05:50:24,790] Trial 33 finished with value: 0.9615897693288852 and parameters: {'subsample': 0.5053768250591152, 'colsample_bytree': 0.7678759925619769, 'learning_rate': 0.07308595078640334, 'max_depth': 23, 'num_leaves': 100}. Best is trial 28 with value: 0.9629246096249652.\n"
          ]
        },
        {
          "name": "stdout",
          "output_type": "stream",
          "text": [
            "[LightGBM] [Warning] Found whitespace in feature_names, replace with underlines\n",
            "[LightGBM] [Info] Auto-choosing col-wise multi-threading, the overhead of testing was 0.090059 seconds.\n",
            "You can set `force_col_wise=true` to remove the overhead.\n",
            "[LightGBM] [Info] Total Bins 10284\n",
            "[LightGBM] [Info] Number of data points in the train set: 141203, number of used features: 44\n",
            "[LightGBM] [Info] Start training from score -1.942340\n",
            "[LightGBM] [Info] Start training from score -1.944120\n",
            "[LightGBM] [Info] Start training from score -1.947590\n",
            "[LightGBM] [Info] Start training from score -1.943972\n",
            "[LightGBM] [Info] Start training from score -1.947292\n",
            "[LightGBM] [Info] Start training from score -1.954266\n",
            "[LightGBM] [Info] Start training from score -1.941846\n"
          ]
        },
        {
          "name": "stderr",
          "output_type": "stream",
          "text": [
            "[I 2024-02-02 05:51:02,034] Trial 34 finished with value: 0.9603839475874467 and parameters: {'subsample': 0.9625498131309846, 'colsample_bytree': 0.6281959579535517, 'learning_rate': 0.07658094391839212, 'max_depth': 30, 'num_leaves': 83}. Best is trial 28 with value: 0.9629246096249652.\n"
          ]
        },
        {
          "name": "stdout",
          "output_type": "stream",
          "text": [
            "[LightGBM] [Warning] Found whitespace in feature_names, replace with underlines\n",
            "[LightGBM] [Info] Auto-choosing col-wise multi-threading, the overhead of testing was 0.096014 seconds.\n",
            "You can set `force_col_wise=true` to remove the overhead.\n",
            "[LightGBM] [Info] Total Bins 10284\n",
            "[LightGBM] [Info] Number of data points in the train set: 141203, number of used features: 44\n",
            "[LightGBM] [Info] Start training from score -1.942340\n",
            "[LightGBM] [Info] Start training from score -1.944120\n",
            "[LightGBM] [Info] Start training from score -1.947590\n",
            "[LightGBM] [Info] Start training from score -1.943972\n",
            "[LightGBM] [Info] Start training from score -1.947292\n",
            "[LightGBM] [Info] Start training from score -1.954266\n",
            "[LightGBM] [Info] Start training from score -1.941846\n"
          ]
        },
        {
          "name": "stderr",
          "output_type": "stream",
          "text": [
            "[I 2024-02-02 05:51:33,646] Trial 35 finished with value: 0.9576143784129508 and parameters: {'subsample': 0.9282036669596121, 'colsample_bytree': 0.6746747774040041, 'learning_rate': 0.0890011911965571, 'max_depth': 21, 'num_leaves': 50}. Best is trial 28 with value: 0.9629246096249652.\n"
          ]
        },
        {
          "name": "stdout",
          "output_type": "stream",
          "text": [
            "[LightGBM] [Warning] Found whitespace in feature_names, replace with underlines\n",
            "[LightGBM] [Info] Auto-choosing col-wise multi-threading, the overhead of testing was 0.090557 seconds.\n",
            "You can set `force_col_wise=true` to remove the overhead.\n",
            "[LightGBM] [Info] Total Bins 10284\n",
            "[LightGBM] [Info] Number of data points in the train set: 141203, number of used features: 44\n",
            "[LightGBM] [Info] Start training from score -1.942340\n",
            "[LightGBM] [Info] Start training from score -1.944120\n",
            "[LightGBM] [Info] Start training from score -1.947590\n",
            "[LightGBM] [Info] Start training from score -1.943972\n",
            "[LightGBM] [Info] Start training from score -1.947292\n",
            "[LightGBM] [Info] Start training from score -1.954266\n",
            "[LightGBM] [Info] Start training from score -1.941846\n"
          ]
        },
        {
          "name": "stderr",
          "output_type": "stream",
          "text": [
            "[I 2024-02-02 05:52:10,847] Trial 36 finished with value: 0.9606124936325386 and parameters: {'subsample': 0.6873182667817317, 'colsample_bytree': 0.5907768700680567, 'learning_rate': 0.06714810109249139, 'max_depth': 24, 'num_leaves': 93}. Best is trial 28 with value: 0.9629246096249652.\n"
          ]
        },
        {
          "name": "stdout",
          "output_type": "stream",
          "text": [
            "[LightGBM] [Warning] Found whitespace in feature_names, replace with underlines\n",
            "[LightGBM] [Info] Auto-choosing col-wise multi-threading, the overhead of testing was 0.091112 seconds.\n",
            "You can set `force_col_wise=true` to remove the overhead.\n",
            "[LightGBM] [Info] Total Bins 10284\n",
            "[LightGBM] [Info] Number of data points in the train set: 141203, number of used features: 44\n",
            "[LightGBM] [Info] Start training from score -1.942340\n",
            "[LightGBM] [Info] Start training from score -1.944120\n",
            "[LightGBM] [Info] Start training from score -1.947590\n",
            "[LightGBM] [Info] Start training from score -1.943972\n",
            "[LightGBM] [Info] Start training from score -1.947292\n",
            "[LightGBM] [Info] Start training from score -1.954266\n",
            "[LightGBM] [Info] Start training from score -1.941846\n"
          ]
        },
        {
          "name": "stderr",
          "output_type": "stream",
          "text": [
            "[I 2024-02-02 05:52:49,123] Trial 37 finished with value: 0.9617726068545488 and parameters: {'subsample': 0.8729881385270805, 'colsample_bytree': 0.7137584317530928, 'learning_rate': 0.08102157742995794, 'max_depth': 21, 'num_leaves': 87}. Best is trial 28 with value: 0.9629246096249652.\n"
          ]
        },
        {
          "name": "stdout",
          "output_type": "stream",
          "text": [
            "[LightGBM] [Warning] Found whitespace in feature_names, replace with underlines\n",
            "[LightGBM] [Info] Auto-choosing row-wise multi-threading, the overhead of testing was 0.024704 seconds.\n",
            "You can set `force_row_wise=true` to remove the overhead.\n",
            "And if memory is not enough, you can set `force_col_wise=true`.\n",
            "[LightGBM] [Info] Total Bins 10284\n",
            "[LightGBM] [Info] Number of data points in the train set: 141203, number of used features: 44\n",
            "[LightGBM] [Info] Start training from score -1.942340\n",
            "[LightGBM] [Info] Start training from score -1.944120\n",
            "[LightGBM] [Info] Start training from score -1.947590\n",
            "[LightGBM] [Info] Start training from score -1.943972\n",
            "[LightGBM] [Info] Start training from score -1.947292\n",
            "[LightGBM] [Info] Start training from score -1.954266\n",
            "[LightGBM] [Info] Start training from score -1.941846\n"
          ]
        },
        {
          "name": "stderr",
          "output_type": "stream",
          "text": [
            "[I 2024-02-02 05:53:18,242] Trial 38 finished with value: 0.9503777060611435 and parameters: {'subsample': 0.7873475018006304, 'colsample_bytree': 0.535746324743296, 'learning_rate': 0.09132798609378705, 'max_depth': 32, 'num_leaves': 27}. Best is trial 28 with value: 0.9629246096249652.\n"
          ]
        },
        {
          "name": "stdout",
          "output_type": "stream",
          "text": [
            "[LightGBM] [Warning] Found whitespace in feature_names, replace with underlines\n",
            "[LightGBM] [Info] Auto-choosing col-wise multi-threading, the overhead of testing was 0.097492 seconds.\n",
            "You can set `force_col_wise=true` to remove the overhead.\n",
            "[LightGBM] [Info] Total Bins 10284\n",
            "[LightGBM] [Info] Number of data points in the train set: 141203, number of used features: 44\n",
            "[LightGBM] [Info] Start training from score -1.942340\n",
            "[LightGBM] [Info] Start training from score -1.944120\n",
            "[LightGBM] [Info] Start training from score -1.947590\n",
            "[LightGBM] [Info] Start training from score -1.943972\n",
            "[LightGBM] [Info] Start training from score -1.947292\n",
            "[LightGBM] [Info] Start training from score -1.954266\n",
            "[LightGBM] [Info] Start training from score -1.941846\n"
          ]
        },
        {
          "name": "stderr",
          "output_type": "stream",
          "text": [
            "[I 2024-02-02 05:53:54,997] Trial 39 finished with value: 0.9613686921778462 and parameters: {'subsample': 0.7204618843664904, 'colsample_bytree': 0.6491348663405981, 'learning_rate': 0.08333012206488763, 'max_depth': 28, 'num_leaves': 81}. Best is trial 28 with value: 0.9629246096249652.\n"
          ]
        },
        {
          "name": "stdout",
          "output_type": "stream",
          "text": [
            "최적 매개변수: {'subsample': 0.5988433038045311, 'colsample_bytree': 0.5739012533245045, 'learning_rate': 0.08429114087100556, 'max_depth': 29, 'num_leaves': 100}\n",
            "[LightGBM] [Warning] Found whitespace in feature_names, replace with underlines\n",
            "[LightGBM] [Info] Auto-choosing row-wise multi-threading, the overhead of testing was 0.039058 seconds.\n",
            "You can set `force_row_wise=true` to remove the overhead.\n",
            "And if memory is not enough, you can set `force_col_wise=true`.\n",
            "[LightGBM] [Info] Total Bins 10284\n",
            "[LightGBM] [Info] Number of data points in the train set: 141203, number of used features: 44\n",
            "[LightGBM] [Info] Start training from score -1.942340\n",
            "[LightGBM] [Info] Start training from score -1.944120\n",
            "[LightGBM] [Info] Start training from score -1.947590\n",
            "[LightGBM] [Info] Start training from score -1.943972\n",
            "[LightGBM] [Info] Start training from score -1.947292\n",
            "[LightGBM] [Info] Start training from score -1.954266\n",
            "[LightGBM] [Info] Start training from score -1.941846\n",
            "최종 모델의 F1-score: 0.9629752791099085\n"
          ]
        }
      ],
      "source": [
        "# lgbm optuna\n",
        "import optuna\n",
        "import lightgbm as lgb\n",
        "from sklearn.model_selection import train_test_split\n",
        "from sklearn.metrics import f1_score\n",
        "\n",
        "X_train, X_test, y_train, y_test = train_test_split(X_resampled, y_resampled, test_size=0.3, random_state=42)\n",
        "\n",
        "# Define the objective function for optimization\n",
        "def objective(trial):\n",
        "    params = {\n",
        "        'objective': 'multiclass',\n",
        "        'num_class': 7,\n",
        "        'boosting_type': 'gbdt',\n",
        "        'metric': 'multi_logloss',\n",
        "        'subsample': trial.suggest_float('subsample', 0.5, 1.0),\n",
        "        'colsample_bytree': trial.suggest_float('colsample_bytree', 0.5, 1.0),\n",
        "        'learning_rate': trial.suggest_float('learning_rate', 0.001, 0.1),\n",
        "        'max_depth': trial.suggest_int('max_depth', 3, 32),\n",
        "        'num_leaves': trial.suggest_int('num_leaves', 10, 100),\n",
        "        'random_state' : 42\n",
        "    }\n",
        "\n",
        "\n",
        "    model = LGBMClassifier(**params)\n",
        "    model.fit(X_train, y_train)\n",
        "    # Make predictions on the validation set\n",
        "    y_pred = model.predict(X_test)\n",
        "    # F1-score 계산\n",
        "    f1 = f1_score(y_test, y_pred, average='weighted')\n",
        "\n",
        "    return f1  # Optuna는 목적 함수를 최대화하려고 시도합니다.\n",
        "\n",
        "# Optuna 스터디 설정\n",
        "study = optuna.create_study(direction='maximize')\n",
        "study.optimize(objective, n_trials=35)\n",
        "\n",
        "# 최적화된 매개변수 출력\n",
        "lgbm_best_params = study.best_params\n",
        "print(f\"최적 매개변수: {lgbm_best_params}\")\n",
        "\n",
        "# 최적 매개변수로 최종 모델 훈련\n",
        "best_model = LGBMClassifier(**lgbm_best_params)\n",
        "best_model.fit(X_train, y_train)\n",
        "\n",
        "# 최종 모델로 테스트 세트에 대한 예측\n",
        "y_pred_final = best_model.predict(X_test)\n",
        "\n",
        "# 최종 모델 성능 평가\n",
        "f1_final = f1_score(y_test, y_pred_final, average='weighted')\n",
        "print(f\"최종 모델의 F1-score: {f1_final}\")\n"
      ]
    },
    {
      "cell_type": "code",
      "execution_count": 31,
      "metadata": {
        "colab": {
          "base_uri": "https://localhost:8080/"
        },
        "id": "roVI05gC18NU",
        "outputId": "646cbc68-f362-4ebb-cf38-1e284f399041"
      },
      "outputs": [
        {
          "name": "stderr",
          "output_type": "stream",
          "text": [
            "[I 2024-02-02 05:54:40,117] A new study created in memory with name: no-name-c57389f4-25e2-4558-8aa1-b73869f7c32b\n",
            "[I 2024-02-02 05:55:00,975] Trial 0 finished with value: 0.8645092720277783 and parameters: {'subsample': 0.23891469982910865, 'colsample_bytree': 0.38041759076104775, 'learning_rate': 0.06177859246360965, 'max_depth': 3, 'min_child_weight': 1, 'gamma': 0.631610426211008}. Best is trial 0 with value: 0.8645092720277783.\n",
            "[I 2024-02-02 05:55:24,490] Trial 1 finished with value: 0.8804390483175595 and parameters: {'subsample': 0.4662630358384211, 'colsample_bytree': 0.5839087267166049, 'learning_rate': 0.0783844874358352, 'max_depth': 3, 'min_child_weight': 14, 'gamma': 0.5951462512487322}. Best is trial 1 with value: 0.8804390483175595.\n",
            "[I 2024-02-02 05:56:30,253] Trial 2 finished with value: 0.9276445494167391 and parameters: {'subsample': 0.6593063305187347, 'colsample_bytree': 0.8321936071710094, 'learning_rate': 0.006144516436716631, 'max_depth': 17, 'min_child_weight': 18, 'gamma': 0.24262656802290772}. Best is trial 2 with value: 0.9276445494167391.\n",
            "[I 2024-02-02 05:57:15,524] Trial 3 finished with value: 0.9185782046689525 and parameters: {'subsample': 0.172707743221794, 'colsample_bytree': 0.5467620458846427, 'learning_rate': 0.011265641101416153, 'max_depth': 20, 'min_child_weight': 9, 'gamma': 0.4644830769934055}. Best is trial 2 with value: 0.9276445494167391.\n",
            "[I 2024-02-02 05:58:28,990] Trial 4 finished with value: 0.9488278220582479 and parameters: {'subsample': 0.9679705735217307, 'colsample_bytree': 0.8905771876263093, 'learning_rate': 0.036930966197592466, 'max_depth': 20, 'min_child_weight': 19, 'gamma': 0.5458099709233133}. Best is trial 4 with value: 0.9488278220582479.\n",
            "[I 2024-02-02 05:59:00,173] Trial 5 finished with value: 0.9049658217719911 and parameters: {'subsample': 0.20720101900789684, 'colsample_bytree': 0.727144579710861, 'learning_rate': 0.045860738028847305, 'max_depth': 5, 'min_child_weight': 6, 'gamma': 0.0064781759194870725}. Best is trial 4 with value: 0.9488278220582479.\n",
            "[I 2024-02-02 05:59:21,421] Trial 6 finished with value: 0.8216145155756432 and parameters: {'subsample': 0.8614363895368123, 'colsample_bytree': 0.5327298262533338, 'learning_rate': 0.028622947739019106, 'max_depth': 3, 'min_child_weight': 15, 'gamma': 0.13157307750921254}. Best is trial 4 with value: 0.9488278220582479.\n",
            "[I 2024-02-02 06:00:40,757] Trial 7 finished with value: 0.9552757223805249 and parameters: {'subsample': 0.38371853638901987, 'colsample_bytree': 0.8129204703694429, 'learning_rate': 0.054966066079049705, 'max_depth': 19, 'min_child_weight': 4, 'gamma': 0.3303866481533493}. Best is trial 7 with value: 0.9552757223805249.\n",
            "[I 2024-02-02 06:01:39,348] Trial 8 finished with value: 0.947500207575577 and parameters: {'subsample': 0.42849550059604224, 'colsample_bytree': 0.9300647636527534, 'learning_rate': 0.05105741080005024, 'max_depth': 13, 'min_child_weight': 11, 'gamma': 0.32953312399467727}. Best is trial 7 with value: 0.9552757223805249.\n",
            "[I 2024-02-02 06:02:23,953] Trial 9 finished with value: 0.9481454228393682 and parameters: {'subsample': 0.335129753052139, 'colsample_bytree': 0.36122982631019973, 'learning_rate': 0.09083272905410229, 'max_depth': 20, 'min_child_weight': 18, 'gamma': 0.9417838960975976}. Best is trial 7 with value: 0.9552757223805249.\n",
            "[I 2024-02-02 06:03:11,946] Trial 10 finished with value: 0.9481324158090072 and parameters: {'subsample': 0.6891713425114437, 'colsample_bytree': 0.16582080334552696, 'learning_rate': 0.06872839598919223, 'max_depth': 10, 'min_child_weight': 1, 'gamma': 0.8531379701067571}. Best is trial 7 with value: 0.9552757223805249.\n",
            "[I 2024-02-02 06:05:00,224] Trial 11 finished with value: 0.9547170089120864 and parameters: {'subsample': 0.9190209182432088, 'colsample_bytree': 0.9427006687002364, 'learning_rate': 0.03521031317457099, 'max_depth': 16, 'min_child_weight': 6, 'gamma': 0.38540827979469305}. Best is trial 7 with value: 0.9552757223805249.\n",
            "[I 2024-02-02 06:06:22,592] Trial 12 finished with value: 0.954121324979564 and parameters: {'subsample': 0.6042412969360691, 'colsample_bytree': 0.7446595375284017, 'learning_rate': 0.03827846496639799, 'max_depth': 15, 'min_child_weight': 5, 'gamma': 0.35037095376404376}. Best is trial 7 with value: 0.9552757223805249.\n",
            "[I 2024-02-02 06:08:15,651] Trial 13 finished with value: 0.9501386061353561 and parameters: {'subsample': 0.8662830971905982, 'colsample_bytree': 0.97498680458594, 'learning_rate': 0.01983595219620906, 'max_depth': 17, 'min_child_weight': 5, 'gamma': 0.42298104944861487}. Best is trial 7 with value: 0.9552757223805249.\n",
            "[I 2024-02-02 06:09:12,280] Trial 14 finished with value: 0.9524054129110473 and parameters: {'subsample': 0.779894408648959, 'colsample_bytree': 0.7617700375876864, 'learning_rate': 0.056107077877061436, 'max_depth': 10, 'min_child_weight': 7, 'gamma': 0.7156254309797419}. Best is trial 7 with value: 0.9552757223805249.\n",
            "[I 2024-02-02 06:10:44,107] Trial 15 finished with value: 0.9591837432357083 and parameters: {'subsample': 0.49695192779713876, 'colsample_bytree': 0.9846242108982484, 'learning_rate': 0.07606536993509663, 'max_depth': 17, 'min_child_weight': 3, 'gamma': 0.18931950692607435}. Best is trial 15 with value: 0.9591837432357083.\n",
            "[I 2024-02-02 06:11:57,894] Trial 16 finished with value: 0.9610490854757018 and parameters: {'subsample': 0.5052659937319354, 'colsample_bytree': 0.6513106672419129, 'learning_rate': 0.09837681037383134, 'max_depth': 13, 'min_child_weight': 2, 'gamma': 0.19322641741534274}. Best is trial 16 with value: 0.9610490854757018.\n",
            "[I 2024-02-02 06:13:01,785] Trial 17 finished with value: 0.9510900236490815 and parameters: {'subsample': 0.4916848115715393, 'colsample_bytree': 0.12455720264798742, 'learning_rate': 0.09918932713773976, 'max_depth': 13, 'min_child_weight': 3, 'gamma': 0.13838941295559076}. Best is trial 16 with value: 0.9610490854757018.\n",
            "[I 2024-02-02 06:13:43,456] Trial 18 finished with value: 0.9472219812814688 and parameters: {'subsample': 0.5465879864341258, 'colsample_bytree': 0.6693437170797156, 'learning_rate': 0.0814721821112818, 'max_depth': 8, 'min_child_weight': 9, 'gamma': 0.03766355146224132}. Best is trial 16 with value: 0.9610490854757018.\n",
            "[I 2024-02-02 06:14:44,081] Trial 19 finished with value: 0.956709594717118 and parameters: {'subsample': 0.28088996067611766, 'colsample_bytree': 0.4041115061138, 'learning_rate': 0.0979576684457046, 'max_depth': 13, 'min_child_weight': 2, 'gamma': 0.21869306123795462}. Best is trial 16 with value: 0.9610490854757018.\n",
            "[I 2024-02-02 06:15:44,096] Trial 20 finished with value: 0.9562020475937392 and parameters: {'subsample': 0.7174545002422985, 'colsample_bytree': 0.28820559541449237, 'learning_rate': 0.08128138714465716, 'max_depth': 15, 'min_child_weight': 12, 'gamma': 0.21520693968654833}. Best is trial 16 with value: 0.9610490854757018.\n",
            "[I 2024-02-02 06:16:39,463] Trial 21 finished with value: 0.9557986445614641 and parameters: {'subsample': 0.3037814383281119, 'colsample_bytree': 0.45697602354892786, 'learning_rate': 0.09895697063895088, 'max_depth': 11, 'min_child_weight': 2, 'gamma': 0.21781095741116585}. Best is trial 16 with value: 0.9610490854757018.\n",
            "[I 2024-02-02 06:17:48,555] Trial 22 finished with value: 0.960253318914248 and parameters: {'subsample': 0.5271751468083679, 'colsample_bytree': 0.6336580755387937, 'learning_rate': 0.09036880687395762, 'max_depth': 13, 'min_child_weight': 3, 'gamma': 0.1361299222267615}. Best is trial 16 with value: 0.9610490854757018.\n",
            "[I 2024-02-02 06:18:26,268] Trial 23 finished with value: 0.9446692491605637 and parameters: {'subsample': 0.5597196920590533, 'colsample_bytree': 0.6352987244249266, 'learning_rate': 0.08892066785231205, 'max_depth': 7, 'min_child_weight': 8, 'gamma': 0.10746532577820578}. Best is trial 16 with value: 0.9610490854757018.\n",
            "[I 2024-02-02 06:19:46,652] Trial 24 finished with value: 0.959461736575153 and parameters: {'subsample': 0.529813791788266, 'colsample_bytree': 0.6536512872143171, 'learning_rate': 0.07298836066084624, 'max_depth': 14, 'min_child_weight': 3, 'gamma': 0.0664246515033578}. Best is trial 16 with value: 0.9610490854757018.\n",
            "[I 2024-02-02 06:20:38,346] Trial 25 finished with value: 0.9429058794064262 and parameters: {'subsample': 0.10797535976173422, 'colsample_bytree': 0.6506705715256249, 'learning_rate': 0.06844910756265402, 'max_depth': 12, 'min_child_weight': 3, 'gamma': 0.05286949117490958}. Best is trial 16 with value: 0.9610490854757018.\n",
            "[I 2024-02-02 06:21:43,772] Trial 26 finished with value: 0.9604655076926257 and parameters: {'subsample': 0.6116986860803185, 'colsample_bytree': 0.48611454782661034, 'learning_rate': 0.08953451220243308, 'max_depth': 14, 'min_child_weight': 4, 'gamma': 0.2748003279689955}. Best is trial 16 with value: 0.9610490854757018.\n",
            "[I 2024-02-02 06:22:30,956] Trial 27 finished with value: 0.9541819439475621 and parameters: {'subsample': 0.6099756860935837, 'colsample_bytree': 0.4833146052242111, 'learning_rate': 0.08743674730401725, 'max_depth': 9, 'min_child_weight': 5, 'gamma': 0.27345078608932527}. Best is trial 16 with value: 0.9610490854757018.\n",
            "[I 2024-02-02 06:23:29,903] Trial 28 finished with value: 0.9589596324377107 and parameters: {'subsample': 0.7404406720801892, 'colsample_bytree': 0.2721061464954433, 'learning_rate': 0.09241658054856988, 'max_depth': 11, 'min_child_weight': 1, 'gamma': 0.2987175627747744}. Best is trial 16 with value: 0.9610490854757018.\n",
            "[I 2024-02-02 06:24:54,298] Trial 29 finished with value: 0.9580142217370912 and parameters: {'subsample': 0.41068204058838553, 'colsample_bytree': 0.49206907278209916, 'learning_rate': 0.062451452866489954, 'max_depth': 14, 'min_child_weight': 1, 'gamma': 0.49955551762544015}. Best is trial 16 with value: 0.9610490854757018.\n",
            "[I 2024-02-02 06:25:51,685] Trial 30 finished with value: 0.9572822749119824 and parameters: {'subsample': 0.6200298637206819, 'colsample_bytree': 0.5787612347240572, 'learning_rate': 0.08373214792176907, 'max_depth': 12, 'min_child_weight': 8, 'gamma': 0.1381197785662185}. Best is trial 16 with value: 0.9610490854757018.\n",
            "[I 2024-02-02 06:27:05,938] Trial 31 finished with value: 0.9589479120810872 and parameters: {'subsample': 0.5573355805580197, 'colsample_bytree': 0.6123882306455143, 'learning_rate': 0.07556335606466255, 'max_depth': 14, 'min_child_weight': 4, 'gamma': 0.09448746133172907}. Best is trial 16 with value: 0.9610490854757018.\n",
            "[I 2024-02-02 06:28:16,246] Trial 32 finished with value: 0.9602530418686216 and parameters: {'subsample': 0.5071927194561112, 'colsample_bytree': 0.6799593232639531, 'learning_rate': 0.09299997760690729, 'max_depth': 15, 'min_child_weight': 4, 'gamma': 0.17250803170487106}. Best is trial 16 with value: 0.9610490854757018.\n",
            "[I 2024-02-02 06:29:23,975] Trial 33 finished with value: 0.9594132976006182 and parameters: {'subsample': 0.4699618090938104, 'colsample_bytree': 0.7048519593968283, 'learning_rate': 0.09140161533791735, 'max_depth': 16, 'min_child_weight': 6, 'gamma': 0.1584238051504523}. Best is trial 16 with value: 0.9610490854757018.\n",
            "[I 2024-02-02 06:30:44,462] Trial 34 finished with value: 0.9618245794905129 and parameters: {'subsample': 0.6422499918916312, 'colsample_bytree': 0.8086826670660491, 'learning_rate': 0.09455797760291614, 'max_depth': 18, 'min_child_weight': 4, 'gamma': 0.2621813466616858}. Best is trial 34 with value: 0.9618245794905129.\n",
            "[I 2024-02-02 06:32:00,066] Trial 35 finished with value: 0.9614542128912876 and parameters: {'subsample': 0.6663197212882819, 'colsample_bytree': 0.792985759247889, 'learning_rate': 0.09466794193825148, 'max_depth': 18, 'min_child_weight': 2, 'gamma': 0.6675550673283792}. Best is trial 34 with value: 0.9618245794905129.\n",
            "[I 2024-02-02 06:33:26,573] Trial 36 finished with value: 0.962179263295949 and parameters: {'subsample': 0.7874269301851476, 'colsample_bytree': 0.8279953910591581, 'learning_rate': 0.08355746968362396, 'max_depth': 18, 'min_child_weight': 2, 'gamma': 0.6147593160647901}. Best is trial 36 with value: 0.962179263295949.\n",
            "[I 2024-02-02 06:34:50,767] Trial 37 finished with value: 0.9616114412512144 and parameters: {'subsample': 0.7714385614137347, 'colsample_bytree': 0.8486275453445865, 'learning_rate': 0.0837034310647521, 'max_depth': 18, 'min_child_weight': 2, 'gamma': 0.6754029759294398}. Best is trial 36 with value: 0.962179263295949.\n",
            "[I 2024-02-02 06:35:54,878] Trial 38 finished with value: 0.9578448177954245 and parameters: {'subsample': 0.7931363855700505, 'colsample_bytree': 0.8365247323949507, 'learning_rate': 0.08408062054660725, 'max_depth': 18, 'min_child_weight': 15, 'gamma': 0.6678810804341901}. Best is trial 36 with value: 0.962179263295949.\n",
            "[I 2024-02-02 06:37:39,584] Trial 39 finished with value: 0.9613644937516154 and parameters: {'subsample': 0.8234849870764692, 'colsample_bytree': 0.8573569052964334, 'learning_rate': 0.07030229269405497, 'max_depth': 19, 'min_child_weight': 1, 'gamma': 0.5883070745107217}. Best is trial 36 with value: 0.962179263295949.\n"
          ]
        },
        {
          "name": "stdout",
          "output_type": "stream",
          "text": [
            "최적 매개변수: {'subsample': 0.7874269301851476, 'colsample_bytree': 0.8279953910591581, 'learning_rate': 0.08355746968362396, 'max_depth': 18, 'min_child_weight': 2, 'gamma': 0.6147593160647901}\n",
            "최종 모델의 F1-score: 0.9619246519771174\n"
          ]
        }
      ],
      "source": [
        "#XGB optuna\n",
        "from sklearn.model_selection import train_test_split\n",
        "from sklearn.preprocessing import LabelEncoder\n",
        "import xgboost as xgb\n",
        "import optuna\n",
        "from sklearn.metrics import f1_score\n",
        "# 목표 변수 라벨 인코딩\n",
        "label_encoder = LabelEncoder()\n",
        "y_train_encoded = label_encoder.fit_transform(y_train)\n",
        "y_test_encoded = label_encoder.transform(y_test)\n",
        "\n",
        "# Optuna 최적화를 위한 목적 함수 정의\n",
        "def objective(trial):\n",
        "    params = {\n",
        "        'objective': 'multi:softprob',\n",
        "        'num_class': 7,\n",
        "        'booster': 'gbtree',\n",
        "        'eval_metric': 'mlogloss',\n",
        "        'subsample': trial.suggest_float('subsample', 0.1, 1.0),\n",
        "        'colsample_bytree': trial.suggest_float('colsample_bytree', 0.1, 1.0),\n",
        "        'learning_rate': trial.suggest_float('learning_rate', 0.001, 0.1),\n",
        "        'max_depth': trial.suggest_int('max_depth', 3, 20),\n",
        "        'min_child_weight': trial.suggest_int('min_child_weight', 1, 20),\n",
        "        'gamma': trial.suggest_float('gamma', 0.0, 1.0),\n",
        "        'random_state' : 42\n",
        "    }\n",
        "\n",
        "    model = xgb.XGBClassifier(**params)\n",
        "    model.fit(X_train, y_train_encoded)\n",
        "    y_pred = model.predict(X_test)\n",
        "    f1 = f1_score(y_test_encoded, y_pred, average='weighted')\n",
        "\n",
        "    return f1\n",
        "\n",
        "# Optuna 스터디 설정\n",
        "study = optuna.create_study(direction='maximize')\n",
        "study.optimize(objective, n_trials = 35)\n",
        "\n",
        "# 최적화된 매개변수 출력\n",
        "xgb_best_params = study.best_params\n",
        "print(f\"최적 매개변수: {xgb_best_params}\")\n",
        "\n",
        "# 최적 매개변수로 최종 모델 훈련\n",
        "best_model = xgb.XGBClassifier(**xgb_best_params)\n",
        "best_model.fit(X_train, y_train_encoded)\n",
        "\n",
        "# 최종 모델로 테스트 세트에 대한 예측\n",
        "y_pred_final = best_model.predict(X_test)\n",
        "\n",
        "# 예측 결과 디코딩\n",
        "y_pred_final_decoded = label_encoder.inverse_transform(y_pred_final)\n",
        "\n",
        "# 최종 모델 성능 평가\n",
        "f1_final = f1_score(y_test, y_pred_final_decoded, average='weighted')\n",
        "print(f\"최종 모델의 F1-score: {f1_final}\")\n"
      ]
    },
    {
      "cell_type": "markdown",
      "metadata": {
        "id": "WIl0wQda18NV"
      },
      "source": [
        "# shap"
      ]
    },
    {
      "cell_type": "code",
      "execution_count": 32,
      "metadata": {
        "colab": {
          "base_uri": "https://localhost:8080/"
        },
        "id": "KOJoRhwtG1LV",
        "outputId": "23582955-4616-414d-fdf8-abfead539c57"
      },
      "outputs": [
        {
          "name": "stdout",
          "output_type": "stream",
          "text": [
            "Collecting shap\n",
            "  Downloading shap-0.44.1-cp310-cp310-manylinux_2_12_x86_64.manylinux2010_x86_64.manylinux_2_17_x86_64.manylinux2014_x86_64.whl (535 kB)\n",
            "\u001b[2K     \u001b[90m━━━━━━━━━━━━━━━━━━━━━━━━━━━━━━━━━━━━━━━━\u001b[0m \u001b[32m535.7/535.7 kB\u001b[0m \u001b[31m3.9 MB/s\u001b[0m eta \u001b[36m0:00:00\u001b[0m\n",
            "\u001b[?25hRequirement already satisfied: numpy in /usr/local/lib/python3.10/dist-packages (from shap) (1.23.5)\n",
            "Requirement already satisfied: scipy in /usr/local/lib/python3.10/dist-packages (from shap) (1.11.4)\n",
            "Requirement already satisfied: scikit-learn in /usr/local/lib/python3.10/dist-packages (from shap) (1.2.2)\n",
            "Requirement already satisfied: pandas in /usr/local/lib/python3.10/dist-packages (from shap) (1.5.3)\n",
            "Requirement already satisfied: tqdm>=4.27.0 in /usr/local/lib/python3.10/dist-packages (from shap) (4.66.1)\n",
            "Requirement already satisfied: packaging>20.9 in /usr/local/lib/python3.10/dist-packages (from shap) (23.2)\n",
            "Collecting slicer==0.0.7 (from shap)\n",
            "  Downloading slicer-0.0.7-py3-none-any.whl (14 kB)\n",
            "Requirement already satisfied: numba in /usr/local/lib/python3.10/dist-packages (from shap) (0.58.1)\n",
            "Requirement already satisfied: cloudpickle in /usr/local/lib/python3.10/dist-packages (from shap) (2.2.1)\n",
            "Requirement already satisfied: llvmlite<0.42,>=0.41.0dev0 in /usr/local/lib/python3.10/dist-packages (from numba->shap) (0.41.1)\n",
            "Requirement already satisfied: python-dateutil>=2.8.1 in /usr/local/lib/python3.10/dist-packages (from pandas->shap) (2.8.2)\n",
            "Requirement already satisfied: pytz>=2020.1 in /usr/local/lib/python3.10/dist-packages (from pandas->shap) (2023.4)\n",
            "Requirement already satisfied: joblib>=1.1.1 in /usr/local/lib/python3.10/dist-packages (from scikit-learn->shap) (1.3.2)\n",
            "Requirement already satisfied: threadpoolctl>=2.0.0 in /usr/local/lib/python3.10/dist-packages (from scikit-learn->shap) (3.2.0)\n",
            "Requirement already satisfied: six>=1.5 in /usr/local/lib/python3.10/dist-packages (from python-dateutil>=2.8.1->pandas->shap) (1.16.0)\n",
            "Installing collected packages: slicer, shap\n",
            "Successfully installed shap-0.44.1 slicer-0.0.7\n"
          ]
        }
      ],
      "source": [
        "pip install shap"
      ]
    },
    {
      "cell_type": "code",
      "execution_count": 33,
      "metadata": {
        "colab": {
          "base_uri": "https://localhost:8080/",
          "height": 1000
        },
        "id": "mIQ9C9Lx18NV",
        "outputId": "795eb629-5a59-43ed-f306-e12ae7249493"
      },
      "outputs": [
        {
          "name": "stdout",
          "output_type": "stream",
          "text": [
            "[LightGBM] [Warning] Found whitespace in feature_names, replace with underlines\n",
            "[LightGBM] [Info] Auto-choosing row-wise multi-threading, the overhead of testing was 0.084848 seconds.\n",
            "You can set `force_row_wise=true` to remove the overhead.\n",
            "And if memory is not enough, you can set `force_col_wise=true`.\n",
            "[LightGBM] [Info] Total Bins 10304\n",
            "[LightGBM] [Info] Number of data points in the train set: 201719, number of used features: 44\n",
            "[LightGBM] [Info] Start training from score -1.945910\n",
            "[LightGBM] [Info] Start training from score -1.945910\n",
            "[LightGBM] [Info] Start training from score -1.945910\n",
            "[LightGBM] [Info] Start training from score -1.945910\n",
            "[LightGBM] [Info] Start training from score -1.945910\n",
            "[LightGBM] [Info] Start training from score -1.945910\n",
            "[LightGBM] [Info] Start training from score -1.945910\n"
          ]
        },
        {
          "data": {
            "image/png": "[encoded data removed]",
            "text/plain": [
              "<Figure size 800x950 with 1 Axes>"
            ]
          },
          "metadata": {},
          "output_type": "display_data"
        },
        {
          "data": {
            "text/html": [
              "\n",
              "  <div id=\"df-0fc5a4b5-70b2-4210-8d50-829a1cf21fde\" class=\"colab-df-container\">\n",
              "    <div>\n",
              "<style scoped>\n",
              "    .dataframe tbody tr th:only-of-type {\n",
              "        vertical-align: middle;\n",
              "    }\n",
              "\n",
              "    .dataframe tbody tr th {\n",
              "        vertical-align: top;\n",
              "    }\n",
              "\n",
              "    .dataframe thead th {\n",
              "        text-align: right;\n",
              "    }\n",
              "</style>\n",
              "<table border=\"1\" class=\"dataframe\">\n",
              "  <thead>\n",
              "    <tr style=\"text-align: right;\">\n",
              "      <th></th>\n",
              "      <th>column_name</th>\n",
              "      <th>shap_importance</th>\n",
              "    </tr>\n",
              "  </thead>\n",
              "  <tbody>\n",
              "    <tr>\n",
              "      <th>46</th>\n",
              "      <td>LDA1</td>\n",
              "      <td>1.800554</td>\n",
              "    </tr>\n",
              "    <tr>\n",
              "      <th>31</th>\n",
              "      <td>대출금액_총상환원금_비율</td>\n",
              "      <td>0.524065</td>\n",
              "    </tr>\n",
              "    <tr>\n",
              "      <th>45</th>\n",
              "      <td>총상환원금_총상환이자_뺄</td>\n",
              "      <td>0.476742</td>\n",
              "    </tr>\n",
              "    <tr>\n",
              "      <th>37</th>\n",
              "      <td>대출대비_총상환원금_비율</td>\n",
              "      <td>0.36779</td>\n",
              "    </tr>\n",
              "    <tr>\n",
              "      <th>32</th>\n",
              "      <td>상환이자_상환원금</td>\n",
              "      <td>0.283522</td>\n",
              "    </tr>\n",
              "    <tr>\n",
              "      <th>38</th>\n",
              "      <td>대출대비_총상환이자_비율</td>\n",
              "      <td>0.225561</td>\n",
              "    </tr>\n",
              "    <tr>\n",
              "      <th>35</th>\n",
              "      <td>대출대비_총상환액_비율</td>\n",
              "      <td>0.179281</td>\n",
              "    </tr>\n",
              "    <tr>\n",
              "      <th>47</th>\n",
              "      <td>LDA2</td>\n",
              "      <td>0.146024</td>\n",
              "    </tr>\n",
              "    <tr>\n",
              "      <th>1</th>\n",
              "      <td>대출기간</td>\n",
              "      <td>0.120139</td>\n",
              "    </tr>\n",
              "    <tr>\n",
              "      <th>30</th>\n",
              "      <td>대출금액_총상환이자_비율</td>\n",
              "      <td>0.103417</td>\n",
              "    </tr>\n",
              "    <tr>\n",
              "      <th>12</th>\n",
              "      <td>주택소유상태_MORTGAGE</td>\n",
              "      <td>0.077613</td>\n",
              "    </tr>\n",
              "    <tr>\n",
              "      <th>40</th>\n",
              "      <td>소득대비_총상환이자_비율</td>\n",
              "      <td>0.065984</td>\n",
              "    </tr>\n",
              "    <tr>\n",
              "      <th>16</th>\n",
              "      <td>대출목적_부채 통합</td>\n",
              "      <td>0.062648</td>\n",
              "    </tr>\n",
              "    <tr>\n",
              "      <th>18</th>\n",
              "      <td>대출목적_신용 카드</td>\n",
              "      <td>0.05657</td>\n",
              "    </tr>\n",
              "    <tr>\n",
              "      <th>2</th>\n",
              "      <td>근로기간</td>\n",
              "      <td>0.04895</td>\n",
              "    </tr>\n",
              "    <tr>\n",
              "      <th>14</th>\n",
              "      <td>주택소유상태_RENT</td>\n",
              "      <td>0.043783</td>\n",
              "    </tr>\n",
              "    <tr>\n",
              "      <th>4</th>\n",
              "      <td>부채_대비_소득_비율</td>\n",
              "      <td>0.042973</td>\n",
              "    </tr>\n",
              "    <tr>\n",
              "      <th>15</th>\n",
              "      <td>대출목적_기타</td>\n",
              "      <td>0.034071</td>\n",
              "    </tr>\n",
              "    <tr>\n",
              "      <th>42</th>\n",
              "      <td>기간대비_총상환이자_비율</td>\n",
              "      <td>0.030034</td>\n",
              "    </tr>\n",
              "    <tr>\n",
              "      <th>29</th>\n",
              "      <td>계좌수</td>\n",
              "      <td>0.028096</td>\n",
              "    </tr>\n",
              "    <tr>\n",
              "      <th>41</th>\n",
              "      <td>기간대비_총상환원금_비율</td>\n",
              "      <td>0.027058</td>\n",
              "    </tr>\n",
              "    <tr>\n",
              "      <th>39</th>\n",
              "      <td>소득대비_총상환원금_비율</td>\n",
              "      <td>0.026484</td>\n",
              "    </tr>\n",
              "    <tr>\n",
              "      <th>7</th>\n",
              "      <td>총상환이자</td>\n",
              "      <td>0.023731</td>\n",
              "    </tr>\n",
              "    <tr>\n",
              "      <th>28</th>\n",
              "      <td>월_대출대비_소득비율</td>\n",
              "      <td>0.022891</td>\n",
              "    </tr>\n",
              "    <tr>\n",
              "      <th>3</th>\n",
              "      <td>연간소득</td>\n",
              "      <td>0.022531</td>\n",
              "    </tr>\n",
              "    <tr>\n",
              "      <th>13</th>\n",
              "      <td>주택소유상태_OWN</td>\n",
              "      <td>0.021892</td>\n",
              "    </tr>\n",
              "    <tr>\n",
              "      <th>6</th>\n",
              "      <td>총상환원금</td>\n",
              "      <td>0.01987</td>\n",
              "    </tr>\n",
              "    <tr>\n",
              "      <th>36</th>\n",
              "      <td>기간대비_총상환액_비율</td>\n",
              "      <td>0.019595</td>\n",
              "    </tr>\n",
              "    <tr>\n",
              "      <th>34</th>\n",
              "      <td>소득대비_총상환액_비율</td>\n",
              "      <td>0.019343</td>\n",
              "    </tr>\n",
              "    <tr>\n",
              "      <th>43</th>\n",
              "      <td>월_이자_지불액</td>\n",
              "      <td>0.017551</td>\n",
              "    </tr>\n",
              "    <tr>\n",
              "      <th>5</th>\n",
              "      <td>최근_2년간_연체_횟수</td>\n",
              "      <td>0.015126</td>\n",
              "    </tr>\n",
              "    <tr>\n",
              "      <th>0</th>\n",
              "      <td>대출금액</td>\n",
              "      <td>0.013389</td>\n",
              "    </tr>\n",
              "    <tr>\n",
              "      <th>44</th>\n",
              "      <td>총상환원금_총상환이자_곱</td>\n",
              "      <td>0.013386</td>\n",
              "    </tr>\n",
              "    <tr>\n",
              "      <th>33</th>\n",
              "      <td>총상환액</td>\n",
              "      <td>0.012694</td>\n",
              "    </tr>\n",
              "    <tr>\n",
              "      <th>27</th>\n",
              "      <td>월_대출금액</td>\n",
              "      <td>0.010044</td>\n",
              "    </tr>\n",
              "    <tr>\n",
              "      <th>17</th>\n",
              "      <td>대출목적_소규모 사업</td>\n",
              "      <td>0.008344</td>\n",
              "    </tr>\n",
              "    <tr>\n",
              "      <th>25</th>\n",
              "      <td>대출목적_주택 개선</td>\n",
              "      <td>0.006413</td>\n",
              "    </tr>\n",
              "    <tr>\n",
              "      <th>24</th>\n",
              "      <td>대출목적_주택</td>\n",
              "      <td>0.003003</td>\n",
              "    </tr>\n",
              "    <tr>\n",
              "      <th>23</th>\n",
              "      <td>대출목적_주요 구매</td>\n",
              "      <td>0.001448</td>\n",
              "    </tr>\n",
              "    <tr>\n",
              "      <th>20</th>\n",
              "      <td>대출목적_이사</td>\n",
              "      <td>0.001031</td>\n",
              "    </tr>\n",
              "    <tr>\n",
              "      <th>21</th>\n",
              "      <td>대출목적_자동차</td>\n",
              "      <td>0.000721</td>\n",
              "    </tr>\n",
              "    <tr>\n",
              "      <th>19</th>\n",
              "      <td>대출목적_의료</td>\n",
              "      <td>0.000399</td>\n",
              "    </tr>\n",
              "    <tr>\n",
              "      <th>26</th>\n",
              "      <td>대출목적_휴가</td>\n",
              "      <td>0.000103</td>\n",
              "    </tr>\n",
              "    <tr>\n",
              "      <th>22</th>\n",
              "      <td>대출목적_재생 에너지</td>\n",
              "      <td>0.0</td>\n",
              "    </tr>\n",
              "    <tr>\n",
              "      <th>11</th>\n",
              "      <td>주택소유상태_ANY</td>\n",
              "      <td>0.0</td>\n",
              "    </tr>\n",
              "    <tr>\n",
              "      <th>10</th>\n",
              "      <td>상환여부_이자</td>\n",
              "      <td>0.0</td>\n",
              "    </tr>\n",
              "    <tr>\n",
              "      <th>9</th>\n",
              "      <td>상환여부_원금</td>\n",
              "      <td>0.0</td>\n",
              "    </tr>\n",
              "    <tr>\n",
              "      <th>8</th>\n",
              "      <td>상환여부</td>\n",
              "      <td>0.0</td>\n",
              "    </tr>\n",
              "  </tbody>\n",
              "</table>\n",
              "</div>\n",
              "    <div class=\"colab-df-buttons\">\n",
              "\n",
              "  <div class=\"colab-df-container\">\n",
              "    <button class=\"colab-df-convert\" onclick=\"convertToInteractive('df-0fc5a4b5-70b2-4210-8d50-829a1cf21fde')\"\n",
              "            title=\"Convert this dataframe to an interactive table.\"\n",
              "            style=\"display:none;\">\n",
              "\n",
              "  <svg xmlns=\"http://www.w3.org/2000/svg\" height=\"24px\" viewBox=\"0 -960 960 960\">\n",
              "    <path d=\"M120-120v-720h720v720H120Zm60-500h600v-160H180v160Zm220 220h160v-160H400v160Zm0 220h160v-160H400v160ZM180-400h160v-160H180v160Zm440 0h160v-160H620v160ZM180-180h160v-160H180v160Zm440 0h160v-160H620v160Z\"/>\n",
              "  </svg>\n",
              "    </button>\n",
              "\n",
              "  <style>\n",
              "    .colab-df-container {\n",
              "      display:flex;\n",
              "      gap: 12px;\n",
              "    }\n",
              "\n",
              "    .colab-df-convert {\n",
              "      background-color: #E8F0FE;\n",
              "      border: none;\n",
              "      border-radius: 50%;\n",
              "      cursor: pointer;\n",
              "      display: none;\n",
              "      fill: #1967D2;\n",
              "      height: 32px;\n",
              "      padding: 0 0 0 0;\n",
              "      width: 32px;\n",
              "    }\n",
              "\n",
              "    .colab-df-convert:hover {\n",
              "      background-color: #E2EBFA;\n",
              "      box-shadow: 0px 1px 2px rgba(60, 64, 67, 0.3), 0px 1px 3px 1px rgba(60, 64, 67, 0.15);\n",
              "      fill: #174EA6;\n",
              "    }\n",
              "\n",
              "    .colab-df-buttons div {\n",
              "      margin-bottom: 4px;\n",
              "    }\n",
              "\n",
              "    [theme=dark] .colab-df-convert {\n",
              "      background-color: #3B4455;\n",
              "      fill: #D2E3FC;\n",
              "    }\n",
              "\n",
              "    [theme=dark] .colab-df-convert:hover {\n",
              "      background-color: #434B5C;\n",
              "      box-shadow: 0px 1px 3px 1px rgba(0, 0, 0, 0.15);\n",
              "      filter: drop-shadow(0px 1px 2px rgba(0, 0, 0, 0.3));\n",
              "      fill: #FFFFFF;\n",
              "    }\n",
              "  </style>\n",
              "\n",
              "    <script>\n",
              "      const buttonEl =\n",
              "        document.querySelector('#df-0fc5a4b5-70b2-4210-8d50-829a1cf21fde button.colab-df-convert');\n",
              "      buttonEl.style.display =\n",
              "        google.colab.kernel.accessAllowed ? 'block' : 'none';\n",
              "\n",
              "      async function convertToInteractive(key) {\n",
              "        const element = document.querySelector('#df-0fc5a4b5-70b2-4210-8d50-829a1cf21fde');\n",
              "        const dataTable =\n",
              "          await google.colab.kernel.invokeFunction('convertToInteractive',\n",
              "                                                    [key], {});\n",
              "        if (!dataTable) return;\n",
              "\n",
              "        const docLinkHtml = 'Like what you see? Visit the ' +\n",
              "          '<a target=\"_blank\" href=https://colab.research.google.com/notebooks/data_table.ipynb>data table notebook</a>'\n",
              "          + ' to learn more about interactive tables.';\n",
              "        element.innerHTML = '';\n",
              "        dataTable['output_type'] = 'display_data';\n",
              "        await google.colab.output.renderOutput(dataTable, element);\n",
              "        const docLink = document.createElement('div');\n",
              "        docLink.innerHTML = docLinkHtml;\n",
              "        element.appendChild(docLink);\n",
              "      }\n",
              "    </script>\n",
              "  </div>\n",
              "\n",
              "\n",
              "<div id=\"df-7f9296fb-da29-44f9-ba5e-e50f85307481\">\n",
              "  <button class=\"colab-df-quickchart\" onclick=\"quickchart('df-7f9296fb-da29-44f9-ba5e-e50f85307481')\"\n",
              "            title=\"Suggest charts\"\n",
              "            style=\"display:none;\">\n",
              "\n",
              "<svg xmlns=\"http://www.w3.org/2000/svg\" height=\"24px\"viewBox=\"0 0 24 24\"\n",
              "     width=\"24px\">\n",
              "    <g>\n",
              "        <path d=\"M19 3H5c-1.1 0-2 .9-2 2v14c0 1.1.9 2 2 2h14c1.1 0 2-.9 2-2V5c0-1.1-.9-2-2-2zM9 17H7v-7h2v7zm4 0h-2V7h2v10zm4 0h-2v-4h2v4z\"/>\n",
              "    </g>\n",
              "</svg>\n",
              "  </button>\n",
              "\n",
              "<style>\n",
              "  .colab-df-quickchart {\n",
              "      --bg-color: #E8F0FE;\n",
              "      --fill-color: #1967D2;\n",
              "      --hover-bg-color: #E2EBFA;\n",
              "      --hover-fill-color: #174EA6;\n",
              "      --disabled-fill-color: #AAA;\n",
              "      --disabled-bg-color: #DDD;\n",
              "  }\n",
              "\n",
              "  [theme=dark] .colab-df-quickchart {\n",
              "      --bg-color: #3B4455;\n",
              "      --fill-color: #D2E3FC;\n",
              "      --hover-bg-color: #434B5C;\n",
              "      --hover-fill-color: #FFFFFF;\n",
              "      --disabled-bg-color: #3B4455;\n",
              "      --disabled-fill-color: #666;\n",
              "  }\n",
              "\n",
              "  .colab-df-quickchart {\n",
              "    background-color: var(--bg-color);\n",
              "    border: none;\n",
              "    border-radius: 50%;\n",
              "    cursor: pointer;\n",
              "    display: none;\n",
              "    fill: var(--fill-color);\n",
              "    height: 32px;\n",
              "    padding: 0;\n",
              "    width: 32px;\n",
              "  }\n",
              "\n",
              "  .colab-df-quickchart:hover {\n",
              "    background-color: var(--hover-bg-color);\n",
              "    box-shadow: 0 1px 2px rgba(60, 64, 67, 0.3), 0 1px 3px 1px rgba(60, 64, 67, 0.15);\n",
              "    fill: var(--button-hover-fill-color);\n",
              "  }\n",
              "\n",
              "  .colab-df-quickchart-complete:disabled,\n",
              "  .colab-df-quickchart-complete:disabled:hover {\n",
              "    background-color: var(--disabled-bg-color);\n",
              "    fill: var(--disabled-fill-color);\n",
              "    box-shadow: none;\n",
              "  }\n",
              "\n",
              "  .colab-df-spinner {\n",
              "    border: 2px solid var(--fill-color);\n",
              "    border-color: transparent;\n",
              "    border-bottom-color: var(--fill-color);\n",
              "    animation:\n",
              "      spin 1s steps(1) infinite;\n",
              "  }\n",
              "\n",
              "  @keyframes spin {\n",
              "    0% {\n",
              "      border-color: transparent;\n",
              "      border-bottom-color: var(--fill-color);\n",
              "      border-left-color: var(--fill-color);\n",
              "    }\n",
              "    20% {\n",
              "      border-color: transparent;\n",
              "      border-left-color: var(--fill-color);\n",
              "      border-top-color: var(--fill-color);\n",
              "    }\n",
              "    30% {\n",
              "      border-color: transparent;\n",
              "      border-left-color: var(--fill-color);\n",
              "      border-top-color: var(--fill-color);\n",
              "      border-right-color: var(--fill-color);\n",
              "    }\n",
              "    40% {\n",
              "      border-color: transparent;\n",
              "      border-right-color: var(--fill-color);\n",
              "      border-top-color: var(--fill-color);\n",
              "    }\n",
              "    60% {\n",
              "      border-color: transparent;\n",
              "      border-right-color: var(--fill-color);\n",
              "    }\n",
              "    80% {\n",
              "      border-color: transparent;\n",
              "      border-right-color: var(--fill-color);\n",
              "      border-bottom-color: var(--fill-color);\n",
              "    }\n",
              "    90% {\n",
              "      border-color: transparent;\n",
              "      border-bottom-color: var(--fill-color);\n",
              "    }\n",
              "  }\n",
              "</style>\n",
              "\n",
              "  <script>\n",
              "    async function quickchart(key) {\n",
              "      const quickchartButtonEl =\n",
              "        document.querySelector('#' + key + ' button');\n",
              "      quickchartButtonEl.disabled = true;  // To prevent multiple clicks.\n",
              "      quickchartButtonEl.classList.add('colab-df-spinner');\n",
              "      try {\n",
              "        const charts = await google.colab.kernel.invokeFunction(\n",
              "            'suggestCharts', [key], {});\n",
              "      } catch (error) {\n",
              "        console.error('Error during call to suggestCharts:', error);\n",
              "      }\n",
              "      quickchartButtonEl.classList.remove('colab-df-spinner');\n",
              "      quickchartButtonEl.classList.add('colab-df-quickchart-complete');\n",
              "    }\n",
              "    (() => {\n",
              "      let quickchartButtonEl =\n",
              "        document.querySelector('#df-7f9296fb-da29-44f9-ba5e-e50f85307481 button');\n",
              "      quickchartButtonEl.style.display =\n",
              "        google.colab.kernel.accessAllowed ? 'block' : 'none';\n",
              "    })();\n",
              "  </script>\n",
              "</div>\n",
              "\n",
              "  <div id=\"id_cd5b51a3-2f9b-4e01-b4b2-d489a32f8952\">\n",
              "    <style>\n",
              "      .colab-df-generate {\n",
              "        background-color: #E8F0FE;\n",
              "        border: none;\n",
              "        border-radius: 50%;\n",
              "        cursor: pointer;\n",
              "        display: none;\n",
              "        fill: #1967D2;\n",
              "        height: 32px;\n",
              "        padding: 0 0 0 0;\n",
              "        width: 32px;\n",
              "      }\n",
              "\n",
              "      .colab-df-generate:hover {\n",
              "        background-color: #E2EBFA;\n",
              "        box-shadow: 0px 1px 2px rgba(60, 64, 67, 0.3), 0px 1px 3px 1px rgba(60, 64, 67, 0.15);\n",
              "        fill: #174EA6;\n",
              "      }\n",
              "\n",
              "      [theme=dark] .colab-df-generate {\n",
              "        background-color: #3B4455;\n",
              "        fill: #D2E3FC;\n",
              "      }\n",
              "\n",
              "      [theme=dark] .colab-df-generate:hover {\n",
              "        background-color: #434B5C;\n",
              "        box-shadow: 0px 1px 3px 1px rgba(0, 0, 0, 0.15);\n",
              "        filter: drop-shadow(0px 1px 2px rgba(0, 0, 0, 0.3));\n",
              "        fill: #FFFFFF;\n",
              "      }\n",
              "    </style>\n",
              "    <button class=\"colab-df-generate\" onclick=\"generateWithVariable('importance_df')\"\n",
              "            title=\"Generate code using this dataframe.\"\n",
              "            style=\"display:none;\">\n",
              "\n",
              "  <svg xmlns=\"http://www.w3.org/2000/svg\" height=\"24px\"viewBox=\"0 0 24 24\"\n",
              "       width=\"24px\">\n",
              "    <path d=\"M7,19H8.4L18.45,9,17,7.55,7,17.6ZM5,21V16.75L18.45,3.32a2,2,0,0,1,2.83,0l1.4,1.43a1.91,1.91,0,0,1,.58,1.4,1.91,1.91,0,0,1-.58,1.4L9.25,21ZM18.45,9,17,7.55Zm-12,3A5.31,5.31,0,0,0,4.9,8.1,5.31,5.31,0,0,0,1,6.5,5.31,5.31,0,0,0,4.9,4.9,5.31,5.31,0,0,0,6.5,1,5.31,5.31,0,0,0,8.1,4.9,5.31,5.31,0,0,0,12,6.5,5.46,5.46,0,0,0,6.5,12Z\"/>\n",
              "  </svg>\n",
              "    </button>\n",
              "    <script>\n",
              "      (() => {\n",
              "      const buttonEl =\n",
              "        document.querySelector('#id_cd5b51a3-2f9b-4e01-b4b2-d489a32f8952 button.colab-df-generate');\n",
              "      buttonEl.style.display =\n",
              "        google.colab.kernel.accessAllowed ? 'block' : 'none';\n",
              "\n",
              "      buttonEl.onclick = () => {\n",
              "        google.colab.notebook.generateWithVariable('importance_df');\n",
              "      }\n",
              "      })();\n",
              "    </script>\n",
              "  </div>\n",
              "\n",
              "    </div>\n",
              "  </div>\n"
            ],
            "text/plain": [
              "        column_name shap_importance\n",
              "46             LDA1        1.800554\n",
              "31    대출금액_총상환원금_비율        0.524065\n",
              "45    총상환원금_총상환이자_뺄        0.476742\n",
              "37    대출대비_총상환원금_비율         0.36779\n",
              "32        상환이자_상환원금        0.283522\n",
              "38    대출대비_총상환이자_비율        0.225561\n",
              "35     대출대비_총상환액_비율        0.179281\n",
              "47             LDA2        0.146024\n",
              "1              대출기간        0.120139\n",
              "30    대출금액_총상환이자_비율        0.103417\n",
              "12  주택소유상태_MORTGAGE        0.077613\n",
              "40    소득대비_총상환이자_비율        0.065984\n",
              "16       대출목적_부채 통합        0.062648\n",
              "18       대출목적_신용 카드         0.05657\n",
              "2              근로기간         0.04895\n",
              "14      주택소유상태_RENT        0.043783\n",
              "4       부채_대비_소득_비율        0.042973\n",
              "15          대출목적_기타        0.034071\n",
              "42    기간대비_총상환이자_비율        0.030034\n",
              "29              계좌수        0.028096\n",
              "41    기간대비_총상환원금_비율        0.027058\n",
              "39    소득대비_총상환원금_비율        0.026484\n",
              "7             총상환이자        0.023731\n",
              "28      월_대출대비_소득비율        0.022891\n",
              "3              연간소득        0.022531\n",
              "13       주택소유상태_OWN        0.021892\n",
              "6             총상환원금         0.01987\n",
              "36     기간대비_총상환액_비율        0.019595\n",
              "34     소득대비_총상환액_비율        0.019343\n",
              "43         월_이자_지불액        0.017551\n",
              "5      최근_2년간_연체_횟수        0.015126\n",
              "0              대출금액        0.013389\n",
              "44    총상환원금_총상환이자_곱        0.013386\n",
              "33             총상환액        0.012694\n",
              "27           월_대출금액        0.010044\n",
              "17      대출목적_소규모 사업        0.008344\n",
              "25       대출목적_주택 개선        0.006413\n",
              "24          대출목적_주택        0.003003\n",
              "23       대출목적_주요 구매        0.001448\n",
              "20          대출목적_이사        0.001031\n",
              "21         대출목적_자동차        0.000721\n",
              "19          대출목적_의료        0.000399\n",
              "26          대출목적_휴가        0.000103\n",
              "22      대출목적_재생 에너지             0.0\n",
              "11       주택소유상태_ANY             0.0\n",
              "10          상환여부_이자             0.0\n",
              "9           상환여부_원금             0.0\n",
              "8              상환여부             0.0"
            ]
          },
          "execution_count": 33,
          "metadata": {},
          "output_type": "execute_result"
        }
      ],
      "source": [
        "# FEATURE SELECTION\n",
        "import shap\n",
        "X_importance = lda_test_x\n",
        "\n",
        "model = LGBMClassifier(**lgbm_best_params).fit(X_resampled, y_resampled)\n",
        "explainer = shap.TreeExplainer(model)\n",
        "shap_values = explainer.shap_values(X_importance)\n",
        "\n",
        "shap.summary_plot(shap_values, X_importance, plot_type='bar')\n",
        "\n",
        "shap_sum = np.abs(shap_values).mean(axis=1)[1,:]\n",
        "importance_df = pd.DataFrame([X_importance.columns.tolist(), shap_sum.tolist()]).T\n",
        "importance_df.columns = ['column_name', 'shap_importance']\n",
        "importance_df = importance_df.sort_values('shap_importance', ascending=False)\n",
        "importance_df"
      ]
    },
    {
      "cell_type": "code",
      "execution_count": 34,
      "metadata": {
        "id": "ob9AIqCQ18NV"
      },
      "outputs": [],
      "source": [
        "# 지정된(SHAP_THRESHOLD) Shap feature 중요도 이상인 것만 선택\n",
        "SHAP_THRESHOLD = 0.001\n",
        "features_selected = importance_df.query('shap_importance > @SHAP_THRESHOLD').column_name.tolist()\n",
        "X_resampled = X_resampled[features_selected]\n",
        "lda_test_x = lda_test_x[features_selected]"
      ]
    },
    {
      "cell_type": "code",
      "execution_count": 35,
      "metadata": {
        "colab": {
          "base_uri": "https://localhost:8080/"
        },
        "id": "Sed_08Wg18NV",
        "outputId": "83a43559-319e-487c-f21f-cdc2c833c5ee"
      },
      "outputs": [
        {
          "name": "stdout",
          "output_type": "stream",
          "text": [
            "[LightGBM] [Warning] Found whitespace in feature_names, replace with underlines\n",
            "[LightGBM] [Info] Auto-choosing col-wise multi-threading, the overhead of testing was 0.098292 seconds.\n",
            "You can set `force_col_wise=true` to remove the overhead.\n",
            "[LightGBM] [Info] Total Bins 9474\n",
            "[LightGBM] [Info] Number of data points in the train set: 201719, number of used features: 40\n",
            "[LightGBM] [Info] Start training from score -1.945910\n",
            "[LightGBM] [Info] Start training from score -1.945910\n",
            "[LightGBM] [Info] Start training from score -1.945910\n",
            "[LightGBM] [Info] Start training from score -1.945910\n",
            "[LightGBM] [Info] Start training from score -1.945910\n",
            "[LightGBM] [Info] Start training from score -1.945910\n",
            "[LightGBM] [Info] Start training from score -1.945910\n"
          ]
        }
      ],
      "source": [
        "xgb_clf = xgb.XGBClassifier(**xgb_best_params)\n",
        "lgbm_clf = LGBMClassifier(**lgbm_best_params)\n",
        "vote_model_clf = VotingClassifier(\n",
        "    estimators=[(\"lgbm\", lgbm_clf), (\"xgb\", xgb_clf)],\n",
        "    voting='soft'\n",
        ")\n",
        "\n",
        "# label_encoder = LabelEncoder()\n",
        "# y_train_encoded = label_encoder.fit_transform(y_resampled)\n",
        "\n",
        "vote_model_clf.fit(X_resampled, y_resampled)\n",
        "y_pred = vote_model_clf.predict(lda_test_x)"
      ]
    },
    {
      "cell_type": "code",
      "execution_count": 36,
      "metadata": {
        "colab": {
          "base_uri": "https://localhost:8080/",
          "height": 75
        },
        "id": "1AAS-lTmQVR7",
        "outputId": "bed4d12b-9254-4bf1-d013-d7a3e9f6ad64"
      },
      "outputs": [
        {
          "data": {
            "text/html": [
              "<style>#sk-container-id-1 {color: black;background-color: white;}#sk-container-id-1 pre{padding: 0;}#sk-container-id-1 div.sk-toggleable {background-color: white;}#sk-container-id-1 label.sk-toggleable__label {cursor: pointer;display: block;width: 100%;margin-bottom: 0;padding: 0.3em;box-sizing: border-box;text-align: center;}#sk-container-id-1 label.sk-toggleable__label-arrow:before {content: \"▸\";float: left;margin-right: 0.25em;color: #696969;}#sk-container-id-1 label.sk-toggleable__label-arrow:hover:before {color: black;}#sk-container-id-1 div.sk-estimator:hover label.sk-toggleable__label-arrow:before {color: black;}#sk-container-id-1 div.sk-toggleable__content {max-height: 0;max-width: 0;overflow: hidden;text-align: left;background-color: #f0f8ff;}#sk-container-id-1 div.sk-toggleable__content pre {margin: 0.2em;color: black;border-radius: 0.25em;background-color: #f0f8ff;}#sk-container-id-1 input.sk-toggleable__control:checked~div.sk-toggleable__content {max-height: 200px;max-width: 100%;overflow: auto;}#sk-container-id-1 input.sk-toggleable__control:checked~label.sk-toggleable__label-arrow:before {content: \"▾\";}#sk-container-id-1 div.sk-estimator input.sk-toggleable__control:checked~label.sk-toggleable__label {background-color: #d4ebff;}#sk-container-id-1 div.sk-label input.sk-toggleable__control:checked~label.sk-toggleable__label {background-color: #d4ebff;}#sk-container-id-1 input.sk-hidden--visually {border: 0;clip: rect(1px 1px 1px 1px);clip: rect(1px, 1px, 1px, 1px);height: 1px;margin: -1px;overflow: hidden;padding: 0;position: absolute;width: 1px;}#sk-container-id-1 div.sk-estimator {font-family: monospace;background-color: #f0f8ff;border: 1px dotted black;border-radius: 0.25em;box-sizing: border-box;margin-bottom: 0.5em;}#sk-container-id-1 div.sk-estimator:hover {background-color: #d4ebff;}#sk-container-id-1 div.sk-parallel-item::after {content: \"\";width: 100%;border-bottom: 1px solid gray;flex-grow: 1;}#sk-container-id-1 div.sk-label:hover label.sk-toggleable__label {background-color: #d4ebff;}#sk-container-id-1 div.sk-serial::before {content: \"\";position: absolute;border-left: 1px solid gray;box-sizing: border-box;top: 0;bottom: 0;left: 50%;z-index: 0;}#sk-container-id-1 div.sk-serial {display: flex;flex-direction: column;align-items: center;background-color: white;padding-right: 0.2em;padding-left: 0.2em;position: relative;}#sk-container-id-1 div.sk-item {position: relative;z-index: 1;}#sk-container-id-1 div.sk-parallel {display: flex;align-items: stretch;justify-content: center;background-color: white;position: relative;}#sk-container-id-1 div.sk-item::before, #sk-container-id-1 div.sk-parallel-item::before {content: \"\";position: absolute;border-left: 1px solid gray;box-sizing: border-box;top: 0;bottom: 0;left: 50%;z-index: -1;}#sk-container-id-1 div.sk-parallel-item {display: flex;flex-direction: column;z-index: 1;position: relative;background-color: white;}#sk-container-id-1 div.sk-parallel-item:first-child::after {align-self: flex-end;width: 50%;}#sk-container-id-1 div.sk-parallel-item:last-child::after {align-self: flex-start;width: 50%;}#sk-container-id-1 div.sk-parallel-item:only-child::after {width: 0;}#sk-container-id-1 div.sk-dashed-wrapped {border: 1px dashed gray;margin: 0 0.4em 0.5em 0.4em;box-sizing: border-box;padding-bottom: 0.4em;background-color: white;}#sk-container-id-1 div.sk-label label {font-family: monospace;font-weight: bold;display: inline-block;line-height: 1.2em;}#sk-container-id-1 div.sk-label-container {text-align: center;}#sk-container-id-1 div.sk-container {/* jupyter's `normalize.less` sets `[hidden] { display: none; }` but bootstrap.min.css set `[hidden] { display: none !important; }` so we also need the `!important` here to be able to override the default hidden behavior on the sphinx rendered scikit-learn.org. See: https://github.com/scikit-learn/scikit-learn/issues/21755 */display: inline-block !important;position: relative;}#sk-container-id-1 div.sk-text-repr-fallback {display: none;}</style><div id=\"sk-container-id-1\" class=\"sk-top-container\"><div class=\"sk-text-repr-fallback\"><pre>LabelEncoder()</pre><b>In a Jupyter environment, please rerun this cell to show the HTML representation or trust the notebook. <br />On GitHub, the HTML representation is unable to render, please try loading this page with nbviewer.org.</b></div><div class=\"sk-container\" hidden><div class=\"sk-item\"><div class=\"sk-estimator sk-toggleable\"><input class=\"sk-toggleable__control sk-hidden--visually\" id=\"sk-estimator-id-1\" type=\"checkbox\" checked><label for=\"sk-estimator-id-1\" class=\"sk-toggleable__label sk-toggleable__label-arrow\">LabelEncoder</label><div class=\"sk-toggleable__content\"><pre>LabelEncoder()</pre></div></div></div></div></div>"
            ],
            "text/plain": [
              "LabelEncoder()"
            ]
          },
          "execution_count": 36,
          "metadata": {},
          "output_type": "execute_result"
        }
      ],
      "source": [
        "label_encoder = LabelEncoder()\n",
        "label_encoder.fit(train['대출등급'])  # y_train은 훈련 데이터의 실제 클래스 레이블"
      ]
    },
    {
      "cell_type": "code",
      "execution_count": 37,
      "metadata": {
        "colab": {
          "base_uri": "https://localhost:8080/"
        },
        "id": "XcxENwsW18NV",
        "outputId": "8d76106c-28f1-4833-f9d3-cf4bcfaf9f64"
      },
      "outputs": [
        {
          "name": "stdout",
          "output_type": "stream",
          "text": [
            "['B' 'C' 'A' ... 'D' 'C' 'A']\n"
          ]
        }
      ],
      "source": [
        "y_pred_original = label_encoder.inverse_transform(y_pred.astype(int))\n",
        "print(y_pred_original)"
      ]
    },
    {
      "cell_type": "code",
      "execution_count": 38,
      "metadata": {
        "colab": {
          "base_uri": "https://localhost:8080/"
        },
        "id": "hBQ5V9aJ6Nef",
        "outputId": "3835bcc6-44e2-494e-fb95-9c1a06f668af"
      },
      "outputs": [
        {
          "name": "stdout",
          "output_type": "stream",
          "text": [
            "'voting_submission_02월02일07시14분.csv' is ready to submit.\n"
          ]
        }
      ],
      "source": [
        "t = pd.Timestamp.now()\n",
        "fname = f\"voting_submission_{t.month:02}월{t.day:02}일{t.hour:02}시{t.minute:02}분.csv\"\n",
        "pd.DataFrame({'ID': ID_test, '대출등급': y_pred_original}).to_csv(fname, index=False)\n",
        "print(f\"'{fname}' is ready to submit.\")"
      ]
    }
  ],
  "metadata": {
    "accelerator": "TPU",
    "colab": {
      "provenance": []
    },
    "kernelspec": {
      "display_name": "Python 3",
      "name": "python3"
    },
    "language_info": {
      "codemirror_mode": {
        "name": "ipython",
        "version": 3
      },
      "file_extension": ".py",
      "mimetype": "text/x-python",
      "name": "python",
      "nbconvert_exporter": "python",
      "pygments_lexer": "ipython3",
      "version": "3.11.5"
    }
  },
  "nbformat": 4,
  "nbformat_minor": 0
}
