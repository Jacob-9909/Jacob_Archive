{
 "cells": [
  {
   "cell_type": "code",
   "execution_count": 1,
   "metadata": {},
   "outputs": [
    {
     "name": "stderr",
     "output_type": "stream",
     "text": [
      "pandas.Int64Index is deprecated and will be removed from pandas in a future version. Use pandas.Index with the appropriate dtype instead.\n",
      "pandas.Float64Index is deprecated and will be removed from pandas in a future version. Use pandas.Index with the appropriate dtype instead.\n",
      "pandas.UInt64Index is deprecated and will be removed from pandas in a future version. Use pandas.Index with the appropriate dtype instead.\n"
     ]
    }
   ],
   "source": [
    "# Library\n",
    "import os\n",
    "import random\n",
    "import pickle\n",
    "import gc\n",
    "import warnings\n",
    "import seaborn as sns\n",
    "import numpy as np\n",
    "import pandas as pd\n",
    "import shap\n",
    "from tqdm import tqdm\n",
    "import matplotlib.pyplot as plt\n",
    "from datetime import datetime\n",
    "from matplotlib import font_manager, rc\n",
    "from sklearn.compose import ColumnTransformer, make_column_transformer\n",
    "from sklearn.base import BaseEstimator, TransformerMixin\n",
    "from sklearn.impute import SimpleImputer\n",
    "from sklearn.experimental import enable_iterative_imputer\n",
    "from sklearn.manifold import LocallyLinearEmbedding\n",
    "from sklearn.cluster import KMeans, MiniBatchKMeans\n",
    "# from category_encoders import TargetEncoder\n",
    "from sklearn.preprocessing import (\n",
    "    StandardScaler, PowerTransformer, OrdinalEncoder,\n",
    "    OneHotEncoder, FunctionTransformer, PolynomialFeatures, LabelEncoder, MinMaxScaler\n",
    ")\n",
    "from sklearn.decomposition import PCA, IncrementalPCA, KernelPCA\n",
    "from sklearn.feature_selection import SelectKBest, SelectPercentile, RFE\n",
    "from sklearn.feature_extraction.text import CountVectorizer\n",
    "from sklearn.linear_model import (\n",
    "    LogisticRegression, LinearRegression, Ridge, Lasso,\n",
    "    SGDRegressor, ElasticNet\n",
    ")\n",
    "from sklearn.model_selection import (\n",
    "    train_test_split, cross_val_score, cross_validate,\n",
    "    GridSearchCV, KFold, cross_val_predict\n",
    ")\n",
    "from sklearn.metrics import (\n",
    "    roc_auc_score, mean_squared_error, make_scorer, accuracy_score, log_loss\n",
    ")\n",
    "from sklearn import set_config, datasets\n",
    "from catboost import (\n",
    "    CatBoostRegressor, CatBoostClassifier,\n",
    ")\n",
    "# import category_encoders as ce\n",
    "# from sklearn.pipeline import (\n",
    "#     Pipeline, FeatureUnion, make_pipeline\n",
    "# )\n",
    "from sklearn.ensemble import (\n",
    "    RandomForestClassifier, StackingClassifier, StackingRegressor,\n",
    "    GradientBoostingRegressor, VotingClassifier, VotingRegressor,\n",
    "    HistGradientBoostingRegressor, GradientBoostingClassifier,\n",
    "    BaggingClassifier, AdaBoostClassifier, RandomForestRegressor,ExtraTreesRegressor\n",
    ")\n",
    "from lightgbm import LGBMRegressor, LGBMClassifier\n",
    "from sklearn.svm import SVC, SVR, LinearSVC\n",
    "from xgboost import XGBRegressor, XGBClassifier\n",
    "from catboost import CatBoostClassifier, Pool\n",
    "from sklearn.neural_network import MLPClassifier\n",
    "from sklearn.neighbors import KNeighborsClassifier, KNeighborsRegressor\n",
    "from sklearn.naive_bayes import GaussianNB\n",
    "from sklearn.tree import DecisionTreeClassifier\n",
    "from sklearn.datasets import make_moons\n",
    "\n",
    "import xgboost as xgb\n",
    "import lightgbm as lgb\n",
    "import re\n",
    "import math\n",
    "import optuna\n",
    "\n",
    "from scipy.stats import zscore\n",
    "\n",
    "%matplotlib inline\n",
    "\n",
    "warnings.filterwarnings(\"ignore\")\n",
    "\n",
    "def seed_everything(seed):\n",
    "    random.seed(seed)\n",
    "    os.environ['PYTHONHASHSEED'] = str(seed)\n",
    "    np.random.seed(seed)\n",
    "\n",
    "seed_everything(42)\n",
    "pd.set_option('display.max_columns', None)"
   ]
  },
  {
   "cell_type": "code",
   "execution_count": 2,
   "metadata": {},
   "outputs": [],
   "source": [
    "df = pd.read_pickle('matches_df.pkl')"
   ]
  },
  {
   "cell_type": "markdown",
   "metadata": {},
   "source": [
    "## Preprocessing"
   ]
  },
  {
   "cell_type": "code",
   "execution_count": 3,
   "metadata": {},
   "outputs": [],
   "source": [
    "X = df\n",
    "y = df['home_team_result']\n",
    "\n",
    "split_index = 1796 # 2021년도까지의 index\n",
    "\n",
    "train = X.iloc[:split_index]\n",
    "test = X.iloc[split_index:]\n",
    "y_train = y.iloc[:split_index]\n",
    "y_test = y.iloc[split_index:]\n",
    "\n",
    "\n",
    "# train, test, y_train, y_test = train_test_split(X, y, test_size=0.3, random_state=42) ## 이 방법에 의문을 품는 바이요!!"
   ]
  },
  {
   "cell_type": "code",
   "execution_count": 4,
   "metadata": {},
   "outputs": [],
   "source": [
    "def team_encoding(train):\n",
    "    train['home_win'] = train['home_team_result'].apply(lambda x: 1 if x=='승' else 0) # home_win 열 추가, 승리인 경우 1, 아닌 경우 0\n",
    "    dic = {}\n",
    "    # 각 홈팀별 이긴 경기 수를 딕셔너리에 저장\n",
    "    for team in train['home_team_name'].unique():\n",
    "        value = train[train['home_team_name'] == team]['home_win'].sum() \n",
    "        #home_team_name  열에서 고유한 팀 이름을 가져와 각 팀이 홈에서 이긴 경기 수 계산, 이 값을 dic에 저장\n",
    "        dic[team] = value\n",
    "\n",
    "    label_dic={}\n",
    "    # 승리 횧수를 기준으로 오름차순 정렬, 각 팀에 대해 라벨 부여, 승리 횟수가 적은 팀부터 0,1,2 의 라벨을 부여\n",
    "    for idx, (team, _) in enumerate(sorted(dic.items(), key= lambda x: x[1])):\n",
    "        label_dic[team] = idx\n",
    "    \n",
    "    return label_dic\n",
    "\n",
    "\n",
    "''' 홈팀 득점 이동평균 계산 함수 '''\n",
    "\n",
    "def homeGoal_day_mean(train, test, day):\n",
    "    train[f'home_Goal_{day}_mean'] = -1  # 초기값 -1로 설정\n",
    "    test[f'home_Goal_{day}_mean'] = -1\n",
    "    \n",
    "    teams = train['home_team_name'].unique()\n",
    "    for team in tqdm(teams): # train에서 고유 팀 이름을 가져오고 이를 시각적으로 표시해줌 : tqdm\n",
    "        team_df = train[train['home_team_name'] == team]\n",
    "        # 롤링 윈도우 크기 설정\n",
    "        ch_day = len(team_df) if len(team_df) < day else day # 팀의 경기 수가 주어진 day 보다 적으면, 경기 수 만큼의 윈도우 크기 사용\n",
    "        idx = team_df['home_team_goal_count'].rolling(ch_day).mean().index.values # 롤링 윈도우 평균 계산\n",
    "        val = team_df['home_team_goal_count'].rolling(ch_day).mean().values\n",
    "        train[f'home_Goal_{day}_mean'].loc[idx] = val\n",
    "        test_idx = test[test['home_team_name'] == team].index\n",
    "        test[f'home_Goal_{day}_mean'].loc[test_idx] = val[-1]\n",
    "    # 결측값 처리\n",
    "    train[f'home_Goal_{day}_mean'] = train[f'home_Goal_{day}_mean'].fillna(0)\n",
    "\n",
    "\n",
    "''' 원정팀 득점 이동평균 계산 함수 '''\n",
    "\n",
    "def awayGoal_day_mean(train, test, day):\n",
    "    # 초기값 설정\n",
    "    train[f'away_Goal_{day}_mean'] = -1\n",
    "    test[f'away_Goal_{day}_mean'] = -1\n",
    "    \n",
    "    teams = train['away_team_name'].unique()\n",
    "    for team in tqdm(teams):\n",
    "        team_df = train[train['away_team_name'] == team]\n",
    "        # 롤링 윈도우 크기 설정\n",
    "        ch_day = len(team_df) if len(team_df) < day else day\n",
    "        idx = team_df['away_team_goal_count'].rolling(ch_day).mean().index.values\n",
    "        val = team_df['away_team_goal_count'].rolling(ch_day).mean().values\n",
    "        train[f'away_Goal_{day}_mean'].loc[idx] = val\n",
    "        test_idx = test[test['away_team_name'] == team].index\n",
    "        test[f'away_Goal_{day}_mean'].loc[test_idx] = val[-1]\n",
    "    # 결측값 처리\n",
    "    train[f'away_Goal_{day}_mean'] = train[f'away_Goal_{day}_mean'].fillna(0)\n",
    "\n",
    "\n",
    "'''홈팀 승리율 평균 계산 함수'''\n",
    "\n",
    "def homeWin_day_mean(train, test, day):\n",
    "    train[f'home_winRate_{day}_mean'] = -1\n",
    "    test[f'home_winRate_{day}_mean'] = -1\n",
    "    train['win'] = train['home_team_result'].apply(lambda x: 1 if x == '승' else 0)\n",
    "\n",
    "    teams = train['home_team_name'].unique()\n",
    "    for team in tqdm(teams):\n",
    "        team_df = train[train['home_team_name'] == team]\n",
    "        ch_day = len(team_df) if len(team_df) < day else day\n",
    "        idx = team_df['win'].rolling(ch_day).mean().index.values\n",
    "        val = team_df['win'].rolling(ch_day).mean().values\n",
    "        train[f'home_winRate_{day}_mean'].loc[idx] = val\n",
    "        test_idx = test[test['home_team_name'] == team].index\n",
    "        test[f'home_winRate_{day}_mean'].loc[test_idx] = val[-1]\n",
    "\n",
    "    train.drop(columns=['win'], inplace=True)\n",
    "\n",
    "    train[f'home_winRate_{day}_mean'] = train[f'home_winRate_{day}_mean'].fillna(0)\n",
    "\n",
    "\n",
    "'''원정팀 승리율 평균 계산 함수'''\n",
    "\n",
    "def awayWin_day_mean(train, test, day):\n",
    "\n",
    "    train[f'away_winRate_{day}_mean'] = -1\n",
    "    test[f'away_winRate_{day}_mean'] = -1\n",
    "    train['win'] = train['home_team_result'].apply(lambda x: 1 if x == '패' else 0)\n",
    "    \n",
    "    teams = train['away_team_name'].unique()\n",
    "    for team in tqdm(teams):\n",
    "        team_df = train[train['away_team_name'] == team]\n",
    "\n",
    "        ch_day = len(team_df) if len(team_df) < day else day\n",
    "        idx = team_df['win'].rolling(ch_day).mean().index.values\n",
    "        val = team_df['win'].rolling(ch_day).mean().values\n",
    "        train[f'away_winRate_{day}_mean'].loc[idx] = val\n",
    "        test_idx = test[test['away_team_name'] == team].index\n",
    "        test[f'away_winRate_{day}_mean'].loc[test_idx] = val[-1]\n",
    "\n",
    "    train.drop(columns=['win'], inplace=True)\n",
    "\n",
    "    train[f'away_winRate_{day}_mean'] = train[f'away_winRate_{day}_mean'].fillna(0)\n",
    "\n",
    "\n",
    "'''홈팀 평균 계산 함수'''\n",
    "\n",
    "def home_day_mean(train, test, columns, day):\n",
    "    for column in tqdm(columns):\n",
    "        teams = train['home_team_name'].values\n",
    "        train[f'home_{column}_{day}_mean'] = -1\n",
    "        test[f'home_{column}_{day}_mean'] = -1\n",
    "\n",
    "        for team in tqdm(teams):\n",
    "            team_df = train[train['home_team_name'] == team]\n",
    "            idx = team_df[column].rolling(day).mean().index.values\n",
    "            val = team_df[column].rolling(day).mean().values\n",
    "            train[f'home_{column}_{day}_mean'].loc[idx] = val\n",
    "            test_idx = test[test['home_team_name'] == team].index\n",
    "            test[f'home_{column}_{day}_mean'].loc[test_idx] = val[-1]\n",
    "\n",
    "        train[f'home_{column}_{day}_mean'] = train[f'home_{column}_{day}_mean'].fillna(0)\n",
    "        test[f'home_{column}_{day}_mean'] = test[f'home_{column}_{day}_mean'].fillna(0)\n",
    "\n",
    "\n",
    "'''원정팀 평균 계산 함수'''\n",
    "\n",
    "def away_day_mean(train, test, columns, day):\n",
    "    for column in tqdm(columns):\n",
    "        teams = train['away_team_name'].values\n",
    "        train[f'away_{column}_{day}_mean'] = -1\n",
    "        test[f'away_{column}_{day}_mean'] = -1\n",
    "\n",
    "        for team in tqdm(teams):\n",
    "            team_df = train[train['away_team_name'] == team]\n",
    "            idx = team_df[column].rolling(day).mean().index.values\n",
    "            val = team_df[column].rolling(day).mean().values\n",
    "            train[f'away_{column}_{day}_mean'].loc[idx] = val\n",
    "            test_idx = test[test['away_team_name'] == team].index\n",
    "            test[f'away_{column}_{day}_mean'].loc[test_idx] = val[-1]\n",
    "\n",
    "        train[f'away_{column}_{day}_mean'] = train[f'away_{column}_{day}_mean'].fillna(0)\n",
    "        test[f'away_{column}_{day}_mean'] = test[f'away_{column}_{day}_mean'].fillna(0)\n",
    "\n",
    "\n",
    "'''전처리 함수'''\n",
    "\n",
    "def preprocessing(train, test, dic):\n",
    "    # 년과 월일로 나누기\n",
    "    train['date_GMT'] = train['date_GMT'].dt.strftime('%Y%m%d')\n",
    "    test['date_GMT'] = test['date_GMT'].dt.strftime('%Y%m%d')\n",
    "    train['year'] = train['date_GMT'].apply(lambda x : int(x[0:4]))\n",
    "    # train['month'] = train['date_GMT'].apply(lambda x : int(x[5:7]))\n",
    "    # train['day'] = train['date_GMT'].apply(lambda x : int(x[8:10]))\n",
    "\n",
    "    test['year'] = test['date_GMT'].apply(lambda x : int(x[0:4]))\n",
    "    # test['month'] = test['date_GMT'].apply(lambda x : int(x[5:7]))\n",
    "    # test['day'] = test['date_GMT'].apply(lambda x : int(x[8:10]))\n",
    "    train.drop(columns=['date_GMT'], inplace=True)\n",
    "    test.drop(columns=['date_GMT'], inplace=True)\n",
    "\n",
    "    # 팀 인코딩 적용\n",
    "    label_dic = dic\n",
    "    train['home_team_name'] = train['home_team_name'].apply(lambda x: label_dic[x])\n",
    "    train['away_team_name'] = train['away_team_name'].apply(lambda x: label_dic[x])\n",
    "    test['home_team_name'] = test['home_team_name'].apply(lambda x: label_dic[x])\n",
    "    test['away_team_name'] = test['away_team_name'].apply(lambda x: label_dic[x])\n",
    "\n",
    "    # 5일간 홈팀 승리 비율 계산\n",
    "    homeWin_day_mean(train, test, 5)\n",
    "    # 5일간 원정팀 승리 비율 계산\n",
    "    awayWin_day_mean(train, test, 5)\n",
    "\n",
    "    # 5일간 홈팀 평균 득점 계산\n",
    "    homeGoal_day_mean(train, test, 5)\n",
    "    # 5일간 원정팀 평균 득점 계산\n",
    "    awayGoal_day_mean(train, test, 5)\n",
    "\n",
    "    # 불필요한 컬럼 제거\n",
    "    # train = train.drop(columns=['home_win', 'index','home_team_goal_count','away_team_goal_count','home_team_result','game_points'])\n",
    "    train = train.drop(columns=['home_win', 'index','home_team_goal_count','away_team_goal_count','game_points'])\n",
    "    test = test.drop(columns=['index','home_team_goal_count','away_team_goal_count','home_team_result','game_points'])\n",
    "\n",
    "    return train, test\n"
   ]
  },
  {
   "cell_type": "markdown",
   "metadata": {},
   "source": [
    "## Train / Test"
   ]
  },
  {
   "cell_type": "code",
   "execution_count": 5,
   "metadata": {},
   "outputs": [
    {
     "name": "stderr",
     "output_type": "stream",
     "text": [
      "100%|██████████| 17/17 [00:00<00:00, 665.91it/s]\n",
      "100%|██████████| 17/17 [00:00<00:00, 673.96it/s]\n",
      "100%|██████████| 17/17 [00:00<00:00, 690.10it/s]\n",
      "100%|██████████| 17/17 [00:00<00:00, 618.24it/s]\n"
     ]
    }
   ],
   "source": [
    "hometeam_list = list(train['home_team_name'].unique())\n",
    "dic = team_encoding(train)\n",
    "train, test= preprocessing(train, test, dic)\n",
    "test_idx = test.index.values\n",
    "\n",
    "\n",
    "# 승무패 인코딩\n",
    "lec = LabelEncoder()\n",
    "lec.fit(df['home_team_result'])\n",
    "y_train = lec.transform(y_train)\n",
    "y_test = lec.transform(y_test)"
   ]
  },
  {
   "cell_type": "code",
   "execution_count": 6,
   "metadata": {},
   "outputs": [],
   "source": [
    "# 홈팀과 원정팀의 공격 효율성을 계산한 피쳐 생성\n",
    "train['home_attack_efficiency'] = train['home_Goal_5_mean'] * train['home_team_shots_on_target']\n",
    "train['away_attack_efficiency'] = train['away_Goal_5_mean'] * train['away_team_shots_on_target']\n",
    "# 홈팀과 원정팀의 공격 효율성 차이를 나타내는 피쳐 생성\n",
    "train['attack_efficiency_difference'] = train['home_attack_efficiency'] - train['away_attack_efficiency']\n",
    "\n",
    "# 최근 5경기 평균 득점의 표준 편차를 나타내는 피쳐 생성\n",
    "train['home_Goal_5_std'] = train['home_Goal_5_mean'].rolling(window=5).std()\n",
    "train['away_Goal_5_std'] = train['away_Goal_5_mean'].rolling(window=5).std()\n",
    "\n",
    "# 결측값을 0으로 대체\n",
    "train = train.fillna(0)\n",
    "\n",
    "# 테스트 데이터에도 동일한 피쳐 생성\n",
    "test['home_attack_efficiency'] = test['home_Goal_5_mean'] * test['home_team_shots_on_target']\n",
    "test['away_attack_efficiency'] = test['away_Goal_5_mean'] * test['away_team_shots_on_target']\n",
    "test['attack_efficiency_difference'] = test['home_attack_efficiency'] - test['away_attack_efficiency']\n",
    "test['home_Goal_5_std'] = test['home_Goal_5_mean'].rolling(window=5).std()\n",
    "test['away_Goal_5_std'] = test['away_Goal_5_mean'].rolling(window=5).std()\n",
    "test = test.fillna(0)\n",
    "\n",
    "# 학습 데이터에서 목표 변수 'home_team_result' 컬럼 제거\n",
    "train.drop(columns = ['home_team_result'], inplace = True)\n"
   ]
  },
  {
   "cell_type": "code",
   "execution_count": 7,
   "metadata": {},
   "outputs": [],
   "source": [
    "# import sweetviz as sv\n",
    "\n",
    "# report = sv.analyze(train)\n",
    "# report.show_html(\"new_features.html\")"
   ]
  },
  {
   "cell_type": "markdown",
   "metadata": {},
   "source": [
    "## Feature scaler"
   ]
  },
  {
   "cell_type": "code",
   "execution_count": 8,
   "metadata": {},
   "outputs": [],
   "source": [
    "cat = ['home_team_name','away_team_name','year','month']\n",
    "\n",
    "num_features = list(set(train.columns) - set(cat))\n",
    "# scaler = MinMaxScaler()\n",
    "scaler = StandardScaler()\n",
    "train[num_features] = scaler.fit_transform(train[num_features])\n",
    "test[num_features] = scaler.transform(test[num_features])"
   ]
  },
  {
   "cell_type": "markdown",
   "metadata": {},
   "source": [
    "## Over-Sampling"
   ]
  },
  {
   "cell_type": "code",
   "execution_count": 9,
   "metadata": {},
   "outputs": [
    {
     "name": "stdout",
     "output_type": "stream",
     "text": [
      "Resampled class distribution: Counter({0: 5000, 1: 5000, 2: 5000})\n",
      "Original training set shape: (1796, 33)\n",
      "Resampled training set shape: (15000, 33)\n"
     ]
    }
   ],
   "source": [
    "from imblearn.combine import SMOTETomek\n",
    "from imblearn.over_sampling import SMOTE\n",
    "import pandas as pd\n",
    "from collections import Counter\n",
    "\n",
    "# SMOTE 객체 생성 (각 클래스의 샘플 수를 1000개로 설정)\n",
    "smote = SMOTE(sampling_strategy={0: 5000, 1: 5000, 2: 5000}, random_state=42)\n",
    "\n",
    "# SMOTE-Tomek 객체 생성\n",
    "smote_tomek = SMOTETomek(smote=smote, random_state=42)\n",
    "\n",
    "# 오버샘플링 및 언더샘플링 적용\n",
    "train_resampled, y_train_resampled = smote_tomek.fit_resample(train, y_train)\n",
    "\n",
    "# 각 클래스 비율 확인\n",
    "print(f\"Resampled class distribution: {Counter(y_train_resampled)}\")\n",
    "\n",
    "print(f\"Original training set shape: {train.shape}\")\n",
    "print(f\"Resampled training set shape: {train_resampled.shape}\")"
   ]
  },
  {
   "cell_type": "markdown",
   "metadata": {},
   "source": [
    "## Shap"
   ]
  },
  {
   "cell_type": "code",
   "execution_count": 10,
   "metadata": {},
   "outputs": [
    {
     "name": "stdout",
     "output_type": "stream",
     "text": [
      "[LightGBM] [Info] Auto-choosing col-wise multi-threading, the overhead of testing was 0.000616 seconds.\n",
      "You can set `force_col_wise=true` to remove the overhead.\n",
      "[LightGBM] [Info] Total Bins 7690\n",
      "[LightGBM] [Info] Number of data points in the train set: 15000, number of used features: 33\n",
      "[LightGBM] [Info] Start training from score -1.098612\n",
      "[LightGBM] [Info] Start training from score -1.098612\n",
      "[LightGBM] [Info] Start training from score -1.098612\n",
      "Validation Accuracy: 0.5394736842105263\n"
     ]
    },
    {
     "data": {
      "image/png": "[encoded data removed]",
      "text/plain": [
       "<Figure size 1000x800 with 1 Axes>"
      ]
     },
     "metadata": {},
     "output_type": "display_data"
    }
   ],
   "source": [
    "# LightGBM 모델 학습\n",
    "model = lgb.LGBMClassifier().fit(train_resampled, y_train_resampled)\n",
    "SHAP_THRESHOLD = 0.1\n",
    "\n",
    "# 모델 예측 및 평가\n",
    "y_pred = model.predict(test)\n",
    "print(\"Validation Accuracy:\", accuracy_score(y_test, y_pred))\n",
    "\n",
    "# SHAP 값 계산\n",
    "explainer = shap.TreeExplainer(model)\n",
    "shap_values = explainer.shap_values(test)\n",
    "\n",
    "shap_sum = np.abs(shap_values).mean(axis=1)[1,:]\n",
    "importance_df = pd.DataFrame([test.columns.tolist(), shap_sum.tolist()]).T\n",
    "importance_df.columns = ['column_name', 'shap_importance']\n",
    "importance_df = importance_df.sort_values('shap_importance', ascending=False);\n",
    "# importance_df\n",
    "\n",
    "# # SHAP 값 데이터프레임 생성 (각 피쳐별 SHAP 값)\n",
    "# shap_values_df = pd.DataFrame(shap_values[1], columns=test.columns)\n",
    "# shap_values_df\n",
    "\n",
    "# SHAP 값의 평균 절대값 계산\n",
    "shap_abs_mean = pd.DataFrame(shap_values[1], columns=test.columns).abs().mean().sort_values(ascending=False)\n",
    "\n",
    "# SHAP 값 평균 절대값 시각화\n",
    "plt.figure(figsize=(10, 8))\n",
    "shap_abs_mean.plot(kind='barh')\n",
    "plt.title(\"Mean Absolute SHAP Values for Features\")\n",
    "plt.xlabel(\"Mean Absolute SHAP Value\")\n",
    "plt.ylabel(\"Features\")\n",
    "plt.gca().invert_yaxis()\n",
    "plt.show()"
   ]
  },
  {
   "cell_type": "code",
   "execution_count": 11,
   "metadata": {},
   "outputs": [],
   "source": [
    "# 지정된(SHAP_THRESHOLD) Shap feature 중요도 이상인 것만 선택\n",
    "features_selected = importance_df.query('shap_importance > @SHAP_THRESHOLD').column_name.tolist() # 기준, 5개 사라짐\n",
    "shap_train_resampled = train_resampled[features_selected]\n",
    "shap_test = test[features_selected]"
   ]
  },
  {
   "cell_type": "markdown",
   "metadata": {},
   "source": [
    "## model train"
   ]
  },
  {
   "cell_type": "code",
   "execution_count": 12,
   "metadata": {},
   "outputs": [
    {
     "name": "stderr",
     "output_type": "stream",
     "text": [
      "[I 2024-06-27 21:00:12,527] A new study created in memory with name: no-name-d3ea6601-1341-4165-874a-39695bb08aa3\n",
      "[I 2024-06-27 21:01:47,996] Trial 0 finished with value: 0.7453333333333333 and parameters: {'l1_ratio': 0.4400144000994898, 'C': 10.744724383991135}. Best is trial 0 with value: 0.7453333333333333.\n",
      "[I 2024-06-27 21:02:06,298] Trial 1 finished with value: 0.6443999999999999 and parameters: {'l1_ratio': 0.22275382541991195, 'C': 0.00018752708875869698}. Best is trial 0 with value: 0.7453333333333333.\n",
      "[I 2024-06-27 21:03:42,159] Trial 2 finished with value: 0.7453333333333333 and parameters: {'l1_ratio': 0.09032811571512522, 'C': 5.929068764273647}. Best is trial 0 with value: 0.7453333333333333.\n",
      "[I 2024-06-27 21:04:30,006] Trial 3 finished with value: 0.6719999999999999 and parameters: {'l1_ratio': 0.7472928525821712, 'C': 0.0006031830853099626}. Best is trial 0 with value: 0.7453333333333333.\n",
      "[I 2024-06-27 21:06:14,347] Trial 4 finished with value: 0.7453333333333333 and parameters: {'l1_ratio': 0.8988969757116924, 'C': 0.7072033060548719}. Best is trial 0 with value: 0.7453333333333333.\n"
     ]
    }
   ],
   "source": [
    "def logreg_objective(trial):\n",
    "    \n",
    "    r = trial.suggest_float('l1_ratio', 0, 1, log=False)\n",
    "    c = trial.suggest_float('C', 1e-4, 1e2, log=True)\n",
    "     \n",
    "    clf =  LogisticRegression(max_iter=5000, solver='saga', penalty='elasticnet', l1_ratio=r, C=c)\n",
    "    scores = cross_val_score(clf, shap_train_resampled, y_train_resampled, cv=5, scoring='accuracy')\n",
    "    \n",
    "    return scores.mean()\n",
    "    \n",
    "logreg_study = optuna.create_study(direction='maximize')\n",
    "logreg_study.optimize(logreg_objective, n_trials=5)\n",
    "\n",
    "logreg_best_params = logreg_study.best_params"
   ]
  },
  {
   "cell_type": "code",
   "execution_count": 13,
   "metadata": {},
   "outputs": [
    {
     "name": "stdout",
     "output_type": "stream",
     "text": [
      "Accuracy: 0.5555555555555556\n"
     ]
    }
   ],
   "source": [
    "model_logis=LogisticRegression(**logreg_best_params)\n",
    "model_logis.fit(shap_train_resampled,y_train_resampled)\n",
    "y_pred = model_logis.predict(shap_test)\n",
    "\n",
    "accuracy = accuracy_score(y_test, y_pred)\n",
    "print(\"Accuracy:\", accuracy)"
   ]
  },
  {
   "cell_type": "code",
   "execution_count": 14,
   "metadata": {},
   "outputs": [
    {
     "data": {
      "text/html": [
       "<style>#sk-container-id-1 {color: black;background-color: white;}#sk-container-id-1 pre{padding: 0;}#sk-container-id-1 div.sk-toggleable {background-color: white;}#sk-container-id-1 label.sk-toggleable__label {cursor: pointer;display: block;width: 100%;margin-bottom: 0;padding: 0.3em;box-sizing: border-box;text-align: center;}#sk-container-id-1 label.sk-toggleable__label-arrow:before {content: \"▸\";float: left;margin-right: 0.25em;color: #696969;}#sk-container-id-1 label.sk-toggleable__label-arrow:hover:before {color: black;}#sk-container-id-1 div.sk-estimator:hover label.sk-toggleable__label-arrow:before {color: black;}#sk-container-id-1 div.sk-toggleable__content {max-height: 0;max-width: 0;overflow: hidden;text-align: left;background-color: #f0f8ff;}#sk-container-id-1 div.sk-toggleable__content pre {margin: 0.2em;color: black;border-radius: 0.25em;background-color: #f0f8ff;}#sk-container-id-1 input.sk-toggleable__control:checked~div.sk-toggleable__content {max-height: 200px;max-width: 100%;overflow: auto;}#sk-container-id-1 input.sk-toggleable__control:checked~label.sk-toggleable__label-arrow:before {content: \"▾\";}#sk-container-id-1 div.sk-estimator input.sk-toggleable__control:checked~label.sk-toggleable__label {background-color: #d4ebff;}#sk-container-id-1 div.sk-label input.sk-toggleable__control:checked~label.sk-toggleable__label {background-color: #d4ebff;}#sk-container-id-1 input.sk-hidden--visually {border: 0;clip: rect(1px 1px 1px 1px);clip: rect(1px, 1px, 1px, 1px);height: 1px;margin: -1px;overflow: hidden;padding: 0;position: absolute;width: 1px;}#sk-container-id-1 div.sk-estimator {font-family: monospace;background-color: #f0f8ff;border: 1px dotted black;border-radius: 0.25em;box-sizing: border-box;margin-bottom: 0.5em;}#sk-container-id-1 div.sk-estimator:hover {background-color: #d4ebff;}#sk-container-id-1 div.sk-parallel-item::after {content: \"\";width: 100%;border-bottom: 1px solid gray;flex-grow: 1;}#sk-container-id-1 div.sk-label:hover label.sk-toggleable__label {background-color: #d4ebff;}#sk-container-id-1 div.sk-serial::before {content: \"\";position: absolute;border-left: 1px solid gray;box-sizing: border-box;top: 0;bottom: 0;left: 50%;z-index: 0;}#sk-container-id-1 div.sk-serial {display: flex;flex-direction: column;align-items: center;background-color: white;padding-right: 0.2em;padding-left: 0.2em;position: relative;}#sk-container-id-1 div.sk-item {position: relative;z-index: 1;}#sk-container-id-1 div.sk-parallel {display: flex;align-items: stretch;justify-content: center;background-color: white;position: relative;}#sk-container-id-1 div.sk-item::before, #sk-container-id-1 div.sk-parallel-item::before {content: \"\";position: absolute;border-left: 1px solid gray;box-sizing: border-box;top: 0;bottom: 0;left: 50%;z-index: -1;}#sk-container-id-1 div.sk-parallel-item {display: flex;flex-direction: column;z-index: 1;position: relative;background-color: white;}#sk-container-id-1 div.sk-parallel-item:first-child::after {align-self: flex-end;width: 50%;}#sk-container-id-1 div.sk-parallel-item:last-child::after {align-self: flex-start;width: 50%;}#sk-container-id-1 div.sk-parallel-item:only-child::after {width: 0;}#sk-container-id-1 div.sk-dashed-wrapped {border: 1px dashed gray;margin: 0 0.4em 0.5em 0.4em;box-sizing: border-box;padding-bottom: 0.4em;background-color: white;}#sk-container-id-1 div.sk-label label {font-family: monospace;font-weight: bold;display: inline-block;line-height: 1.2em;}#sk-container-id-1 div.sk-label-container {text-align: center;}#sk-container-id-1 div.sk-container {/* jupyter's `normalize.less` sets `[hidden] { display: none; }` but bootstrap.min.css set `[hidden] { display: none !important; }` so we also need the `!important` here to be able to override the default hidden behavior on the sphinx rendered scikit-learn.org. See: https://github.com/scikit-learn/scikit-learn/issues/21755 */display: inline-block !important;position: relative;}#sk-container-id-1 div.sk-text-repr-fallback {display: none;}</style><div id=\"sk-container-id-1\" class=\"sk-top-container\"><div class=\"sk-text-repr-fallback\"><pre>RandomForestClassifier()</pre><b>In a Jupyter environment, please rerun this cell to show the HTML representation or trust the notebook. <br />On GitHub, the HTML representation is unable to render, please try loading this page with nbviewer.org.</b></div><div class=\"sk-container\" hidden><div class=\"sk-item\"><div class=\"sk-estimator sk-toggleable\"><input class=\"sk-toggleable__control sk-hidden--visually\" id=\"sk-estimator-id-1\" type=\"checkbox\" checked><label for=\"sk-estimator-id-1\" class=\"sk-toggleable__label sk-toggleable__label-arrow\">RandomForestClassifier</label><div class=\"sk-toggleable__content\"><pre>RandomForestClassifier()</pre></div></div></div></div></div>"
      ],
      "text/plain": [
       "RandomForestClassifier()"
      ]
     },
     "execution_count": 14,
     "metadata": {},
     "output_type": "execute_result"
    }
   ],
   "source": [
    "model = RandomForestClassifier()\n",
    "model.fit(train_resampled, y_train_resampled)\n",
    "# y_pred = model.predict(test)"
   ]
  },
  {
   "cell_type": "markdown",
   "metadata": {},
   "source": [
    "## Randomforest feature selection  큰 효과가 없는 듯 함"
   ]
  },
  {
   "cell_type": "code",
   "execution_count": 22,
   "metadata": {},
   "outputs": [
    {
     "name": "stdout",
     "output_type": "stream",
     "text": [
      "1. away_winRate_5_mean (중요도: 0.07852428270363375)\n",
      "2. home_winRate_5_mean (중요도: 0.07548194696031908)\n",
      "3. attack_efficiency_difference (중요도: 0.06727598318372051)\n",
      "4. 5_games_result (중요도: 0.0544612337095639)\n",
      "5. away_team_goal_count_half_time (중요도: 0.051979727907081434)\n",
      "6. home_team_goal_count_half_time (중요도: 0.05111592814686821)\n",
      "7. home_attack_efficiency (중요도: 0.03696814295903703)\n",
      "8. home_team_shots_on_target (중요도: 0.03516731816733822)\n",
      "9. away_attack_efficiency (중요도: 0.03313284613803125)\n",
      "10. away_team_shots_on_target (중요도: 0.030654985181145088)\n",
      "11. home_team_possession (중요도: 0.030317741417776368)\n",
      "12. away_team_possession (중요도: 0.028721763021950564)\n",
      "13. away_Goal_5_mean (중요도: 0.02765167350503671)\n",
      "14. home_Goal_5_mean (중요도: 0.024631411741179957)\n",
      "15. away_team_fouls (중요도: 0.023987684503380912)\n",
      "16. home_team_shots (중요도: 0.023575314706109827)\n",
      "17. away_team_corner_count (중요도: 0.02344712489754404)\n",
      "18. away_team_name (중요도: 0.023306001721129566)\n",
      "19. home_Goal_5_std (중요도: 0.023259990946523177)\n",
      "20. away_team_free_kick (중요도: 0.022621779912298776)\n",
      "21. home_team_name (중요도: 0.022502325643515307)\n",
      "22. away_Goal_5_std (중요도: 0.021702730662024595)\n",
      "23. away_team_shots (중요도: 0.02169426041044168)\n",
      "24. home_team_free_kick (중요도: 0.02141433628788716)\n",
      "25. home_team_corner_count (중요도: 0.021074849403681324)\n",
      "26. home_team_fouls (중요도: 0.021002084587930205)\n",
      "27. home_team_offside (중요도: 0.019565965104969614)\n",
      "28. away_team_offside (중요도: 0.01948644012256537)\n",
      "29. home_team_yellow_cards (중요도: 0.018761978851383462)\n",
      "30. away_team_yellow_cards (중요도: 0.018705727721444947)\n",
      "31. year (중요도: 0.015387629450479353)\n",
      "32. home_team_red_cards (중요도: 0.006324898679316048)\n",
      "33. away_team_red_cards (중요도: 0.006093891644692629)\n"
     ]
    }
   ],
   "source": [
    "rn_features = []\n",
    "importances = model.feature_importances_\n",
    "feature_names = train.columns\n",
    "\n",
    "# 피처 중요도를 기준으로 정렬하여 상위 피처 선택\n",
    "indices = np.argsort(importances)[::-1]\n",
    "\n",
    "# 중요도가 0.01 이상인 피처만 선택\n",
    "# top_number = 40\n",
    "top_num_indices = [idx for idx in indices if importances[idx] >= 0.005] #[:top_number]\n",
    "top_features = feature_names[top_num_indices]\n",
    "\n",
    "for i, feature in enumerate(top_features):\n",
    "    print(f\"{i+1}. {feature} (중요도: {importances[top_num_indices[i]]})\")\n",
    "    rn_features.append(feature)\n",
    "\n",
    "# 이 피쳐로 모델 돌려보기"
   ]
  },
  {
   "cell_type": "code",
   "execution_count": 23,
   "metadata": {},
   "outputs": [],
   "source": [
    "rn_train_resampled = train_resampled[rn_features]\n",
    "rn_test = test[rn_features]"
   ]
  },
  {
   "cell_type": "code",
   "execution_count": 24,
   "metadata": {},
   "outputs": [
    {
     "name": "stdout",
     "output_type": "stream",
     "text": [
      "Accuracy: 0.5482456140350878\n"
     ]
    }
   ],
   "source": [
    "model_logis=LogisticRegression(**logreg_best_params)\n",
    "model_logis.fit(rn_train_resampled,y_train_resampled)\n",
    "y_pred = model_logis.predict(rn_test)\n",
    "\n",
    "accuracy = accuracy_score(y_test, y_pred)\n",
    "print(\"Accuracy:\", accuracy)"
   ]
  },
  {
   "cell_type": "code",
   "execution_count": 18,
   "metadata": {},
   "outputs": [],
   "source": [
    "# def logreg_objective(trial):\n",
    "    \n",
    "#     r = trial.suggest_float('l1_ratio', 0, 1, log=False)\n",
    "#     c = trial.suggest_float('C', 1e-4, 1e2, log=True)\n",
    "     \n",
    "#     clf =  LogisticRegression(max_iter=5000, solver='saga', penalty='elasticnet', l1_ratio=r, C=c)\n",
    "#     scores = cross_val_score(clf, rn_train, y_train, cv=5, scoring='accuracy')\n",
    "    \n",
    "#     return scores.mean()\n",
    "    \n",
    "# logreg_study = optuna.create_study(direction='maximize')\n",
    "# logreg_study.optimize(logreg_objective, n_trials=20)\n",
    "\n",
    "# logreg_best_params = logreg_study.best_params\n"
   ]
  },
  {
   "cell_type": "markdown",
   "metadata": {},
   "source": [
    "## 상관계수 계산"
   ]
  },
  {
   "cell_type": "code",
   "execution_count": 27,
   "metadata": {},
   "outputs": [],
   "source": [
    "corr_matrix = train.corr().abs()\n",
    "upper = corr_matrix.where(np.triu(np.ones(corr_matrix.shape), k=1).astype(np.bool))\n",
    "corr_number = 0.9\n",
    "to_drop = [column for column in upper.columns if any(upper[column] > corr_number)]\n",
    "to_drop\n",
    "# # 특징 제거\n",
    "corr_train_resampled = train_resampled.drop(columns=to_drop)  \n",
    "corr_test = test.drop(columns=to_drop)"
   ]
  },
  {
   "cell_type": "code",
   "execution_count": 28,
   "metadata": {},
   "outputs": [
    {
     "name": "stderr",
     "output_type": "stream",
     "text": [
      "[I 2024-06-27 21:16:50,331] A new study created in memory with name: no-name-2dbe4ad0-bced-4860-9a19-674924a3b88d\n",
      "[I 2024-06-27 21:20:05,618] Trial 0 finished with value: 0.7563333333333333 and parameters: {'l1_ratio': 0.08183561686674035, 'C': 0.0418305718270472}. Best is trial 0 with value: 0.7563333333333333.\n",
      "[I 2024-06-27 21:22:34,636] Trial 1 finished with value: 0.7500000000000001 and parameters: {'l1_ratio': 0.16556975541408459, 'C': 0.005817738019026463}. Best is trial 0 with value: 0.7563333333333333.\n",
      "[I 2024-06-27 21:24:04,957] Trial 2 finished with value: 0.7228 and parameters: {'l1_ratio': 0.14908270170897053, 'C': 0.0013331440123466982}. Best is trial 0 with value: 0.7563333333333333.\n",
      "[I 2024-06-27 21:27:12,756] Trial 3 finished with value: 0.7535333333333333 and parameters: {'l1_ratio': 0.8438075339110132, 'C': 0.023269111113105978}. Best is trial 0 with value: 0.7563333333333333.\n",
      "[I 2024-06-27 21:27:17,298] Trial 4 finished with value: 0.34666666666666657 and parameters: {'l1_ratio': 0.7693037198518309, 'C': 0.00015207342331939955}. Best is trial 0 with value: 0.7563333333333333.\n"
     ]
    }
   ],
   "source": [
    "def logreg_objective(trial):\n",
    "    \n",
    "    r = trial.suggest_float('l1_ratio', 0, 1, log=False)\n",
    "    c = trial.suggest_float('C', 1e-4, 1e2, log=True)\n",
    "     \n",
    "    clf =  LogisticRegression(max_iter=5000, solver='saga', penalty='elasticnet', l1_ratio=r, C=c)\n",
    "    scores = cross_val_score(clf, corr_train_resampled, y_train_resampled, cv=5, scoring='accuracy')\n",
    "    \n",
    "    return scores.mean()\n",
    "    \n",
    "logreg_study = optuna.create_study(direction='maximize')\n",
    "logreg_study.optimize(logreg_objective, n_trials=5)\n",
    "\n",
    "logreg_best_params = logreg_study.best_params\n"
   ]
  },
  {
   "cell_type": "code",
   "execution_count": 29,
   "metadata": {},
   "outputs": [
    {
     "name": "stdout",
     "output_type": "stream",
     "text": [
      "Accuracy: 0.5526315789473685\n"
     ]
    }
   ],
   "source": [
    "model_logis=LogisticRegression(**logreg_best_params)\n",
    "model_logis.fit(corr_train_resampled,y_train_resampled)\n",
    "y_pred = model_logis.predict(corr_test)\n",
    "\n",
    "accuracy = accuracy_score(y_test, y_pred)\n",
    "print(\"Accuracy:\", accuracy)"
   ]
  },
  {
   "cell_type": "markdown",
   "metadata": {},
   "source": [
    "## L1 규제(Lasso)"
   ]
  },
  {
   "cell_type": "code",
   "execution_count": 30,
   "metadata": {},
   "outputs": [
    {
     "data": {
      "text/plain": [
       "0.0001"
      ]
     },
     "execution_count": 30,
     "metadata": {},
     "output_type": "execute_result"
    }
   ],
   "source": [
    "# alpha 값 후보군 설정\n",
    "alpha_values = [0.0001, 0.0005, 0.001, 0.005, 0.01, 0.05, 0.1, 1, 10, 100]\n",
    "param_grid = {'alpha': alpha_values}\n",
    "\n",
    "# Lasso 모델과 GridSearchCV 설정\n",
    "lasso = Lasso()\n",
    "grid_search = GridSearchCV(lasso, param_grid, cv=5, scoring='neg_mean_squared_error')\n",
    "\n",
    "# 최적의 alpha 값 찾기\n",
    "grid_search.fit(train_resampled, y_train_resampled)\n",
    "best_alpha = grid_search.best_params_['alpha']\n",
    "best_alpha"
   ]
  },
  {
   "cell_type": "code",
   "execution_count": 31,
   "metadata": {},
   "outputs": [
    {
     "data": {
      "text/plain": [
       "Index(['home_team_name', 'away_team_name', 'home_team_corner_count',\n",
       "       'away_team_corner_count', 'home_team_shots', 'away_team_shots',\n",
       "       'home_team_shots_on_target', 'away_team_shots_on_target',\n",
       "       'home_team_fouls', 'away_team_fouls', 'home_team_possession',\n",
       "       'away_team_possession', 'home_team_free_kick', 'away_team_free_kick',\n",
       "       'home_team_offside', 'away_team_offside',\n",
       "       'home_team_goal_count_half_time', 'away_team_goal_count_half_time',\n",
       "       'home_team_yellow_cards', 'home_team_red_cards',\n",
       "       'away_team_yellow_cards', 'away_team_red_cards', '5_games_result',\n",
       "       'year', 'home_winRate_5_mean', 'away_winRate_5_mean',\n",
       "       'home_Goal_5_mean', 'away_Goal_5_mean', 'home_attack_efficiency',\n",
       "       'away_attack_efficiency', 'home_Goal_5_std', 'away_Goal_5_std'],\n",
       "      dtype='object')"
      ]
     },
     "execution_count": 31,
     "metadata": {},
     "output_type": "execute_result"
    }
   ],
   "source": [
    "lasso = Lasso(alpha=best_alpha)  # 위에서 나온 alpha 값으로 조정한 거임\n",
    "lasso.fit(train_resampled, y_train_resampled)\n",
    "\n",
    "# 가중치가 0이 아닌 특징 선택\n",
    "selected_features = train_resampled.columns[lasso.coef_ != 0]\n",
    "selected_features"
   ]
  },
  {
   "cell_type": "code",
   "execution_count": 32,
   "metadata": {},
   "outputs": [],
   "source": [
    "L1_train_resampled = train_resampled[selected_features]\n",
    "L1_test = test[selected_features]"
   ]
  },
  {
   "cell_type": "code",
   "execution_count": 34,
   "metadata": {},
   "outputs": [
    {
     "name": "stderr",
     "output_type": "stream",
     "text": [
      "[I 2024-06-27 22:08:34,416] A new study created in memory with name: no-name-423f5228-643e-4f53-bf71-9df2c7627ec5\n",
      "[I 2024-06-27 22:10:25,870] Trial 0 finished with value: 0.712 and parameters: {'l1_ratio': 0.4571929382162898, 'C': 0.0014906406687949176}. Best is trial 0 with value: 0.712.\n",
      "[I 2024-06-27 22:14:03,623] Trial 1 finished with value: 0.7575333333333333 and parameters: {'l1_ratio': 0.58680286043964, 'C': 0.25157259292064604}. Best is trial 1 with value: 0.7575333333333333.\n",
      "[I 2024-06-27 22:14:10,044] Trial 2 finished with value: 0.35639999999999994 and parameters: {'l1_ratio': 0.9858156128183111, 'C': 0.00019595141230948325}. Best is trial 1 with value: 0.7575333333333333.\n",
      "[I 2024-06-27 22:17:52,853] Trial 3 finished with value: 0.7575999999999999 and parameters: {'l1_ratio': 0.14164717145360783, 'C': 59.09087044076494}. Best is trial 3 with value: 0.7575999999999999.\n",
      "[I 2024-06-27 22:19:03,224] Trial 4 finished with value: 0.7041333333333334 and parameters: {'l1_ratio': 0.0578853673475096, 'C': 0.0004909694557310566}. Best is trial 3 with value: 0.7575999999999999.\n"
     ]
    }
   ],
   "source": [
    "def logreg_objective(trial):\n",
    "    \n",
    "    r = trial.suggest_float('l1_ratio', 0, 1, log=False)\n",
    "    c = trial.suggest_float('C', 1e-4, 1e2, log=True)\n",
    "     \n",
    "    clf =  LogisticRegression(max_iter=5000, solver='saga', penalty='elasticnet', l1_ratio=r, C=c)\n",
    "    scores = cross_val_score(clf, L1_train_resampled, y_train_resampled, cv=5, scoring='accuracy')\n",
    "    \n",
    "    return scores.mean()\n",
    "    \n",
    "logreg_study = optuna.create_study(direction='maximize')\n",
    "logreg_study.optimize(logreg_objective, n_trials=5)\n",
    "\n",
    "logreg_best_params = logreg_study.best_params"
   ]
  },
  {
   "cell_type": "markdown",
   "metadata": {},
   "source": [
    "## model select"
   ]
  },
  {
   "cell_type": "code",
   "execution_count": 35,
   "metadata": {},
   "outputs": [
    {
     "name": "stdout",
     "output_type": "stream",
     "text": [
      "Accuracy: 0.5555555555555556\n"
     ]
    }
   ],
   "source": [
    "model_logis=LogisticRegression(**logreg_best_params)\n",
    "model_logis.fit(L1_train_resampled,y_train_resampled)\n",
    "\n",
    "y_pred = model_logis.predict(L1_test)\n",
    "\n",
    "accuracy = accuracy_score(y_test, y_pred)\n",
    "print(\"Accuracy:\", accuracy)"
   ]
  },
  {
   "cell_type": "code",
   "execution_count": null,
   "metadata": {},
   "outputs": [],
   "source": [
    "# model = lgb.LGBMClassifier(n_estimators=100, random_state=42)\n",
    "# model.fit(train, y_train) \n",
    "# y_pred = model.predict(test)\n",
    "\n",
    "# accuracy = accuracy_score(y_test, y_pred)\n",
    "# print(\"Accuracy:\", accuracy)"
   ]
  },
  {
   "cell_type": "markdown",
   "metadata": {},
   "source": [
    "# 2013~2023  \n",
    "### 많긴 하지만 정확도 떨어질 것으로 예상됨\n",
    "\n",
    "# 2020~2023\n",
    "### 데이터 수가 급격히 줄어듬"
   ]
  }
 ],
 "metadata": {
  "kernelspec": {
   "display_name": "code_sim",
   "language": "python",
   "name": "python3"
  },
  "language_info": {
   "codemirror_mode": {
    "name": "ipython",
    "version": 3
   },
   "file_extension": ".py",
   "mimetype": "text/x-python",
   "name": "python",
   "nbconvert_exporter": "python",
   "pygments_lexer": "ipython3",
   "version": "3.11.5"
  }
 },
 "nbformat": 4,
 "nbformat_minor": 2
}
