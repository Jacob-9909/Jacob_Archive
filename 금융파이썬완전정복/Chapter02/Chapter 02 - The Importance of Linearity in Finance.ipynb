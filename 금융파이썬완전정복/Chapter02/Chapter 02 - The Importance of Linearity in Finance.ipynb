{
 "cells": [
  {
   "cell_type": "markdown",
   "metadata": {},
   "source": [
    "# The capital asset pricing model and the security market line"
   ]
  },
  {
   "cell_type": "code",
   "execution_count": 1,
   "metadata": {},
   "outputs": [],
   "source": [
    "\"\"\" \n",
    "Linear regression with SciPy \n",
    "\"\"\"\n",
    "from scipy import stats\n",
    "\n",
    "stock_returns = [0.065, 0.0265, -0.0593, -0.001, 0.0346]\n",
    "mkt_returns = [0.055, -0.09, -0.041, 0.045, 0.022]\n",
    "beta, alpha, r_value, p_value, std_err = \\\n",
    "    stats.linregress(stock_returns, mkt_returns) # 회귀선의 기울기, 회귀선의 절편, 상관계수, 기울기0 귀물가설하의 p-값, 추정 표준오차"
   ]
  },
  {
   "cell_type": "code",
   "execution_count": 8,
   "metadata": {},
   "outputs": [
    {
     "name": "stdout",
     "output_type": "stream",
     "text": [
      "0.5077431878770808 -0.008481900352462384\n"
     ]
    }
   ],
   "source": [
    "print(beta, alpha) # 기울기와 절편"
   ]
  },
  {
   "cell_type": "markdown",
   "metadata": {},
   "source": [
    "무위험 이자율 5%, 시장 위험 프리미엄 8.5%  \n",
    "0.5077 * 8.5 = 4.3  \n",
    "4.3 + 5 = 9.3 - 예상 자본 수익률"
   ]
  },
  {
   "cell_type": "markdown",
   "metadata": {},
   "source": [
    "### APT = Arbitrage Pricing Theory  \n",
    "여러 체계적 위험 요소의 선형 조합으로 구성된   \n",
    "다중 요소 모델에 의해 증권의 수익이 생성된다  \n",
    "(인플레이션율, GDP 성장률, 실질 이자율, 배당금)"
   ]
  },
  {
   "cell_type": "markdown",
   "metadata": {},
   "source": [
    "# Multivariate linear regression of factor models"
   ]
  },
  {
   "cell_type": "code",
   "execution_count": 3,
   "metadata": {},
   "outputs": [
    {
     "name": "stdout",
     "output_type": "stream",
     "text": [
      "Requirement already satisfied: statsmodels in c:\\users\\wooyong\\anaconda3\\envs\\finance\\lib\\site-packages (0.13.5)\n",
      "Requirement already satisfied: scipy>=1.3 in c:\\users\\wooyong\\anaconda3\\envs\\finance\\lib\\site-packages (from statsmodels) (1.7.3)\n",
      "Requirement already satisfied: patsy>=0.5.2 in c:\\users\\wooyong\\anaconda3\\envs\\finance\\lib\\site-packages (from statsmodels) (0.5.6)\n",
      "Requirement already satisfied: numpy>=1.17 in c:\\users\\wooyong\\anaconda3\\envs\\finance\\lib\\site-packages (from statsmodels) (1.21.6)\n",
      "Requirement already satisfied: pandas>=0.25 in c:\\users\\wooyong\\anaconda3\\envs\\finance\\lib\\site-packages (from statsmodels) (1.1.5)\n",
      "Requirement already satisfied: packaging>=21.3 in c:\\users\\wooyong\\anaconda3\\envs\\finance\\lib\\site-packages (from statsmodels) (24.0)\n",
      "Requirement already satisfied: pytz>=2017.2 in c:\\users\\wooyong\\anaconda3\\envs\\finance\\lib\\site-packages (from pandas>=0.25->statsmodels) (2024.1)\n",
      "Requirement already satisfied: python-dateutil>=2.7.3 in c:\\users\\wooyong\\anaconda3\\envs\\finance\\lib\\site-packages (from pandas>=0.25->statsmodels) (2.9.0.post0)\n",
      "Requirement already satisfied: six in c:\\users\\wooyong\\anaconda3\\envs\\finance\\lib\\site-packages (from patsy>=0.5.2->statsmodels) (1.16.0)\n",
      "Note: you may need to restart the kernel to use updated packages.\n"
     ]
    }
   ],
   "source": [
    "# pip install -U statsmodels"
   ]
  },
  {
   "cell_type": "code",
   "execution_count": 4,
   "metadata": {},
   "outputs": [],
   "source": [
    "\"\"\" \n",
    "Least squares regression with statsmodels \n",
    "\"\"\"\n",
    "import numpy as np\n",
    "import statsmodels.api as sm\n",
    "\n",
    "# Generate some sample data\n",
    "num_periods = 9 # 9개의 기간 동안 측정\n",
    "all_values = np.array([np.random.random(8) \\\n",
    "                       for i in range(num_periods)])\n",
    "\n",
    "# Filter the data\n",
    "y_values = all_values[:, 0] # First column values as Y\n",
    "x_values = all_values[:, 1:] # All other values as X\n",
    "x_values = sm.add_constant(x_values) # Include the intercept\n",
    "results = sm.OLS(y_values, x_values).fit() # Regress and fit the model"
   ]
  },
  {
   "cell_type": "code",
   "execution_count": 6,
   "metadata": {},
   "outputs": [
    {
     "name": "stdout",
     "output_type": "stream",
     "text": [
      "                            OLS Regression Results                            \n",
      "==============================================================================\n",
      "Dep. Variable:                      y   R-squared:                       0.948\n",
      "Model:                            OLS   Adj. R-squared:                  0.580\n",
      "Method:                 Least Squares   F-statistic:                     2.578\n",
      "Date:                Thu, 23 May 2024   Prob (F-statistic):              0.447\n",
      "Time:                        11:34:32   Log-Likelihood:                 9.7628\n",
      "No. Observations:                   9   AIC:                            -3.526\n",
      "Df Residuals:                       1   BIC:                            -1.948\n",
      "Df Model:                           7                                         \n",
      "Covariance Type:            nonrobust                                         \n",
      "==============================================================================\n",
      "                 coef    std err          t      P>|t|      [0.025      0.975]\n",
      "------------------------------------------------------------------------------\n",
      "const          0.6533      0.557      1.174      0.449      -6.418       7.725\n",
      "x1             0.1242      0.314      0.396      0.760      -3.864       4.112\n",
      "x2             0.9592      0.709      1.353      0.405      -8.052       9.970\n",
      "x3            -0.7266      0.735     -0.989      0.504     -10.066       8.613\n",
      "x4            -0.1338      0.633     -0.211      0.867      -8.177       7.909\n",
      "x5            -0.7174      0.384     -1.868      0.313      -5.598       4.163\n",
      "x6            -1.0099      0.430     -2.351      0.256      -6.469       4.449\n",
      "x7             0.4301      1.016      0.423      0.745     -12.484      13.344\n",
      "==============================================================================\n",
      "Omnibus:                        2.076   Durbin-Watson:                   3.451\n",
      "Prob(Omnibus):                  0.354   Jarque-Bera (JB):                0.801\n",
      "Skew:                          -0.028   Prob(JB):                        0.670\n",
      "Kurtosis:                       1.540   Cond. No.                         31.1\n",
      "==============================================================================\n",
      "\n",
      "Notes:\n",
      "[1] Standard Errors assume that the covariance matrix of the errors is correctly specified.\n"
     ]
    },
    {
     "name": "stderr",
     "output_type": "stream",
     "text": [
      "c:\\Users\\wooyong\\anaconda3\\envs\\finance\\lib\\site-packages\\scipy\\stats\\stats.py:1542: UserWarning: kurtosistest only valid for n>=20 ... continuing anyway, n=9\n",
      "  \"anyway, n=%i\" % int(n))\n"
     ]
    }
   ],
   "source": [
    "print(results.summary())"
   ]
  },
  {
   "cell_type": "code",
   "execution_count": 7,
   "metadata": {},
   "outputs": [
    {
     "name": "stdout",
     "output_type": "stream",
     "text": [
      "[ 0.65330956  0.12416589  0.95917575 -0.72659921 -0.13383018 -0.71741458\n",
      " -1.00989633  0.43011211]\n"
     ]
    }
   ],
   "source": [
    "print(results.params) # a x1~x7까지의 값들 제공"
   ]
  },
  {
   "cell_type": "markdown",
   "metadata": {},
   "source": [
    "# Linear optimization"
   ]
  },
  {
   "cell_type": "code",
   "execution_count": 8,
   "metadata": {},
   "outputs": [
    {
     "name": "stdout",
     "output_type": "stream",
     "text": [
      "Collecting pulp\n",
      "  Downloading PuLP-2.8.0-py3-none-any.whl (17.7 MB)\n",
      "     ---------------------------------------- 17.7/17.7 MB 2.4 MB/s eta 0:00:00\n",
      "Installing collected packages: pulp\n",
      "Successfully installed pulp-2.8.0\n",
      "Note: you may need to restart the kernel to use updated packages.\n"
     ]
    }
   ],
   "source": [
    "# pip install pulp # open source 선형 프로그래밍 모델"
   ]
  },
  {
   "cell_type": "markdown",
   "metadata": {},
   "source": [
    "## A maximization example with linear programming"
   ]
  },
  {
   "cell_type": "code",
   "execution_count": 9,
   "metadata": {},
   "outputs": [
    {
     "name": "stderr",
     "output_type": "stream",
     "text": [
      "c:\\Users\\wooyong\\anaconda3\\envs\\finance\\lib\\site-packages\\pulp\\pulp.py:1316: UserWarning: Spaces are not permitted in the name. Converted to '_'\n",
      "  warnings.warn(\"Spaces are not permitted in the name. Converted to '_'\")\n"
     ]
    },
    {
     "data": {
      "text/plain": [
       "1"
      ]
     },
     "execution_count": 9,
     "metadata": {},
     "output_type": "execute_result"
    }
   ],
   "source": [
    "\"\"\" \n",
    "A linear optimization problem with 2 variables\n",
    "\"\"\"\n",
    "import pulp\n",
    "\n",
    "x = pulp.LpVariable('x', lowBound=0) # 함수를 풀어야 할 변수 설정\n",
    "y = pulp.LpVariable('y', lowBound=0) # \n",
    "\n",
    "problem = pulp.LpProblem(\n",
    "    'A simple maximization objective', \n",
    "    pulp.LpMaximize)\n",
    "problem += 3*x + 2*y, 'The objective function' # += 텍스트 설명과 임의 개수의 제약조건 추가 가능\n",
    "problem += 2*x + y <= 100, '1st constraint'\n",
    "problem += x + y <= 80, '2nd constraint'\n",
    "problem += x <= 40, '3rd constraint'\n",
    "problem.solve()"
   ]
  },
  {
   "cell_type": "code",
   "execution_count": 16,
   "metadata": {},
   "outputs": [
    {
     "name": "stdout",
     "output_type": "stream",
     "text": [
      "Maximization Results:\n",
      "x = 20.0\n",
      "y = 60.0\n"
     ]
    }
   ],
   "source": [
    "print(\"Maximization Results:\")\n",
    "for variable in problem.variables():\n",
    "    print(variable.name, '=', variable.varValue)"
   ]
  },
  {
   "cell_type": "markdown",
   "metadata": {},
   "source": [
    "## A minimization example with integer programming"
   ]
  },
  {
   "cell_type": "code",
   "execution_count": 10,
   "metadata": {},
   "outputs": [],
   "source": [
    "\"\"\" \n",
    "An example of implementing an integer \n",
    "programming model with binary conditions \n",
    "\"\"\"\n",
    "import pulp\n",
    "\n",
    "dealers = ['X', 'Y', 'Z']\n",
    "variable_costs = {'X': 500, 'Y': 350, 'Z': 450}\n",
    "fixed_costs = {'X': 4000, 'Y': 2000, 'Z': 6000}\n",
    "\n",
    "# Define PuLP variables to solve\n",
    "quantities = pulp.LpVariable.dicts('quantity', \n",
    "                                   dealers, \n",
    "                                   lowBound=0,\n",
    "                                   cat=pulp.LpInteger)\n",
    "is_orders = pulp.LpVariable.dicts('orders', \n",
    "                                  dealers,\n",
    "                                  cat=pulp.LpBinary)"
   ]
  },
  {
   "cell_type": "code",
   "execution_count": null,
   "metadata": {},
   "outputs": [],
   "source": [
    "\"\"\"\n",
    "This is an example of implementing an integer programming model\n",
    "with binary variables the wrong way.\n",
    "\"\"\"\n",
    "# Initialize the model with constraints\n",
    "model = pulp.LpProblem('A cost minimization problem',\n",
    "                       pulp.LpMinimize)\n",
    "model += sum([(variable_costs[i] * \\\n",
    "               quantities[i] + \\\n",
    "               fixed_costs[i])*is_orders[i] \\\n",
    "              for i in dealers]), 'Minimize portfolio cost'\n",
    "model += sum([quantities[i] for i in dealers]) == 150\\\n",
    "    , 'Total contracts required'\n",
    "model += 30 <= quantities['X'] <= 100\\\n",
    "    , 'Boundary of total volume of X'\n",
    "model += 30 <= quantities['Y'] <= 90\\\n",
    "    , 'Boundary of total volume of Y'\n",
    "model += 30 <= quantities['Z'] <= 70\\\n",
    "    , 'Boundary of total volume of Z'\n",
    "model.solve()  # You will get an error running this code!  + 비선형 프로그래밍으 수행하게 됨"
   ]
  },
  {
   "cell_type": "code",
   "execution_count": 13,
   "metadata": {},
   "outputs": [
    {
     "name": "stderr",
     "output_type": "stream",
     "text": [
      "c:\\Users\\wooyong\\anaconda3\\envs\\finance\\lib\\site-packages\\pulp\\pulp.py:1316: UserWarning: Spaces are not permitted in the name. Converted to '_'\n",
      "  warnings.warn(\"Spaces are not permitted in the name. Converted to '_'\")\n"
     ]
    },
    {
     "data": {
      "text/plain": [
       "1"
      ]
     },
     "execution_count": 13,
     "metadata": {},
     "output_type": "execute_result"
    }
   ],
   "source": [
    "\"\"\"\n",
    "This is an example of implementing an \n",
    "IP model with binary variables the correct way.\n",
    "\"\"\"\n",
    "# Initialize the model with constraints\n",
    "model = pulp.LpProblem('A cost minimization problem',\n",
    "                       pulp.LpMinimize)\n",
    "model += sum(\n",
    "    [variable_costs[i]*quantities[i] + \\\n",
    "         fixed_costs[i]*is_orders[i] for i in dealers])\\\n",
    "    , 'Minimize portfolio cost'\n",
    "model += sum([quantities[i] for i in dealers]) == 150\\\n",
    "    ,  'Total contracts required'\n",
    "model += is_orders['X']*30 <= quantities['X'] <= \\\n",
    "    is_orders['X']*100, 'Boundary of total volume of X' # IS_ORDERS 미지수, 모든 미지수를 선형 방식으로 배치해야 함\n",
    "model += is_orders['Y']*30 <= quantities['Y'] <= \\\n",
    "    is_orders['Y']*90, 'Boundary of total volume of Y'\n",
    "model += is_orders['Z']*30 <= quantities['Z'] <= \\\n",
    "    is_orders['Z']*70, 'Boundary of total volume of Z'\n",
    "model.solve()"
   ]
  },
  {
   "cell_type": "code",
   "execution_count": 14,
   "metadata": {},
   "outputs": [
    {
     "name": "stdout",
     "output_type": "stream",
     "text": [
      "Minimization Results:\n",
      "orders_X = 0.0\n",
      "orders_Y = 1.0\n",
      "orders_Z = 1.0\n",
      "quantity_X = 0.0\n",
      "quantity_Y = 90.0\n",
      "quantity_Z = 60.0\n",
      "Total cost: 66500.0\n"
     ]
    }
   ],
   "source": [
    "print('Minimization Results:')\n",
    "for variable in model.variables():\n",
    "    print(variable, '=', variable.varValue)\n",
    "\n",
    "print('Total cost:',  pulp.value(model.objective))"
   ]
  },
  {
   "cell_type": "markdown",
   "metadata": {},
   "source": [
    "# Solving linear equations using matrices"
   ]
  },
  {
   "cell_type": "code",
   "execution_count": 43,
   "metadata": {},
   "outputs": [],
   "source": [
    "\"\"\" \n",
    "Linear algebra with NumPy matrices \n",
    "\"\"\"\n",
    "import numpy as np\n",
    "\n",
    "A = np.array([[2, 1, 1],[1, 3, 2],[1, 0, 0]])\n",
    "B = np.array([4, 5, 6])"
   ]
  },
  {
   "cell_type": "markdown",
   "metadata": {},
   "source": [
    "Use the `linalg.solve` function of NumPy to solve a system of linear scalar\n",
    "equations:"
   ]
  },
  {
   "cell_type": "code",
   "execution_count": 44,
   "metadata": {},
   "outputs": [
    {
     "name": "stdout",
     "output_type": "stream",
     "text": [
      "[  6.  15. -23.]\n"
     ]
    }
   ],
   "source": [
    "print(np.linalg.solve(A, B))"
   ]
  },
  {
   "cell_type": "markdown",
   "metadata": {},
   "source": [
    "# The LU decomposition"
   ]
  },
  {
   "cell_type": "markdown",
   "metadata": {},
   "source": [
    "### LU decomposition - 하단-상단 분해(lower-upper factorization) = 선형 정방 연립방정식을 푸는 방법 중 하나"
   ]
  },
  {
   "cell_type": "code",
   "execution_count": 15,
   "metadata": {},
   "outputs": [],
   "source": [
    " \"\"\" \n",
    "LU decomposition with SciPy \n",
    "\"\"\"\n",
    "import numpy as np\n",
    "import scipy.linalg as linalg\n",
    "\n",
    "\n",
    "# Define A and B\n",
    "A = np.array([\n",
    "    [2., 1., 1.],\n",
    "    [1., 3., 2.],\n",
    "    [1., 0., 0.]])\n",
    "B = np.array([4., 5., 6.])\n",
    "\n",
    "# Perform LU decompositiopn\n",
    "LU = linalg.lu_factor(A) # LU 변수를 A 행렬의 피벗된 LU 분해를 제공함\n",
    "x = linalg.lu_solve(LU, B)"
   ]
  },
  {
   "cell_type": "code",
   "execution_count": 16,
   "metadata": {},
   "outputs": [
    {
     "name": "stdout",
     "output_type": "stream",
     "text": [
      "[  6.  15. -23.]\n"
     ]
    }
   ],
   "source": [
    "print(x)"
   ]
  },
  {
   "cell_type": "code",
   "execution_count": 17,
   "metadata": {},
   "outputs": [
    {
     "name": "stdout",
     "output_type": "stream",
     "text": [
      "P=\n",
      " [[1. 0. 0.]\n",
      " [0. 1. 0.]\n",
      " [0. 0. 1.]]\n",
      "L=\n",
      " [[ 1.   0.   0. ]\n",
      " [ 0.5  1.   0. ]\n",
      " [ 0.5 -0.2  1. ]]\n",
      "U=\n",
      " [[ 2.   1.   1. ]\n",
      " [ 0.   2.5  1.5]\n",
      " [ 0.   0.  -0.2]]\n"
     ]
    }
   ],
   "source": [
    "import scipy\n",
    "\n",
    "P, L, U = scipy.linalg.lu(A)\n",
    "\n",
    "print('P=\\n', P) # 순열 행렬\n",
    "print('L=\\n', L) # 하삼각 행렬\n",
    "print('U=\\n', U) # 상삼각 행렬"
   ]
  },
  {
   "cell_type": "markdown",
   "metadata": {},
   "source": [
    "# The Cholesky decomposition"
   ]
  },
  {
   "cell_type": "markdown",
   "metadata": {},
   "source": [
    "### 대칭 행렬의 속성을 사용  \n",
    "### LU 분해보다 훨씬 더 빠르고 메모리를 훨씬 적게 사용함\n",
    "### Hermitian(또는 실수값 대칭이므로 정방행렬) 양의 정부호여야 함\n"
   ]
  },
  {
   "cell_type": "code",
   "execution_count": 28,
   "metadata": {},
   "outputs": [],
   "source": [
    "\"\"\" \n",
    "Cholesky decomposition with NumPy \n",
    "\"\"\"\n",
    "import numpy as np\n",
    "\n",
    "A = np.array([\n",
    "    [10., -1., 2., 0.],\n",
    "    [-1., 11., -1., 3.],\n",
    "    [2., -1., 10., -1.],\n",
    "    [0., 3., -1., 8.]])\n",
    "B = np.array([6., 25., -11., 15.])\n",
    "\n",
    "L = np.linalg.cholesky(A)"
   ]
  },
  {
   "cell_type": "code",
   "execution_count": 29,
   "metadata": {},
   "outputs": [
    {
     "name": "stdout",
     "output_type": "stream",
     "text": [
      "[[ 3.16227766  0.          0.          0.        ]\n",
      " [-0.31622777  3.3015148   0.          0.        ]\n",
      " [ 0.63245553 -0.24231301  3.08889696  0.        ]\n",
      " [ 0.          0.9086738  -0.25245792  2.6665665 ]]\n"
     ]
    }
   ],
   "source": [
    "print(L)"
   ]
  },
  {
   "cell_type": "code",
   "execution_count": 30,
   "metadata": {},
   "outputs": [
    {
     "name": "stdout",
     "output_type": "stream",
     "text": [
      "[[10. -1.  2.  0.]\n",
      " [-1. 11. -1.  3.]\n",
      " [ 2. -1. 10. -1.]\n",
      " [ 0.  3. -1.  8.]]\n"
     ]
    }
   ],
   "source": [
    "print(np.dot(L, L.T.conj()))  # A=L.L*"
   ]
  },
  {
   "cell_type": "code",
   "execution_count": 31,
   "metadata": {},
   "outputs": [],
   "source": [
    "y = np.linalg.solve(L, B)  # L.L*.x=B; When L*.x=y, then L.y=B"
   ]
  },
  {
   "cell_type": "code",
   "execution_count": 32,
   "metadata": {},
   "outputs": [],
   "source": [
    "x = np.linalg.solve(L.T.conj(), y)  # x=L*'.y"
   ]
  },
  {
   "cell_type": "code",
   "execution_count": 33,
   "metadata": {},
   "outputs": [
    {
     "name": "stdout",
     "output_type": "stream",
     "text": [
      "[ 1.  2. -1.  1.]\n"
     ]
    }
   ],
   "source": [
    "print(x)"
   ]
  },
  {
   "cell_type": "code",
   "execution_count": 34,
   "metadata": {},
   "outputs": [
    {
     "name": "stdout",
     "output_type": "stream",
     "text": [
      "[[  6.]\n",
      " [ 25.]\n",
      " [-11.]\n",
      " [ 15.]]\n"
     ]
    }
   ],
   "source": [
    "print(np.mat(A) * np.mat(x).T)  # B=Ax"
   ]
  },
  {
   "cell_type": "markdown",
   "metadata": {},
   "source": [
    "cholesky 한 번 더 공부하기"
   ]
  },
  {
   "cell_type": "markdown",
   "metadata": {},
   "source": [
    "# The QR decomposition"
   ]
  },
  {
   "cell_type": "code",
   "execution_count": 35,
   "metadata": {},
   "outputs": [],
   "source": [
    "\"\"\" \n",
    "QR decomposition with scipy \n",
    "\"\"\"\n",
    "import numpy as np\n",
    "import scipy.linalg as linalg\n",
    "\n",
    "\n",
    "A = np.array([\n",
    "    [2., 1., 1.],\n",
    "    [1., 3., 2.],\n",
    "    [1., 0., 0]])\n",
    "B = np.array([4., 5., 6.])\n",
    "\n",
    "Q, R = scipy.linalg.qr(A)  # QR decomposition\n",
    "y = np.dot(Q.T, B)  # Let y=Q'.B\n",
    "x = scipy.linalg.solve(R, y)  # Solve Rx=y"
   ]
  },
  {
   "cell_type": "code",
   "execution_count": 36,
   "metadata": {},
   "outputs": [
    {
     "name": "stdout",
     "output_type": "stream",
     "text": [
      "[  6.  15. -23.]\n"
     ]
    }
   ],
   "source": [
    "print(x)"
   ]
  },
  {
   "cell_type": "markdown",
   "metadata": {},
   "source": [
    "# Solving with other matrix algebra methods"
   ]
  },
  {
   "cell_type": "markdown",
   "metadata": {},
   "source": [
    "## The Jacobi method"
   ]
  },
  {
   "cell_type": "markdown",
   "metadata": {},
   "source": [
    "### 계산을 병렬적으로 수행, 더 빠른 계산 방법  \n",
    "### A 행렬이 절대 비축소 대각 우세(strictly irreducibly diagonally dominant)인 경우 수렴이 보장됨  \n",
    "### 모든 행의 대각선 요소의 절댓값이 다른 항의 절댓값의 합보다 큰 행렬"
   ]
  },
  {
   "cell_type": "code",
   "execution_count": 37,
   "metadata": {},
   "outputs": [],
   "source": [
    "\"\"\"\n",
    "Solve Ax=B with the Jacobi method \n",
    "\"\"\"\n",
    "import numpy as np\n",
    "\n",
    "def jacobi(A, B, n, tol=1e-10):\n",
    "    # Initializes x with zeroes with same shape and type as B\n",
    "    x = np.zeros_like(B)\n",
    "\n",
    "    for iter_count in range(n):\n",
    "        x_new = np.zeros_like(x)\n",
    "        for i in range(A.shape[0]):\n",
    "            s1 = np.dot(A[i, :i], x[:i])\n",
    "            s2 = np.dot(A[i, i + 1:], x[i + 1:])\n",
    "            x_new[i] = (B[i] - s1 - s2) / A[i, i]\n",
    "\n",
    "        if np.allclose(x, x_new, tol):\n",
    "            break\n",
    "\n",
    "        x = x_new\n",
    "\n",
    "    return x"
   ]
  },
  {
   "cell_type": "markdown",
   "metadata": {},
   "source": [
    "x1, x2, x3에 대한 값을 반복을 통해 수렴값으로 도달"
   ]
  },
  {
   "cell_type": "code",
   "execution_count": 38,
   "metadata": {},
   "outputs": [],
   "source": [
    "A = np.array([\n",
    "    [10., -1., 2., 0.], \n",
    "    [-1., 11., -1., 3.], \n",
    "    [2., -1., 10., -1.], \n",
    "    [0.0, 3., -1., 8.]])\n",
    "B = np.array([6., 25., -11., 15.])\n",
    "n = 25"
   ]
  },
  {
   "cell_type": "code",
   "execution_count": 39,
   "metadata": {},
   "outputs": [
    {
     "name": "stdout",
     "output_type": "stream",
     "text": [
      "x = [ 1.  2. -1.  1.]\n"
     ]
    }
   ],
   "source": [
    "x = jacobi(A, B, n)\n",
    "print('x', '=', x)"
   ]
  },
  {
   "cell_type": "markdown",
   "metadata": {},
   "source": [
    "# The Gauss-Seidel method"
   ]
  },
  {
   "cell_type": "code",
   "execution_count": 40,
   "metadata": {},
   "outputs": [],
   "source": [
    "\"\"\" \n",
    "Solve Ax=B with the Gauss-Seidel method \n",
    "\"\"\"\n",
    "import numpy as np\n",
    "\n",
    "\n",
    "def gauss(A, B, n, tol=1e-10):\n",
    "    L = np.tril(A)  # returns the lower triangular matrix of A\n",
    "    U = A-L  # decompose A = L + U\n",
    "    L_inv = np.linalg.inv(L)  # 역행렬\n",
    "    x = np.zeros_like(B)\n",
    "\n",
    "    for i in range(n):\n",
    "        Ux = np.dot(U, x)\n",
    "        x_new = np.dot(L_inv, B - Ux)\n",
    "\n",
    "        if np.allclose(x, x_new, tol): # 이전 해와 새로운 해의 허용 오차내에 존재하는 지 확인\n",
    "            break\n",
    "\n",
    "        x = x_new\n",
    "\n",
    "    return x"
   ]
  },
  {
   "cell_type": "code",
   "execution_count": 41,
   "metadata": {},
   "outputs": [],
   "source": [
    "A = np.array([\n",
    "    [10., -1., 2., 0.], \n",
    "    [-1., 11., -1., 3.], \n",
    "    [2., -1., 10., -1.], \n",
    "    [0.0, 3., -1., 8.]])\n",
    "B = np.array([6., 25., -11., 15.])\n",
    "n = 100\n",
    "x = gauss(A, B, n)"
   ]
  },
  {
   "cell_type": "code",
   "execution_count": 42,
   "metadata": {},
   "outputs": [
    {
     "name": "stdout",
     "output_type": "stream",
     "text": [
      "x = [ 1.  2. -1.  1.]\n"
     ]
    }
   ],
   "source": [
    "print('x', '=', x)"
   ]
  },
  {
   "cell_type": "markdown",
   "metadata": {},
   "source": [
    "LU분해, 촐레스키분해, QR분해"
   ]
  }
 ],
 "metadata": {
  "kernelspec": {
   "display_name": "Python 3",
   "language": "python",
   "name": "python3"
  },
  "language_info": {
   "codemirror_mode": {
    "name": "ipython",
    "version": 3
   },
   "file_extension": ".py",
   "mimetype": "text/x-python",
   "name": "python",
   "nbconvert_exporter": "python",
   "pygments_lexer": "ipython3",
   "version": "3.7.0"
  }
 },
 "nbformat": 4,
 "nbformat_minor": 2
}
