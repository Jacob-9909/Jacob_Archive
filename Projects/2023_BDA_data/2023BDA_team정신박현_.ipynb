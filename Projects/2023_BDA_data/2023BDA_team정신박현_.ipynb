{
 "cells": [
  {
   "attachments": {},
   "cell_type": "markdown",
   "metadata": {},
   "source": [
    "# 2023 BDA 데이터 분석·활용 공모전 정신박현 코드"
   ]
  },
  {
   "attachments": {},
   "cell_type": "markdown",
   "metadata": {},
   "source": [
    "# 목차\n",
    "1. [컬럼 정보](#1.-컬럼-정보)\n",
    "2. [Data 불러오기 및 정리](#2.-Data-불러오기-및-정리)<br/>\n",
    "3. [기본적인 전처리](#3.-기본적인-전처리)<br/>\n",
    "   - 주문일<br/>\n",
    "   - 운송장등록일자 <br/>\n",
    "   - 배송기간<br/>\n",
    "4. [세부 컬럼 분석](#4.-세부-컬럼-분석)\n",
    "   - ['수량'관련 컬럼](#수량-관련-컬럼) <br/>\n",
    "      실질상품수량 <br/>\n",
    "      실질판매수량 <br/>\n",
    "      상품수량 이상치\n",
    "   - ['상품명'관련 컬럼](#상품명-관련-컬럼) <br/>\n",
    "      상품대분류<br/>\n",
    "      브랜드 / 상하위 브랜드<br/>\n",
    "      용량(중량) <br/>\n",
    "   - [사은품여부](#사은품-여부)\n",
    "   - ['자재'관련 컬럼](#자재코드-컬럼이-의미하는-바-알아내기) <br/>\n",
    "      자재코드 의미 (사은품 관련) <br/>\n",
    "   - [클레임_상태](#클레임_상태)\n",
    "   - [거래처](#거래처)\n",
    "   - [주문일](#주문일)\n",
    "   - [출고예정일](#출고예정일)\n",
    "   - [주문/배송상태](#주문배송상태)\n",
    "5. [파일 내보내기](#파일-내보내기)"
   ]
  },
  {
   "attachments": {},
   "cell_type": "markdown",
   "metadata": {},
   "source": [
    "---"
   ]
  },
  {
   "attachments": {},
   "cell_type": "markdown",
   "metadata": {},
   "source": [
    "# 1. 컬럼 정보\n",
    "* [거래처](#거래처)\n",
    " : 외부몰_직거래_거래처 단일값으로 고정(분석할 필요 없음)</br>\n",
    "* 거래처주문번호 : 앞 8자리는 거래주문일을 나타내고, 뒤에 8자리는 또 다른 특징이 있는 듯(분석 필요)</br>\n",
    "* [주문일](#주문일) : 상품 주문 일을 나타냄</br>\n",
    "* [사은품여부](#사은품-여부) : 사은품이 있는 경우 'Y', 없는 경우 'N'</br>\n",
    "* [출고예정일](#출고예정일) : 거래처에서 상품 출고 예정일을 나타냄</br>\n",
    "* 주문/배송상태 : '배송완료','주문취소','배송취소','배송 중','주문완료','배송 준비','출고 지시'로 나눠져 있음. 배송완료 9할 이상임.</br>\n",
    "* [클레임_상태](#클레임_상태) : '-','취소완료','반품처리중','교환완료','교환처리중','반품철회','반품완료','반품신청'로 나눠져 있으며, 소비자의 반품 비율을 확인할 수 있음</br>\n",
    "* [운송장등록일자](#운송장-등록일자-기준-도착일-지정) : 5, 6월 날짜 중 가장 높은 2개의 달을 주목할 필요가 있음</br>\n",
    "\n",
    "* ['상품'관련 컬럼](#상품명-관련-컬럼)\n",
    "    *상품명: 상품의 이름을 나타내는 컬럼임. 단 상품명 뿐만 아니라 개수와 중량 및 유통기한 등 부가적 정보도 나와있음. 상품명 데이터에서 추출해야할 정보가 많음 </br>\n",
    "    * 상품순번: 상품의 순서를 나타냄. 끝의 자리가 1로 끝나면 십의 자리는 1부터 9까지 있고, 161도 존재함. 기준별로 분류하여 순서를 부여한 거 같은데 의미하는 바는 아직 잘… </br>\n",
    "    * 상품코드: 상품명별로 코드를 부여함. 상품명을 일일이 다 보고 찾기 어려운 단점을 숫자로 대체하여 수월하게 해주는 컬럼임. 상품명이 같으면 같은 상품코드를 보유함.</br>\n",
    "    * 상품유형: 상품의 구성유형을 나타내는 컬럼임. 단일상품, 묶음상품, 복합상품 세가지로 나타낼 수 있음. 단일상품은 한가지의 상품을 나타내고, </br>묶음상품은 한가지의 상품 X n개로 표시된 말 그대로 묶음 상품을 나타냄. 복합상품은 두가지 종류의 상품으로 구성되어 있음. 단일상품의 비율이 가장 높고, 그 뒤로 묶음 상품, 복합 상품 순임.</br>\n",
    "    * 상품타입: 상품의 용도와 목적을 설명해주는 컬럼임. 일반과 선물세트, 공백으로 구성되어 있음. 사은품의 경우 공백으로 처리하고, 상품명이 ‘특별한 선택 1호’의 경우 선물세트로 표기함. 그 외에 상품들은 모두 일반임을 알 수 있음.</br>\n",
    "* ['수량'관련 컬럼](#수량-관련-컬럼)\n",
    "    * 상품수량 :  </br>\n",
    "    * 초기자재수량 : </br>\n",
    "    * 주문수량 : 소비자가 상품별 주문한 수량, 취소와 반품이 되지 않았을 때 수량, 만약 그럴 경우 0으로 처리 </br>\n",
    "    * 취소수량 : 상품 취소 수량</br>\n",
    "    * 반품수량 : 취소수량 보다 낮은 수치를 기록 0이 99.6%, 소비자들은 반품보다 취소를 지향함</br>\n",
    "* ['자재'관련 컬럼](#자재코드-컬럼이-의미하는-바-알아내기)\n",
    "    * 자재코드: 상품코드와 마찬가지로 자재명과 자재코드가 짝꿍임. 자재명별로 고유한 자재코드가 부여되어 있고, 자재명이 같으면 같은 자재코드를 가짐. 자재코드 길이로 사은품과 일반 상품이 구분되어 있음</br>\n",
    "    * 자재명: 브랜드와 간략한 상품명과 중량, 마감구분에 대한 정보를 담고 있는 컬럼임. 상품명의 대분류라고 생각할 수 있음.</br>\n",
    "\n",
    "* 매출액: 상품의 주문수량별로 소비한 비용을 나타내는 컬럼임. 같은 상품을 같은 수량으로 구매하였어도 포인트혜택이나 이벤트 등으로 드는 비용, 매출액이 다를 수 있음. </br>\n",
    "* 배송유형 : 택배배송, 3PL로 나누어짐.</br>\n",
    "* 마감구분 : 상온, 풀필먼트(상온),냉동,냉장,풀필먼트(저온) 으로 나눌 수 있음. 풀필먼트</br>\n",
    "* 플랜트정보 : 동탄센터 > 동탄일반,풀필먼트센터 > 풀필상온센터,풀필먼트센터 > 풀필저온센터,부산센터 > 부산온라인센터,논산센터 > 온라인 택배 창고,진천센터 > 진천센터. 플랜트별로 배송기간의 차이에 주목할 필요가 있을 거라 추측됨</br>\n",
    "* 단독배송여부 : 단일값으로 처리, 'F' </br>\n",
    "* GS홈쇼핑주문번호 : 전부 결측값, 추가적인 정보를 알아낼 필요성 있음</br>"
   ]
  },
  {
   "attachments": {},
   "cell_type": "markdown",
   "metadata": {},
   "source": [
    "---"
   ]
  },
  {
   "attachments": {},
   "cell_type": "markdown",
   "metadata": {},
   "source": [
    "# 2. Data 불러오기 및 정리"
   ]
  },
  {
   "cell_type": "code",
   "execution_count": 112,
   "metadata": {},
   "outputs": [],
   "source": [
    "import pandas as pd\n",
    "import numpy as np\n",
    "import datetime\n",
    "from datetime import timedelta, datetime\n",
    "\n",
    "import matplotlib.pyplot as plt\n",
    "import seaborn as sns\n",
    "sns.set_theme(style='whitegrid', font_scale=1.5)\n",
    "sns.set_palette('Set2', n_colors=10)\n",
    "plt.rc('font', family='malgun gothic')\n",
    "plt.rc('axes', unicode_minus=False)\n",
    "\n",
    "import re"
   ]
  },
  {
   "cell_type": "code",
   "execution_count": 113,
   "metadata": {},
   "outputs": [
    {
     "data": {
      "text/plain": [
       "2503"
      ]
     },
     "execution_count": 113,
     "metadata": {},
     "output_type": "execute_result"
    }
   ],
   "source": [
    "df_n[df_n['사은품여부'] =='Y']['상품명대분류'].value_counts().sum()"
   ]
  },
  {
   "cell_type": "code",
   "execution_count": 114,
   "metadata": {},
   "outputs": [],
   "source": [
    "# df_1111 = pd.read_excel('track1_11번가.xlsx',sheet_name = None)\n",
    "# df_nnnn = pd.read_excel('track1_네이버.xls',sheet_name = None)\n",
    "\n",
    "# sheets_11 = list(df_1111.keys())\n",
    "# df_11 = pd.DataFrame([])\n",
    "\n",
    "# for i in sheets_11:\n",
    "#     df1 = pd.read_excel('track1_11번가.xlsx',sheet_name = i)\n",
    "#     df1['날짜'] = i\n",
    "#     df_11 = pd.concat([df_11, df1])\n",
    "\n",
    "# sheets_n = list(df_nnnn.keys())\n",
    "# df_n = pd.DataFrame([])\n",
    "\n",
    "# for i in sheets_n:\n",
    "#     df2 = pd.read_excel('track1_네이버.xls',sheet_name = i)\n",
    "#     df2['날짜'] = i\n",
    "#     df_n = pd.concat([df_n, df2])\n",
    "    \n",
    "    \n",
    "# df_n.to_pickle('df_n.pkl')\n",
    "# df_11.to_pickle('df_11.pkl')\n",
    "\n"
   ]
  },
  {
   "cell_type": "code",
   "execution_count": 115,
   "metadata": {},
   "outputs": [],
   "source": [
    "df_n = pd.read_pickle('df_n.pkl')\n",
    "df_11= pd.read_pickle('df_11.pkl')"
   ]
  },
  {
   "attachments": {},
   "cell_type": "markdown",
   "metadata": {},
   "source": [
    "# 3. 기본적인 전처리"
   ]
  },
  {
   "attachments": {},
   "cell_type": "markdown",
   "metadata": {},
   "source": [
    "네이버"
   ]
  },
  {
   "cell_type": "code",
   "execution_count": 116,
   "metadata": {},
   "outputs": [],
   "source": [
    "# \"주문일 컬럼\" 정리 - 날짜형식으로 전환 및 추가 컬럼 생성\n",
    "df_n['주문일'] = pd.to_datetime(df_n['주문일'], format = '%Y%m%d')\n",
    "if not any(col in df_n.columns for col in ['구매연도', '구매월', '구매일', '구매요일']):\n",
    "    df_n.insert(3, '구매연도', df_n['주문일'].dt.year)\n",
    "    df_n.insert(4, '구매월', df_n['주문일'].dt.month)\n",
    "    df_n.insert(5, '구매일', df_n['주문일'].dt.day)\n",
    "    df_n.insert(6, '구매요일', df_n['주문일'].dt.day_name('ko_KR'))\n",
    "\n",
    "# 주문 요일에 따라 평일/주말 구분 컬럼 생성\n",
    "df_n['요일'] = df_n['주문일'].dt.weekday\n",
    "if '평일/주말' not in df_n.columns:\n",
    "    df_n.insert(7,'평일/주말',df_n['요일'].apply(lambda x: '주말' if x >= 5 else '평일') )\n",
    "\n",
    "# 운송장 등록일자 기준 도착일 지정\n",
    "# 운송장 등록 기준 보통 반나절내에 택배사 도착 (12시 이후는 다음날로 설정함)\n",
    "df_n['운송장등록일자'] = pd.to_datetime(df_n['운송장등록일자'])\n",
    "df_n['운송장등록일자_시간'] = df_n['운송장등록일자'].dt.time\n",
    "if '운송장등록_도착날짜' not in df_n.columns:\n",
    "    df_n.insert(10,'운송장등록_도착날짜',df_n['운송장등록일자'].dt.floor('D'))\n",
    "df_n.loc[df_n['운송장등록일자_시간'] >= pd.to_datetime('12:00:00').time(), '운송장등록_도착날짜'] = df_n.loc[df_n['운송장등록일자_시간'] >= pd.to_datetime('12:00:00').time(), '운송장등록_도착날짜'] + pd.DateOffset(days=1)\n",
    "\n",
    "# 배송기간 설정\n",
    "if '배송기간' not in df_n.columns:\n",
    "    df_n.insert(12,'배송기간',df_n['운송장등록_도착날짜'] - df_n['주문일'])\n",
    "\n",
    "# 컬럼 정리할 때 사용한 임의의 보조 컬럼 삭제\n",
    "df_n.drop(columns = ['날짜','요일','운송장등록일자_시간','등록일자'],inplace=True, errors=\"ignore\")\n",
    "\n",
    "# 컬럼명 정리\n",
    "df_n.rename(columns = {'클레임 상태':'클레임_상태'},inplace =True)\n",
    "\n",
    "# 컬럼 재정렬\n",
    "df_n = df_n[[ '거래처','거래처주문번호', \n",
    "            '주문일', '구매연도', '구매월', '구매일', '구매요일', '평일/주말',\n",
    "            '상품순번', '상품코드', '상품명', '상품수량', '상품유형', '상품타입','자재코드', '자재명', '초기자재수량', '사은품여부',\n",
    "            '주문/배송상태', '클레임_상태','출고예정일', '운송장등록_도착날짜', '배송기간', '운송장등록일자',\n",
    "            '주문수량', '취소수량', '반품수량', '배송유형', '매출액', '마감구분', '플랜트 정보']]"
   ]
  },
  {
   "attachments": {},
   "cell_type": "markdown",
   "metadata": {},
   "source": [
    "11번가"
   ]
  },
  {
   "cell_type": "code",
   "execution_count": 117,
   "metadata": {
    "scrolled": false
   },
   "outputs": [],
   "source": [
    "# \"주문일 컬럼\" 정리 - 날짜형식으로 전환 및 추가 컬럼 생성\n",
    "df_11['주문일'] = pd.to_datetime(df_11['주문일'], format = '%Y%m%d')\n",
    "if not any(col in df_11.columns for col in ['구매연도', '구매월', '구매일', '구매요일']):\n",
    "    df_11.insert(3, '구매연도', df_11['주문일'].dt.year)\n",
    "    df_11.insert(4, '구매월', df_11['주문일'].dt.month)\n",
    "    df_11.insert(5, '구매일', df_11['주문일'].dt.day)\n",
    "    df_11.insert(6, '구매요일', df_11['주문일'].dt.day_name('ko_KR'))\n",
    "\n",
    "# 주문 요일에 따라 평일/주말 구분 컬럼 생성\n",
    "df_11['요일'] = df_11['주문일'].dt.weekday\n",
    "if '평일/주말' not in df_11.columns:\n",
    "    df_11.insert(7,'평일/주말',df_11['요일'].apply(lambda x: '주말' if x >= 5 else '평일') )\n",
    "\n",
    "# 운송장 등록일자 기준으로 도착일 지정, 은송장 등록 기준 보통 반나절이라는 기간이 소요됨. \n",
    "# 운송장 등록 기준 반나절내에 택배사 도착 (12시 이후는 다음날로 설정함)\n",
    "df_11['운송장등록일자'] = pd.to_datetime(df_11['운송장등록일자'])\n",
    "df_11['운송장등록일자_시간'] = df_11['운송장등록일자'].dt.time\n",
    "if '운송장등록_도착날짜' not in df_11.columns:\n",
    "    df_11.insert(10,'운송장등록_도착날짜',df_11['운송장등록일자'].dt.floor('D'))\n",
    "df_11.loc[df_11['운송장등록일자_시간'] >= pd.to_datetime('12:00:00').time(), '운송장등록_도착날짜'] = df_11.loc[df_11['운송장등록일자_시간'] >= pd.to_datetime('12:00:00').time(), '운송장등록_도착날짜'] + pd.DateOffset(days=1)\n",
    "\n",
    "# 배송기간 설정\n",
    "if '배송기간' not in df_11.columns:\n",
    "    df_11.insert(12,'배송기간',df_11['운송장등록_도착날짜'] - df_11['주문일'])\n",
    "\n",
    "# 컬럼 정리할 때 사용한 임의의 보조 컬럼 삭제\n",
    "df_11.drop(columns = ['날짜','요일','운송장등록일자_시간','등록일자'],inplace=True, errors=\"ignore\")\n",
    "\n",
    "# 컬럼명 정리\n",
    "df_11.rename(columns = {'클레임 상태':'클레임_상태'},inplace =True)\n",
    "\n",
    "# 컬럼 재정렬\n",
    "df_11 = df_11[[ '거래처','거래처주문번호', \n",
    "            '주문일', '구매연도', '구매월', '구매일', '구매요일', '평일/주말',\n",
    "            '상품순번', '상품코드', '상품명', '상품수량', '상품유형', '상품타입','자재코드', '자재명', '초기자재수량', '사은품여부',\n",
    "            '주문/배송상태', '클레임_상태','출고예정일', '운송장등록_도착날짜', '배송기간', '운송장등록일자',\n",
    "            '주문수량', '취소수량', '반품수량', '배송유형', '매출액', '마감구분', '플랜트 정보']]"
   ]
  },
  {
   "attachments": {},
   "cell_type": "markdown",
   "metadata": {},
   "source": [
    "# 4. 세부 컬럼 분석"
   ]
  },
  {
   "attachments": {},
   "cell_type": "markdown",
   "metadata": {},
   "source": [
    "> ## 수량 관련 컬럼"
   ]
  },
  {
   "attachments": {},
   "cell_type": "markdown",
   "metadata": {},
   "source": [
    "네이버"
   ]
  },
  {
   "attachments": {},
   "cell_type": "markdown",
   "metadata": {},
   "source": [
    "* \"실질상품수량\" 컬럼 정의"
   ]
  },
  {
   "cell_type": "code",
   "execution_count": 118,
   "metadata": {},
   "outputs": [],
   "source": [
    "# 자재명 기준 실제 상품의 '실질상품수량' 정의\n",
    "\n",
    "# 1)\n",
    "df_n['자재명'] = df_n['자재명'].astype(str)\n",
    "\n",
    "# 2) 정규 표현식 패턴을 사용하여 *뒤의 숫자와 EA앞의 숫자를 추출\n",
    "pattern1 = r'(?<=G\\*)\\d+'\n",
    "pattern2 = r'(?<=\\b)\\d+(?=EA\\b)'\n",
    "\n",
    "def extract_numbers(text):\n",
    "    if '*' in text:\n",
    "        match = re.search(pattern1, text)\n",
    "        if match:\n",
    "            return match.group()\n",
    "    elif 'EA' in text:\n",
    "        match = re.search(pattern2, text)\n",
    "        if match:\n",
    "            return match.group()\n",
    "    return None\n",
    "\n",
    "# 자재명 기준 실제 상품의 '실질상품수량' 정의\n",
    "df_n['실질상품수량'] = df_n['자재명'].apply(extract_numbers)\n",
    "df_n['실질상품수량'].fillna(1, inplace=True)\n",
    "df_n['실질상품수량'] = df_n['실질상품수량'].astype(int)"
   ]
  },
  {
   "attachments": {},
   "cell_type": "markdown",
   "metadata": {},
   "source": [
    "* \"실질판매수량\" 컬럼 정의"
   ]
  },
  {
   "cell_type": "code",
   "execution_count": 119,
   "metadata": {},
   "outputs": [],
   "source": [
    "# 실제로 판매된 수량 컬럼 '실질판매수량' 정의\n",
    "if '실질판매수량' not in df_n.columns:\n",
    "    df_n.insert(df_n.columns.get_loc('상품명')+1,'실질판매수량',df_n['실질상품수량'] * df_n['주문수량']) \n",
    "# df_n.query('실질상품수량 != 0')[['실질상품수량','주문수량','실질판매수량']]"
   ]
  },
  {
   "attachments": {},
   "cell_type": "markdown",
   "metadata": {},
   "source": [
    "*  '상품수량 이상치 확인'"
   ]
  },
  {
   "cell_type": "code",
   "execution_count": 120,
   "metadata": {
    "scrolled": false
   },
   "outputs": [
    {
     "data": {
      "text/html": [
       "<div>\n",
       "<style scoped>\n",
       "    .dataframe tbody tr th:only-of-type {\n",
       "        vertical-align: middle;\n",
       "    }\n",
       "\n",
       "    .dataframe tbody tr th {\n",
       "        vertical-align: top;\n",
       "    }\n",
       "\n",
       "    .dataframe thead th {\n",
       "        text-align: right;\n",
       "    }\n",
       "</style>\n",
       "<table border=\"1\" class=\"dataframe\">\n",
       "  <thead>\n",
       "    <tr style=\"text-align: right;\">\n",
       "      <th></th>\n",
       "      <th>초기자재수량</th>\n",
       "      <th>주문수량</th>\n",
       "      <th>취소수량</th>\n",
       "      <th>반품수량</th>\n",
       "    </tr>\n",
       "  </thead>\n",
       "  <tbody>\n",
       "    <tr>\n",
       "      <th>5582</th>\n",
       "      <td>36</td>\n",
       "      <td>0</td>\n",
       "      <td>36</td>\n",
       "      <td>0</td>\n",
       "    </tr>\n",
       "    <tr>\n",
       "      <th>6587</th>\n",
       "      <td>3</td>\n",
       "      <td>0</td>\n",
       "      <td>3</td>\n",
       "      <td>0</td>\n",
       "    </tr>\n",
       "    <tr>\n",
       "      <th>6588</th>\n",
       "      <td>2</td>\n",
       "      <td>0</td>\n",
       "      <td>2</td>\n",
       "      <td>0</td>\n",
       "    </tr>\n",
       "    <tr>\n",
       "      <th>9307</th>\n",
       "      <td>1</td>\n",
       "      <td>0</td>\n",
       "      <td>1</td>\n",
       "      <td>0</td>\n",
       "    </tr>\n",
       "    <tr>\n",
       "      <th>12147</th>\n",
       "      <td>1</td>\n",
       "      <td>0</td>\n",
       "      <td>0</td>\n",
       "      <td>1</td>\n",
       "    </tr>\n",
       "    <tr>\n",
       "      <th>12148</th>\n",
       "      <td>1</td>\n",
       "      <td>0</td>\n",
       "      <td>0</td>\n",
       "      <td>1</td>\n",
       "    </tr>\n",
       "    <tr>\n",
       "      <th>3194</th>\n",
       "      <td>1</td>\n",
       "      <td>0</td>\n",
       "      <td>0</td>\n",
       "      <td>1</td>\n",
       "    </tr>\n",
       "    <tr>\n",
       "      <th>15344</th>\n",
       "      <td>1</td>\n",
       "      <td>0</td>\n",
       "      <td>0</td>\n",
       "      <td>1</td>\n",
       "    </tr>\n",
       "    <tr>\n",
       "      <th>2547</th>\n",
       "      <td>48</td>\n",
       "      <td>0</td>\n",
       "      <td>48</td>\n",
       "      <td>0</td>\n",
       "    </tr>\n",
       "    <tr>\n",
       "      <th>4690</th>\n",
       "      <td>3</td>\n",
       "      <td>0</td>\n",
       "      <td>3</td>\n",
       "      <td>0</td>\n",
       "    </tr>\n",
       "    <tr>\n",
       "      <th>4691</th>\n",
       "      <td>3</td>\n",
       "      <td>0</td>\n",
       "      <td>3</td>\n",
       "      <td>0</td>\n",
       "    </tr>\n",
       "    <tr>\n",
       "      <th>4692</th>\n",
       "      <td>3</td>\n",
       "      <td>0</td>\n",
       "      <td>3</td>\n",
       "      <td>0</td>\n",
       "    </tr>\n",
       "    <tr>\n",
       "      <th>29891</th>\n",
       "      <td>2</td>\n",
       "      <td>0</td>\n",
       "      <td>0</td>\n",
       "      <td>2</td>\n",
       "    </tr>\n",
       "    <tr>\n",
       "      <th>34760</th>\n",
       "      <td>16</td>\n",
       "      <td>0</td>\n",
       "      <td>0</td>\n",
       "      <td>16</td>\n",
       "    </tr>\n",
       "    <tr>\n",
       "      <th>35691</th>\n",
       "      <td>1</td>\n",
       "      <td>0</td>\n",
       "      <td>0</td>\n",
       "      <td>1</td>\n",
       "    </tr>\n",
       "    <tr>\n",
       "      <th>37369</th>\n",
       "      <td>1</td>\n",
       "      <td>0</td>\n",
       "      <td>0</td>\n",
       "      <td>1</td>\n",
       "    </tr>\n",
       "    <tr>\n",
       "      <th>87</th>\n",
       "      <td>36</td>\n",
       "      <td>0</td>\n",
       "      <td>0</td>\n",
       "      <td>36</td>\n",
       "    </tr>\n",
       "    <tr>\n",
       "      <th>2086</th>\n",
       "      <td>1</td>\n",
       "      <td>0</td>\n",
       "      <td>0</td>\n",
       "      <td>1</td>\n",
       "    </tr>\n",
       "    <tr>\n",
       "      <th>2087</th>\n",
       "      <td>2</td>\n",
       "      <td>0</td>\n",
       "      <td>2</td>\n",
       "      <td>0</td>\n",
       "    </tr>\n",
       "    <tr>\n",
       "      <th>4356</th>\n",
       "      <td>2</td>\n",
       "      <td>0</td>\n",
       "      <td>2</td>\n",
       "      <td>0</td>\n",
       "    </tr>\n",
       "    <tr>\n",
       "      <th>9356</th>\n",
       "      <td>2</td>\n",
       "      <td>0</td>\n",
       "      <td>0</td>\n",
       "      <td>2</td>\n",
       "    </tr>\n",
       "    <tr>\n",
       "      <th>3297</th>\n",
       "      <td>72</td>\n",
       "      <td>0</td>\n",
       "      <td>0</td>\n",
       "      <td>72</td>\n",
       "    </tr>\n",
       "    <tr>\n",
       "      <th>8675</th>\n",
       "      <td>1</td>\n",
       "      <td>0</td>\n",
       "      <td>1</td>\n",
       "      <td>0</td>\n",
       "    </tr>\n",
       "    <tr>\n",
       "      <th>14541</th>\n",
       "      <td>2</td>\n",
       "      <td>0</td>\n",
       "      <td>2</td>\n",
       "      <td>0</td>\n",
       "    </tr>\n",
       "    <tr>\n",
       "      <th>14542</th>\n",
       "      <td>1</td>\n",
       "      <td>0</td>\n",
       "      <td>0</td>\n",
       "      <td>1</td>\n",
       "    </tr>\n",
       "    <tr>\n",
       "      <th>14761</th>\n",
       "      <td>2</td>\n",
       "      <td>0</td>\n",
       "      <td>2</td>\n",
       "      <td>0</td>\n",
       "    </tr>\n",
       "  </tbody>\n",
       "</table>\n",
       "</div>"
      ],
      "text/plain": [
       "       초기자재수량  주문수량  취소수량  반품수량\n",
       "5582       36     0    36     0\n",
       "6587        3     0     3     0\n",
       "6588        2     0     2     0\n",
       "9307        1     0     1     0\n",
       "12147       1     0     0     1\n",
       "12148       1     0     0     1\n",
       "3194        1     0     0     1\n",
       "15344       1     0     0     1\n",
       "2547       48     0    48     0\n",
       "4690        3     0     3     0\n",
       "4691        3     0     3     0\n",
       "4692        3     0     3     0\n",
       "29891       2     0     0     2\n",
       "34760      16     0     0    16\n",
       "35691       1     0     0     1\n",
       "37369       1     0     0     1\n",
       "87         36     0     0    36\n",
       "2086        1     0     0     1\n",
       "2087        2     0     2     0\n",
       "4356        2     0     2     0\n",
       "9356        2     0     0     2\n",
       "3297       72     0     0    72\n",
       "8675        1     0     1     0\n",
       "14541       2     0     2     0\n",
       "14542       1     0     0     1\n",
       "14761       2     0     2     0"
      ]
     },
     "execution_count": 120,
     "metadata": {},
     "output_type": "execute_result"
    }
   ],
   "source": [
    "# 상품수량이 0인 경우 이상치인지 확인\n",
    "df_n[(df_n['상품수량'] == 0) & (df_n[['초기자재수량', '주문수량']] == 0).any(axis=1)][['초기자재수량', '주문수량', '취소수량', '반품수량']]"
   ]
  },
  {
   "attachments": {},
   "cell_type": "markdown",
   "metadata": {},
   "source": [
    "=> 상품수량이 0인 경우 초기자재수량이 0인 경우는 없음. <br>\n",
    "따라서 상품수량이 0이면 이상치로 간주하고, 1로 대체함"
   ]
  },
  {
   "cell_type": "code",
   "execution_count": 121,
   "metadata": {},
   "outputs": [],
   "source": [
    "df_n['상품수량'].replace({0:1}, inplace =True)"
   ]
  },
  {
   "attachments": {},
   "cell_type": "markdown",
   "metadata": {},
   "source": [
    "11번가"
   ]
  },
  {
   "cell_type": "code",
   "execution_count": 122,
   "metadata": {},
   "outputs": [],
   "source": [
    "# 자재명 기준 실제 상품의 '실질상품수량' 정의\n",
    "\n",
    "# 1)\n",
    "df_11['자재명'] = df_11['자재명'].astype(str)\n",
    "\n",
    "# 2) 정규 표현식 패턴을 사용하여 *뒤의 숫자와 EA앞의 숫자를 추출\n",
    "pattern1 = r'(?<=G\\*)\\d+'\n",
    "pattern2 = r'(?<=\\b)\\d+(?=EA\\b)'\n",
    "\n",
    "def extract_numbers(text):\n",
    "    if '*' in text:\n",
    "        match = re.search(pattern1, text)\n",
    "        if match:\n",
    "            return match.group()\n",
    "    elif 'EA' in text:\n",
    "        match = re.search(pattern2, text)\n",
    "        if match:\n",
    "            return match.group()\n",
    "    return None\n",
    "\n",
    "# 자재명 기준 실제 상품의 '실질상품수량' 정의\n",
    "df_11['실질상품수량'] = df_11['자재명'].apply(extract_numbers)\n",
    "df_11['실질상품수량'].fillna(1, inplace=True)\n",
    "df_11['실질상품수량'] = df_11['실질상품수량'].astype(int)"
   ]
  },
  {
   "cell_type": "code",
   "execution_count": 123,
   "metadata": {},
   "outputs": [],
   "source": [
    "# 실제로 판매된 수량 컬럼 '실질판매수량' 정의\n",
    "if '실질판매수량' not in df_11.columns:\n",
    "    df_11.insert(df_11.columns.get_loc('상품명')+1,'실질판매수량',df_11['실질상품수량'] * df_11['주문수량']) \n",
    "# df_11.query('실질상품수량 != 0')[['실질상품수량','주문수량','실질판매수량']]"
   ]
  },
  {
   "attachments": {},
   "cell_type": "markdown",
   "metadata": {},
   "source": [
    "*  '상품수량 이상치 확인'"
   ]
  },
  {
   "cell_type": "code",
   "execution_count": 124,
   "metadata": {},
   "outputs": [
    {
     "data": {
      "text/html": [
       "<div>\n",
       "<style scoped>\n",
       "    .dataframe tbody tr th:only-of-type {\n",
       "        vertical-align: middle;\n",
       "    }\n",
       "\n",
       "    .dataframe tbody tr th {\n",
       "        vertical-align: top;\n",
       "    }\n",
       "\n",
       "    .dataframe thead th {\n",
       "        text-align: right;\n",
       "    }\n",
       "</style>\n",
       "<table border=\"1\" class=\"dataframe\">\n",
       "  <thead>\n",
       "    <tr style=\"text-align: right;\">\n",
       "      <th></th>\n",
       "      <th>초기자재수량</th>\n",
       "      <th>주문수량</th>\n",
       "      <th>취소수량</th>\n",
       "      <th>반품수량</th>\n",
       "    </tr>\n",
       "  </thead>\n",
       "  <tbody>\n",
       "    <tr>\n",
       "      <th>5102</th>\n",
       "      <td>2</td>\n",
       "      <td>0</td>\n",
       "      <td>0</td>\n",
       "      <td>2</td>\n",
       "    </tr>\n",
       "    <tr>\n",
       "      <th>12665</th>\n",
       "      <td>1</td>\n",
       "      <td>0</td>\n",
       "      <td>1</td>\n",
       "      <td>0</td>\n",
       "    </tr>\n",
       "    <tr>\n",
       "      <th>31700</th>\n",
       "      <td>1</td>\n",
       "      <td>0</td>\n",
       "      <td>1</td>\n",
       "      <td>0</td>\n",
       "    </tr>\n",
       "    <tr>\n",
       "      <th>31701</th>\n",
       "      <td>1</td>\n",
       "      <td>0</td>\n",
       "      <td>1</td>\n",
       "      <td>0</td>\n",
       "    </tr>\n",
       "    <tr>\n",
       "      <th>31702</th>\n",
       "      <td>1</td>\n",
       "      <td>0</td>\n",
       "      <td>1</td>\n",
       "      <td>0</td>\n",
       "    </tr>\n",
       "    <tr>\n",
       "      <th>39062</th>\n",
       "      <td>5</td>\n",
       "      <td>0</td>\n",
       "      <td>0</td>\n",
       "      <td>5</td>\n",
       "    </tr>\n",
       "    <tr>\n",
       "      <th>42185</th>\n",
       "      <td>1</td>\n",
       "      <td>0</td>\n",
       "      <td>1</td>\n",
       "      <td>0</td>\n",
       "    </tr>\n",
       "  </tbody>\n",
       "</table>\n",
       "</div>"
      ],
      "text/plain": [
       "       초기자재수량  주문수량  취소수량  반품수량\n",
       "5102        2     0     0     2\n",
       "12665       1     0     1     0\n",
       "31700       1     0     1     0\n",
       "31701       1     0     1     0\n",
       "31702       1     0     1     0\n",
       "39062       5     0     0     5\n",
       "42185       1     0     1     0"
      ]
     },
     "execution_count": 124,
     "metadata": {},
     "output_type": "execute_result"
    }
   ],
   "source": [
    "# 상품수량이 0인 경우 이상치인지 확인\n",
    "df_11[(df_11['상품수량'] == 0) & (df_11[['초기자재수량', '주문수량']] == 0).any(axis=1)][['초기자재수량', '주문수량', '취소수량', '반품수량']]"
   ]
  },
  {
   "attachments": {},
   "cell_type": "markdown",
   "metadata": {},
   "source": [
    "=> 상품수량이 0인 경우 초기자재수량이 0인 경우는 없음. <br>\n",
    "따라서 상품수량이 0이면 이상치로 간주하고, 1로 대체함"
   ]
  },
  {
   "cell_type": "code",
   "execution_count": 125,
   "metadata": {},
   "outputs": [],
   "source": [
    "df_11['상품수량'].replace({0:1}, inplace =True)"
   ]
  },
  {
   "attachments": {},
   "cell_type": "markdown",
   "metadata": {},
   "source": [
    "> ## 상품명 관련 컬럼\n",
    ">상품명에서 추출하여 새롭게 정의할 수 있는 컬럼: 브랜드, 상품대분류, 용량(중량)"
   ]
  },
  {
   "attachments": {},
   "cell_type": "markdown",
   "metadata": {},
   "source": [
    "네이버"
   ]
  },
  {
   "attachments": {},
   "cell_type": "markdown",
   "metadata": {},
   "source": [
    "*  \"상품대분류\" 컬럼 정의"
   ]
  },
  {
   "cell_type": "code",
   "execution_count": 126,
   "metadata": {},
   "outputs": [],
   "source": [
    "product_pattern = r'(주먹밥|양념|밀|쌈무|밀면|기름|력|가루|오이|스파게티|고급면|수제군교자|쉐이크|쫄면|마늘|한우|요리유|짜장|치킨가라아게|감자전|쌀국수|순살치킨|부침가루|새우까스|소스|소고기|특별한선택 1호|박력1등|설탕|두부|비지|콩기름|콩|햇반흑미밥|햇반큰공기|햇반작은공기|햇반|햇반/쿡반|햇반/컵반|헷반/솥반|햇반 현미쌀밥|햇반 유기농쌀밥|햇반 발아현미밥|햇반 매일콩잡곡밥|포도씨유|고추장|쿡킷|카놀라유|튀김가루|쿠키|냉면|솔트|소금|믹스|식초|떡국|떡볶이|김치|막국수|쫄볶이|쫄면사리|간짜장|초밥|다시다|칼국수|소바|된장|해바라기유|김가루|밀가루|올리고당|요리당|파우더|옥수수유|군밤|우동|전골|올리브유|소시지|만두|드레싱|김자반|간장김|파래김|돌김|구이김|재래김|미역|구운김|김밥김|군만두|돈까스|신백설너비아니|스팸|어묵|육수|마라탕면|비빔장|쌈장|쁘띠첼|사골곰탕|왕교자|팥죽|황태국|추어탕|육개장|찌개|볶음밥|설렁탕|죽|미역국|잡채|구이|오징어채볶음|불고기|배추|순댓국|장터국|장조림|소고기무국|삼계탕|사골곰탕|비빔밥|무말랭이|해물완자|동그랑땡|도가니|닭곰탕|장조림|묵은지|장조림|꼬리곰탕|깍두기|곤드레나물밥|멸치볶음|감자탕|갈비탕|야채고기말이|스파게티면|베이컨|소면|맛술|청|당면|밥이랑|바삭한요리유|물엿|청양초|차돌된장|바지락꽃게|천일염|맥스봉|맛밤|백숙|스테이크|햄|등심|후랑크|비엔나|샌드위치햄|닭가슴살|핫도그|미트볼|고메치킨|페스츄리|크림치즈파이|너겟|짬뽕|피자|스콘|크로와상|치즈볼|애플파이|깐풍기|탕수육|강력1등|감자수제비가루|메밀생면|젓|소불고기|고구마|너비아니|떡갈비|김말이|핫봉|돈카츠|함박|딤섬|시럽|중력1등|소프트|)'\n",
    "def extract_product(text):\n",
    "    pick = re.findall(product_pattern, text)\n",
    "    if pick:\n",
    "        for item in reversed(pick):\n",
    "            if item != '':\n",
    "                return item\n",
    "    return ''\n",
    "\n",
    "df_n['상품명대분류'] = df_n['자재명'].apply(extract_product)"
   ]
  },
  {
   "attachments": {},
   "cell_type": "markdown",
   "metadata": {},
   "source": [
    "*  \"브랜드\" 컬럼 정의"
   ]
  },
  {
   "cell_type": "code",
   "execution_count": 127,
   "metadata": {},
   "outputs": [],
   "source": [
    "#브랜드명 추출\n",
    "pattern = r'(비비고|햇반|고메|백설|다시다|다담|스팸|맛밤|맛군밤|맥스봉|더건강한|즐거운동행|쁘띠첼|산들애|설탕|밥이랑|크레잇|밸런스밀|쿡킷|올리고당|요리당|물엿|식초|참좋은 조미김가루|천일염|파스타소스|가루|시럽|하선정|소금|알찬소시지|아메리칸스타일포크|빅소시지|행복한콩|고급면용|쉐프솔루션|푸드웨어|파우더|남원|물로만끓여도|유|기름|믹스|중력|박력|강력|분|고추장|된장|쌈장|비빔장|톡톡까먹어밤|한식예찬|아이미|쉐프솔루션|동그랑땡|CJ|특별한선택|함흥비빔냉면소스|프레시안구이|고기팡팡미트볼|고단백 두부면|미정당|오리지널후랑크|햄스빌|한입쏙 비엔나|프레시안|아티장|가쓰오|4무|주부초밥왕|제일제면소|삼호|얼큰우동|오리지널부어스트|청양초 매운물냉면|씨제이)'\n",
    "\n",
    "def extract_brand(text):\n",
    "    match = re.search(pattern, text)\n",
    "    if match:\n",
    "        return match.group()\n",
    "    else:\n",
    "        return None\n",
    "\n",
    "df_n['브랜드'] = df_n['자재명'].apply(extract_brand)"
   ]
  },
  {
   "cell_type": "code",
   "execution_count": 128,
   "metadata": {},
   "outputs": [
    {
     "data": {
      "text/plain": [
       "array(['햇반', '비비고', '씨제이', '백설', '스팸', '즐거운동행', '쿡킷', '고메', '크레잇', '더건강한',\n",
       "       '다담', '맥스봉', '행복한콩', '쁘띠첼', '삼호', '해찬들', '사은품', '다시다', '맛밤', '산들애',\n",
       "       '메티에', '하선정', '즐거운 동행'], dtype=object)"
      ]
     },
     "execution_count": 128,
     "metadata": {},
     "output_type": "execute_result"
    }
   ],
   "source": [
    "# 자재명에 브랜드명이 포함되지 않은 상품들 브랜드로 변경\n",
    "brand_mapping = {'남원' : '씨제이', '맛군밤' : '맛밤', '밥이랑' : '백설', '물로만 끓여도' : '해찬들', '유' : '백설', '기름' : '백설', '설탕' : '백설', '고추장' : '해찬들', '된장' : '해찬들', '쌈장' : '해찬들', '비빔장' : '해찬들', '함흥비빔냉면소스' : '씨제이', '고단백 두부면' : '즐거운 동행', '밸런스밀' : '씨제이', '요리당' : '백설', '올리고당' : '백설', '가루' : '백설', '참좋은 조미김가루' : '씨제이', '믹스' : '백설', '중력' : '백설', '박력' : '백설' ,'강력' : '백설', '분' : '백설', '소금': '백설', '식초' : '백설',\n",
    "'물엿' : '백설',\n",
    "'천일염' : '백설',\n",
    "'시럽' : '메티에',\n",
    "'파스타소스' : '백설',\n",
    "'고급면용' : '백설',\n",
    "'톡톡까먹어밤' : '씨제이',\n",
    "'한식예찬' : '백설',\n",
    "'아이미' : '백설',\n",
    "'쉐프솔루션' : '씨제이',\n",
    "'동그랑땡' : '백설',\n",
    "'특별한선택' : '씨제이',\n",
    "'CJ' : '씨제이',\n",
    "'프레시안구이' : '백설',\n",
    "'고기팡팡미트볼' : '씨제이',\n",
    "'미정당' : '즐거운동행',\n",
    "'오리지널후랑크' : '백설',\n",
    "'햄스빌' : '백설',\n",
    "'한입쏙 비엔나' : '백설',\n",
    "'프레시안' : '씨제이',\n",
    "'아티장' : '백설',\n",
    "'가쓰오' : '씨제이',\n",
    "'4무' : '하선정',\n",
    "'주부초밥왕' : '씨제이',\n",
    "'제일제면소' : '백설',\n",
    "'얼큰우동' : '씨제이',\n",
    "'오리지널부어스트' : '더건강한',\n",
    "'청양초 매운물냉면' : '씨제이',\n",
    "'물로만끓여도' : '해찬들',\n",
    "'파우더' : '메티에',\n",
    "'알찬소시지':'백설',\n",
    "'빅소시지' : '맥스봉',\n",
    "'아메리칸스타일포크':'씨제이',\n",
    "'푸드웨어' : '씨제이'}\n",
    "\n",
    "df_n['브랜드'] = df_n['브랜드'].map(brand_mapping).fillna(df_n['브랜드'])\n",
    "df_n['브랜드'] = df_n['브랜드'].fillna('사은품')\n",
    "df_n['브랜드'].unique()"
   ]
  },
  {
   "attachments": {},
   "cell_type": "markdown",
   "metadata": {},
   "source": [
    "* 상/하위 10개 브랜드"
   ]
  },
  {
   "cell_type": "code",
   "execution_count": 129,
   "metadata": {},
   "outputs": [
    {
     "name": "stdout",
     "output_type": "stream",
     "text": [
      "Index(['햇반', '비비고', '백설', '씨제이', '고메', '스팸', '해찬들', '더건강한', '다담', '쁘띠첼'], dtype='object')\n",
      "Index(['맥스봉', '맛밤', '쿡킷', '즐거운동행', '메티에', '하선정', '행복한콩', '산들애', '삼호',\n",
      "       '즐거운 동행'],\n",
      "      dtype='object')\n"
     ]
    }
   ],
   "source": [
    "nav_top10 = df_n['브랜드'].value_counts().head(10).index\n",
    "nav_bottom10 = df_n['브랜드'].value_counts().tail(10).index\n",
    "print( nav_top10 )\n",
    "print( nav_bottom10 )"
   ]
  },
  {
   "attachments": {},
   "cell_type": "markdown",
   "metadata": {},
   "source": [
    "* 용량(중량)"
   ]
  },
  {
   "cell_type": "code",
   "execution_count": 130,
   "metadata": {},
   "outputs": [],
   "source": [
    "#자재 실제수량 뽑아내기\n",
    "npt = r'\\*(\\d+)'\n",
    "df_n['용량'] = df_n['자재명'].str.extract(npt)"
   ]
  },
  {
   "cell_type": "code",
   "execution_count": 131,
   "metadata": {},
   "outputs": [],
   "source": [
    "#용량 추출하기\n",
    "pattern1 = r'(?<![A-Za-z])\\d+(?:\\.\\d+)?(?=[GgMLmlKGkg])'\n",
    "pattern2 = r'(?<=\\b)\\d+(?=[Ee][Aa]\\b)'\n",
    "pattern3 = r'(?<![A-Za-z])\\d+(?:\\.\\d+)?(?=[Mm][Ll]\\b)'\n",
    "\n",
    "def extract_numbers(text):\n",
    "    if re.search(pattern1, text):\n",
    "        matches = re.findall(pattern1, text)\n",
    "        if len(matches) > 1:\n",
    "            return '+'.join(matches)\n",
    "        else:\n",
    "            return matches[0]\n",
    "    elif re.search(pattern2, text):\n",
    "        match = re.search(pattern2, text)\n",
    "        return match.group()\n",
    "    elif re.search(pattern3, text):\n",
    "        match = re.search(pattern3, text)\n",
    "        return match.group()\n",
    "    return ''\n",
    "\n",
    "def combine_numbers(row):\n",
    "    if '+' in row['용량']:\n",
    "        numbers = row['용량'].split('+')\n",
    "        total = sum([float(num) for num in numbers])\n",
    "        return str(total)\n",
    "    return row['용량']\n",
    "\n",
    "def adjust_format(row):\n",
    "    if re.search(r'(?i)KG', row['자재명']):\n",
    "        return str(float(row['용량']) * 1000)\n",
    "    elif re.search(r'(?i)ML', row['자재명']):\n",
    "        return row['용량']\n",
    "    elif re.search(r'(?i)L', row['자재명']):\n",
    "        return str(float(row['용량']) * 1000)\n",
    "    elif re.search(r'(?i)G', row['자재명']):\n",
    "        return row['용량']\n",
    "    return row['용량']\n",
    "\n",
    "df_n['용량'] = df_n['자재명'].apply(extract_numbers)\n",
    "df_n['용량'] = df_n.apply(combine_numbers, axis=1)\n",
    "df_n['용량'] = df_n.apply(adjust_format, axis=1)"
   ]
  },
  {
   "attachments": {},
   "cell_type": "markdown",
   "metadata": {},
   "source": [
    "11번가"
   ]
  },
  {
   "attachments": {},
   "cell_type": "markdown",
   "metadata": {},
   "source": [
    "*  \"상품대분류\" 컬럼 정의"
   ]
  },
  {
   "cell_type": "code",
   "execution_count": 132,
   "metadata": {},
   "outputs": [],
   "source": [
    "#11번가에서는 햇반 상품들 뒤에 주먹밥이나 김치와 같은 다른 상품들의 이름이 기입이 되어 있는 상품이 많기 때문에 그걸 해결하고자 나머지 함술ㄹ 조금 변형함\n",
    "product_pattern = r'(주먹밥|양념|밀|쌈무|밀면|기름|력|가루|오이|스파게티|고급면|교자|쉐이크|쫄면|마늘|한우|요리유|짜장|치킨가라아게|감자전|쌀국수|치킨|부침가루|새우까스|소스|소고기|특별한선택 1호|설탕|두부|비지|콩기름|콩|포도씨유|고추장|쿡킷|카놀라유|튀김가루|쿠키|냉면|솔트|소금|믹스|식초|떡국|떡볶이|김치|막국수|쫄볶이|쫄면사리|간짜장|초밥|다시다|칼국수|소바|된장|해바라기유|김가루|밀가루|올리고당|요리당|파우더|옥수수유|군밤|우동|전골|올리브유|소시지|만두|드레싱|김자반|간장김|파래김|돌김|구이김|재래김|미역|구운김|김밥김|돈까스|신백설|너비아니|스팸|어묵|육수|마라탕면|비빔장|쌈장|쁘띠첼|사골곰탕|황태국|추어탕|육개장|찌개|볶음밥|설렁탕|죽|미역국|잡채|구이|오징어채볶음|불고기|배추|순댓국|장터국|장조림|소고기무국|삼계탕|사골곰탕|비빔밥|무말랭이|해물완자|동그랑땡|도가니|닭곰탕|장조림|묵은지|장조림|꼬리곰탕|깍두기|곤드레나물밥|멸치볶음|감자탕|갈비탕|야채고기말이|스파게티면|베이컨|소면|맛술|청|당면|밥이랑|바삭한요리유|물엿|청양초|차돌된장|바지락꽃게|천일염|맥스봉|맛밤|백숙|스테이크|햄|등심|후랑크|비엔나|샌드위치햄|닭가슴살|핫도그|미트볼|페스츄리|크림치즈파이|너겟|짬뽕|피자|스콘|크로와상|치즈볼|애플파이|깐풍기|탕수육|감자수제비가루|메밀생면|젓|소불고기|고구마|떡갈비|김말이|핫봉|돈카츠|함박|딤섬|시럽|소프트)'\n",
    "def extract_product(text):\n",
    "    if '햇반' in text:\n",
    "        return '햇반'\n",
    "    else:\n",
    "        pick = re.findall(product_pattern, text)\n",
    "        if pick:\n",
    "            for item in reversed(pick):\n",
    "                if item != '':\n",
    "                    return item\n",
    "    return ''\n",
    "\n",
    "\n",
    "df_11['상품명대분류'] = df_11['자재명'].apply(extract_product)\n",
    "\n"
   ]
  },
  {
   "attachments": {},
   "cell_type": "markdown",
   "metadata": {},
   "source": [
    "*  \"브랜드\" 컬럼 정의"
   ]
  },
  {
   "cell_type": "code",
   "execution_count": 133,
   "metadata": {},
   "outputs": [],
   "source": [
    "#브랜드명 추출\n",
    "pattern = r'(비비고|햇반|고메|백설|다시다|다담|스팸|맛밤|맛군밤|맥스봉|더건강한|즐거운동행|쁘띠첼|산들애|설탕|밥이랑|크레잇|밸런스밀|쿡킷|올리고당|요리당|물엿|식초|참좋은 조미김가루|천일염|파스타소스|가루|시럽|하선정|소금|알찬소시지|아메리칸스타일포크|빅소시지|행복한콩|고급면용|쉐프솔루션|푸드웨어|파우더|남원|물로만끓여도|유|기름|믹스|중력|박력|강력|분|고추장|된장|쌈장|비빔장|톡톡까먹어밤|한식예찬|아이미|쉐프솔루션|동그랑땡|CJ|특별한선택|함흥비빔냉면소스|프레시안구이|고기팡팡미트볼|고단백 두부면|미정당|오리지널후랑크|햄스빌|한입쏙 비엔나|프레시안|아티장|가쓰오|4무|주부초밥왕|제일제면소|삼호|얼큰우동|오리지널부어스트|청양초 매운물냉면|씨제이)'\n",
    "\n",
    "def extract_brand(text):\n",
    "    match = re.search(pattern, text)\n",
    "    if match:\n",
    "        return match.group()\n",
    "    else:\n",
    "        return None\n",
    "\n",
    "df_11['브랜드'] = df_11['자재명'].apply(extract_brand)"
   ]
  },
  {
   "cell_type": "code",
   "execution_count": 134,
   "metadata": {},
   "outputs": [
    {
     "data": {
      "text/plain": [
       "array(['씨제이', '비비고', '다담', '고메', '백설', '스팸', '쁘띠첼', '햇반', '사은품', '하선정',\n",
       "       '다시다', '해찬들', '더건강한', '산들애', '삼호', '맥스봉', '즐거운동행', '행복한콩',\n",
       "       '즐거운 동행', '크레잇'], dtype=object)"
      ]
     },
     "execution_count": 134,
     "metadata": {},
     "output_type": "execute_result"
    }
   ],
   "source": [
    "# 자재명에 브랜드명이 포함되지 않은 상품들 브랜드로 변경\n",
    "brand_mapping = {'남원' : '씨제이', '맛군밤' : '맛밤', '밥이랑' : '백설', '물로만 끓여도' : '해찬들', '유' : '백설', '기름' : '백설', '설탕' : '백설', '고추장' : '해찬들', '된장' : '해찬들', '쌈장' : '해찬들', '비빔장' : '해찬들', '함흥비빔냉면소스' : '씨제이', '고단백 두부면' : '즐거운 동행', '밸런스밀' : '씨제이', '요리당' : '백설', '올리고당' : '백설', '가루' : '백설', '참좋은 조미김가루' : '씨제이', '믹스' : '백설', '중력' : '백설', '박력' : '백설' ,'강력' : '백설', '분' : '백설', '소금': '백설', '식초' : '백설',\n",
    "'물엿' : '백설',\n",
    "'천일염' : '백설',\n",
    "'시럽' : '메티에',\n",
    "'파스타소스' : '백설',\n",
    "'고급면용' : '백설',\n",
    "'톡톡까먹어밤' : '씨제이',\n",
    "'한식예찬' : '백설',\n",
    "'아이미' : '백설',\n",
    "'쉐프솔루션' : '씨제이',\n",
    "'동그랑땡' : '백설',\n",
    "'특별한선택' : '씨제이',\n",
    "'CJ' : '씨제이',\n",
    "'프레시안구이' : '백설',\n",
    "'고기팡팡미트볼' : '씨제이',\n",
    "'미정당' : '즐거운동행',\n",
    "'오리지널후랑크' : '백설',\n",
    "'햄스빌' : '백설',\n",
    "'한입쏙 비엔나' : '백설',\n",
    "'프레시안' : '씨제이',\n",
    "'아티장' : '백설',\n",
    "'가쓰오' : '씨제이',\n",
    "'4무' : '하선정',\n",
    "'주부초밥왕' : '씨제이',\n",
    "'제일제면소' : '백설',\n",
    "'얼큰우동' : '씨제이',\n",
    "'오리지널부어스트' : '더건강한',\n",
    "'청양초 매운물냉면' : '씨제이',\n",
    "'물로만끓여도' : '해찬들',\n",
    "'파우더' : '메티에',\n",
    "'알찬소시지':'백설',\n",
    "'빅소시지' : '맥스봉',\n",
    "'아메리칸스타일포크':'씨제이',\n",
    "'푸드웨어' : '씨제이'}\n",
    "\n",
    "df_11['브랜드'] = df_11['브랜드'].map(brand_mapping).fillna(df_11['브랜드'])\n",
    "df_11['브랜드'] = df_11['브랜드'].fillna('사은품')\n",
    "df_11['브랜드'].unique()"
   ]
  },
  {
   "attachments": {},
   "cell_type": "markdown",
   "metadata": {},
   "source": [
    "* 상/하위 10개 브랜드"
   ]
  },
  {
   "cell_type": "code",
   "execution_count": 135,
   "metadata": {},
   "outputs": [
    {
     "name": "stdout",
     "output_type": "stream",
     "text": [
      "Index(['비비고', '다담', '씨제이', '햇반', '고메', '백설', '스팸', '쁘띠첼', '더건강한', '해찬들'], dtype='object')\n",
      "Index(['다시다', '하선정', '사은품', '맥스봉', '즐거운동행', '삼호', '산들애', '행복한콩', '크레잇',\n",
      "       '즐거운 동행'],\n",
      "      dtype='object')\n"
     ]
    }
   ],
   "source": [
    "ele_top10 = df_11['브랜드'].value_counts().head(10).index\n",
    "ele_bottom10 = df_11['브랜드'].value_counts().tail(10).index\n",
    "print( ele_top10 )\n",
    "print( ele_bottom10 )"
   ]
  },
  {
   "attachments": {},
   "cell_type": "markdown",
   "metadata": {},
   "source": [
    "* 용량(중량)"
   ]
  },
  {
   "cell_type": "code",
   "execution_count": 136,
   "metadata": {},
   "outputs": [],
   "source": [
    "#자재 실제수량 뽑아내기\n",
    "npt = r'\\*(\\d+)'\n",
    "df_11['용량'] = df_11['자재명'].str.extract(npt)"
   ]
  },
  {
   "cell_type": "code",
   "execution_count": 137,
   "metadata": {},
   "outputs": [],
   "source": [
    "#용량 추출하기\n",
    "pattern1 = r'(?<![A-Za-z])\\d+(?:\\.\\d+)?(?=[GgMLmlKGkg])'\n",
    "pattern2 = r'(?<=\\b)\\d+(?=[Ee][Aa]\\b)'\n",
    "pattern3 = r'(?<![A-Za-z])\\d+(?:\\.\\d+)?(?=[Mm][Ll]\\b)'\n",
    "\n",
    "def extract_numbers(text):\n",
    "    if re.search(pattern1, text):\n",
    "        matches = re.findall(pattern1, text)\n",
    "        if len(matches) > 1:\n",
    "            return '+'.join(matches)\n",
    "        else:\n",
    "            return matches[0]\n",
    "    elif re.search(pattern2, text):\n",
    "        match = re.search(pattern2, text)\n",
    "        return match.group()\n",
    "    elif re.search(pattern3, text):\n",
    "        match = re.search(pattern3, text)\n",
    "        return match.group()\n",
    "    return ''\n",
    "\n",
    "def combine_numbers(row):\n",
    "    if '+' in row['용량']:\n",
    "        numbers = row['용량'].split('+')\n",
    "        total = sum([float(num) for num in numbers])\n",
    "        return str(total)\n",
    "    return row['용량']\n",
    "\n",
    "def adjust_format(row):\n",
    "    if re.search(r'(?i)KG', row['자재명']):\n",
    "        return str(float(row['용량']) * 1000)\n",
    "    elif re.search(r'(?i)L', row['자재명']):\n",
    "        return str(float(row['용량']) * 1000)\n",
    "    elif re.search(r'(?i)G', row['자재명']):\n",
    "        return row['용량']\n",
    "    elif re.search(r'(?i)ML', row['자재명']):\n",
    "        return row['용량']\n",
    "    return row['용량']\n",
    "\n",
    "df_11['용량'] = df_11['자재명'].apply(extract_numbers)\n",
    "df_11['용량'] = df_11.apply(combine_numbers, axis=1)\n",
    "df_11['용량'] = df_11.apply(adjust_format, axis=1)"
   ]
  },
  {
   "attachments": {},
   "cell_type": "markdown",
   "metadata": {},
   "source": [
    "> ## 사은품 여부"
   ]
  },
  {
   "attachments": {},
   "cell_type": "markdown",
   "metadata": {},
   "source": [
    "네이버"
   ]
  },
  {
   "cell_type": "code",
   "execution_count": 138,
   "metadata": {},
   "outputs": [
    {
     "data": {
      "text/plain": [
       "([<matplotlib.patches.Wedge at 0x2c81d1a00a0>,\n",
       "  <matplotlib.patches.Wedge at 0x2c81d12d730>],\n",
       " [Text(-1.098852613841851, 0.05022880700287086, '사은품 없음'),\n",
       "  Text(1.0988526141357737, -0.05022880057274588, '사은품 있음')])"
      ]
     },
     "execution_count": 138,
     "metadata": {},
     "output_type": "execute_result"
    },
    {
     "data": {
      "image/png": "[encoded data removed]",
      "text/plain": [
       "<Figure size 432x288 with 1 Axes>"
      ]
     },
     "metadata": {},
     "output_type": "display_data"
    }
   ],
   "source": [
    "plt.pie(df_n['사은품여부'].value_counts(), labels=['사은품 없음','사은품 있음'])"
   ]
  },
  {
   "cell_type": "code",
   "execution_count": 139,
   "metadata": {},
   "outputs": [
    {
     "data": {
      "text/html": [
       "<div>\n",
       "<style scoped>\n",
       "    .dataframe tbody tr th:only-of-type {\n",
       "        vertical-align: middle;\n",
       "    }\n",
       "\n",
       "    .dataframe tbody tr th {\n",
       "        vertical-align: top;\n",
       "    }\n",
       "\n",
       "    .dataframe thead th {\n",
       "        text-align: right;\n",
       "    }\n",
       "</style>\n",
       "<table border=\"1\" class=\"dataframe\">\n",
       "  <thead>\n",
       "    <tr style=\"text-align: right;\">\n",
       "      <th></th>\n",
       "      <th>실질판매수량</th>\n",
       "    </tr>\n",
       "    <tr>\n",
       "      <th>사은품여부</th>\n",
       "      <th></th>\n",
       "    </tr>\n",
       "  </thead>\n",
       "  <tbody>\n",
       "    <tr>\n",
       "      <th>N</th>\n",
       "      <td>2246913</td>\n",
       "    </tr>\n",
       "    <tr>\n",
       "      <th>Y</th>\n",
       "      <td>7832</td>\n",
       "    </tr>\n",
       "  </tbody>\n",
       "</table>\n",
       "</div>"
      ],
      "text/plain": [
       "        실질판매수량\n",
       "사은품여부         \n",
       "N      2246913\n",
       "Y         7832"
      ]
     },
     "execution_count": 139,
     "metadata": {},
     "output_type": "execute_result"
    }
   ],
   "source": [
    "df_n.groupby('사은품여부')[['실질판매수량']].sum()\n"
   ]
  },
  {
   "cell_type": "code",
   "execution_count": 140,
   "metadata": {},
   "outputs": [
    {
     "data": {
      "text/plain": [
       "[사은품]더비비고 영양꼬리곰탕500g    170\n",
       "[사은품_허닭몰] 더비비고_황기닭백숙    110\n",
       "[사은품] 복주머니 파우치(그린)       91\n",
       "[사은품] 더비비고_수삼갈비탕         72\n",
       "[사은품] 갓빠오즈               70\n",
       "[사은품_더마켓] 더비비고 쇼핑백       30\n",
       "에어프라이어용 종이호일(20매)        12\n",
       "[사은품] 메티에 전용 펌프          10\n",
       "[사은품]피자 커터기               6\n",
       "[사은품_더마켓]생선구이 웰컴키트        3\n",
       "Name: 상품명, dtype: int64"
      ]
     },
     "execution_count": 140,
     "metadata": {},
     "output_type": "execute_result"
    }
   ],
   "source": [
    "plus = df_n[df_n['상품코드'] == '사은품']\n",
    "gift_n = plus[['상품명','상품명대분류','자재명','브랜드','사은품여부','구매월']] #사은품여부가 Y 인 데이터\n",
    "gift = df_n[['상품명','상품명대분류','자재명','브랜드','사은품여부','구매월']] # 전체 데이터\n",
    "gift_n[gift_n['상품명대분류']=='']['상품명'].value_counts()"
   ]
  },
  {
   "attachments": {},
   "cell_type": "markdown",
   "metadata": {},
   "source": [
    "11번가"
   ]
  },
  {
   "cell_type": "code",
   "execution_count": 141,
   "metadata": {},
   "outputs": [
    {
     "data": {
      "text/plain": [
       "([<matplotlib.patches.Wedge at 0x2c81df916a0>,\n",
       "  <matplotlib.patches.Wedge at 0x2c81df914c0>],\n",
       " [Text(-1.0999824577957604, 0.006212289561693906, '사은품 없음'),\n",
       "  Text(1.0999824581751854, -0.006212222378252653, '사은품 있음')])"
      ]
     },
     "execution_count": 141,
     "metadata": {},
     "output_type": "execute_result"
    },
    {
     "data": {
      "image/png": "[encoded data removed]",
      "text/plain": [
       "<Figure size 432x288 with 1 Axes>"
      ]
     },
     "metadata": {},
     "output_type": "display_data"
    }
   ],
   "source": [
    "plt.pie(df_11['사은품여부'].value_counts(), labels=['사은품 없음','사은품 있음'])"
   ]
  },
  {
   "cell_type": "code",
   "execution_count": 142,
   "metadata": {},
   "outputs": [
    {
     "data": {
      "text/html": [
       "<div>\n",
       "<style scoped>\n",
       "    .dataframe tbody tr th:only-of-type {\n",
       "        vertical-align: middle;\n",
       "    }\n",
       "\n",
       "    .dataframe tbody tr th {\n",
       "        vertical-align: top;\n",
       "    }\n",
       "\n",
       "    .dataframe thead th {\n",
       "        text-align: right;\n",
       "    }\n",
       "</style>\n",
       "<table border=\"1\" class=\"dataframe\">\n",
       "  <thead>\n",
       "    <tr style=\"text-align: right;\">\n",
       "      <th></th>\n",
       "      <th>실질판매수량</th>\n",
       "    </tr>\n",
       "    <tr>\n",
       "      <th>사은품여부</th>\n",
       "      <th></th>\n",
       "    </tr>\n",
       "  </thead>\n",
       "  <tbody>\n",
       "    <tr>\n",
       "      <th>N</th>\n",
       "      <td>488312</td>\n",
       "    </tr>\n",
       "    <tr>\n",
       "      <th>Y</th>\n",
       "      <td>325</td>\n",
       "    </tr>\n",
       "  </tbody>\n",
       "</table>\n",
       "</div>"
      ],
      "text/plain": [
       "       실질판매수량\n",
       "사은품여부        \n",
       "N      488312\n",
       "Y         325"
      ]
     },
     "execution_count": 142,
     "metadata": {},
     "output_type": "execute_result"
    }
   ],
   "source": [
    "df_11.groupby('사은품여부')[['실질판매수량']].sum()\n"
   ]
  },
  {
   "cell_type": "code",
   "execution_count": 143,
   "metadata": {},
   "outputs": [
    {
     "data": {
      "text/plain": [
       "스팸마라 340g    95\n",
       "Name: 상품명, dtype: int64"
      ]
     },
     "execution_count": 143,
     "metadata": {},
     "output_type": "execute_result"
    }
   ],
   "source": [
    "plus = df_11[df_11['상품코드'] == '사은품']\n",
    "gift_n = plus[['상품명','상품명대분류','자재명','브랜드','사은품여부','구매월']] #사은품여부가 Y 인 데이터\n",
    "gift = df_11[['상품명','상품명대분류','자재명','브랜드','사은품여부','구매월']] # 전체 데이터\n",
    "gift_n[gift_n['상품명대분류']=='']['상품명'].value_counts()"
   ]
  },
  {
   "attachments": {},
   "cell_type": "markdown",
   "metadata": {},
   "source": [
    "> ## '자재'관련 컬럼\n",
    "\n",
    "**< 자재코드 >** 의미  <br> \n",
    "    \n",
    "* **코드 구분 기준**:   자재의 대분류명 같음 <br>\n",
    "* **코드 10으로 시작(6자리)**:   사은품 없음 <br>\n",
    "* **코드 992000로 시작(10자리)**:  해당 자재는 사은품.(기정사실) - 전부 사은품 있음. 에어프라이용 종이호일은 구체적 확인 필요<br>\n",
    "\n",
    "* 사은품의 상품유형, 상품타입은 없음."
   ]
  },
  {
   "attachments": {},
   "cell_type": "markdown",
   "metadata": {},
   "source": [
    "네이버"
   ]
  },
  {
   "cell_type": "code",
   "execution_count": 144,
   "metadata": {},
   "outputs": [
    {
     "name": "stdout",
     "output_type": "stream",
     "text": [
      "자재코드가 6자린 경우 개수: 171573  /  자재코드가 10자린 경우 개수: 574\n"
     ]
    }
   ],
   "source": [
    "# 1.자재코드 길이 파악 => 6자리 10자리 코드로 구분됨.\n",
    "set(len(str(i)) for i in  df_n['자재코드'])  # =>{6, 10}\n",
    "\n",
    "\n",
    "# 2.'자재코드_길이' 컬럼 생성\n",
    "if '자재코드_길이' not in df_n.columns:\n",
    "    df_n.insert(df_n.columns.get_loc('자재코드')+1,'자재코드_길이', [len(str(i)) for i in  df_n['자재코드']])\n",
    "print('자재코드가 6자린 경우 개수:', df_n['자재코드_길이'].value_counts()[6], ' /  자재코드가 10자린 경우 개수:',df_n['자재코드_길이'].value_counts()[10])\n",
    "\n",
    "# 3. 자재코드 별 자재명 확인\n",
    "df_n.groupby(['자재코드_길이','자재코드'])[['자재명']].sum();\n",
    "# 99로 시작하고 10자리인 자재코드에 해당하는 애들은 모두 자재명 없음"
   ]
  },
  {
   "cell_type": "code",
   "execution_count": 145,
   "metadata": {},
   "outputs": [],
   "source": [
    "# 4. (위 경우 확인) 자재코드가 992000~ 으로 시작 => 전부 사은품 \n",
    "df_n.groupby(['자재코드_길이','자재코드'])[['상품명','상품유형','상품타입','사은품여부']].sum().query('자재코드_길이 ==10');"
   ]
  },
  {
   "cell_type": "code",
   "execution_count": 146,
   "metadata": {},
   "outputs": [],
   "source": [
    "# 5. '에어프라이어용 종이호일'이 사은품일까?\n",
    "df_n[df_n['상품명'].str.contains('에어프라이어용') == True][['상품명','상품유형','상품타입','사은품여부']];\n",
    "# => 상품유형이나 타입의 값이 없고, 사은품 여부에 모두 Y인 것으로 보아, 사은품이 맞음"
   ]
  },
  {
   "attachments": {},
   "cell_type": "markdown",
   "metadata": {},
   "source": [
    "11번가"
   ]
  },
  {
   "cell_type": "code",
   "execution_count": 147,
   "metadata": {},
   "outputs": [
    {
     "name": "stdout",
     "output_type": "stream",
     "text": [
      "자재코드가 6자린 경우 개수: 172348  /  자재코드가 10자린 경우 개수: 95\n"
     ]
    }
   ],
   "source": [
    "# 1.자재코드 길이 파악 => 6자리 10자리 코드로 구분됨.\n",
    "set(len(str(i)) for i in  df_11['자재코드']) # => {6, 10}\n",
    "\n",
    "\n",
    "# 2.'자재코드_길이' 컬럼 생성\n",
    "if '자재코드_길이' not in df_11.columns:\n",
    "    df_11.insert(df_11.columns.get_loc('자재코드')+1,'자재코드_길이', [len(str(i)) for i in  df_11['자재코드']])\n",
    "print('자재코드가 6자린 경우 개수:', df_11['자재코드_길이'].value_counts()[6], ' /  자재코드가 10자린 경우 개수:',df_11['자재코드_길이'].value_counts()[10])\n",
    "\n",
    "# 3. 자재코드 별 자재명 확인\n",
    "df_11.groupby(['자재코드_길이','자재코드'])[['자재명']].sum();\n",
    "# 99로 시작하고 10자리인 자재코드에 해당하는 애들은 모두 자재명 없음"
   ]
  },
  {
   "cell_type": "code",
   "execution_count": 148,
   "metadata": {},
   "outputs": [],
   "source": [
    "# 4. (위 경우 확인) 자재코드가 992000~ 으로 시작 => 전부 사은품 \n",
    "df_11.groupby(['자재코드_길이','자재코드'])[['상품명','상품유형','상품타입','사은품여부']].sum().query('자재코드_길이 ==10');"
   ]
  },
  {
   "cell_type": "code",
   "execution_count": 149,
   "metadata": {},
   "outputs": [],
   "source": [
    "# 5. '스팸마라'가 사은품일까? \n",
    "df_11[df_11['상품명'].str.contains('스팸마라') == True][['상품명','상품유형','상품타입','사은품여부']];\n",
    "# => 상품유형이나 타입의 값이 없고, 사은품 여부에 모두 Y인 것으로 보아, 사은품이 맞음"
   ]
  },
  {
   "attachments": {},
   "cell_type": "markdown",
   "metadata": {},
   "source": [
    "> ## 클레임_상태\n",
    "\n",
    "주문/배송상태와는 다른 반품과 교환롼료 라는 항목이 들어있고, 그에 따른 분석 가능\n",
    "\n"
   ]
  },
  {
   "attachments": {},
   "cell_type": "markdown",
   "metadata": {},
   "source": [
    "네이버"
   ]
  },
  {
   "cell_type": "code",
   "execution_count": 150,
   "metadata": {},
   "outputs": [],
   "source": [
    "df_n['클레임_상태'].value_counts(normalize=True).to_frame();"
   ]
  },
  {
   "cell_type": "code",
   "execution_count": 151,
   "metadata": {},
   "outputs": [],
   "source": [
    "#주문취소상품과 동일한 퍼센트를 가지고 있음\n",
    "df_n[df_n['클레임_상태'] =='취소완료']['상품명대분류'].value_counts(normalize = True).head();"
   ]
  },
  {
   "cell_type": "code",
   "execution_count": 152,
   "metadata": {},
   "outputs": [],
   "source": [
    "# 반품처리중 상품 : 햇반,설탕,볶음밥,구이,고추장\n",
    "df_n[df_n['클레임_상태'] =='반품처리중']['상품명대분류'].value_counts(normalize = True).head();"
   ]
  },
  {
   "cell_type": "code",
   "execution_count": 153,
   "metadata": {},
   "outputs": [],
   "source": [
    "df_n.groupby(['평일/주말', '구매요일','클레임_상태','주문수량'])[['클레임_상태']].count();"
   ]
  },
  {
   "attachments": {},
   "cell_type": "markdown",
   "metadata": {},
   "source": [
    "11번가"
   ]
  },
  {
   "cell_type": "code",
   "execution_count": 154,
   "metadata": {},
   "outputs": [],
   "source": [
    "df_11['클레임_상태'].value_counts(normalize=True).to_frame();"
   ]
  },
  {
   "cell_type": "code",
   "execution_count": 155,
   "metadata": {},
   "outputs": [],
   "source": [
    "#주문취소상품과 동일한 퍼센트를 가지고 있음\n",
    "df_11[df_11['클레임_상태'] =='취소완료']['상품명대분류'].value_counts(normalize = True).head();"
   ]
  },
  {
   "cell_type": "code",
   "execution_count": 156,
   "metadata": {},
   "outputs": [],
   "source": [
    "# 반품처리중 상품 : 햇반,설탕,볶음밥,구이,고추장\n",
    "df_11[df_11['클레임_상태'] =='반품처리중']['상품명대분류'].value_counts(normalize = True).head();"
   ]
  },
  {
   "cell_type": "code",
   "execution_count": 157,
   "metadata": {},
   "outputs": [],
   "source": [
    "df_11.groupby(['평일/주말', '구매요일','클레임_상태','주문수량'])[['클레임_상태']].count();"
   ]
  },
  {
   "attachments": {},
   "cell_type": "markdown",
   "metadata": {},
   "source": [
    "> ## 거래처"
   ]
  },
  {
   "attachments": {},
   "cell_type": "markdown",
   "metadata": {},
   "source": [
    "네이버"
   ]
  },
  {
   "cell_type": "code",
   "execution_count": 158,
   "metadata": {},
   "outputs": [
    {
     "data": {
      "text/plain": [
       "외부몰_직거래_네이버(신)    172147\n",
       "Name: 거래처, dtype: int64"
      ]
     },
     "execution_count": 158,
     "metadata": {},
     "output_type": "execute_result"
    }
   ],
   "source": [
    "# 거래처 컬럼 분석, '외부물_직거래_네이버(신) 단일값밖에 없음\n",
    "df_n['거래처'].value_counts()"
   ]
  },
  {
   "attachments": {},
   "cell_type": "markdown",
   "metadata": {},
   "source": [
    "11번가"
   ]
  },
  {
   "cell_type": "code",
   "execution_count": 159,
   "metadata": {},
   "outputs": [
    {
     "data": {
      "text/plain": [
       "외부몰_직거래_11번가(신)    172443\n",
       "Name: 거래처, dtype: int64"
      ]
     },
     "execution_count": 159,
     "metadata": {},
     "output_type": "execute_result"
    }
   ],
   "source": [
    "# 거래처 컬럼 분석, '외부물_직거래_네이버(신) 단일값밖에 없음\n",
    "df_11['거래처'].value_counts()"
   ]
  },
  {
   "attachments": {},
   "cell_type": "markdown",
   "metadata": {},
   "source": [
    "> ## 주문일\n"
   ]
  },
  {
   "attachments": {},
   "cell_type": "markdown",
   "metadata": {},
   "source": [
    "네이버"
   ]
  },
  {
   "cell_type": "code",
   "execution_count": 160,
   "metadata": {},
   "outputs": [
    {
     "data": {
      "text/plain": [
       "2022-06-10    0.149343\n",
       "2022-05-17    0.116540\n",
       "2022-06-17    0.057741\n",
       "2022-05-18    0.052978\n",
       "2022-06-30    0.028685\n",
       "Name: 주문일, dtype: float64"
      ]
     },
     "execution_count": 160,
     "metadata": {},
     "output_type": "execute_result"
    }
   ],
   "source": [
    "# 가장 주문 많은 일 (top5): 6월 10일, 5월 17일, 6월 17일, 5월 18일, 6월 30일\n",
    "df_n['주문일'].value_counts(normalize = True).head(5)"
   ]
  },
  {
   "cell_type": "code",
   "execution_count": 161,
   "metadata": {},
   "outputs": [],
   "source": [
    "# 가장 주문 많은 날(top1) 판매 품목 : 햇반,만두,왕교자,볶음밥,햇반흑미밥\n",
    "df_n[df_n['주문일'] =='2022-06-10']['상품명대분류'].value_counts(normalize = True).head(15);"
   ]
  },
  {
   "cell_type": "code",
   "execution_count": 162,
   "metadata": {},
   "outputs": [],
   "source": [
    "# 가장 주문 많은 날(top2) 판매 품목 : 햇반,만두,왕교자,주먹밥,햇반흑미밥\n",
    "df_n[df_n['주문일'] =='2022-05-17']['상품명대분류'].value_counts(normalize = True).head(15) ;"
   ]
  },
  {
   "attachments": {},
   "cell_type": "markdown",
   "metadata": {},
   "source": [
    "날짜와 상관없이 '햇반, 만두, 왕교자' 상품은 주문일과 관계없이 판매상품들중에서 항상 우위를 점하는 것으로 보임.\n",
    "\n",
    "=> 그렇다면 그러한 상품들을 빼고 다시 상품들을 확인을 해야하는 건지?"
   ]
  },
  {
   "cell_type": "code",
   "execution_count": 163,
   "metadata": {},
   "outputs": [
    {
     "data": {
      "image/png": "[encoded data removed]",
      "text/plain": [
       "<Figure size 720x288 with 1 Axes>"
      ]
     },
     "metadata": {},
     "output_type": "display_data"
    }
   ],
   "source": [
    "#주문일, \"5월 17일\"과 \"6월 10일\"에 주문일이 몰려있는 경향 발견\n",
    "\n",
    "df_n['주문일'] = pd.to_datetime(df_n['주문일'])\n",
    "date_counts = df_n['주문일'].value_counts().sort_index()\n",
    "plt.figure(figsize=(10, 4))\n",
    "plt.hist(df_n['주문일'], bins='auto')\n",
    "plt.title('주문일 분포')\n",
    "plt.xlabel('날짜')\n",
    "plt.ylabel('빈도수')\n",
    "plt.xticks(rotation=45)\n",
    "plt.show()\n"
   ]
  },
  {
   "attachments": {},
   "cell_type": "markdown",
   "metadata": {},
   "source": [
    "11번가"
   ]
  },
  {
   "attachments": {},
   "cell_type": "markdown",
   "metadata": {},
   "source": [
    "cf) 4월이 5월, 5월이 6월"
   ]
  },
  {
   "cell_type": "code",
   "execution_count": 164,
   "metadata": {},
   "outputs": [
    {
     "data": {
      "text/plain": [
       "2022-04-11    0.254107\n",
       "2022-05-11    0.184154\n",
       "2022-05-25    0.073891\n",
       "2022-05-07    0.072059\n",
       "2022-04-27    0.039097\n",
       "Name: 주문일, dtype: float64"
      ]
     },
     "execution_count": 164,
     "metadata": {},
     "output_type": "execute_result"
    }
   ],
   "source": [
    "# 가장 주문 많은 일 (top5): 5월 11일, 5월 11일, 6월 25일, 6월 7일, 5월 27일\n",
    "df_11['주문일'].value_counts(normalize = True).head(5)"
   ]
  },
  {
   "cell_type": "code",
   "execution_count": 165,
   "metadata": {},
   "outputs": [
    {
     "data": {
      "text/plain": [
       "교자      0.305187\n",
       "양념      0.165773\n",
       "만두      0.113900\n",
       "햇반      0.090144\n",
       "탕수육     0.031128\n",
       "핫도그     0.019101\n",
       "짬뽕      0.016157\n",
       "볶음밥     0.015062\n",
       "사골곰탕    0.014469\n",
       "구이      0.014081\n",
       "떡갈비     0.013213\n",
       "스테이크    0.012552\n",
       "돈카츠     0.012529\n",
       "죽       0.011799\n",
       "깐풍기     0.010931\n",
       "Name: 상품명대분류, dtype: float64"
      ]
     },
     "execution_count": 165,
     "metadata": {},
     "output_type": "execute_result"
    }
   ],
   "source": [
    "# 가장 주문 많은 날(top1) 판매 품목 : 왕교자, 양념, 만두, 주먹밥, 탕수육,,,\n",
    "df_11[df_11['주문일'] =='2022-04-11']['상품명대분류'].value_counts(normalize = True).head(15)"
   ]
  },
  {
   "cell_type": "code",
   "execution_count": 166,
   "metadata": {},
   "outputs": [
    {
     "data": {
      "text/plain": [
       "교자      0.284545\n",
       "양념      0.206071\n",
       "햇반      0.126149\n",
       "만두      0.092014\n",
       "구이      0.020469\n",
       "떡갈비     0.016532\n",
       "사골곰탕    0.015336\n",
       "스테이크    0.015273\n",
       "탕수육     0.015052\n",
       "돈카츠     0.013572\n",
       "죽       0.012250\n",
       "핫도그     0.011053\n",
       "볶음밥     0.009825\n",
       "소고기     0.009699\n",
       "육개장     0.008408\n",
       "Name: 상품명대분류, dtype: float64"
      ]
     },
     "execution_count": 166,
     "metadata": {},
     "output_type": "execute_result"
    }
   ],
   "source": [
    "# 가장 주문 많은 날(top2) 판매 품목 : 왕교자, 양념, 주먹밥, 만두, 구이,,,\n",
    "df_11[df_11['주문일'] =='2022-05-11']['상품명대분류'].value_counts(normalize = True).head(15)"
   ]
  },
  {
   "attachments": {},
   "cell_type": "markdown",
   "metadata": {},
   "source": [
    "날짜와 상관없이 '왕교자, 양념, 만두, 주먹밥' 상품은 주문일과 관계없이 판매상품들중에서 항상 우위를 점하는 것으로 보임."
   ]
  },
  {
   "cell_type": "code",
   "execution_count": 167,
   "metadata": {},
   "outputs": [
    {
     "data": {
      "image/png": "[encoded data removed]",
      "text/plain": [
       "<Figure size 720x432 with 1 Axes>"
      ]
     },
     "metadata": {},
     "output_type": "display_data"
    }
   ],
   "source": [
    "\n",
    "#주문일, \"5월 17일\"과 \"6월 10일\"에 주문일이 몰려있는 경향 발견\n",
    "\n",
    "df_11['주문일'] = pd.to_datetime(df_11['주문일'])\n",
    "date_counts = df_11['주문일'].value_counts().sort_index()\n",
    "plt.figure(figsize=(10, 6))\n",
    "plt.hist(df_11['주문일'], bins='auto')\n",
    "plt.title('주문일 분포')\n",
    "plt.xlabel('날짜')\n",
    "plt.ylabel('빈도수')\n",
    "plt.xticks(rotation=45)\n",
    "plt.show()\n"
   ]
  },
  {
   "attachments": {},
   "cell_type": "markdown",
   "metadata": {},
   "source": [
    "> ## 출고예정일\n"
   ]
  },
  {
   "attachments": {},
   "cell_type": "markdown",
   "metadata": {},
   "source": [
    "네이버"
   ]
  },
  {
   "cell_type": "code",
   "execution_count": 168,
   "metadata": {},
   "outputs": [
    {
     "data": {
      "text/plain": [
       "2022-06-11    0.098387\n",
       "2022-05-19    0.067559\n",
       "2022-06-19    0.053780\n",
       "2022-05-18    0.050689\n",
       "2022-06-12    0.044404\n",
       "Name: 출고예정일, dtype: float64"
      ]
     },
     "execution_count": 168,
     "metadata": {},
     "output_type": "execute_result"
    }
   ],
   "source": [
    "df_n['출고예정일'] = pd.to_datetime(df_n['출고예정일'], format = '%Y%m%d')\n",
    "\n",
    "# 출고예정일은 6월 11일, 5월 19일, 6월 19일, 5월 18일 순으로 점유율이 높음 #6월 10일과 5월 17일 \n",
    "# 출고예정일이 높게 나온 일들은 모두 주문일이 가장 높은 일수와 1~2일 차이가 나고 있음.\n",
    "df_n['출고예정일'].value_counts(normalize = True).head()"
   ]
  },
  {
   "cell_type": "code",
   "execution_count": 169,
   "metadata": {},
   "outputs": [
    {
     "data": {
      "text/plain": [
       "2779    B)강력1등 20kg\n",
       "2780    B)강력1등 20kg\n",
       "Name: 자재명, dtype: object"
      ]
     },
     "execution_count": 169,
     "metadata": {},
     "output_type": "execute_result"
    }
   ],
   "source": [
    "df_n[df_n['출고예정일']=='2022-08-03']['자재명']"
   ]
  },
  {
   "cell_type": "code",
   "execution_count": 170,
   "metadata": {},
   "outputs": [
    {
     "data": {
      "image/png": "[encoded data removed]",
      "text/plain": [
       "<Figure size 720x432 with 1 Axes>"
      ]
     },
     "metadata": {},
     "output_type": "display_data"
    }
   ],
   "source": [
    "#시각화\n",
    "\n",
    "df_n['출고예정일'] = pd.to_datetime(df_n['출고예정일'])\n",
    "date_counts = df_n['출고예정일'].value_counts().sort_index()\n",
    "plt.figure(figsize=(10, 6))\n",
    "plt.hist(df_n['출고예정일'], bins='auto')\n",
    "plt.title('출고예정일 분포')\n",
    "plt.xlabel('날짜')\n",
    "plt.ylabel('빈도수')\n",
    "plt.xticks(rotation=45)\n",
    "plt.show()"
   ]
  },
  {
   "attachments": {},
   "cell_type": "markdown",
   "metadata": {},
   "source": [
    "11번가"
   ]
  },
  {
   "cell_type": "code",
   "execution_count": 171,
   "metadata": {},
   "outputs": [
    {
     "data": {
      "text/plain": [
       "2022-04-13    0.157971\n",
       "2022-05-13    0.136770\n",
       "2022-04-12    0.075080\n",
       "2022-04-28    0.064456\n",
       "2022-05-27    0.052870\n",
       "Name: 출고예정일, dtype: float64"
      ]
     },
     "execution_count": 171,
     "metadata": {},
     "output_type": "execute_result"
    }
   ],
   "source": [
    "df_11['출고예정일'] = pd.to_datetime(df_11['출고예정일'], format = '%Y%m%d')\n",
    "\n",
    "# 출고예정일은 6월 11일, 5월 19일, 6월 19일, 5월 18일 순으로 점유율이 높음 #6월 10일과 5월 17일 \n",
    "# 출고예정일이 높게 나온 일들은 모두 주문일이 가장 높은 일수와 1~2일 차이가 나고 있음.\n",
    "df_11['출고예정일'].value_counts(normalize = True).head()"
   ]
  },
  {
   "cell_type": "code",
   "execution_count": 172,
   "metadata": {},
   "outputs": [
    {
     "data": {
      "image/png": "[encoded data removed]",
      "text/plain": [
       "<Figure size 720x432 with 1 Axes>"
      ]
     },
     "metadata": {},
     "output_type": "display_data"
    }
   ],
   "source": [
    "#시각화\n",
    "\n",
    "df_11['출고예정일'] = pd.to_datetime(df_11['출고예정일'])\n",
    "date_counts = df_11['출고예정일'].value_counts().sort_index()\n",
    "plt.figure(figsize=(10, 6))\n",
    "plt.hist(df_11['출고예정일'], bins='auto')\n",
    "plt.title('출고예정일 분포')\n",
    "plt.xlabel('날짜')\n",
    "plt.ylabel('빈도수')\n",
    "plt.xticks(rotation=45)\n",
    "plt.show()"
   ]
  },
  {
   "cell_type": "code",
   "execution_count": null,
   "metadata": {},
   "outputs": [],
   "source": []
  },
  {
   "attachments": {},
   "cell_type": "markdown",
   "metadata": {},
   "source": [
    "> ## 주문/배송상태\n"
   ]
  },
  {
   "attachments": {},
   "cell_type": "markdown",
   "metadata": {},
   "source": [
    "네이버"
   ]
  },
  {
   "cell_type": "code",
   "execution_count": 173,
   "metadata": {},
   "outputs": [
    {
     "data": {
      "text/plain": [
       "배송 완료    0.971559\n",
       "주문취소     0.027889\n",
       "배송 취소    0.000314\n",
       "배송 중     0.000209\n",
       "주문완료     0.000017\n",
       "배송 준비    0.000006\n",
       "출고 지시    0.000006\n",
       "Name: 주문/배송상태, dtype: float64"
      ]
     },
     "execution_count": 173,
     "metadata": {},
     "output_type": "execute_result"
    }
   ],
   "source": [
    "#주문/배송상태\n",
    "df_n['주문/배송상태'].value_counts(normalize= True)"
   ]
  },
  {
   "cell_type": "code",
   "execution_count": 174,
   "metadata": {},
   "outputs": [
    {
     "data": {
      "text/plain": [
       "햇반     0.391377\n",
       "콩기름    0.051448\n",
       "만두     0.046657\n",
       "설탕     0.040825\n",
       "주먹밥    0.033326\n",
       "Name: 상품명대분류, dtype: float64"
      ]
     },
     "execution_count": 174,
     "metadata": {},
     "output_type": "execute_result"
    }
   ],
   "source": [
    "# 주문취소상품 : 햇반,콩기름,만두,설탕,주먹밥\n",
    "df_n[df_n['주문/배송상태'] =='주문취소']['상품명대분류'].value_counts(normalize = True).head()"
   ]
  },
  {
   "cell_type": "code",
   "execution_count": 175,
   "metadata": {},
   "outputs": [
    {
     "data": {
      "text/plain": [
       "햇반     0.240741\n",
       "구이     0.129630\n",
       "설탕     0.111111\n",
       "스팸     0.092593\n",
       "고추장    0.074074\n",
       "Name: 상품명대분류, dtype: float64"
      ]
     },
     "execution_count": 175,
     "metadata": {},
     "output_type": "execute_result"
    }
   ],
   "source": [
    "# 배송취소상품 : 햇반,구이,설탕,스팸,고추장 \n",
    "df_n[df_n['주문/배송상태'] =='배송 취소']['상품명대분류'].value_counts(normalize = True).head()"
   ]
  },
  {
   "attachments": {},
   "cell_type": "markdown",
   "metadata": {},
   "source": [
    "11번가"
   ]
  },
  {
   "cell_type": "code",
   "execution_count": 176,
   "metadata": {},
   "outputs": [
    {
     "data": {
      "text/plain": [
       "배송 완료    0.977796\n",
       "주문취소     0.021943\n",
       "배송 취소    0.000110\n",
       "배송 중     0.000093\n",
       "배송 준비    0.000058\n",
       "Name: 주문/배송상태, dtype: float64"
      ]
     },
     "execution_count": 176,
     "metadata": {},
     "output_type": "execute_result"
    }
   ],
   "source": [
    "#주문/배송상태\n",
    "df_11['주문/배송상태'].value_counts(normalize= True)"
   ]
  },
  {
   "cell_type": "code",
   "execution_count": 177,
   "metadata": {},
   "outputs": [
    {
     "data": {
      "text/plain": [
       "양념     0.255814\n",
       "교자     0.142178\n",
       "햇반     0.117600\n",
       "만두     0.063425\n",
       "죽      0.038848\n",
       "         ...   \n",
       "요리유    0.000264\n",
       "소바     0.000264\n",
       "육수     0.000264\n",
       "쌈무     0.000264\n",
       "기름     0.000264\n",
       "Name: 상품명대분류, Length: 105, dtype: float64"
      ]
     },
     "execution_count": 177,
     "metadata": {},
     "output_type": "execute_result"
    }
   ],
   "source": [
    "# 주문취소상품 : 양념, 왕교자, 주먹밥, 만두\n",
    "df_11[df_11['주문/배송상태'] =='주문취소']['상품명대분류'].value_counts(normalize = True)"
   ]
  },
  {
   "cell_type": "code",
   "execution_count": 178,
   "metadata": {},
   "outputs": [
    {
     "data": {
      "text/plain": [
       "핫도그    0.315789\n",
       "냉면     0.157895\n",
       "햇반     0.157895\n",
       "만두     0.157895\n",
       "양념     0.105263\n",
       "Name: 상품명대분류, dtype: float64"
      ]
     },
     "execution_count": 178,
     "metadata": {},
     "output_type": "execute_result"
    }
   ],
   "source": [
    "# 배송취소상품 : 핫도그, 냉면, 햇반, 만두 , 양념 \n",
    "df_11[df_11['주문/배송상태'] =='배송 취소']['상품명대분류'].value_counts(normalize = True).head()"
   ]
  },
  {
   "attachments": {},
   "cell_type": "markdown",
   "metadata": {},
   "source": [
    "### 11번가 데이터 정리"
   ]
  },
  {
   "attachments": {},
   "cell_type": "markdown",
   "metadata": {},
   "source": [
    "가설 설정 및 검정"
   ]
  },
  {
   "attachments": {},
   "cell_type": "markdown",
   "metadata": {},
   "source": [
    "> # 가설1.\n",
    "> ### **용량이 적은 상품들의 판매량이 더 높을 것이다.**\n"
   ]
  },
  {
   "cell_type": "code",
   "execution_count": 179,
   "metadata": {},
   "outputs": [
    {
     "data": {
      "text/plain": [
       "400       0.616424\n",
       "509       0.197654\n",
       "          0.051262\n",
       "370       0.029244\n",
       "618       0.028564\n",
       "384       0.019468\n",
       "450       0.017683\n",
       "420       0.010627\n",
       "1000.0    0.008671\n",
       "392       0.007056\n",
       "168       0.004081\n",
       "200       0.001105\n",
       "1200.0    0.001105\n",
       "500       0.001105\n",
       "980       0.001020\n",
       "600       0.001020\n",
       "700       0.000935\n",
       "300       0.000850\n",
       "490       0.000765\n",
       "1050.0    0.000595\n",
       "2000.0    0.000510\n",
       "1500.0    0.000255\n",
       "Name: 용량, dtype: float64"
      ]
     },
     "execution_count": 179,
     "metadata": {},
     "output_type": "execute_result"
    }
   ],
   "source": [
    "df_n[df_n['상품명대분류'].str.contains('만두', na = False)]['용량'].value_counts(normalize=True)"
   ]
  },
  {
   "cell_type": "code",
   "execution_count": 180,
   "metadata": {},
   "outputs": [
    {
     "data": {
      "text/plain": [
       "450    0.274499\n",
       "652    0.112007\n",
       "840    0.080046\n",
       "152    0.066321\n",
       "760    0.058259\n",
       "400    0.050389\n",
       "425    0.041943\n",
       "147    0.038775\n",
       "480    0.035992\n",
       "520    0.032825\n",
       "540    0.025722\n",
       "550    0.025338\n",
       "135    0.025242\n",
       "140    0.024666\n",
       "145    0.021403\n",
       "405    0.019100\n",
       "       0.009406\n",
       "900    0.007486\n",
       "330    0.007006\n",
       "320    0.007006\n",
       "465    0.006143\n",
       "360    0.005759\n",
       "310    0.003743\n",
       "370    0.003359\n",
       "189    0.002783\n",
       "325    0.002783\n",
       "250    0.002783\n",
       "445    0.002495\n",
       "270    0.001920\n",
       "380    0.001344\n",
       "430    0.000960\n",
       "720    0.000864\n",
       "300    0.000768\n",
       "640    0.000576\n",
       "326    0.000288\n",
       "Name: 용량, dtype: float64"
      ]
     },
     "execution_count": 180,
     "metadata": {},
     "output_type": "execute_result"
    }
   ],
   "source": [
    "df_n[df_n['자재명'].str.contains('고메', na = False)]['용량'].value_counts(normalize=True)"
   ]
  },
  {
   "cell_type": "code",
   "execution_count": 181,
   "metadata": {},
   "outputs": [
    {
     "data": {
      "text/plain": [
       "400       0.203747\n",
       "500       0.177371\n",
       "1050.0    0.107787\n",
       "420       0.088807\n",
       "60        0.062099\n",
       "            ...   \n",
       "210       0.000111\n",
       "40        0.000089\n",
       "140       0.000089\n",
       "20        0.000044\n",
       "2.5       0.000044\n",
       "Name: 용량, Length: 67, dtype: float64"
      ]
     },
     "execution_count": 181,
     "metadata": {},
     "output_type": "execute_result"
    }
   ],
   "source": [
    "df_n[df_n['자재명'].str.contains('비비고', na = False)]['용량'].value_counts(normalize=True)"
   ]
  },
  {
   "cell_type": "code",
   "execution_count": 182,
   "metadata": {},
   "outputs": [
    {
     "data": {
      "text/plain": [
       "500    0.619048\n",
       "900    0.380952\n",
       "Name: 용량, dtype: float64"
      ]
     },
     "execution_count": 182,
     "metadata": {},
     "output_type": "execute_result"
    }
   ],
   "source": [
    "df_n[df_n['자재명'].str.contains('카놀라유', na = False)]['용량'].value_counts(normalize=True)"
   ]
  },
  {
   "attachments": {},
   "cell_type": "markdown",
   "metadata": {},
   "source": [
    "> # 가설2.\n",
    "> ### **과거에 비해 가공식품 및 가정 간편식 시장의 규모가 증가하였을 것이다.**"
   ]
  },
  {
   "attachments": {},
   "cell_type": "markdown",
   "metadata": {},
   "source": [
    "![이미지](https://wimg.mk.co.kr/meet/neds/2022/03/image_readmed_2022_200581_16462937954963641.jpg)"
   ]
  },
  {
   "attachments": {},
   "cell_type": "markdown",
   "metadata": {},
   "source": [
    "> # 가설3.\n",
    "> ### **기념일이 많은 5월에 외식이나 배달로 인해 즉석 식품의 소비가 줄 것이다.**"
   ]
  },
  {
   "cell_type": "code",
   "execution_count": 183,
   "metadata": {},
   "outputs": [
    {
     "data": {
      "text/plain": [
       "Text(0.5, 1.0, '고메 용량별 판매수 TOP 5')"
      ]
     },
     "execution_count": 183,
     "metadata": {},
     "output_type": "execute_result"
    },
    {
     "data": {
      "image/png": "[encoded data removed]",
      "text/plain": [
       "<Figure size 432x288 with 1 Axes>"
      ]
     },
     "metadata": {},
     "output_type": "display_data"
    }
   ],
   "source": [
    "sns.barplot(x='용량', y='판매수', data=df_n[df_n['브랜드'] == '고메'].groupby(['용량'])[['자재명']].count().reset_index().sort_values(by='자재명', ascending=False).iloc[:5].rename(columns={'자재명': '판매수'}))\n",
    "plt.title('고메 용량별 판매수 TOP 5')"
   ]
  },
  {
   "cell_type": "code",
   "execution_count": 184,
   "metadata": {},
   "outputs": [
    {
     "data": {
      "text/plain": [
       "Text(0.5, 1.0, '비비고 용량별 판매수 TOP 5')"
      ]
     },
     "execution_count": 184,
     "metadata": {},
     "output_type": "execute_result"
    },
    {
     "data": {
      "image/png": "[encoded data removed]",
      "text/plain": [
       "<Figure size 432x288 with 1 Axes>"
      ]
     },
     "metadata": {},
     "output_type": "display_data"
    }
   ],
   "source": [
    "sns.barplot(x='용량', y='판매수', data=df_n[df_n['브랜드'] == '비비고'].groupby(['용량'])[['자재명']].count().reset_index().sort_values(by='자재명', ascending=False).iloc[:5].rename(columns={'자재명': '판매수'}))\n",
    "plt.title('비비고 용량별 판매수 TOP 5')"
   ]
  },
  {
   "cell_type": "code",
   "execution_count": 185,
   "metadata": {},
   "outputs": [
    {
     "data": {
      "text/plain": [
       "Text(0.5, 1.0, '스파게티면 용량별 판매수')"
      ]
     },
     "execution_count": 185,
     "metadata": {},
     "output_type": "execute_result"
    },
    {
     "data": {
      "image/png": "[encoded data removed]",
      "text/plain": [
       "<Figure size 432x288 with 1 Axes>"
      ]
     },
     "metadata": {},
     "output_type": "display_data"
    }
   ],
   "source": [
    "sns.barplot(x='용량', y='판매수', data=df_n[df_n['자재명'].str.contains('백설/스파게티면',na = False)].groupby(['용량'])[['자재명']].count().reset_index().sort_values(by='자재명', ascending=False).iloc[:5].rename(columns={'자재명': '판매수'}))\n",
    "plt.title('스파게티면 용량별 판매수')"
   ]
  },
  {
   "attachments": {},
   "cell_type": "markdown",
   "metadata": {},
   "source": [
    "> ## 기념일 - 마케팅 기획안 코드 파일에 첨부\n",
    "\n",
    ">    * 5월 기념일:\n",
    "    근로자의 날, 어린이 날, 어버이 날, 동학농민혁명기념일, 스승의 날, 5.18 민주화운동 기념일, 부부의 날, 성년의 날, 바다의 날\n",
    ">\n",
    ">  * 6월 기념일:\n",
    "    의병의 날, 환경의 날, 현충일, 6.10 민주항쟁 기념일, 6.10만세 운동 기념일,6.25전쟁일, 철도의 날\n",
    "\n",
    ">    **<마케팅 타켓으로 할 기념일>** <br>\n",
    "        5월: 어린이 날, 어버이 날 ~~스승의 날, (부부의 날), 성년의 날 <br>\n",
    "        6월: -~~"
   ]
  },
  {
   "cell_type": "code",
   "execution_count": 186,
   "metadata": {},
   "outputs": [],
   "source": [
    "# 타켓으로 할 기념일 선정\n",
    "기념일 = {'어린이날': '20220505',\n",
    "          '어버이날': '20220508'}"
   ]
  },
  {
   "cell_type": "code",
   "execution_count": 187,
   "metadata": {},
   "outputs": [],
   "source": [
    "# 기념일 주간 추출 (기념일로부터 일주일 전~기념일 당일까지)\n",
    "기념일주간 = {}\n",
    "for key, value in 기념일.items():\n",
    "    기념일주간[key] = []\n",
    "    기념일_날짜 = datetime.strptime(value, '%Y%m%d')\n",
    "    주간_시작 = 기념일_날짜 - timedelta(weeks=1)\n"
   ]
  },
  {
   "cell_type": "code",
   "execution_count": 188,
   "metadata": {},
   "outputs": [
    {
     "name": "stdout",
     "output_type": "stream",
     "text": [
      "{'어린이날': [], '어버이날': ['2022-05-01', '2022-05-02', '2022-05-03', '2022-05-04', '2022-05-05', '2022-05-06', '2022-05-07', '2022-05-08']}\n"
     ]
    }
   ],
   "source": [
    "    # 주간 범위 내 모든 날짜 추가 (5월 이상만)\n",
    "    while 주간_시작 <= 기념일_날짜:\n",
    "        if 주간_시작.month == 5:\n",
    "            기념일주간[key].append(주간_시작.strftime('%Y-%m-%d'))\n",
    "        주간_시작 += timedelta(days=1)\n",
    "\n",
    "print(기념일주간)"
   ]
  },
  {
   "attachments": {},
   "cell_type": "markdown",
   "metadata": {},
   "source": [
    "네이버"
   ]
  },
  {
   "cell_type": "code",
   "execution_count": 189,
   "metadata": {},
   "outputs": [],
   "source": [
    "# 기념일 주간에 해당하는 날만 추출한 데이터프레임 생성\n",
    "기념일df_n = df_n[df_n['주문일'].isin([date for lst in 기념일주간.values() for date in lst])]"
   ]
  },
  {
   "attachments": {},
   "cell_type": "markdown",
   "metadata": {},
   "source": [
    "11번가"
   ]
  },
  {
   "cell_type": "code",
   "execution_count": 190,
   "metadata": {},
   "outputs": [],
   "source": [
    "# 기념일 주간에 해당하는 날만 추출한 데이터프레임 생성\n",
    "기념일df_11 = df_11[df_11['주문일'].isin([date for lst in 기념일주간.values() for date in lst])]"
   ]
  },
  {
   "attachments": {},
   "cell_type": "markdown",
   "metadata": {},
   "source": [
    "* 기념일 주간 내 판매수량"
   ]
  },
  {
   "cell_type": "code",
   "execution_count": 191,
   "metadata": {},
   "outputs": [
    {
     "data": {
      "image/png": "[encoded data removed]",
      "text/plain": [
       "<Figure size 720x432 with 1 Axes>"
      ]
     },
     "metadata": {},
     "output_type": "display_data"
    }
   ],
   "source": [
    "기념일df_n_count = 기념일df_n.groupby('주문일')[['주문일']].count()\n",
    "\n",
    "#시각화\n",
    "plt.figure(figsize=(10, 6))\n",
    "plt.plot(기념일df_n_count.index, 기념일df_n_count['주문일'], marker='o')\n",
    "plt.title('주문일별 주문건수')\n",
    "plt.xlabel('주문일')\n",
    "plt.ylabel('주문건수')\n",
    "plt.xticks(rotation=45)\n",
    "plt.show()"
   ]
  },
  {
   "attachments": {},
   "cell_type": "markdown",
   "metadata": {},
   "source": [
    "* <주류> 상위 10개 브랜드의 기념일 주간 내 판매수량 - 전체 기간에서"
   ]
  },
  {
   "cell_type": "code",
   "execution_count": 192,
   "metadata": {},
   "outputs": [
    {
     "data": {
      "text/plain": [
       "Index(['햇반', '비비고', '백설', '씨제이', '고메', '스팸', '해찬들', '더건강한', '다담', '쁘띠첼'], dtype='object')"
      ]
     },
     "execution_count": 192,
     "metadata": {},
     "output_type": "execute_result"
    }
   ],
   "source": [
    "nav_top10 = df_n['브랜드'].value_counts().head(10).index ; nav_top10"
   ]
  },
  {
   "cell_type": "code",
   "execution_count": 193,
   "metadata": {},
   "outputs": [
    {
     "data": {
      "image/png": "[encoded data removed]",
      "text/plain": [
       "<Figure size 1440x432 with 1 Axes>"
      ]
     },
     "metadata": {},
     "output_type": "display_data"
    }
   ],
   "source": [
    "nav_top10_df = df_n[df_n['브랜드'].isin(nav_top10)]\n",
    "nav_브랜드top_df = nav_top10_df.groupby('주문일')[['주문일']].count()\n",
    "\n",
    "#시각화\n",
    "\n",
    "plt.figure(figsize=(20, 6))\n",
    "plt.plot(nav_브랜드top_df.index, nav_브랜드top_df['주문일'], marker='o', label='주문건수')\n",
    "plt.title('주문건수')\n",
    "plt.xlabel('주문일')\n",
    "plt.ylabel('주문건수')\n",
    "plt.xticks(rotation=45)\n",
    "plt.ylim(0, 27000)  # 원하는 범위로 설정\n",
    "plt.legend()\n",
    "\n",
    "# 특정 기간 설정\n",
    "value_list = [value for sublist in 기념일주간.values() for value in sublist]\n",
    "start_date = min(value_list)\n",
    "end_date = max(value_list)\n",
    "# 특정 기간의 데이터 포인트 강조\n",
    "highlighted_data = nav_브랜드top_df[(nav_브랜드top_df.index >= start_date) & (nav_브랜드top_df.index <= end_date)]\n",
    "plt.scatter(highlighted_data.index, highlighted_data['주문일'], color='red', s=100, label='Highlighted Period')\n",
    "\n",
    "plt.show()"
   ]
  },
  {
   "attachments": {},
   "cell_type": "markdown",
   "metadata": {},
   "source": [
    "* <비주류> 하위 10개 브랜드의 기념일 주간 내 판매수량  - 전체 기간에서"
   ]
  },
  {
   "cell_type": "code",
   "execution_count": 194,
   "metadata": {},
   "outputs": [
    {
     "data": {
      "text/plain": [
       "Index(['맥스봉', '맛밤', '쿡킷', '즐거운동행', '메티에', '하선정', '행복한콩', '산들애', '삼호',\n",
       "       '즐거운 동행'],\n",
       "      dtype='object')"
      ]
     },
     "execution_count": 194,
     "metadata": {},
     "output_type": "execute_result"
    }
   ],
   "source": [
    "nav_bottom10 = df_n['브랜드'].value_counts().tail(10).index ; nav_bottom10"
   ]
  },
  {
   "cell_type": "code",
   "execution_count": 195,
   "metadata": {},
   "outputs": [
    {
     "data": {
      "image/png": "[encoded data removed]",
      "text/plain": [
       "<Figure size 1440x432 with 1 Axes>"
      ]
     },
     "metadata": {},
     "output_type": "display_data"
    }
   ],
   "source": [
    "nav_bottom10_df = df_n[df_n['브랜드'].isin(nav_bottom10)]\n",
    "nav_브랜드bottom_df = nav_bottom10_df.groupby('주문일')[['주문일']].count()\n",
    "\n",
    "#시각화\n",
    "\n",
    "plt.figure(figsize=(20, 6))\n",
    "plt.plot(nav_브랜드bottom_df.index, nav_브랜드bottom_df['주문일'], marker='o', label='주문건수')\n",
    "plt.title('주문건수')\n",
    "plt.xlabel('주문일')\n",
    "plt.ylabel('주문건수')\n",
    "plt.xticks(rotation=45)\n",
    "plt.ylim(0, 400)  # top10항목들과의 비교를 위해 동일한 범위로 설정\n",
    "plt.legend()\n",
    "\n",
    "# 특정 기간 설정\n",
    "value_list = [value for sublist in 기념일주간.values() for value in sublist]\n",
    "start_date = min(value_list)\n",
    "end_date = max(value_list)\n",
    "# 특정 기간의 데이터 포인트 강조\n",
    "highlighted_data = nav_브랜드bottom_df[(nav_브랜드bottom_df.index >= start_date) & (nav_브랜드bottom_df.index <= end_date)]\n",
    "plt.scatter(highlighted_data.index, highlighted_data['주문일'], color='red', s=100, label='Highlighted Period')\n",
    "\n",
    "plt.show()"
   ]
  },
  {
   "attachments": {},
   "cell_type": "markdown",
   "metadata": {},
   "source": [
    "11번가"
   ]
  },
  {
   "cell_type": "code",
   "execution_count": 196,
   "metadata": {},
   "outputs": [
    {
     "data": {
      "image/png": "[encoded data removed]",
      "text/plain": [
       "<Figure size 720x432 with 1 Axes>"
      ]
     },
     "metadata": {},
     "output_type": "display_data"
    }
   ],
   "source": [
    "기념일df_11_count = 기념일df_11.groupby('주문일')[['주문일']].count()\n",
    "\n",
    "#시각화\n",
    "plt.figure(figsize=(10, 6))\n",
    "plt.plot(기념일df_11_count.index, 기념일df_11_count['주문일'], marker='o')\n",
    "plt.title('주문건수')\n",
    "plt.xlabel('주문일')\n",
    "plt.ylabel('주문건수')\n",
    "plt.xticks(rotation=45)\n",
    "plt.show()"
   ]
  },
  {
   "attachments": {},
   "cell_type": "markdown",
   "metadata": {},
   "source": [
    "* <주류> 상위 10개 브랜드의 기념일 주간 내 판매수량 - 전체 기간에서"
   ]
  },
  {
   "cell_type": "code",
   "execution_count": 197,
   "metadata": {},
   "outputs": [
    {
     "data": {
      "text/plain": [
       "Index(['비비고', '다담', '씨제이', '햇반', '고메', '백설', '스팸', '쁘띠첼', '더건강한', '해찬들'], dtype='object')"
      ]
     },
     "execution_count": 197,
     "metadata": {},
     "output_type": "execute_result"
    }
   ],
   "source": [
    "ele_top10 = df_11['브랜드'].value_counts().head(10).index ; ele_top10"
   ]
  },
  {
   "cell_type": "code",
   "execution_count": 198,
   "metadata": {},
   "outputs": [
    {
     "data": {
      "image/png": "[encoded data removed]",
      "text/plain": [
       "<Figure size 1440x432 with 1 Axes>"
      ]
     },
     "metadata": {},
     "output_type": "display_data"
    }
   ],
   "source": [
    "ele_top10_df = df_11[df_11['브랜드'].isin(ele_top10)]\n",
    "ele_브랜드top_df = ele_top10_df.groupby('주문일')[['주문일']].count()\n",
    "\n",
    "#시각화\n",
    "\n",
    "plt.figure(figsize=(20, 6))\n",
    "plt.plot(ele_브랜드top_df.index, ele_브랜드top_df['주문일'], marker='o', label='주문건수')\n",
    "plt.title('주문일별 주문건수')\n",
    "plt.xlabel('주문일')\n",
    "plt.ylabel('주문건수')\n",
    "plt.xticks(rotation=45)\n",
    "plt.ylim(0, 27000)  # 원하는 범위로 설정  \n",
    "plt.legend()\n",
    "\n",
    "# 특정 기간 설정\n",
    "value_list = [value for sublist in 기념일주간.values() for value in sublist]\n",
    "start_date = min(value_list)\n",
    "end_date = max(value_list)\n",
    "# 특정 기간의 데이터 포인트 강조\n",
    "highlighted_data = ele_브랜드top_df[(ele_브랜드top_df.index >= start_date) & (ele_브랜드top_df.index <= end_date)]\n",
    "plt.scatter(highlighted_data.index, highlighted_data['주문일'], color='red', s=100, label='Highlighted Period')\n",
    "\n",
    "plt.show()"
   ]
  },
  {
   "attachments": {},
   "cell_type": "markdown",
   "metadata": {},
   "source": [
    "* <비주류> 하위 10개 브랜드의 기념일 주간 내 판매수량"
   ]
  },
  {
   "cell_type": "code",
   "execution_count": 199,
   "metadata": {},
   "outputs": [
    {
     "data": {
      "text/plain": [
       "Index(['다시다', '하선정', '사은품', '맥스봉', '즐거운동행', '삼호', '산들애', '행복한콩', '크레잇',\n",
       "       '즐거운 동행'],\n",
       "      dtype='object')"
      ]
     },
     "execution_count": 199,
     "metadata": {},
     "output_type": "execute_result"
    }
   ],
   "source": [
    "ele_bottom10 = df_11['브랜드'].value_counts().tail(10).index ; ele_bottom10"
   ]
  },
  {
   "cell_type": "code",
   "execution_count": 200,
   "metadata": {},
   "outputs": [
    {
     "data": {
      "image/png": "[encoded data removed]",
      "text/plain": [
       "<Figure size 1440x432 with 1 Axes>"
      ]
     },
     "metadata": {},
     "output_type": "display_data"
    }
   ],
   "source": [
    "ele_bottom10_df = df_11[df_11['브랜드'].isin(ele_bottom10)]\n",
    "ele_브랜드bottom_df = ele_bottom10_df.groupby('주문일')[['주문일']].count()\n",
    "\n",
    "#시각화\n",
    "\n",
    "plt.figure(figsize=(20, 6))\n",
    "plt.plot(ele_브랜드bottom_df.index, ele_브랜드bottom_df['주문일'], marker='o', label='Sales Quantity')\n",
    "plt.title('Sales Quantity by Date')\n",
    "plt.xlabel('주문일')\n",
    "plt.ylabel('주문일 count')\n",
    "plt.xticks(rotation=45)\n",
    "plt.ylim(0, 400)  # top10항목들과의 비교를 위해 동일한 범위로 설정\n",
    "plt.legend()\n",
    "\n",
    "# 특정 기간 설정\n",
    "value_list = [value for sublist in 기념일주간.values() for value in sublist]\n",
    "start_date = min(value_list)\n",
    "end_date = max(value_list)\n",
    "# 특정 기간의 데이터 포인트 강조\n",
    "highlighted_data = ele_브랜드bottom_df[(ele_브랜드bottom_df.index >= start_date) & (ele_브랜드bottom_df.index <= end_date)]\n",
    "plt.scatter(highlighted_data.index, highlighted_data['주문일'], color='red', s=100, label='Highlighted Period')\n",
    "\n",
    "plt.show()"
   ]
  },
  {
   "attachments": {},
   "cell_type": "markdown",
   "metadata": {},
   "source": [
    "> # 가설4.\n",
    "> ### **다이어트 관련된 상품들의 월별 총 매출이 5월보다 6월에 더 높을 것이다.**"
   ]
  },
  {
   "cell_type": "code",
   "execution_count": 201,
   "metadata": {},
   "outputs": [
    {
     "data": {
      "text/plain": [
       "['닭가슴살', '곤약', '두부', '드레싱', '잡곡', '현미', '고구마', '야채']"
      ]
     },
     "execution_count": 201,
     "metadata": {},
     "output_type": "execute_result"
    }
   ],
   "source": [
    "#1. 다이어트 상품 설정\n",
    "diet_kw=['닭가슴살','곤약','두부','드레싱','잡곡','현미','고구마','야채']\n",
    "diet_kw1='|'.join(diet_kw)\n",
    "diet_kw"
   ]
  },
  {
   "attachments": {},
   "cell_type": "markdown",
   "metadata": {},
   "source": [
    "### 네이버"
   ]
  },
  {
   "cell_type": "code",
   "execution_count": 202,
   "metadata": {},
   "outputs": [
    {
     "data": {
      "text/html": [
       "<div>\n",
       "<style scoped>\n",
       "    .dataframe tbody tr th:only-of-type {\n",
       "        vertical-align: middle;\n",
       "    }\n",
       "\n",
       "    .dataframe tbody tr th {\n",
       "        vertical-align: top;\n",
       "    }\n",
       "\n",
       "    .dataframe thead th {\n",
       "        text-align: right;\n",
       "    }\n",
       "</style>\n",
       "<table border=\"1\" class=\"dataframe\">\n",
       "  <thead>\n",
       "    <tr style=\"text-align: right;\">\n",
       "      <th></th>\n",
       "      <th>매출액</th>\n",
       "    </tr>\n",
       "    <tr>\n",
       "      <th>구매월</th>\n",
       "      <th></th>\n",
       "    </tr>\n",
       "  </thead>\n",
       "  <tbody>\n",
       "    <tr>\n",
       "      <th>4</th>\n",
       "      <td>698908448</td>\n",
       "    </tr>\n",
       "    <tr>\n",
       "      <th>5</th>\n",
       "      <td>762003460</td>\n",
       "    </tr>\n",
       "  </tbody>\n",
       "</table>\n",
       "</div>"
      ],
      "text/plain": [
       "           매출액\n",
       "구매월           \n",
       "4    698908448\n",
       "5    762003460"
      ]
     },
     "execution_count": 202,
     "metadata": {},
     "output_type": "execute_result"
    }
   ],
   "source": [
    "# 2-1. 네이버 상품명 데이터에서 다이어트 상품만 추출\n",
    "diet_f11=df_11[df_11['상품명'].str.contains(diet_kw1)]\n",
    "dn = diet_f11.groupby('구매월')[['매출액']].sum().reset_index()# 네이버 다이어트 상품 매출액 총합\n",
    "df_11.groupby(['구매월'])[['매출액']].sum() # 네이버 전체 상품 매출액 총합"
   ]
  },
  {
   "cell_type": "code",
   "execution_count": 203,
   "metadata": {},
   "outputs": [
    {
     "name": "stdout",
     "output_type": "stream",
     "text": [
      "5월 다이어트 식품 매출액 비율: 15.744027014371914\n",
      "6월 다이어트 식품 매출액 비율: 18.990925445867177\n"
     ]
    }
   ],
   "source": [
    "# 월별 다이어트 식품 매출액 비율\n",
    "print ('5월 다이어트 식품 매출액 비율:', 265644272/1687270174*100)\n",
    "print ('6월 다이어트 식품 매출액 비율:', 316735732/1667826736*100)"
   ]
  },
  {
   "cell_type": "code",
   "execution_count": 204,
   "metadata": {},
   "outputs": [
    {
     "data": {
      "image/png": "[encoded data removed]",
      "text/plain": [
       "<Figure size 432x288 with 1 Axes>"
      ]
     },
     "metadata": {},
     "output_type": "display_data"
    }
   ],
   "source": [
    "dn.plot.bar(x='구매월', y='매출액', label='다이어트 식품 매출액')\n",
    "plt.title('네이버');"
   ]
  },
  {
   "cell_type": "code",
   "execution_count": 205,
   "metadata": {},
   "outputs": [
    {
     "data": {
      "text/html": [
       "<div>\n",
       "<style scoped>\n",
       "    .dataframe tbody tr th:only-of-type {\n",
       "        vertical-align: middle;\n",
       "    }\n",
       "\n",
       "    .dataframe tbody tr th {\n",
       "        vertical-align: top;\n",
       "    }\n",
       "\n",
       "    .dataframe thead th {\n",
       "        text-align: right;\n",
       "    }\n",
       "</style>\n",
       "<table border=\"1\" class=\"dataframe\">\n",
       "  <thead>\n",
       "    <tr style=\"text-align: right;\">\n",
       "      <th></th>\n",
       "      <th>자재명</th>\n",
       "      <th>주문수량</th>\n",
       "    </tr>\n",
       "  </thead>\n",
       "  <tbody>\n",
       "    <tr>\n",
       "      <th>0</th>\n",
       "      <td>햇반흑미밥210g</td>\n",
       "      <td>200088</td>\n",
       "    </tr>\n",
       "    <tr>\n",
       "      <th>1</th>\n",
       "      <td>햇반작은공기130G/상온</td>\n",
       "      <td>159624</td>\n",
       "    </tr>\n",
       "    <tr>\n",
       "      <th>2</th>\n",
       "      <td>햇반/매일찰잡곡밥 210G/상온</td>\n",
       "      <td>140064</td>\n",
       "    </tr>\n",
       "    <tr>\n",
       "      <th>3</th>\n",
       "      <td>햇반 현미쌀밥 210G/상온</td>\n",
       "      <td>137928</td>\n",
       "    </tr>\n",
       "    <tr>\n",
       "      <th>4</th>\n",
       "      <td>햇반/매일잡곡밥210G/상온</td>\n",
       "      <td>124872</td>\n",
       "    </tr>\n",
       "    <tr>\n",
       "      <th>5</th>\n",
       "      <td>햇반210G(36입)NEW/상온</td>\n",
       "      <td>70201</td>\n",
       "    </tr>\n",
       "    <tr>\n",
       "      <th>6</th>\n",
       "      <td>비비고/사골곰탕 500G_18입/상온</td>\n",
       "      <td>60574</td>\n",
       "    </tr>\n",
       "    <tr>\n",
       "      <th>7</th>\n",
       "      <td>햇반발아현미밥210G/상온</td>\n",
       "      <td>54600</td>\n",
       "    </tr>\n",
       "    <tr>\n",
       "      <th>8</th>\n",
       "      <td>햇반 매일콩잡곡밥 210G/상온</td>\n",
       "      <td>51888</td>\n",
       "    </tr>\n",
       "    <tr>\n",
       "      <th>9</th>\n",
       "      <td>햇반큰공기300G/상온</td>\n",
       "      <td>47250</td>\n",
       "    </tr>\n",
       "    <tr>\n",
       "      <th>10</th>\n",
       "      <td>햇반 유기농쌀밥 210G_EBIZ/상온</td>\n",
       "      <td>44256</td>\n",
       "    </tr>\n",
       "    <tr>\n",
       "      <th>11</th>\n",
       "      <td>스팸 클래식 200G/상온</td>\n",
       "      <td>31944</td>\n",
       "    </tr>\n",
       "    <tr>\n",
       "      <th>12</th>\n",
       "      <td>햇반/100%현미로 지은밥 130G/상온</td>\n",
       "      <td>31344</td>\n",
       "    </tr>\n",
       "    <tr>\n",
       "      <th>13</th>\n",
       "      <td>햇반210G*24(1입)/상온</td>\n",
       "      <td>25882</td>\n",
       "    </tr>\n",
       "    <tr>\n",
       "      <th>14</th>\n",
       "      <td>CJ비비고왕교자1.05KG/냉동</td>\n",
       "      <td>12321</td>\n",
       "    </tr>\n",
       "    <tr>\n",
       "      <th>15</th>\n",
       "      <td>B)햇반/저단백밥180G(원형)/상온</td>\n",
       "      <td>10656</td>\n",
       "    </tr>\n",
       "    <tr>\n",
       "      <th>16</th>\n",
       "      <td>비비고/육개장 500G_18입/상온</td>\n",
       "      <td>10039</td>\n",
       "    </tr>\n",
       "    <tr>\n",
       "      <th>17</th>\n",
       "      <td>동치미냉면육수300G_남원/냉장</td>\n",
       "      <td>8564</td>\n",
       "    </tr>\n",
       "    <tr>\n",
       "      <th>18</th>\n",
       "      <td>햇반 발아현미밥 작은공기 130G*3번들/상온</td>\n",
       "      <td>8436</td>\n",
       "    </tr>\n",
       "    <tr>\n",
       "      <th>19</th>\n",
       "      <td>스팸25%라이트200G/상온</td>\n",
       "      <td>7737</td>\n",
       "    </tr>\n",
       "  </tbody>\n",
       "</table>\n",
       "</div>"
      ],
      "text/plain": [
       "                          자재명    주문수량\n",
       "0                   햇반흑미밥210g  200088\n",
       "1               햇반작은공기130G/상온  159624\n",
       "2           햇반/매일찰잡곡밥 210G/상온  140064\n",
       "3             햇반 현미쌀밥 210G/상온  137928\n",
       "4             햇반/매일잡곡밥210G/상온  124872\n",
       "5           햇반210G(36입)NEW/상온   70201\n",
       "6        비비고/사골곰탕 500G_18입/상온   60574\n",
       "7              햇반발아현미밥210G/상온   54600\n",
       "8           햇반 매일콩잡곡밥 210G/상온   51888\n",
       "9                햇반큰공기300G/상온   47250\n",
       "10      햇반 유기농쌀밥 210G_EBIZ/상온   44256\n",
       "11             스팸 클래식 200G/상온   31944\n",
       "12     햇반/100%현미로 지은밥 130G/상온   31344\n",
       "13           햇반210G*24(1입)/상온   25882\n",
       "14          CJ비비고왕교자1.05KG/냉동   12321\n",
       "15       B)햇반/저단백밥180G(원형)/상온   10656\n",
       "16        비비고/육개장 500G_18입/상온   10039\n",
       "17          동치미냉면육수300G_남원/냉장    8564\n",
       "18  햇반 발아현미밥 작은공기 130G*3번들/상온    8436\n",
       "19            스팸25%라이트200G/상온    7737"
      ]
     },
     "execution_count": 205,
     "metadata": {},
     "output_type": "execute_result"
    }
   ],
   "source": [
    "b=df_n.groupby(['자재명'])[['주문수량']].sum().sort_values(by='주문수량', ascending=False).reset_index()\n",
    "b[:20]"
   ]
  },
  {
   "attachments": {},
   "cell_type": "markdown",
   "metadata": {},
   "source": [
    "### 밥\n",
    "- 흑미밥210g (310kcal)\n",
    "- 찰잡곡밥210g (320)\n",
    "- 현미밥210g (305)\n",
    "- 콩잡곡밥210g (310)\n",
    "- 기본 210g (315)\n",
    "- 유기농쌀밥210g (310)\n",
    "---------------------------\n",
    "- 작은 현미밥 130g (195)\n",
    "- 작은 흑미밥 130g (190)\n",
    "- 작은 기본 130g (190)\n",
    "\n",
    "-> 작은 기본 (가성비/더저렴), 작은 흑미밥(영양풍부)\n",
    "-> 아침에는 작은 기본 or 작은 흑미 / 저녁에는 곤약밥"
   ]
  },
  {
   "attachments": {},
   "cell_type": "markdown",
   "metadata": {},
   "source": [
    "### 죽\n",
    "- 죽 중에 가장 구매율이 높은 전복죽 420g (230)\n",
    "- 소고기죽 (235)"
   ]
  },
  {
   "attachments": {},
   "cell_type": "markdown",
   "metadata": {},
   "source": [
    "### 국\n",
    "- 1위 미역국 (95)\n",
    "- 소고기무국 (60)"
   ]
  },
  {
   "attachments": {},
   "cell_type": "markdown",
   "metadata": {},
   "source": [
    "### 닭가슴살 키워드\n",
    "- 더건강한이 장악함\n",
    "- 1위 (195)\n",
    "- 2위 (130) 다이어트라기엔 열량이 높음"
   ]
  },
  {
   "attachments": {},
   "cell_type": "markdown",
   "metadata": {},
   "source": [
    "### 11번가\n",
    "cf) 4월이 5월, 5월이 6월"
   ]
  },
  {
   "cell_type": "code",
   "execution_count": 206,
   "metadata": {},
   "outputs": [
    {
     "data": {
      "text/html": [
       "<div>\n",
       "<style scoped>\n",
       "    .dataframe tbody tr th:only-of-type {\n",
       "        vertical-align: middle;\n",
       "    }\n",
       "\n",
       "    .dataframe tbody tr th {\n",
       "        vertical-align: top;\n",
       "    }\n",
       "\n",
       "    .dataframe thead th {\n",
       "        text-align: right;\n",
       "    }\n",
       "</style>\n",
       "<table border=\"1\" class=\"dataframe\">\n",
       "  <thead>\n",
       "    <tr style=\"text-align: right;\">\n",
       "      <th></th>\n",
       "      <th>매출액</th>\n",
       "    </tr>\n",
       "    <tr>\n",
       "      <th>구매월</th>\n",
       "      <th></th>\n",
       "    </tr>\n",
       "  </thead>\n",
       "  <tbody>\n",
       "    <tr>\n",
       "      <th>4</th>\n",
       "      <td>698908448</td>\n",
       "    </tr>\n",
       "    <tr>\n",
       "      <th>5</th>\n",
       "      <td>762003460</td>\n",
       "    </tr>\n",
       "  </tbody>\n",
       "</table>\n",
       "</div>"
      ],
      "text/plain": [
       "           매출액\n",
       "구매월           \n",
       "4    698908448\n",
       "5    762003460"
      ]
     },
     "execution_count": 206,
     "metadata": {},
     "output_type": "execute_result"
    }
   ],
   "source": [
    "# 2-1. 11번가 상품명 데이터에서 다이어트 상품만 추출\n",
    "diet_f11=df_11[df_11['상품명'].str.contains(diet_kw1)]\n",
    "d11 = diet_f11.groupby('구매월')[['매출액']].sum().reset_index() # 11번가 다이어트 상품 매출액 총합\n",
    "df_11.groupby(['구매월'])[['매출액']].sum() # 11번가 전체 상품 매출액 총합"
   ]
  },
  {
   "cell_type": "code",
   "execution_count": 207,
   "metadata": {},
   "outputs": [
    {
     "name": "stdout",
     "output_type": "stream",
     "text": [
      "5월 다이어트 식품 매출액 비율: 6.443023421574094\n",
      "6월 다이어트 식품 매출액 비율: 4.894155336250048\n"
     ]
    }
   ],
   "source": [
    "# 월별 다이어트 식품 매출액 비율\n",
    "print ('5월 다이어트 식품 매출액 비율:', 45030835/698908448*100)\n",
    "print ('6월 다이어트 식품 매출액 비율:', 37293633/762003460*100)"
   ]
  },
  {
   "cell_type": "code",
   "execution_count": 208,
   "metadata": {},
   "outputs": [
    {
     "data": {
      "image/png": "[encoded data removed]",
      "text/plain": [
       "<Figure size 432x288 with 1 Axes>"
      ]
     },
     "metadata": {},
     "output_type": "display_data"
    }
   ],
   "source": [
    "d11.plot.bar(x='구매월', y='매출액', label='다이어트 식품 매출액')\n",
    "plt.title('11번가');"
   ]
  },
  {
   "cell_type": "code",
   "execution_count": 209,
   "metadata": {},
   "outputs": [
    {
     "data": {
      "text/html": [
       "<div>\n",
       "<style scoped>\n",
       "    .dataframe tbody tr th:only-of-type {\n",
       "        vertical-align: middle;\n",
       "    }\n",
       "\n",
       "    .dataframe tbody tr th {\n",
       "        vertical-align: top;\n",
       "    }\n",
       "\n",
       "    .dataframe thead th {\n",
       "        text-align: right;\n",
       "    }\n",
       "</style>\n",
       "<table border=\"1\" class=\"dataframe\">\n",
       "  <thead>\n",
       "    <tr style=\"text-align: right;\">\n",
       "      <th></th>\n",
       "      <th>자재명</th>\n",
       "      <th>주문수량</th>\n",
       "    </tr>\n",
       "  </thead>\n",
       "  <tbody>\n",
       "    <tr>\n",
       "      <th>0</th>\n",
       "      <td>다담/정통된장찌개양념 140G/24입/냉장</td>\n",
       "      <td>45492</td>\n",
       "    </tr>\n",
       "    <tr>\n",
       "      <th>1</th>\n",
       "      <td>다담/순두부찌개양념 140G/24입/냉장</td>\n",
       "      <td>36666</td>\n",
       "    </tr>\n",
       "    <tr>\n",
       "      <th>2</th>\n",
       "      <td>비비고/사골곰탕 500G_18입/상온</td>\n",
       "      <td>28023</td>\n",
       "    </tr>\n",
       "    <tr>\n",
       "      <th>3</th>\n",
       "      <td>CJ비비고왕교자455G*2EA/냉동</td>\n",
       "      <td>20027</td>\n",
       "    </tr>\n",
       "    <tr>\n",
       "      <th>4</th>\n",
       "      <td>다담/우렁강된장비빔양념 140G/24입/냉장</td>\n",
       "      <td>12720</td>\n",
       "    </tr>\n",
       "    <tr>\n",
       "      <th>5</th>\n",
       "      <td>A)햇반/쿡반 김치치즈주먹밥 500G/냉동</td>\n",
       "      <td>9519</td>\n",
       "    </tr>\n",
       "    <tr>\n",
       "      <th>6</th>\n",
       "      <td>CJ비비고왕교자1.05KG/냉동</td>\n",
       "      <td>8039</td>\n",
       "    </tr>\n",
       "    <tr>\n",
       "      <th>7</th>\n",
       "      <td>다담/부대찌개양념 140G/24입/냉장</td>\n",
       "      <td>7746</td>\n",
       "    </tr>\n",
       "    <tr>\n",
       "      <th>8</th>\n",
       "      <td>CJ비비고김치왕교자420G*2EA/냉동</td>\n",
       "      <td>7449</td>\n",
       "    </tr>\n",
       "    <tr>\n",
       "      <th>9</th>\n",
       "      <td>고메함박스테이크152G(22입)/냉장</td>\n",
       "      <td>7240</td>\n",
       "    </tr>\n",
       "    <tr>\n",
       "      <th>10</th>\n",
       "      <td>다담/매콤떡볶이양념140G/냉장</td>\n",
       "      <td>6808</td>\n",
       "    </tr>\n",
       "    <tr>\n",
       "      <th>11</th>\n",
       "      <td>햇반210G(36입)NEW/상온</td>\n",
       "      <td>5892</td>\n",
       "    </tr>\n",
       "    <tr>\n",
       "      <th>12</th>\n",
       "      <td>다담/냉이된장찌개양념 140G/24입/냉장</td>\n",
       "      <td>5386</td>\n",
       "    </tr>\n",
       "    <tr>\n",
       "      <th>13</th>\n",
       "      <td>다담/마파두부양념150G/냉장</td>\n",
       "      <td>5192</td>\n",
       "    </tr>\n",
       "    <tr>\n",
       "      <th>14</th>\n",
       "      <td>A)햇반/쿡반 불고기주먹밥500G/냉동</td>\n",
       "      <td>4930</td>\n",
       "    </tr>\n",
       "    <tr>\n",
       "      <th>15</th>\n",
       "      <td>비비고/미역국 500G_18입/상온</td>\n",
       "      <td>4191</td>\n",
       "    </tr>\n",
       "    <tr>\n",
       "      <th>16</th>\n",
       "      <td>A)햇반/쿡반 치즈닭갈비주먹밥500G/냉동</td>\n",
       "      <td>4058</td>\n",
       "    </tr>\n",
       "    <tr>\n",
       "      <th>17</th>\n",
       "      <td>다담/청국장찌개양념 130G/24입/냉장</td>\n",
       "      <td>3992</td>\n",
       "    </tr>\n",
       "    <tr>\n",
       "      <th>18</th>\n",
       "      <td>A)햇반/쿡반 버터장조림주먹밥500G/냉동</td>\n",
       "      <td>3985</td>\n",
       "    </tr>\n",
       "    <tr>\n",
       "      <th>19</th>\n",
       "      <td>비비고/육개장 500G_18입/상온</td>\n",
       "      <td>3919</td>\n",
       "    </tr>\n",
       "    <tr>\n",
       "      <th>20</th>\n",
       "      <td>고메 바삭쫄깃한 탕수육 450G/냉동</td>\n",
       "      <td>3764</td>\n",
       "    </tr>\n",
       "    <tr>\n",
       "      <th>21</th>\n",
       "      <td>스팸클래식340g</td>\n",
       "      <td>3721</td>\n",
       "    </tr>\n",
       "    <tr>\n",
       "      <th>22</th>\n",
       "      <td>비비고/플랜테이블왕교자420G/냉동</td>\n",
       "      <td>3684</td>\n",
       "    </tr>\n",
       "    <tr>\n",
       "      <th>23</th>\n",
       "      <td>다담/안동찜닭 양념 220G/냉장</td>\n",
       "      <td>3501</td>\n",
       "    </tr>\n",
       "    <tr>\n",
       "      <th>24</th>\n",
       "      <td>햇반흑미밥210g</td>\n",
       "      <td>3294</td>\n",
       "    </tr>\n",
       "    <tr>\n",
       "      <th>25</th>\n",
       "      <td>비비고/수제깔끔고기만두400G*2/번들/냉동</td>\n",
       "      <td>3079</td>\n",
       "    </tr>\n",
       "    <tr>\n",
       "      <th>26</th>\n",
       "      <td>고메토마토미트볼147G(22입)/냉장</td>\n",
       "      <td>3055</td>\n",
       "    </tr>\n",
       "    <tr>\n",
       "      <th>27</th>\n",
       "      <td>하얀설탕3KG_6개입/상온</td>\n",
       "      <td>3045</td>\n",
       "    </tr>\n",
       "    <tr>\n",
       "      <th>28</th>\n",
       "      <td>비비고/매운왕교자 385G*2EA/냉동</td>\n",
       "      <td>2946</td>\n",
       "    </tr>\n",
       "    <tr>\n",
       "      <th>29</th>\n",
       "      <td>스팸 클래식 200G/상온</td>\n",
       "      <td>2700</td>\n",
       "    </tr>\n",
       "    <tr>\n",
       "      <th>30</th>\n",
       "      <td>다담/차돌고추장찌개양념 130G/24입/냉장</td>\n",
       "      <td>2660</td>\n",
       "    </tr>\n",
       "    <tr>\n",
       "      <th>31</th>\n",
       "      <td>고메/(리뉴얼)중화짬뽕/652G/냉동</td>\n",
       "      <td>2427</td>\n",
       "    </tr>\n",
       "    <tr>\n",
       "      <th>32</th>\n",
       "      <td>비비고/고등어구이 60G/냉장</td>\n",
       "      <td>2379</td>\n",
       "    </tr>\n",
       "    <tr>\n",
       "      <th>33</th>\n",
       "      <td>A)햇반/쿡반 전주비빔 주먹밥500G/냉동</td>\n",
       "      <td>2300</td>\n",
       "    </tr>\n",
       "    <tr>\n",
       "      <th>34</th>\n",
       "      <td>비비고/수제진한김치만두400G*2/번들/냉동</td>\n",
       "      <td>2263</td>\n",
       "    </tr>\n",
       "    <tr>\n",
       "      <th>35</th>\n",
       "      <td>갈색설탕1KG(16개입)/상온</td>\n",
       "      <td>2094</td>\n",
       "    </tr>\n",
       "    <tr>\n",
       "      <th>36</th>\n",
       "      <td>고메치즈함박스테이크152G/냉장</td>\n",
       "      <td>2063</td>\n",
       "    </tr>\n",
       "    <tr>\n",
       "      <th>37</th>\n",
       "      <td>비비고/갈비탕 400G_18입/상온</td>\n",
       "      <td>1950</td>\n",
       "    </tr>\n",
       "    <tr>\n",
       "      <th>38</th>\n",
       "      <td>다담/갈치조림양념150G/냉장</td>\n",
       "      <td>1902</td>\n",
       "    </tr>\n",
       "    <tr>\n",
       "      <th>39</th>\n",
       "      <td>비비고/신)소고기죽 420G/상온</td>\n",
       "      <td>1884</td>\n",
       "    </tr>\n",
       "    <tr>\n",
       "      <th>40</th>\n",
       "      <td>비비고/신)전복죽 420G/상온</td>\n",
       "      <td>1879</td>\n",
       "    </tr>\n",
       "    <tr>\n",
       "      <th>41</th>\n",
       "      <td>다담/마늘닭볶음탕양념 230G/냉장</td>\n",
       "      <td>1787</td>\n",
       "    </tr>\n",
       "    <tr>\n",
       "      <th>42</th>\n",
       "      <td>CJ비비고남도떡갈비 375+75G/냉동</td>\n",
       "      <td>1780</td>\n",
       "    </tr>\n",
       "    <tr>\n",
       "      <th>43</th>\n",
       "      <td>고메 바삭촉촉한 깐풍기 450G/냉동</td>\n",
       "      <td>1765</td>\n",
       "    </tr>\n",
       "    <tr>\n",
       "      <th>44</th>\n",
       "      <td>햇반작은공기130G/상온</td>\n",
       "      <td>1692</td>\n",
       "    </tr>\n",
       "    <tr>\n",
       "      <th>45</th>\n",
       "      <td>비비고/플랜테이블김치왕교자420G/냉동</td>\n",
       "      <td>1641</td>\n",
       "    </tr>\n",
       "    <tr>\n",
       "      <th>46</th>\n",
       "      <td>비비고/수제진한고기만두400G*2_R/번들/냉</td>\n",
       "      <td>1615</td>\n",
       "    </tr>\n",
       "    <tr>\n",
       "      <th>47</th>\n",
       "      <td>비비고/가자미구이 70G/냉장</td>\n",
       "      <td>1604</td>\n",
       "    </tr>\n",
       "    <tr>\n",
       "      <th>48</th>\n",
       "      <td>비비고/부추새우만두509G/냉동</td>\n",
       "      <td>1576</td>\n",
       "    </tr>\n",
       "    <tr>\n",
       "      <th>49</th>\n",
       "      <td>CJ/고메바삭튀겨낸통등심돈카츠450G/냉동</td>\n",
       "      <td>1547</td>\n",
       "    </tr>\n",
       "  </tbody>\n",
       "</table>\n",
       "</div>"
      ],
      "text/plain": [
       "                          자재명   주문수량\n",
       "0     다담/정통된장찌개양념 140G/24입/냉장  45492\n",
       "1      다담/순두부찌개양념 140G/24입/냉장  36666\n",
       "2        비비고/사골곰탕 500G_18입/상온  28023\n",
       "3         CJ비비고왕교자455G*2EA/냉동  20027\n",
       "4    다담/우렁강된장비빔양념 140G/24입/냉장  12720\n",
       "5     A)햇반/쿡반 김치치즈주먹밥 500G/냉동   9519\n",
       "6           CJ비비고왕교자1.05KG/냉동   8039\n",
       "7       다담/부대찌개양념 140G/24입/냉장   7746\n",
       "8       CJ비비고김치왕교자420G*2EA/냉동   7449\n",
       "9        고메함박스테이크152G(22입)/냉장   7240\n",
       "10          다담/매콤떡볶이양념140G/냉장   6808\n",
       "11          햇반210G(36입)NEW/상온   5892\n",
       "12    다담/냉이된장찌개양념 140G/24입/냉장   5386\n",
       "13           다담/마파두부양념150G/냉장   5192\n",
       "14      A)햇반/쿡반 불고기주먹밥500G/냉동   4930\n",
       "15        비비고/미역국 500G_18입/상온   4191\n",
       "16    A)햇반/쿡반 치즈닭갈비주먹밥500G/냉동   4058\n",
       "17     다담/청국장찌개양념 130G/24입/냉장   3992\n",
       "18    A)햇반/쿡반 버터장조림주먹밥500G/냉동   3985\n",
       "19        비비고/육개장 500G_18입/상온   3919\n",
       "20       고메 바삭쫄깃한 탕수육 450G/냉동   3764\n",
       "21                  스팸클래식340g   3721\n",
       "22        비비고/플랜테이블왕교자420G/냉동   3684\n",
       "23         다담/안동찜닭 양념 220G/냉장   3501\n",
       "24                  햇반흑미밥210g   3294\n",
       "25   비비고/수제깔끔고기만두400G*2/번들/냉동   3079\n",
       "26       고메토마토미트볼147G(22입)/냉장   3055\n",
       "27             하얀설탕3KG_6개입/상온   3045\n",
       "28      비비고/매운왕교자 385G*2EA/냉동   2946\n",
       "29             스팸 클래식 200G/상온   2700\n",
       "30   다담/차돌고추장찌개양념 130G/24입/냉장   2660\n",
       "31       고메/(리뉴얼)중화짬뽕/652G/냉동   2427\n",
       "32           비비고/고등어구이 60G/냉장   2379\n",
       "33    A)햇반/쿡반 전주비빔 주먹밥500G/냉동   2300\n",
       "34   비비고/수제진한김치만두400G*2/번들/냉동   2263\n",
       "35           갈색설탕1KG(16개입)/상온   2094\n",
       "36          고메치즈함박스테이크152G/냉장   2063\n",
       "37        비비고/갈비탕 400G_18입/상온   1950\n",
       "38           다담/갈치조림양념150G/냉장   1902\n",
       "39         비비고/신)소고기죽 420G/상온   1884\n",
       "40          비비고/신)전복죽 420G/상온   1879\n",
       "41        다담/마늘닭볶음탕양념 230G/냉장   1787\n",
       "42      CJ비비고남도떡갈비 375+75G/냉동   1780\n",
       "43       고메 바삭촉촉한 깐풍기 450G/냉동   1765\n",
       "44              햇반작은공기130G/상온   1692\n",
       "45      비비고/플랜테이블김치왕교자420G/냉동   1641\n",
       "46  비비고/수제진한고기만두400G*2_R/번들/냉   1615\n",
       "47           비비고/가자미구이 70G/냉장   1604\n",
       "48          비비고/부추새우만두509G/냉동   1576\n",
       "49    CJ/고메바삭튀겨낸통등심돈카츠450G/냉동   1547"
      ]
     },
     "execution_count": 209,
     "metadata": {},
     "output_type": "execute_result"
    }
   ],
   "source": [
    "c=df_11.groupby(['자재명'])[['주문수량']].sum().sort_values(by='주문수량', ascending=False).reset_index()\n",
    "c[:50]"
   ]
  },
  {
   "attachments": {},
   "cell_type": "markdown",
   "metadata": {},
   "source": [
    "> # 가설5.\n",
    "> ### **사은품이 있는 상품의 주문량이 더 높을 것이다.**"
   ]
  },
  {
   "attachments": {},
   "cell_type": "markdown",
   "metadata": {},
   "source": [
    " **<p style= \"font-size:20px\">   1) 꼬리곰탕 - '더비비고'와 '비비고'의 차이** </p>\n",
    "      결과 5월에서 6월로 갈 때 더비비고 영양꼬리곰탕의 판매율이 100% 넘게 상승한 것으로 보아 해당상품의 경우  사은품을 통한 프로모션의 효과가 큰 것으로 추측함"
   ]
  },
  {
   "cell_type": "code",
   "execution_count": 210,
   "metadata": {},
   "outputs": [],
   "source": [
    "\n",
    "plus = df_n[df_n['상품코드'] == '사은품']\n",
    "gift_n = plus[['상품명','상품명대분류','자재명','브랜드','사은품여부','구매월']] #사은품여부가 Y 인 데이터\n",
    "gift = df_n[['상품명','상품명대분류','자재명','브랜드','사은품여부','구매월']] # 전체 데이터"
   ]
  },
  {
   "cell_type": "code",
   "execution_count": 211,
   "metadata": {},
   "outputs": [
    {
     "data": {
      "text/plain": [
       "Y    57\n",
       "N    10\n",
       "Name: 사은품여부, dtype: int64"
      ]
     },
     "execution_count": 211,
     "metadata": {},
     "output_type": "execute_result"
    }
   ],
   "source": [
    "gift_5 = gift[gift['구매월'] == 5]\n",
    "gift_5[gift_5['자재명'] =='더비비고 영양꼬리곰탕 500G/상온']['사은품여부'].value_counts()"
   ]
  },
  {
   "cell_type": "code",
   "execution_count": 212,
   "metadata": {},
   "outputs": [
    {
     "data": {
      "image/png": "[encoded data removed]",
      "text/plain": [
       "<Figure size 432x288 with 1 Axes>"
      ]
     },
     "metadata": {},
     "output_type": "display_data"
    }
   ],
   "source": [
    "# 데이터 설정\n",
    "labels = ['Y', 'N']\n",
    "values = [57, 10]\n",
    "\n",
    "# 파이 차트 그리기\n",
    "def label_format(val):\n",
    "    return f\"{int(round(val/100*sum(values)))}\\n({val:.1f}%)\"\n",
    "\n",
    "plt.pie(values, labels=labels, autopct=label_format)\n",
    "plt.title(\"5월 더비비고 영양꼬리곰탕 500G/상온\")\n",
    "\n",
    "plt.show()"
   ]
  },
  {
   "cell_type": "code",
   "execution_count": 213,
   "metadata": {},
   "outputs": [
    {
     "data": {
      "text/plain": [
       "Y    120\n",
       "N      6\n",
       "Name: 사은품여부, dtype: int64"
      ]
     },
     "execution_count": 213,
     "metadata": {},
     "output_type": "execute_result"
    }
   ],
   "source": [
    "# gift[gift[gift['구매월'] == '6']['자재명'] =='더비비고 영양꼬리곰탕 500G/상온']['사은품여부'].value_counts()\n",
    "\n",
    "\n",
    "gift_6 = gift[gift['구매월'] == 6]\n",
    "gift_6[gift_6['자재명'] =='더비비고 영양꼬리곰탕 500G/상온']['사은품여부'].value_counts()"
   ]
  },
  {
   "cell_type": "code",
   "execution_count": 214,
   "metadata": {},
   "outputs": [
    {
     "data": {
      "image/png": "[encoded data removed]",
      "text/plain": [
       "<Figure size 432x288 with 1 Axes>"
      ]
     },
     "metadata": {},
     "output_type": "display_data"
    }
   ],
   "source": [
    "# 데이터 설정\n",
    "labels = ['Y', 'N']\n",
    "values = [120, 6]\n",
    "\n",
    "# 파이 차트 그리기\n",
    "def label_format(val):\n",
    "    return f\"{int(round(val/100*sum(values)))}\\n({val:.1f}%)\"\n",
    "\n",
    "plt.pie(values, labels=labels, autopct=label_format)\n",
    "plt.title(\"6월 더비비고 영양꼬리곰탕 500G/상온\")\n",
    "\n",
    "plt.show()"
   ]
  },
  {
   "attachments": {},
   "cell_type": "markdown",
   "metadata": {},
   "source": [
    " **<p style= \"font-size:20px\">   2) 갈비탕** </p>\n",
    "      두 상품의 가격비교 또한 진행했으나, 수삼갈비탕보다 그냥 갈비탕의 가격의 더 높은 것으로 판단되었고, 그 결과 그냥 갈비탕의 품질자체가 수삼갈비탕보다 더 좋은 것으로 판단되어 구매를 더 많이 하는 것으로 생각됨"
   ]
  },
  {
   "cell_type": "code",
   "execution_count": 215,
   "metadata": {},
   "outputs": [
    {
     "data": {
      "text/plain": [
       "Series([], Name: 자재명, dtype: int64)"
      ]
     },
     "execution_count": 215,
     "metadata": {},
     "output_type": "execute_result"
    }
   ],
   "source": [
    "gift_n[gift_n['상품명대분류']=='갈비탕']['자재명'].value_counts()"
   ]
  },
  {
   "cell_type": "code",
   "execution_count": 222,
   "metadata": {},
   "outputs": [
    {
     "data": {
      "text/html": [
       "<div>\n",
       "<style scoped>\n",
       "    .dataframe tbody tr th:only-of-type {\n",
       "        vertical-align: middle;\n",
       "    }\n",
       "\n",
       "    .dataframe tbody tr th {\n",
       "        vertical-align: top;\n",
       "    }\n",
       "\n",
       "    .dataframe thead th {\n",
       "        text-align: right;\n",
       "    }\n",
       "</style>\n",
       "<table border=\"1\" class=\"dataframe\">\n",
       "  <thead>\n",
       "    <tr style=\"text-align: right;\">\n",
       "      <th></th>\n",
       "      <th>주문수량</th>\n",
       "      <th>매출액</th>\n",
       "    </tr>\n",
       "  </thead>\n",
       "  <tbody>\n",
       "    <tr>\n",
       "      <th>286</th>\n",
       "      <td>0</td>\n",
       "      <td>0</td>\n",
       "    </tr>\n",
       "    <tr>\n",
       "      <th>435</th>\n",
       "      <td>6</td>\n",
       "      <td>23330</td>\n",
       "    </tr>\n",
       "    <tr>\n",
       "      <th>526</th>\n",
       "      <td>6</td>\n",
       "      <td>25450</td>\n",
       "    </tr>\n",
       "    <tr>\n",
       "      <th>558</th>\n",
       "      <td>6</td>\n",
       "      <td>24570</td>\n",
       "    </tr>\n",
       "    <tr>\n",
       "      <th>563</th>\n",
       "      <td>6</td>\n",
       "      <td>23330</td>\n",
       "    </tr>\n",
       "    <tr>\n",
       "      <th>...</th>\n",
       "      <td>...</td>\n",
       "      <td>...</td>\n",
       "    </tr>\n",
       "    <tr>\n",
       "      <th>34540</th>\n",
       "      <td>6</td>\n",
       "      <td>26920</td>\n",
       "    </tr>\n",
       "    <tr>\n",
       "      <th>34716</th>\n",
       "      <td>6</td>\n",
       "      <td>26450</td>\n",
       "    </tr>\n",
       "    <tr>\n",
       "      <th>35450</th>\n",
       "      <td>6</td>\n",
       "      <td>28900</td>\n",
       "    </tr>\n",
       "    <tr>\n",
       "      <th>35764</th>\n",
       "      <td>6</td>\n",
       "      <td>26450</td>\n",
       "    </tr>\n",
       "    <tr>\n",
       "      <th>36184</th>\n",
       "      <td>6</td>\n",
       "      <td>26450</td>\n",
       "    </tr>\n",
       "  </tbody>\n",
       "</table>\n",
       "<p>582 rows × 2 columns</p>\n",
       "</div>"
      ],
      "text/plain": [
       "       주문수량    매출액\n",
       "286       0      0\n",
       "435       6  23330\n",
       "526       6  25450\n",
       "558       6  24570\n",
       "563       6  23330\n",
       "...     ...    ...\n",
       "34540     6  26920\n",
       "34716     6  26450\n",
       "35450     6  28900\n",
       "35764     6  26450\n",
       "36184     6  26450\n",
       "\n",
       "[582 rows x 2 columns]"
      ]
     },
     "execution_count": 222,
     "metadata": {},
     "output_type": "execute_result"
    }
   ],
   "source": [
    "df_n[df_n['자재명'] == '더비비고_수삼갈비탕500G/상온'][['주문수량','매출액']]\n",
    "#개당 8000원\n",
    "\n",
    "df_n[df_n['자재명'] == '비비고/갈비탕 400G_18입/상온'][['주문수량','매출액']]\n",
    "#개당 4000원"
   ]
  },
  {
   "cell_type": "code",
   "execution_count": 217,
   "metadata": {},
   "outputs": [
    {
     "data": {
      "text/plain": [
       "Y    76\n",
       "N    11\n",
       "Name: 사은품여부, dtype: int64"
      ]
     },
     "execution_count": 217,
     "metadata": {},
     "output_type": "execute_result"
    }
   ],
   "source": [
    "gift[gift['자재명'] =='더비비고_수삼갈비탕500G/상온']['사은품여부'].value_counts()"
   ]
  },
  {
   "cell_type": "code",
   "execution_count": 218,
   "metadata": {},
   "outputs": [
    {
     "data": {
      "image/png": "[encoded data removed]",
      "text/plain": [
       "<Figure size 432x288 with 1 Axes>"
      ]
     },
     "metadata": {},
     "output_type": "display_data"
    }
   ],
   "source": [
    "# 데이터 설정\n",
    "labels = ['Y', 'N']\n",
    "values = [76, 11]\n",
    "\n",
    "# 파이 차트 그리기\n",
    "def label_format(val):\n",
    "    return f\"{int(round(val/100*sum(values)))}\\n({val:.1f}%)\"\n",
    "\n",
    "plt.pie(values, labels=labels, autopct=label_format)\n",
    "plt.title(\"더비비고_수삼갈비탕500G/상온\")\n",
    "\n",
    "plt.show()"
   ]
  },
  {
   "cell_type": "code",
   "execution_count": 219,
   "metadata": {},
   "outputs": [
    {
     "data": {
      "text/plain": [
       "N    562\n",
       "Y     20\n",
       "Name: 사은품여부, dtype: int64"
      ]
     },
     "execution_count": 219,
     "metadata": {},
     "output_type": "execute_result"
    }
   ],
   "source": [
    "gift[gift['자재명'] =='비비고/갈비탕 400G_18입/상온']['사은품여부'].value_counts()"
   ]
  },
  {
   "cell_type": "code",
   "execution_count": 220,
   "metadata": {},
   "outputs": [
    {
     "data": {
      "image/png": "[encoded data removed]",
      "text/plain": [
       "<Figure size 432x288 with 1 Axes>"
      ]
     },
     "metadata": {},
     "output_type": "display_data"
    }
   ],
   "source": [
    "# 데이터 설정\n",
    "labels = ['Y', 'N']\n",
    "values = [20, 562]\n",
    "\n",
    "# 파이 차트 그리기\n",
    "def label_format(val):\n",
    "    return f\"{int(round(val/100*sum(values)))}\\n({val:.1f}%)\"\n",
    "\n",
    "plt.pie(values, labels=labels, autopct=label_format)\n",
    "plt.title(\"비비고/갈비탕 400G_18입/상온\")\n",
    "\n",
    "plt.show()"
   ]
  }
 ],
 "metadata": {
  "kernelspec": {
   "display_name": "Python 3 (ipykernel)",
   "language": "python",
   "name": "python3"
  },
  "language_info": {
   "codemirror_mode": {
    "name": "ipython",
    "version": 3
   },
   "file_extension": ".py",
   "mimetype": "text/x-python",
   "name": "python",
   "nbconvert_exporter": "python",
   "pygments_lexer": "ipython3",
   "version": "3.9.7"
  }
 },
 "nbformat": 4,
 "nbformat_minor": 2
}
