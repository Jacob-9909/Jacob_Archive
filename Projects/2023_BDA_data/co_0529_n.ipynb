{
 "cells": [
  {
   "cell_type": "code",
   "execution_count": 2,
   "metadata": {},
   "outputs": [
    {
     "name": "stderr",
     "output_type": "stream",
     "text": [
      "c:\\Users\\wooyong\\anaconda3\\envs\\kwix\\lib\\site-packages\\tqdm\\auto.py:22: TqdmWarning: IProgress not found. Please update jupyter and ipywidgets. See https://ipywidgets.readthedocs.io/en/stable/user_install.html\n",
      "  from .autonotebook import tqdm as notebook_tqdm\n",
      "<frozen importlib._bootstrap>:228: RuntimeWarning: scipy._lib.messagestream.MessageStream size changed, may indicate binary incompatibility. Expected 56 from C header, got 64 from PyObject\n",
      "C:\\Users\\wooyong\\AppData\\Local\\Temp/ipykernel_18656/2378865906.py:3: DeprecationWarning: `import pandas_profiling` is going to be deprecated by April 1st. Please use `import ydata_profiling` instead.\n",
      "  import pandas_profiling as pp\n"
     ]
    }
   ],
   "source": [
    "import pandas as pd\n",
    "import numpy as np\n",
    "import pandas_profiling as pp\n",
    "import matplotlib.pyplot as plt\n",
    "import seaborn as sns\n",
    "import re\n",
    "import datetime\n",
    "from datetime import timedelta, datetime\n",
    "\n",
    "sns.set_theme(style='whitegrid', font_scale=1.5)\n",
    "sns.set_palette('Set2', n_colors=10)\n",
    "plt.rc('font', family='malgun gothic')\n",
    "plt.rc('axes', unicode_minus=False) "
   ]
  },
  {
   "cell_type": "code",
   "execution_count": 3,
   "metadata": {},
   "outputs": [],
   "source": [
    "# df_1111 = pd.read_excel('track1_11번가.xlsx',sheet_name = None)\n",
    "# df_nnnn = pd.read_excel('track1_네이버.xls',sheet_name = None)\n",
    "\n",
    "# sheets_11 = list(df_1111.keys())\n",
    "# df_11 = pd.DataFrame([])\n",
    "\n",
    "# for i in sheets_11:\n",
    "#     df1 = pd.read_excel('track1_11번가.xlsx',sheet_name = i)\n",
    "#     df1['날짜'] = i\n",
    "#     df_11 = pd.concat([df_11, df1])\n",
    "\n",
    "# sheets_n = list(df_nnnn.keys())\n",
    "# df_n = pd.DataFrame([])\n",
    "\n",
    "# for i in sheets_n:\n",
    "#     df2 = pd.read_excel('track1_네이버.xls',sheet_name = i)\n",
    "#     df2['날짜'] = i\n",
    "#     df_n = pd.concat([df_n, df2])\n",
    "    \n",
    "\n",
    "# report = df_n.profile_report(title='네이버 데이터')\n",
    "# report.to_file('네이버 데이터.html')\n",
    "# report = df_11.profile_report(title='11번가 데이터')\n",
    "# report.to_file('11번가 데이터.html')"
   ]
  },
  {
   "cell_type": "code",
   "execution_count": 4,
   "metadata": {},
   "outputs": [],
   "source": [
    "# df_n.to_pickle('df_n.pkl')\n",
    "# df_11.to_pickle('df_11.pkl')\n",
    "df_n = pd.read_pickle('df_n.pkl')\n",
    "df_n.reset_index(drop= True,inplace=True)\n",
    "df_11= pd.read_pickle('df_11.pkl')\n",
    "df_11.reset_index(drop= True,inplace=True)"
   ]
  },
  {
   "cell_type": "code",
   "execution_count": 5,
   "metadata": {},
   "outputs": [],
   "source": [
    "# df_n['주문일'] 날짜형식으로 전환 및 요일\n",
    "df_n['주문일'] = pd.to_datetime(df_n['주문일'], format = '%Y%m%d')\n",
    "df_n.insert(3, '구매연도', df_n['주문일'].dt.year)\n",
    "df_n.insert(4, '구매월', df_n['주문일'].dt.month)\n",
    "df_n.insert(5, '구매일', df_n['주문일'].dt.day)\n",
    "df_n.insert(6, '구매요일', df_n['주문일'].dt.day_name('ko_KR'))\n",
    "\n",
    "\n",
    "#운송장 등록일자 기준 도착일 지정, 운송장 등록 기준 반나절내에 택배사 도착, 12시 이후는 다음날로 설정함\n",
    "df_n['운송장등록일자'] = pd.to_datetime(df_n['운송장등록일자'])\n",
    "df_n['운송장등록일자_시간'] = df_n['운송장등록일자'].dt.time\n",
    "df_n.insert(10,'운송장등록_도착날짜',df_n['운송장등록일자'].dt.floor('D'))\n",
    "df_n.loc[df_n['운송장등록일자_시간'] >= pd.to_datetime('12:00:00').time(), '운송장등록_도착날짜'] = df_n.loc[df_n['운송장등록일자_시간'] >= pd.to_datetime('12:00:00').time(), '운송장등록_도착날짜'] + pd.DateOffset(days=1)\n",
    "\n",
    "\n",
    "#배송기간 설정\n",
    "df_n.insert(12,'배송기간',df_n['운송장등록_도착날짜'] - df_n['주문일'])\n",
    "\n",
    "# 주문일의 요일에 따라 주말 또는 평일로 구분하는 컬럼 생성\n",
    "df_n['요일'] = df_n['주문일'].dt.weekday\n",
    "df_n.insert(7,'평일/주말',df_n['요일'].apply(lambda x: '주말' if x >= 5 else '평일') )\n",
    "\n",
    "#필요없는 셀 정리\n",
    "df_n.drop(columns = ['날짜','요일','운송장등록일자_시간','등록일자'],inplace=True)"
   ]
  },
  {
   "cell_type": "code",
   "execution_count": 6,
   "metadata": {},
   "outputs": [],
   "source": [
    "# df_11['주문일'] 날짜형식으로 전환 및 요일\n",
    "df_11['주문일'] = pd.to_datetime(df_11['주문일'], format = '%Y%m%d')\n",
    "df_11.insert(3, '구매연도', df_11['주문일'].dt.year)\n",
    "df_11.insert(4, '구매월', df_11['주문일'].dt.month)\n",
    "df_11.insert(5, '구매일', df_11['주문일'].dt.day)\n",
    "df_11.insert(6, '구매요일', df_11['주문일'].dt.day_name('ko_KR'))\n",
    "\n",
    "\n",
    "#운송장 등록일자 기준 도착일 지정, 운송장 등록 기준 반나절내에 택배사 도착, 12시 이후는 다음날로 설정함\n",
    "df_11['운송장등록일자'] = pd.to_datetime(df_11['운송장등록일자'])\n",
    "df_11['운송장등록일자_시간'] = df_11['운송장등록일자'].dt.time\n",
    "df_11.insert(10,'운송장등록_도착날짜',df_11['운송장등록일자'].dt.floor('D'))\n",
    "df_11.loc[df_11['운송장등록일자_시간'] >= pd.to_datetime('12:00:00').time(), '운송장등록_도착날짜'] = df_11.loc[df_11['운송장등록일자_시간'] >= pd.to_datetime('12:00:00').time(), '운송장등록_도착날짜'] + pd.DateOffset(days=1)\n",
    "\n",
    "\n",
    "#배송기간 설정\n",
    "df_11.insert(12,'배송기간',df_11['운송장등록_도착날짜'] - df_11['주문일'])\n",
    "\n",
    "# 주문일의 요일에 따라 주말 또는 평일로 구분하는 컬럼 생성\n",
    "df_11['요일'] = df_11['주문일'].dt.weekday\n",
    "df_11.insert(7,'평일/주말',df_11['요일'].apply(lambda x: '주말' if x >= 5 else '평일') )\n",
    "\n",
    "#필요없는 셀 정리\n",
    "df_11.drop(columns = ['날짜','요일','운송장등록일자_시간'],inplace=True)"
   ]
  },
  {
   "cell_type": "code",
   "execution_count": 7,
   "metadata": {},
   "outputs": [
    {
     "data": {
      "text/html": [
       "<div>\n",
       "<style scoped>\n",
       "    .dataframe tbody tr th:only-of-type {\n",
       "        vertical-align: middle;\n",
       "    }\n",
       "\n",
       "    .dataframe tbody tr th {\n",
       "        vertical-align: top;\n",
       "    }\n",
       "\n",
       "    .dataframe thead th {\n",
       "        text-align: right;\n",
       "    }\n",
       "</style>\n",
       "<table border=\"1\" class=\"dataframe\">\n",
       "  <thead>\n",
       "    <tr style=\"text-align: right;\">\n",
       "      <th></th>\n",
       "      <th>거래처</th>\n",
       "      <th>거래처주문번호</th>\n",
       "      <th>주문일</th>\n",
       "      <th>구매연도</th>\n",
       "      <th>구매월</th>\n",
       "      <th>구매일</th>\n",
       "      <th>구매요일</th>\n",
       "      <th>평일/주말</th>\n",
       "      <th>사은품여부</th>\n",
       "      <th>출고예정일</th>\n",
       "      <th>...</th>\n",
       "      <th>자재명</th>\n",
       "      <th>초기자재수량</th>\n",
       "      <th>주문수량</th>\n",
       "      <th>취소수량</th>\n",
       "      <th>반품수량</th>\n",
       "      <th>배송유형</th>\n",
       "      <th>마감구분</th>\n",
       "      <th>플랜트 정보</th>\n",
       "      <th>단독배송여부</th>\n",
       "      <th>GS홈쇼핑주문번호</th>\n",
       "    </tr>\n",
       "  </thead>\n",
       "  <tbody>\n",
       "    <tr>\n",
       "      <th>108424</th>\n",
       "      <td>외부몰_직거래_네이버(신)</td>\n",
       "      <td>2022050641454531</td>\n",
       "      <td>2022-05-06</td>\n",
       "      <td>2022</td>\n",
       "      <td>5</td>\n",
       "      <td>6</td>\n",
       "      <td>금요일</td>\n",
       "      <td>평일</td>\n",
       "      <td>Y</td>\n",
       "      <td>20220517</td>\n",
       "      <td>...</td>\n",
       "      <td>NaN</td>\n",
       "      <td>1</td>\n",
       "      <td>0</td>\n",
       "      <td>0</td>\n",
       "      <td>1</td>\n",
       "      <td>택배배송</td>\n",
       "      <td>상온</td>\n",
       "      <td>동탄센터 &gt; 동탄일반</td>\n",
       "      <td>N</td>\n",
       "      <td>NaN</td>\n",
       "    </tr>\n",
       "    <tr>\n",
       "      <th>108425</th>\n",
       "      <td>외부몰_직거래_네이버(신)</td>\n",
       "      <td>2022050641454531</td>\n",
       "      <td>2022-05-06</td>\n",
       "      <td>2022</td>\n",
       "      <td>5</td>\n",
       "      <td>6</td>\n",
       "      <td>금요일</td>\n",
       "      <td>평일</td>\n",
       "      <td>Y</td>\n",
       "      <td>20220515</td>\n",
       "      <td>...</td>\n",
       "      <td>더비비고 영양꼬리곰탕 500G/상온</td>\n",
       "      <td>1</td>\n",
       "      <td>0</td>\n",
       "      <td>1</td>\n",
       "      <td>0</td>\n",
       "      <td>택배배송</td>\n",
       "      <td>상온</td>\n",
       "      <td>동탄센터 &gt; 동탄일반</td>\n",
       "      <td>N</td>\n",
       "      <td>NaN</td>\n",
       "    </tr>\n",
       "    <tr>\n",
       "      <th>108426</th>\n",
       "      <td>외부몰_직거래_네이버(신)</td>\n",
       "      <td>2022050641454531</td>\n",
       "      <td>2022-05-06</td>\n",
       "      <td>2022</td>\n",
       "      <td>5</td>\n",
       "      <td>6</td>\n",
       "      <td>금요일</td>\n",
       "      <td>평일</td>\n",
       "      <td>Y</td>\n",
       "      <td>20220515</td>\n",
       "      <td>...</td>\n",
       "      <td>NaN</td>\n",
       "      <td>1</td>\n",
       "      <td>0</td>\n",
       "      <td>1</td>\n",
       "      <td>0</td>\n",
       "      <td>택배배송</td>\n",
       "      <td>상온</td>\n",
       "      <td>동탄센터 &gt; 동탄일반</td>\n",
       "      <td>N</td>\n",
       "      <td>NaN</td>\n",
       "    </tr>\n",
       "  </tbody>\n",
       "</table>\n",
       "<p>3 rows × 34 columns</p>\n",
       "</div>"
      ],
      "text/plain": [
       "                   거래처           거래처주문번호        주문일  구매연도  구매월  구매일 구매요일  \\\n",
       "108424  외부몰_직거래_네이버(신)  2022050641454531 2022-05-06  2022    5    6  금요일   \n",
       "108425  외부몰_직거래_네이버(신)  2022050641454531 2022-05-06  2022    5    6  금요일   \n",
       "108426  외부몰_직거래_네이버(신)  2022050641454531 2022-05-06  2022    5    6  금요일   \n",
       "\n",
       "       평일/주말 사은품여부     출고예정일  ...                  자재명 초기자재수량 주문수량 취소수량 반품수량  \\\n",
       "108424    평일     Y  20220517  ...                  NaN      1    0    0    1   \n",
       "108425    평일     Y  20220515  ...  더비비고 영양꼬리곰탕 500G/상온      1    0    1    0   \n",
       "108426    평일     Y  20220515  ...                  NaN      1    0    1    0   \n",
       "\n",
       "        배송유형 마감구분       플랜트 정보  단독배송여부  GS홈쇼핑주문번호  \n",
       "108424  택배배송   상온  동탄센터 > 동탄일반       N        NaN  \n",
       "108425  택배배송   상온  동탄센터 > 동탄일반       N        NaN  \n",
       "108426  택배배송   상온  동탄센터 > 동탄일반       N        NaN  \n",
       "\n",
       "[3 rows x 34 columns]"
      ]
     },
     "execution_count": 7,
     "metadata": {},
     "output_type": "execute_result"
    }
   ],
   "source": [
    "# 타켓으로 할 기념일 선정\n",
    "기념일 = {'어린이날': '20220505',\n",
    "          '어버이날': '20220508'}\n",
    "\n",
    "# 기념일부터 일주일 전의기간 추출\n",
    "기념일주간 = {}\n",
    "for key, value in 기념일.items():\n",
    "    기념일주간[key] = []\n",
    "    기념일_날짜 = datetime.strptime(value, '%Y%m%d')\n",
    "    주간_시작 = 기념일_날짜 - timedelta(weeks=1)\n",
    "        \n",
    "    # 주간 범위 내 모든 날짜 추가 (5월 이상만)\n",
    "    while 주간_시작 <= 기념일_날짜:\n",
    "        if 주간_시작.month == 5:\n",
    "            기념일주간[key].append(주간_시작.strftime('%Y-%m-%d'))\n",
    "        주간_시작 += timedelta(days=1)\n",
    "\n",
    "기념일df_n = df_n[df_n['주문일'].isin([date for lst in 기념일주간.values() for date in lst])];기념일df_n.head(3)\n"
   ]
  },
  {
   "cell_type": "code",
   "execution_count": 8,
   "metadata": {},
   "outputs": [],
   "source": [
    "#자재명을 str타입으로 변경\n",
    "df_n['자재명'] = df_n['자재명'].astype(str)"
   ]
  },
  {
   "cell_type": "code",
   "execution_count": 9,
   "metadata": {},
   "outputs": [],
   "source": [
    "# 정규 표현식 패턴을 사용하여 *뒤의 숫자와 EA앞의 숫자를 추출\n",
    "pattern1 = r'(?<=G\\*)\\d+'\n",
    "pattern2 = r'(?<=\\b)\\d+(?=EA\\b)'\n",
    "\n",
    "def extract_numbers(text):\n",
    "    if '*' in text:\n",
    "        match = re.search(pattern1, text)\n",
    "        if match:\n",
    "            return match.group()\n",
    "    elif 'EA' in text:\n",
    "        match = re.search(pattern2, text)\n",
    "        if match:\n",
    "            return match.group()\n",
    "    return None\n",
    "\n",
    "df_n['실제_상품수량'] = df_n['자재명'].apply(extract_numbers)"
   ]
  },
  {
   "cell_type": "code",
   "execution_count": 10,
   "metadata": {},
   "outputs": [],
   "source": [
    "def extract_numbers(text):\n",
    "    if '*' in text:\n",
    "        match = re.search(pattern1, text)\n",
    "        if match:\n",
    "            return match.group()\n",
    "    elif 'EA' in text:\n",
    "        match = re.search(pattern2, text)\n",
    "        if match:\n",
    "            return match.group()\n",
    "    else:\n",
    "        return 0\n",
    "    return None\n",
    "\n",
    "df_n['실질상품수량'] = df_n['자재명'].apply(extract_numbers)"
   ]
  },
  {
   "cell_type": "code",
   "execution_count": 11,
   "metadata": {},
   "outputs": [
    {
     "data": {
      "text/html": [
       "<div>\n",
       "<style scoped>\n",
       "    .dataframe tbody tr th:only-of-type {\n",
       "        vertical-align: middle;\n",
       "    }\n",
       "\n",
       "    .dataframe tbody tr th {\n",
       "        vertical-align: top;\n",
       "    }\n",
       "\n",
       "    .dataframe thead th {\n",
       "        text-align: right;\n",
       "    }\n",
       "</style>\n",
       "<table border=\"1\" class=\"dataframe\">\n",
       "  <thead>\n",
       "    <tr style=\"text-align: right;\">\n",
       "      <th></th>\n",
       "      <th>실질상품수량</th>\n",
       "      <th>주문수량</th>\n",
       "      <th>실질상품수량X주문수량</th>\n",
       "    </tr>\n",
       "  </thead>\n",
       "  <tbody>\n",
       "    <tr>\n",
       "      <th>8</th>\n",
       "      <td>24</td>\n",
       "      <td>1</td>\n",
       "      <td>24</td>\n",
       "    </tr>\n",
       "    <tr>\n",
       "      <th>13</th>\n",
       "      <td>2</td>\n",
       "      <td>10</td>\n",
       "      <td>20</td>\n",
       "    </tr>\n",
       "    <tr>\n",
       "      <th>32</th>\n",
       "      <td>2</td>\n",
       "      <td>2</td>\n",
       "      <td>4</td>\n",
       "    </tr>\n",
       "    <tr>\n",
       "      <th>33</th>\n",
       "      <td>2</td>\n",
       "      <td>4</td>\n",
       "      <td>8</td>\n",
       "    </tr>\n",
       "    <tr>\n",
       "      <th>50</th>\n",
       "      <td>24</td>\n",
       "      <td>1</td>\n",
       "      <td>24</td>\n",
       "    </tr>\n",
       "    <tr>\n",
       "      <th>...</th>\n",
       "      <td>...</td>\n",
       "      <td>...</td>\n",
       "      <td>...</td>\n",
       "    </tr>\n",
       "    <tr>\n",
       "      <th>172087</th>\n",
       "      <td>20</td>\n",
       "      <td>3</td>\n",
       "      <td>60</td>\n",
       "    </tr>\n",
       "    <tr>\n",
       "      <th>172090</th>\n",
       "      <td>24</td>\n",
       "      <td>1</td>\n",
       "      <td>24</td>\n",
       "    </tr>\n",
       "    <tr>\n",
       "      <th>172093</th>\n",
       "      <td>3</td>\n",
       "      <td>12</td>\n",
       "      <td>36</td>\n",
       "    </tr>\n",
       "    <tr>\n",
       "      <th>172094</th>\n",
       "      <td>24</td>\n",
       "      <td>1</td>\n",
       "      <td>24</td>\n",
       "    </tr>\n",
       "    <tr>\n",
       "      <th>172095</th>\n",
       "      <td>24</td>\n",
       "      <td>0</td>\n",
       "      <td>0</td>\n",
       "    </tr>\n",
       "  </tbody>\n",
       "</table>\n",
       "<p>34456 rows × 3 columns</p>\n",
       "</div>"
      ],
      "text/plain": [
       "        실질상품수량  주문수량  실질상품수량X주문수량\n",
       "8           24     1           24\n",
       "13           2    10           20\n",
       "32           2     2            4\n",
       "33           2     4            8\n",
       "50          24     1           24\n",
       "...        ...   ...          ...\n",
       "172087      20     3           60\n",
       "172090      24     1           24\n",
       "172093       3    12           36\n",
       "172094      24     1           24\n",
       "172095      24     0            0\n",
       "\n",
       "[34456 rows x 3 columns]"
      ]
     },
     "execution_count": 11,
     "metadata": {},
     "output_type": "execute_result"
    }
   ],
   "source": [
    "df_n['실질상품수량'].fillna(1, inplace=True)\n",
    "df_n['실질상품수량'] = df_n['실질상품수량'].astype(int)\n",
    "\n",
    "#앞으로 수량으로 사용할 새로운 컬럼 정의\n",
    "df_n['실질상품수량X주문수량'] = df_n['실질상품수량'] * df_n['주문수량']\n",
    "df_n.query('실질상품수량 != 0')[['실질상품수량','주문수량','실질상품수량X주문수량']]"
   ]
  },
  {
   "cell_type": "code",
   "execution_count": 12,
   "metadata": {},
   "outputs": [],
   "source": [
    "#브랜드명 추출\n",
    "pattern = r'(비비고|햇반|고메|백설|다시다|다담|스팸|맛밤|맛군밤|맥스봉|더건강한|즐거운동행|쁘띠첼|산들애|설탕|밥이랑|크레잇|밸런스밀|쿡킷|올리고당|요리당|물엿|식초|참좋은 조미김가루|천일염|파스타소스|가루|시럽|하선정|소금|알찬소시지|아메리칸스타일포크|빅소시지|행복한콩|고급면용|쉐프솔루션|푸드웨어|파우더|남원|물로만끓여도|유|기름|믹스|중력|박력|강력|분|고추장|된장|쌈장|비빔장|톡톡까먹어밤|한식예찬|아이미|쉐프솔루션|동그랑땡|CJ|특별한선택|함흥비빔냉면소스|프레시안구이|고기팡팡미트볼|고단백 두부면|미정당|오리지널후랑크|햄스빌|한입쏙 비엔나|프레시안|아티장|가쓰오|4무|주부초밥왕|제일제면소|삼호|얼큰우동|오리지널부어스트|청양초 매운물냉면|씨제이)'\n",
    "\n",
    "def extract_brand(text):\n",
    "    match = re.search(pattern, text)\n",
    "    if match:\n",
    "        return match.group()\n",
    "    else:\n",
    "        return None\n",
    "\n",
    "df_n['브랜드'] = df_n['자재명'].apply(extract_brand)\n"
   ]
  },
  {
   "cell_type": "code",
   "execution_count": 13,
   "metadata": {},
   "outputs": [],
   "source": [
    "# 자재명에 브랜드명이 포함되지 않은 상품들 브랜드로 변경\n",
    "brand_mapping = {'남원' : '씨제이', '맛군밤' : '맛밤', '밥이랑' : '백설', '물로만 끓여도' : '해찬들', '유' : '백설', '기름' : '백설', '설탕' : '백설', '고추장' : '해찬들', '된장' : '해찬들', '쌈장' : '해찬들', '비빔장' : '해찬들', '함흥비빔냉면소스' : '씨제이', '고단백 두부면' : '즐거운 동행', '밸런스밀' : '씨제이', '요리당' : '백설', '올리고당' : '백설', '가루' : '백설', '참좋은 조미김가루' : '씨제이', '믹스' : '백설', '중력' : '백설', '박력' : '백설' ,'강력' : '백설', '분' : '백설', '소금': '백설', '식초' : '백설',\n",
    "'물엿' : '백설',\n",
    "'천일염' : '백설',\n",
    "'시럽' : '메티에',\n",
    "'파스타소스' : '백설',\n",
    "'고급면용' : '백설',\n",
    "'톡톡까먹어밤' : '씨제이',\n",
    "'한식예찬' : '백설',\n",
    "'아이미' : '백설',\n",
    "'쉐프솔루션' : '씨제이',\n",
    "'동그랑땡' : '백설',\n",
    "'특별한선택' : '씨제이',\n",
    "'CJ' : '씨제이',\n",
    "'프레시안구이' : '백설',\n",
    "'고기팡팡미트볼' : '씨제이',\n",
    "'미정당' : '즐거운동행',\n",
    "'오리지널후랑크' : '백설',\n",
    "'햄스빌' : '백설',\n",
    "'한입쏙 비엔나' : '백설',\n",
    "'프레시안' : '씨제이',\n",
    "'아티장' : '백설',\n",
    "'가쓰오' : '씨제이',\n",
    "'4무' : '하선정',\n",
    "'주부초밥왕' : '씨제이',\n",
    "'제일제면소' : '백설',\n",
    "'얼큰우동' : '씨제이',\n",
    "'오리지널부어스트' : '더건강한',\n",
    "'청양초 매운물냉면' : '씨제이',\n",
    "'물로만끓여도' : '해찬들',\n",
    "'파우더' : '메티에',\n",
    "'알찬소시지':'백설',\n",
    "'빅소시지' : '맥스봉',\n",
    "'아메리칸스타일포크':'씨제이',\n",
    "'푸드웨어' : '씨제이'}\n",
    "# '브랜드' 열의 값을 딕셔너리를 사용하여 변경\n",
    "df_n['브랜드'] = df_n['브랜드'].map(brand_mapping).fillna(df_n['브랜드'])"
   ]
  },
  {
   "cell_type": "code",
   "execution_count": 14,
   "metadata": {},
   "outputs": [],
   "source": [
    "# #상품명대분류 추출 햇반 수정전 함수\n",
    "# product_pattern = r'(주먹밥|양념|밀|쌈무|밀면|기름|력|가루|오이|스파게티|고급면|수제군교자|쉐이크|쫄면|마늘|한우|요리유|짜장|치킨가라아게|감자전|쌀국수|순살치킨|부침가루|새우까스|소스|소고기|특별한선택 1호|박력1등|설탕|두부|비지|콩기름|콩|햇반흑미밥|햇반큰공기|햇반작은공기|햇반|햇반/쿡반|햇반/컵반|헷반/솥반|햇반 현미쌀밥|햇반 유기농쌀밥|햇반 발아현미밥|햇반 매일콩잡곡밥|포도씨유|고추장|쿡킷|카놀라유|튀김가루|쿠키|냉면|솔트|소금|믹스|식초|떡국|떡볶이|김치|막국수|쫄볶이|쫄면사리|간짜장|초밥|다시다|칼국수|소바|된장|해바라기유|김가루|밀가루|올리고당|요리당|파우더|옥수수유|군밤|우동|전골|올리브유|소시지|만두|드레싱|김자반|간장김|파래김|돌김|구이김|재래김|미역|구운김|김밥김|군만두|돈까스|신백설너비아니|스팸|어묵|육수|마라탕면|비빔장|쌈장|쁘띠첼|사골곰탕|왕교자|팥죽|황태국|추어탕|육개장|찌개|볶음밥|설렁탕|죽|미역국|잡채|구이|오징어채볶음|불고기|배추|순댓국|장터국|장조림|소고기무국|삼계탕|사골곰탕|비빔밥|무말랭이|해물완자|동그랑땡|도가니|닭곰탕|장조림|묵은지|장조림|꼬리곰탕|깍두기|곤드레나물밥|멸치볶음|감자탕|갈비탕|야채고기말이|스파게티면|베이컨|소면|맛술|청|당면|밥이랑|바삭한요리유|물엿|청양초|차돌된장|바지락꽃게|천일염|맥스봉|맛밤|백숙|스테이크|햄|등심|후랑크|비엔나|샌드위치햄|닭가슴살|핫도그|미트볼|고메치킨|페스츄리|크림치즈파이|너겟|짬뽕|피자|스콘|크로와상|치즈볼|애플파이|깐풍기|탕수육|강력1등|감자수제비가루|메밀생면|젓|소불고기|고구마|너비아니|떡갈비|김말이|핫봉|돈카츠|함박|딤섬|시럽|중력1등|소프트|)'\n",
    "# def extract_product(text):\n",
    "#     pick = re.findall(product_pattern, text)\n",
    "#     if pick:\n",
    "#         for item in reversed(pick):\n",
    "#             if item != '':\n",
    "#                 return item\n",
    "#     return ''\n",
    "\n",
    "# df_n['상품명대분류'] = df_n['자재명'].apply(extract_product)"
   ]
  },
  {
   "cell_type": "code",
   "execution_count": 15,
   "metadata": {},
   "outputs": [],
   "source": [
    "# #상품명대분류\n",
    "# product_pattern = r'(주먹밥|양념|밀|쌈무|밀면|기름|력|가루|오이|스파게티|고급면|수제군교자|쉐이크|쫄면|마늘|한우|요리유|짜장|치킨가라아게|감자전|쌀국수|순살치킨|부침가루|새우까스|소스|소고기|특별한선택 1호|박력1등|설탕|두부|비지|콩기름|콩|햇반|포도씨유|고추장|쿡킷|카놀라유|튀김가루|쿠키|냉면|솔트|소금|믹스|식초|떡국|떡볶이|김치|막국수|쫄볶이|쫄면사리|간짜장|초밥|다시다|칼국수|소바|된장|해바라기유|김가루|밀가루|올리고당|요리당|파우더|옥수수유|군밤|우동|전골|올리브유|소시지|만두|드레싱|김자반|간장김|파래김|돌김|구이김|재래김|미역|구운김|김밥김|군만두|돈까스|신백설너비아니|스팸|어묵|육수|마라탕면|비빔장|쌈장|쁘띠첼|사골곰탕|왕교자|팥죽|황태국|추어탕|육개장|찌개|볶음밥|설렁탕|죽|미역국|잡채|구이|오징어채볶음|불고기|배추|순댓국|장터국|장조림|소고기무국|삼계탕|사골곰탕|비빔밥|무말랭이|해물완자|동그랑땡|도가니|닭곰탕|장조림|묵은지|장조림|꼬리곰탕|깍두기|곤드레나물밥|멸치볶음|감자탕|갈비탕|야채고기말이|스파게티면|베이컨|소면|맛술|청|당면|밥이랑|바삭한요리유|물엿|청양초|차돌된장|바지락꽃게|천일염|맥스봉|맛밤|백숙|스테이크|햄|등심|후랑크|비엔나|샌드위치햄|닭가슴살|핫도그|미트볼|고메치킨|페스츄리|크림치즈파이|너겟|짬뽕|피자|스콘|크로와상|치즈볼|애플파이|깐풍기|탕수육|강력1등|감자수제비가루|메밀생면|젓|소불고기|고구마|너비아니|떡갈비|김말이|핫봉|돈카츠|함박|딤섬|시럽|중력1등|소프트|)'\n",
    "# def extract_product(text):\n",
    "#     pick = re.findall(product_pattern, text)\n",
    "#     if pick:\n",
    "#         for item in reversed(pick):\n",
    "#             if item != '':\n",
    "#                 return item\n",
    "#     return ''\n",
    "\n",
    "# df_n['상품명대분류'] = df_n['자재명'].apply(extract_product)"
   ]
  },
  {
   "cell_type": "code",
   "execution_count": 75,
   "metadata": {},
   "outputs": [],
   "source": [
    "#상품명대분류 추출 햇반 하나로 통일\n",
    "product_pattern = r'(주먹밥|양념|밀|쌈무|밀면|기름|력|가루|오이|스파게티|고급면|교자|쉐이크|쫄면|마늘|한우|요리유|짜장|치킨가라아게|감자전|쌀국수|치킨|부침가루|새우까스|소스|소고기|특별한선택 1호|설탕|두부|비지|콩기름|콩|햇반|포도씨유|고추장|쿡킷|카놀라유|튀김가루|쿠키|냉면|솔트|소금|믹스|식초|떡국|떡볶이|김치|막국수|쫄볶이|쫄면사리|간짜장|초밥|다시다|칼국수|소바|된장|해바라기유|김가루|밀가루|올리고당|요리당|파우더|옥수수유|군밤|우동|전골|올리브유|소시지|만두|드레싱|김자반|간장김|파래김|돌김|구이김|재래김|미역|구운김|김밥김|돈까스|신백설|너비아니|스팸|어묵|육수|마라탕면|비빔장|쌈장|쁘띠첼|사골곰탕|팥죽|황태국|추어탕|육개장|찌개|볶음밥|설렁탕|죽|미역국|잡채|구이|오징어채볶음|불고기|배추|순댓국|장터국|장조림|소고기무국|삼계탕|사골곰탕|비빔밥|무말랭이|해물완자|동그랑땡|도가니|닭곰탕|장조림|묵은지|장조림|꼬리곰탕|깍두기|곤드레나물밥|멸치볶음|감자탕|갈비탕|야채고기말이|스파게티면|베이컨|소면|맛술|청|당면|밥이랑|바삭한요리유|물엿|청양초|차돌된장|바지락꽃게|천일염|맥스봉|맛밤|백숙|스테이크|햄|등심|후랑크|비엔나|샌드위치햄|닭가슴살|핫도그|미트볼|페스츄리|크림치즈파이|너겟|짬뽕|피자|스콘|크로와상|치즈볼|애플파이|깐풍기|탕수육|감자수제비가루|메밀생면|젓|소불고기|고구마|떡갈비|김말이|핫봉|돈카츠|함박|딤섬|시럽|소프트)'\n",
    "def extract_product(text):\n",
    "    pick = re.findall(product_pattern, text)\n",
    "    if pick:\n",
    "        for item in reversed(pick):\n",
    "            if item != '':\n",
    "                return item\n",
    "    return ''\n",
    "\n",
    "df_n['상품명대분류'] = df_n['자재명'].apply(extract_product)\n",
    "\n",
    "df_n['상품명대분류'].fillna('사은품', inplace=True)"
   ]
  },
  {
   "cell_type": "code",
   "execution_count": 76,
   "metadata": {},
   "outputs": [],
   "source": [
    "#용량 추출하기\n",
    "pattern1 = r'(?<![A-Za-z])\\d+(?:\\.\\d+)?(?=[GgMLmlKGkg])'\n",
    "pattern2 = r'(?<=\\b)\\d+(?=[Ee][Aa]\\b)'\n",
    "pattern3 = r'(?<![A-Za-z])\\d+(?:\\.\\d+)?(?=[Mm][Ll]\\b)'\n",
    "\n",
    "def extract_numbers(text):\n",
    "    if re.search(pattern1, text):\n",
    "        matches = re.findall(pattern1, text)\n",
    "        if len(matches) > 1:\n",
    "            return '+'.join(matches)\n",
    "        else:\n",
    "            return matches[0]\n",
    "    elif re.search(pattern2, text):\n",
    "        match = re.search(pattern2, text)\n",
    "        return match.group()\n",
    "    elif re.search(pattern3, text):\n",
    "        match = re.search(pattern3, text)\n",
    "        return match.group()\n",
    "    return ''\n",
    "\n",
    "def combine_numbers(row):\n",
    "    if '+' in row['용량']:\n",
    "        numbers = row['용량'].split('+')\n",
    "        total = sum([float(num) for num in numbers])\n",
    "        return str(total)\n",
    "    return row['용량']\n",
    "\n",
    "def adjust_format(row):\n",
    "    if re.search(r'(?i)KG', row['자재명']):\n",
    "        return str(float(row['용량']) * 1000)\n",
    "    elif re.search(r'(?i)L', row['자재명']):\n",
    "        return str(float(row['용량']) * 1000)\n",
    "    elif re.search(r'(?i)G', row['자재명']):\n",
    "        return row['용량']\n",
    "    elif re.search(r'(?i)ML', row['자재명']):\n",
    "        return row['용량']\n",
    "    return row['용량']\n",
    "\n",
    "df_n['용량'] = df_n['자재명'].apply(extract_numbers)\n",
    "df_n['용량'] = df_n.apply(combine_numbers, axis=1)\n",
    "df_n['용량'] = df_n.apply(adjust_format, axis=1)"
   ]
  },
  {
   "attachments": {},
   "cell_type": "markdown",
   "metadata": {},
   "source": [
    "---"
   ]
  },
  {
   "cell_type": "code",
   "execution_count": 77,
   "metadata": {},
   "outputs": [
    {
     "data": {
      "text/plain": [
       "400       0.616424\n",
       "509       0.197654\n",
       "          0.051262\n",
       "370       0.029244\n",
       "618       0.028564\n",
       "384       0.019468\n",
       "450       0.017683\n",
       "420       0.010627\n",
       "1000.0    0.008671\n",
       "392       0.007056\n",
       "168       0.004081\n",
       "200       0.001105\n",
       "1200.0    0.001105\n",
       "500       0.001105\n",
       "980       0.001020\n",
       "600       0.001020\n",
       "700       0.000935\n",
       "300       0.000850\n",
       "490       0.000765\n",
       "1050.0    0.000595\n",
       "2000.0    0.000510\n",
       "1500.0    0.000255\n",
       "Name: 용량, dtype: float64"
      ]
     },
     "execution_count": 77,
     "metadata": {},
     "output_type": "execute_result"
    }
   ],
   "source": [
    "df_n[df_n['상품명대분류'].str.contains('만두')]['용량'].value_counts(normalize=True)"
   ]
  },
  {
   "attachments": {},
   "cell_type": "markdown",
   "metadata": {},
   "source": [
    "## 거래처"
   ]
  },
  {
   "cell_type": "code",
   "execution_count": 18,
   "metadata": {},
   "outputs": [
    {
     "data": {
      "text/plain": [
       "외부몰_직거래_네이버(신)    172147\n",
       "Name: 거래처, dtype: int64"
      ]
     },
     "execution_count": 18,
     "metadata": {},
     "output_type": "execute_result"
    }
   ],
   "source": [
    "# 거래처 컬럼 분석, '외부물_직거래_네이버(신) 단일값밖에 없음\n",
    "df_n['거래처'].value_counts()\n"
   ]
  },
  {
   "attachments": {},
   "cell_type": "markdown",
   "metadata": {},
   "source": [
    "## 주문일 "
   ]
  },
  {
   "cell_type": "code",
   "execution_count": 19,
   "metadata": {},
   "outputs": [
    {
     "data": {
      "text/plain": [
       "2022-06-10    0.149343\n",
       "2022-05-17    0.116540\n",
       "2022-06-17    0.057741\n",
       "2022-05-18    0.052978\n",
       "2022-06-30    0.028685\n",
       "Name: 주문일, dtype: float64"
      ]
     },
     "execution_count": 19,
     "metadata": {},
     "output_type": "execute_result"
    }
   ],
   "source": [
    "#사람들이 가장 많이 주문한 일은 6월 10일, 5월 17일, 6월 17일, 5월 18일, 6월 30일로 top5를 나눌 수 있음\n",
    "df_n['주문일'].value_counts(normalize = True).head(5)"
   ]
  },
  {
   "cell_type": "code",
   "execution_count": 20,
   "metadata": {},
   "outputs": [
    {
     "data": {
      "text/plain": [
       "햇반      0.377066\n",
       "만두      0.148625\n",
       "교자      0.047882\n",
       "볶음밥     0.044848\n",
       "스팸      0.033140\n",
       "주먹밥     0.028550\n",
       "구이      0.021938\n",
       "콩       0.018943\n",
       "사골곰탕    0.018126\n",
       "탕수육     0.017231\n",
       "짬뽕      0.016648\n",
       "소고기     0.014158\n",
       "육수      0.010619\n",
       "김치      0.010463\n",
       "짜장      0.009335\n",
       "Name: 상품명대분류, dtype: float64"
      ]
     },
     "execution_count": 20,
     "metadata": {},
     "output_type": "execute_result"
    }
   ],
   "source": [
    "#사람들이 가장 많이 주문한 일인 6월 10일에는 햇반,만두,왕교자,볶음밥,햇반흑미밥\n",
    "df_n[df_n['주문일'] =='2022-06-10']['상품명대분류'].value_counts(normalize = True).head(15)"
   ]
  },
  {
   "cell_type": "code",
   "execution_count": 21,
   "metadata": {},
   "outputs": [
    {
     "data": {
      "text/plain": [
       "햇반      0.264542\n",
       "삼계탕     0.097814\n",
       "구이      0.055206\n",
       "교자      0.043720\n",
       "스팸      0.042608\n",
       "주먹밥     0.038533\n",
       "만두      0.035198\n",
       "볶음밥     0.031864\n",
       "사골곰탕    0.030382\n",
       "스테이크    0.021489\n",
       "죽       0.017043\n",
       "육개장     0.015932\n",
       "미역      0.013709\n",
       "양념      0.013338\n",
       "돈카츠     0.012227\n",
       "Name: 상품명대분류, dtype: float64"
      ]
     },
     "execution_count": 21,
     "metadata": {},
     "output_type": "execute_result"
    }
   ],
   "source": [
    "df_n[df_n['주문일'] =='2022-06-29']['상품명대분류'].value_counts(normalize = True).head(15)"
   ]
  },
  {
   "cell_type": "code",
   "execution_count": 22,
   "metadata": {},
   "outputs": [
    {
     "data": {
      "text/plain": [
       "햇반      0.335659\n",
       "만두      0.149586\n",
       "교자      0.059516\n",
       "주먹밥     0.039527\n",
       "볶음밥     0.027614\n",
       "스팸      0.019839\n",
       "포도씨유    0.017895\n",
       "카놀라유    0.016549\n",
       "사골곰탕    0.016499\n",
       "구이      0.014754\n",
       "김치      0.014555\n",
       "콩       0.010966\n",
       "육개장     0.009919\n",
       "양념      0.009869\n",
       "핫도그     0.009770\n",
       "Name: 상품명대분류, dtype: float64"
      ]
     },
     "execution_count": 22,
     "metadata": {},
     "output_type": "execute_result"
    }
   ],
   "source": [
    "#사람들이 가장 많이 주문한 일인 5월 17일에는 햇반,만두,왕교자,주먹밥,햇반흑미밥\n",
    "df_n[df_n['주문일'] =='2022-05-17']['상품명대분류'].value_counts(normalize = True).head(15) "
   ]
  },
  {
   "attachments": {},
   "cell_type": "markdown",
   "metadata": {},
   "source": [
    "날짜와 상관없이 햇반 만두 왕교자 상품은 주문일과 관계없이 판매상품들중에서 항상 우위를 점하는 것으로 보임, 그렇다면 그러한 상품들을 빼고 다시 상품들을 확인을 해야하는 건지?"
   ]
  },
  {
   "cell_type": "code",
   "execution_count": 23,
   "metadata": {},
   "outputs": [
    {
     "data": {
      "image/png": "[encoded data removed]",
      "text/plain": [
       "<Figure size 720x432 with 1 Axes>"
      ]
     },
     "metadata": {
      "needs_background": "light"
     },
     "output_type": "display_data"
    }
   ],
   "source": [
    "#주문일, 6월 10일과 5월 17일의 주문일이 몰려있는 경향 발견\n",
    "\n",
    "df_n['주문일'] = pd.to_datetime(df_n['주문일'])\n",
    "date_counts = df_n['주문일'].value_counts().sort_index()\n",
    "plt.figure(figsize=(10, 6))\n",
    "plt.hist(df_n['주문일'], bins='auto')\n",
    "plt.title('주문일 분포')\n",
    "plt.xlabel('날짜')\n",
    "plt.ylabel('빈도수')\n",
    "plt.xticks(rotation=45)\n",
    "plt.show()\n"
   ]
  },
  {
   "attachments": {},
   "cell_type": "markdown",
   "metadata": {},
   "source": [
    "## 사은품 여부 "
   ]
  },
  {
   "cell_type": "code",
   "execution_count": 24,
   "metadata": {},
   "outputs": [
    {
     "data": {
      "text/plain": [
       "        0.229325\n",
       "꼬리곰탕    0.104275\n",
       "햇반      0.049141\n",
       "백숙      0.049141\n",
       "사골곰탕    0.047143\n",
       "Name: 상품명대분류, dtype: float64"
      ]
     },
     "execution_count": 24,
     "metadata": {},
     "output_type": "execute_result"
    }
   ],
   "source": [
    "# 사은품여부, nan값을 제외한 상품들 중 사은품을 주는 상품들로는 꼬리곰탕, 백숫, 사골곰탕, 볶음밥의 비율이 제일 높았음  #가장 문제가 되는 nan값이 자재명에서 상품명대분류 컬럼을 방해하고 있음, 이값에 대한 정의가 필요함\n",
    "df_n[df_n['사은품여부'] == 'Y']['상품명대분류'].value_counts(normalize = True).head()\n"
   ]
  },
  {
   "attachments": {},
   "cell_type": "markdown",
   "metadata": {},
   "source": [
    "## 출고예정일 "
   ]
  },
  {
   "cell_type": "code",
   "execution_count": 25,
   "metadata": {},
   "outputs": [],
   "source": [
    "df_n['출고예정일'] = pd.to_datetime(df_n['출고예정일'], format = '%Y%m%d')"
   ]
  },
  {
   "cell_type": "code",
   "execution_count": 26,
   "metadata": {},
   "outputs": [
    {
     "data": {
      "text/plain": [
       "2022-06-11    0.098387\n",
       "2022-05-19    0.067559\n",
       "2022-06-19    0.053780\n",
       "2022-05-18    0.050689\n",
       "2022-06-12    0.044404\n",
       "Name: 출고예정일, dtype: float64"
      ]
     },
     "execution_count": 26,
     "metadata": {},
     "output_type": "execute_result"
    }
   ],
   "source": [
    "#출고예정일은 6월 11일, 5월 19일, 6월 19일, 5월 18일 순으로 점유율이 높음 #6월 10일과 5월 17일 # 출고예정일이 높게 나온 일들은 모두 주문일이 가장 높은 일수와 1~2일 차이가 나고 있음.\n",
    "df_n['출고예정일'].value_counts(normalize = True).head()"
   ]
  },
  {
   "cell_type": "code",
   "execution_count": 27,
   "metadata": {},
   "outputs": [
    {
     "data": {
      "image/png": "[encoded data removed]",
      "text/plain": [
       "<Figure size 720x432 with 1 Axes>"
      ]
     },
     "metadata": {
      "needs_background": "light"
     },
     "output_type": "display_data"
    }
   ],
   "source": [
    "df_n['출고예정일'] = pd.to_datetime(df_n['출고예정일'])\n",
    "date_counts = df_n['출고예정일'].value_counts().sort_index()\n",
    "plt.figure(figsize=(10, 6))\n",
    "plt.hist(df_n['출고예정일'], bins='auto')\n",
    "plt.title('출고예정일 분포')\n",
    "plt.xlabel('날짜')\n",
    "plt.ylabel('빈도수')\n",
    "plt.xticks(rotation=45)\n",
    "plt.show()\n"
   ]
  },
  {
   "attachments": {},
   "cell_type": "markdown",
   "metadata": {},
   "source": [
    "## 주문/배송상태 "
   ]
  },
  {
   "cell_type": "code",
   "execution_count": 28,
   "metadata": {},
   "outputs": [
    {
     "data": {
      "text/plain": [
       "배송 완료    0.971559\n",
       "주문취소     0.027889\n",
       "배송 취소    0.000314\n",
       "배송 중     0.000209\n",
       "주문완료     0.000017\n",
       "배송 준비    0.000006\n",
       "출고 지시    0.000006\n",
       "Name: 주문/배송상태, dtype: float64"
      ]
     },
     "execution_count": 28,
     "metadata": {},
     "output_type": "execute_result"
    }
   ],
   "source": [
    "#주문/배송상태,  주문취소와 배송취소 항목을 확인하여 어떤 상품이 주문과 배송이 취소되었는 지 분석할 필요성이 있음\n",
    "df_n['주문/배송상태'].value_counts(normalize= True)"
   ]
  },
  {
   "cell_type": "code",
   "execution_count": 29,
   "metadata": {},
   "outputs": [
    {
     "data": {
      "text/plain": [
       "햇반     0.417830\n",
       "콩기름    0.051448\n",
       "만두     0.047282\n",
       "설탕     0.040825\n",
       "주먹밥    0.033326\n",
       "Name: 상품명대분류, dtype: float64"
      ]
     },
     "execution_count": 29,
     "metadata": {},
     "output_type": "execute_result"
    }
   ],
   "source": [
    "# 주문취소상품 햇반,콩기름,만두,설탕,주먹밥\n",
    "df_n[df_n['주문/배송상태'] =='주문취소']['상품명대분류'].value_counts(normalize = True).head()"
   ]
  },
  {
   "cell_type": "code",
   "execution_count": 30,
   "metadata": {},
   "outputs": [
    {
     "data": {
      "text/plain": [
       "햇반     0.259259\n",
       "구이     0.129630\n",
       "설탕     0.111111\n",
       "스팸     0.092593\n",
       "고추장    0.074074\n",
       "Name: 상품명대분류, dtype: float64"
      ]
     },
     "execution_count": 30,
     "metadata": {},
     "output_type": "execute_result"
    }
   ],
   "source": [
    "# 배송취소상품 햇반,구이,설탕,스팸,고추장 \n",
    "df_n[df_n['주문/배송상태'] =='배송 취소']['상품명대분류'].value_counts(normalize = True).head()"
   ]
  },
  {
   "cell_type": "code",
   "execution_count": 31,
   "metadata": {},
   "outputs": [
    {
     "data": {
      "text/plain": [
       "-        0.968399\n",
       "취소완료     0.027889\n",
       "반품처리중    0.001597\n",
       "교환완료     0.001255\n",
       "교환처리중    0.000749\n",
       "반품철회     0.000087\n",
       "반품완료     0.000017\n",
       "반품신청     0.000006\n",
       "Name: 클레임 상태, dtype: float64"
      ]
     },
     "execution_count": 31,
     "metadata": {},
     "output_type": "execute_result"
    }
   ],
   "source": [
    "#클레임상태  #주문/배송상태와는 다른 반품과 교환롼료 라는 항목이 들어있고, 그에 따른 분석 가능\n",
    "df_n['클레임 상태'].value_counts(normalize= True)"
   ]
  },
  {
   "cell_type": "code",
   "execution_count": 32,
   "metadata": {},
   "outputs": [
    {
     "data": {
      "text/plain": [
       "햇반     0.417830\n",
       "콩기름    0.051448\n",
       "만두     0.047282\n",
       "설탕     0.040825\n",
       "주먹밥    0.033326\n",
       "Name: 상품명대분류, dtype: float64"
      ]
     },
     "execution_count": 32,
     "metadata": {},
     "output_type": "execute_result"
    }
   ],
   "source": [
    "#주문취소상품과 동일한 퍼센트를 가지고 있음\n",
    "df_n[df_n['클레임 상태'] =='취소완료']['상품명대분류'].value_counts(normalize = True).head()"
   ]
  },
  {
   "cell_type": "code",
   "execution_count": 33,
   "metadata": {},
   "outputs": [
    {
     "data": {
      "text/plain": [
       "햇반     0.272727\n",
       "설탕     0.123636\n",
       "볶음밥    0.061818\n",
       "구이     0.040000\n",
       "교자     0.029091\n",
       "Name: 상품명대분류, dtype: float64"
      ]
     },
     "execution_count": 33,
     "metadata": {},
     "output_type": "execute_result"
    }
   ],
   "source": [
    "# 반품처리중 상품 햇반,설탕,볶음밥,구이,고추장\n",
    "df_n[df_n['클레임 상태'] =='반품처리중']['상품명대분류'].value_counts(normalize = True).head()"
   ]
  },
  {
   "cell_type": "code",
   "execution_count": 34,
   "metadata": {},
   "outputs": [],
   "source": [
    "weight=df_n['자재명']"
   ]
  },
  {
   "cell_type": "code",
   "execution_count": 35,
   "metadata": {},
   "outputs": [
    {
     "data": {
      "text/plain": [
       "0         500\n",
       "1         400\n",
       "2         500\n",
       "3         500\n",
       "4         500\n",
       "         ... \n",
       "172142    500\n",
       "172143    900\n",
       "172144    210\n",
       "172145    530\n",
       "172146      3\n",
       "Name: 중량, Length: 172147, dtype: object"
      ]
     },
     "execution_count": 35,
     "metadata": {},
     "output_type": "execute_result"
    }
   ],
   "source": [
    "df_n['중량'] = weight.str.extract(r'(\\d+)')\n",
    "df_n['중량']"
   ]
  },
  {
   "cell_type": "code",
   "execution_count": 36,
   "metadata": {},
   "outputs": [],
   "source": [
    "# # 중량 추출하기\n",
    "# df_n['중량'] = df_n['자재명'].str.extract('(\\d+G)')\n",
    "\n",
    "# # 새로운 컬럼 생성\n",
    "# df_n['중량(숫자)'] = df_n['중량'].str.extract('(\\d+)').astype(int)\n"
   ]
  },
  {
   "attachments": {},
   "cell_type": "markdown",
   "metadata": {},
   "source": [
    "-------"
   ]
  },
  {
   "cell_type": "code",
   "execution_count": 37,
   "metadata": {},
   "outputs": [],
   "source": [
    "plus = df_n[df_n['상품코드'] == '사은품']\n"
   ]
  },
  {
   "cell_type": "code",
   "execution_count": 38,
   "metadata": {},
   "outputs": [],
   "source": [
    "gift_n = plus[['상품명','상품명대분류','자재명','브랜드','사은품여부','구매월']] #사은품여부가 Y 인 데이터\n",
    "gift = df_n[['상품명','상품명대분류','자재명','브랜드','사은품여부','구매월']] # 전체 데이터"
   ]
  },
  {
   "cell_type": "code",
   "execution_count": 39,
   "metadata": {},
   "outputs": [
    {
     "data": {
      "text/plain": [
       "    574\n",
       "Name: 상품명대분류, dtype: int64"
      ]
     },
     "execution_count": 39,
     "metadata": {},
     "output_type": "execute_result"
    }
   ],
   "source": [
    "gift_n['상품명대분류'].value_counts().head(10)  # 574는 상품이 아니라 사은품 그 자체임"
   ]
  },
  {
   "cell_type": "code",
   "execution_count": 40,
   "metadata": {},
   "outputs": [
    {
     "data": {
      "text/plain": [
       "[사은품]더비비고 영양꼬리곰탕500g    170\n",
       "[사은품_허닭몰] 더비비고_황기닭백숙    110\n",
       "[사은품] 복주머니 파우치(그린)       91\n",
       "[사은품] 더비비고_수삼갈비탕         72\n",
       "[사은품] 갓빠오즈               70\n",
       "[사은품_더마켓] 더비비고 쇼핑백       30\n",
       "에어프라이어용 종이호일(20매)        12\n",
       "[사은품] 메티에 전용 펌프          10\n",
       "[사은품]피자 커터기               6\n",
       "[사은품_더마켓]생선구이 웰컴키트        3\n",
       "Name: 상품명, dtype: int64"
      ]
     },
     "execution_count": 40,
     "metadata": {},
     "output_type": "execute_result"
    }
   ],
   "source": [
    "gift_n[gift_n['상품명대분류']=='']['상품명'].value_counts()"
   ]
  },
  {
   "attachments": {},
   "cell_type": "markdown",
   "metadata": {},
   "source": [
    "----\n",
    "## 꼬리곰탕  더비비고와 비비고의 차이\n",
    "### 결과 5월에서 6월로 갈 때 더비비고 영양꼬리곰탕의 판매율이 100% 넘게 상승한 것으로 보아 해당상품의 경우  사은품을 통한 프로모션의 효과가 큰 것으로 추측함"
   ]
  },
  {
   "cell_type": "code",
   "execution_count": 41,
   "metadata": {},
   "outputs": [
    {
     "data": {
      "text/plain": [
       "Series([], Name: 자재명, dtype: int64)"
      ]
     },
     "execution_count": 41,
     "metadata": {},
     "output_type": "execute_result"
    }
   ],
   "source": [
    "gift_n[gift_n['상품명대분류']=='꼬리곰탕']['자재명'].value_counts()"
   ]
  },
  {
   "cell_type": "code",
   "execution_count": 42,
   "metadata": {},
   "outputs": [
    {
     "data": {
      "text/plain": [
       "Y    120\n",
       "N      6\n",
       "Name: 사은품여부, dtype: int64"
      ]
     },
     "execution_count": 42,
     "metadata": {},
     "output_type": "execute_result"
    }
   ],
   "source": [
    "# gift[gift[gift['구매월'] == '6']['자재명'] =='더비비고 영양꼬리곰탕 500G/상온']['사은품여부'].value_counts()\n",
    "\n",
    "\n",
    "gift_6 = gift[gift['구매월'] == 6]\n",
    "gift_6[gift_6['자재명'] =='더비비고 영양꼬리곰탕 500G/상온']['사은품여부'].value_counts()"
   ]
  },
  {
   "cell_type": "code",
   "execution_count": 43,
   "metadata": {},
   "outputs": [
    {
     "data": {
      "text/plain": [
       "Y    57\n",
       "N    10\n",
       "Name: 사은품여부, dtype: int64"
      ]
     },
     "execution_count": 43,
     "metadata": {},
     "output_type": "execute_result"
    }
   ],
   "source": [
    "gift_5 = gift[gift['구매월'] == 5]\n",
    "gift_5[gift_5['자재명'] =='더비비고 영양꼬리곰탕 500G/상온']['사은품여부'].value_counts()"
   ]
  },
  {
   "cell_type": "code",
   "execution_count": 44,
   "metadata": {},
   "outputs": [
    {
     "data": {
      "text/plain": [
       "N    188\n",
       "Y     84\n",
       "Name: 사은품여부, dtype: int64"
      ]
     },
     "execution_count": 44,
     "metadata": {},
     "output_type": "execute_result"
    }
   ],
   "source": [
    "gift[gift['자재명'] =='비비고/꼬리곰탕460G/상온']['사은품여부'].value_counts()"
   ]
  },
  {
   "attachments": {},
   "cell_type": "markdown",
   "metadata": {},
   "source": [
    "https://www.hankookilbo.com/News/Read/A2020121413330000552 </br>\n",
    "더비비고와 비비고의 차이 링크</br>\n",
    "사은품 여부 중 더비비고의 수량이 더 많았음"
   ]
  },
  {
   "attachments": {},
   "cell_type": "markdown",
   "metadata": {},
   "source": [
    "---\n",
    "# 햇반 \n",
    "### 햇반은 유의미한 결과가 안나옴 "
   ]
  },
  {
   "cell_type": "code",
   "execution_count": 45,
   "metadata": {},
   "outputs": [
    {
     "data": {
      "text/plain": [
       "Series([], Name: 자재명, dtype: int64)"
      ]
     },
     "execution_count": 45,
     "metadata": {},
     "output_type": "execute_result"
    }
   ],
   "source": [
    "gift_n[gift_n['상품명대분류']=='햇반']['자재명'].value_counts()"
   ]
  },
  {
   "cell_type": "code",
   "execution_count": 46,
   "metadata": {},
   "outputs": [
    {
     "data": {
      "text/plain": [
       "N    19939\n",
       "Y       21\n",
       "Name: 사은품여부, dtype: int64"
      ]
     },
     "execution_count": 46,
     "metadata": {},
     "output_type": "execute_result"
    }
   ],
   "source": [
    "gift[gift['자재명'] =='햇반210G*24(1입)/상온']['사은품여부'].value_counts()"
   ]
  },
  {
   "cell_type": "code",
   "execution_count": 47,
   "metadata": {},
   "outputs": [
    {
     "data": {
      "text/plain": [
       "N    7447\n",
       "Y      16\n",
       "Name: 사은품여부, dtype: int64"
      ]
     },
     "execution_count": 47,
     "metadata": {},
     "output_type": "execute_result"
    }
   ],
   "source": [
    "gift[gift['자재명'] =='햇반흑미밥210g']['사은품여부'].value_counts()"
   ]
  },
  {
   "cell_type": "code",
   "execution_count": 48,
   "metadata": {},
   "outputs": [
    {
     "data": {
      "text/plain": [
       "N    1961\n",
       "Y      11\n",
       "Name: 사은품여부, dtype: int64"
      ]
     },
     "execution_count": 48,
     "metadata": {},
     "output_type": "execute_result"
    }
   ],
   "source": [
    "gift[gift['자재명'] =='햇반/솥반 꿀약밥 210G']['사은품여부'].value_counts()"
   ]
  },
  {
   "cell_type": "code",
   "execution_count": 49,
   "metadata": {},
   "outputs": [
    {
     "data": {
      "text/plain": [
       "N    1366\n",
       "Y      10\n",
       "Name: 사은품여부, dtype: int64"
      ]
     },
     "execution_count": 49,
     "metadata": {},
     "output_type": "execute_result"
    }
   ],
   "source": [
    "gift[gift['자재명'] =='햇반/솥반 버섯영양밥 200G']['사은품여부'].value_counts()"
   ]
  },
  {
   "attachments": {},
   "cell_type": "markdown",
   "metadata": {},
   "source": [
    "---\n",
    "# 백숙\n",
    "### 황기닭백숙은 구매가 꾸준하게 늘어가고 있는 상품 중 하나임, 엄청 큰 효과가 있는 건 아니었지만 사은품이 하락은 막을 수 있었다는 거에 의의를 둘 수 있음"
   ]
  },
  {
   "cell_type": "code",
   "execution_count": 50,
   "metadata": {},
   "outputs": [
    {
     "data": {
      "text/plain": [
       "Series([], Name: 자재명, dtype: int64)"
      ]
     },
     "execution_count": 50,
     "metadata": {},
     "output_type": "execute_result"
    }
   ],
   "source": [
    "gift_n[gift_n['상품명대분류']=='백숙']['자재명'].value_counts()"
   ]
  },
  {
   "cell_type": "code",
   "execution_count": 51,
   "metadata": {},
   "outputs": [
    {
     "data": {
      "text/plain": [
       "Y    67\n",
       "Name: 사은품여부, dtype: int64"
      ]
     },
     "execution_count": 51,
     "metadata": {},
     "output_type": "execute_result"
    }
   ],
   "source": [
    "gift_6 = gift[gift['구매월'] == 6]\n",
    "gift_6[gift_6['자재명'] =='더비비고 황기닭백숙 600G/상온']['사은품여부'].value_counts()"
   ]
  },
  {
   "cell_type": "code",
   "execution_count": 52,
   "metadata": {},
   "outputs": [
    {
     "data": {
      "text/plain": [
       "Y    47\n",
       "N     1\n",
       "Name: 사은품여부, dtype: int64"
      ]
     },
     "execution_count": 52,
     "metadata": {},
     "output_type": "execute_result"
    }
   ],
   "source": [
    "gift_5 = gift[gift['구매월'] == 5]\n",
    "gift_5[gift_5['자재명'] =='더비비고 황기닭백숙 600G/상온']['사은품여부'].value_counts()"
   ]
  },
  {
   "cell_type": "code",
   "execution_count": 53,
   "metadata": {},
   "outputs": [
    {
     "data": {
      "text/plain": [
       "N    8\n",
       "Y    5\n",
       "Name: 사은품여부, dtype: int64"
      ]
     },
     "execution_count": 53,
     "metadata": {},
     "output_type": "execute_result"
    }
   ],
   "source": [
    "gift_6 = gift[gift['구매월'] == 6]\n",
    "gift_6[gift_6['자재명'] =='더비비고_영양오리백숙 700G/상온']['사은품여부'].value_counts()\n"
   ]
  },
  {
   "cell_type": "code",
   "execution_count": 54,
   "metadata": {},
   "outputs": [
    {
     "data": {
      "text/plain": [
       "N    5\n",
       "Y    4\n",
       "Name: 사은품여부, dtype: int64"
      ]
     },
     "execution_count": 54,
     "metadata": {},
     "output_type": "execute_result"
    }
   ],
   "source": [
    "gift_5 = gift[gift['구매월'] == 5]\n",
    "gift_5[gift_5['자재명'] =='더비비고_영양오리백숙 700G/상온']['사은품여부'].value_counts()"
   ]
  },
  {
   "attachments": {},
   "cell_type": "markdown",
   "metadata": {},
   "source": [
    "----\n",
    "# 사골곰탕 \n",
    "### 비비고/사골곰탕의 사은품 수가 많음, 1+1 행사가 사은품을 주는 것보다 효과가 좋은 것 같음"
   ]
  },
  {
   "cell_type": "code",
   "execution_count": 55,
   "metadata": {},
   "outputs": [
    {
     "data": {
      "text/plain": [
       "Series([], Name: 자재명, dtype: int64)"
      ]
     },
     "execution_count": 55,
     "metadata": {},
     "output_type": "execute_result"
    }
   ],
   "source": [
    "gift_n[gift_n['상품명대분류']=='사골곰탕']['자재명'].value_counts()"
   ]
  },
  {
   "cell_type": "code",
   "execution_count": 56,
   "metadata": {},
   "outputs": [
    {
     "data": {
      "text/plain": [
       "N    3170\n",
       "Y     111\n",
       "Name: 사은품여부, dtype: int64"
      ]
     },
     "execution_count": 56,
     "metadata": {},
     "output_type": "execute_result"
    }
   ],
   "source": [
    "gift[gift['자재명'] =='비비고/사골곰탕 500G_18입/상온']['사은품여부'].value_counts()"
   ]
  },
  {
   "cell_type": "code",
   "execution_count": 57,
   "metadata": {},
   "outputs": [
    {
     "data": {
      "text/plain": [
       "N    1411\n",
       "Y      57\n",
       "Name: 사은품여부, dtype: int64"
      ]
     },
     "execution_count": 57,
     "metadata": {},
     "output_type": "execute_result"
    }
   ],
   "source": [
    "gift_5 = gift[gift['구매월'] == 5]\n",
    "gift_5[gift_5['자재명'] =='비비고/사골곰탕 500G_18입/상온']['사은품여부'].value_counts()\n"
   ]
  },
  {
   "cell_type": "code",
   "execution_count": 58,
   "metadata": {},
   "outputs": [
    {
     "data": {
      "text/plain": [
       "N    1759\n",
       "Y      54\n",
       "Name: 사은품여부, dtype: int64"
      ]
     },
     "execution_count": 58,
     "metadata": {},
     "output_type": "execute_result"
    }
   ],
   "source": [
    "\n",
    "gift_6 = gift[gift['구매월'] == 6]\n",
    "gift_6[gift_6['자재명'] =='비비고/사골곰탕 500G_18입/상온']['사은품여부'].value_counts()"
   ]
  },
  {
   "cell_type": "code",
   "execution_count": 59,
   "metadata": {},
   "outputs": [
    {
     "data": {
      "text/plain": [
       "N    238\n",
       "Y      7\n",
       "Name: 사은품여부, dtype: int64"
      ]
     },
     "execution_count": 59,
     "metadata": {},
     "output_type": "execute_result"
    }
   ],
   "source": [
    "gift[gift['자재명'] =='비비고/한우사골곰탕500G/상온']['사은품여부'].value_counts()"
   ]
  },
  {
   "attachments": {},
   "cell_type": "markdown",
   "metadata": {},
   "source": [
    "---\n",
    "# 볶음밥\n",
    "### 유의미한 결과 X"
   ]
  },
  {
   "cell_type": "code",
   "execution_count": 60,
   "metadata": {},
   "outputs": [
    {
     "data": {
      "text/plain": [
       "Series([], Name: 자재명, dtype: int64)"
      ]
     },
     "execution_count": 60,
     "metadata": {},
     "output_type": "execute_result"
    }
   ],
   "source": [
    "gift_n[gift_n['상품명대분류']=='볶음밥']['자재명'].value_counts()"
   ]
  },
  {
   "cell_type": "code",
   "execution_count": 61,
   "metadata": {},
   "outputs": [
    {
     "data": {
      "text/plain": [
       "N    391\n",
       "Y     44\n",
       "Name: 사은품여부, dtype: int64"
      ]
     },
     "execution_count": 61,
     "metadata": {},
     "output_type": "execute_result"
    }
   ],
   "source": [
    "gift[gift['자재명'] =='고메/삼선해물볶음밥840G_4P/냉동']['사은품여부'].value_counts()"
   ]
  },
  {
   "cell_type": "code",
   "execution_count": 62,
   "metadata": {},
   "outputs": [
    {
     "data": {
      "text/plain": [
       "N    365\n",
       "Y     34\n",
       "Name: 사은품여부, dtype: int64"
      ]
     },
     "execution_count": 62,
     "metadata": {},
     "output_type": "execute_result"
    }
   ],
   "source": [
    "gift[gift['자재명'] =='고메/중화게살볶음밥840G_4P/냉동']['사은품여부'].value_counts()"
   ]
  },
  {
   "cell_type": "code",
   "execution_count": 63,
   "metadata": {},
   "outputs": [
    {
     "data": {
      "text/plain": [
       "N    887\n",
       "Y      8\n",
       "Name: 사은품여부, dtype: int64"
      ]
     },
     "execution_count": 63,
     "metadata": {},
     "output_type": "execute_result"
    }
   ],
   "source": [
    "gift[gift['자재명'] =='비비고/차돌깍두기볶음밥410G/냉동']['사은품여부'].value_counts()"
   ]
  },
  {
   "attachments": {},
   "cell_type": "markdown",
   "metadata": {},
   "source": [
    "----\n",
    "# 갈비탕\n",
    "### 비비고의 구매수량이 더 많음, 사은품 자체가 그렇게 큰 구매요인의 영향을 주는 건 아닌 것 같다는 결론임\n",
    "### 두 상품의 가격비교 또한 진행했으나, 수삼갈비탕보다 그냥 갈비탕의 가격의 더 높은 것으로 판단되었고, 그 결과 그냥 갈비탕의 품질자체가 수삼갈비탕보다 더 좋은 것으로 판단되어 구매를 더 많이 하는 것으로 생각됨"
   ]
  },
  {
   "cell_type": "code",
   "execution_count": 64,
   "metadata": {},
   "outputs": [
    {
     "data": {
      "text/plain": [
       "Series([], Name: 자재명, dtype: int64)"
      ]
     },
     "execution_count": 64,
     "metadata": {},
     "output_type": "execute_result"
    }
   ],
   "source": [
    "gift_n[gift_n['상품명대분류']=='갈비탕']['자재명'].value_counts()"
   ]
  },
  {
   "cell_type": "code",
   "execution_count": 65,
   "metadata": {},
   "outputs": [
    {
     "data": {
      "text/plain": [
       "Index(['거래처', '거래처주문번호', '주문일', '구매연도', '구매월', '구매일', '구매요일', '평일/주말', '사은품여부',\n",
       "       '출고예정일', '주문/배송상태', '운송장등록_도착날짜', '클레임 상태', '배송기간', '운송장등록일자', '상품순번',\n",
       "       '상품코드', '상품명', '상품수량', '덤상품수량', '상품유형', '상품타입', '매출액', '자재코드', '자재명',\n",
       "       '초기자재수량', '주문수량', '취소수량', '반품수량', '배송유형', '마감구분', '플랜트 정보', '단독배송여부',\n",
       "       'GS홈쇼핑주문번호', '실제_상품수량', '실질상품수량', '실질상품수량X주문수량', '브랜드', '상품명대분류', '용량',\n",
       "       '중량'],\n",
       "      dtype='object')"
      ]
     },
     "execution_count": 65,
     "metadata": {},
     "output_type": "execute_result"
    }
   ],
   "source": [
    "df_n.columns"
   ]
  },
  {
   "cell_type": "code",
   "execution_count": 66,
   "metadata": {},
   "outputs": [
    {
     "data": {
      "text/html": [
       "<div>\n",
       "<style scoped>\n",
       "    .dataframe tbody tr th:only-of-type {\n",
       "        vertical-align: middle;\n",
       "    }\n",
       "\n",
       "    .dataframe tbody tr th {\n",
       "        vertical-align: top;\n",
       "    }\n",
       "\n",
       "    .dataframe thead th {\n",
       "        text-align: right;\n",
       "    }\n",
       "</style>\n",
       "<table border=\"1\" class=\"dataframe\">\n",
       "  <thead>\n",
       "    <tr style=\"text-align: right;\">\n",
       "      <th></th>\n",
       "      <th>주문수량</th>\n",
       "      <th>매출액</th>\n",
       "    </tr>\n",
       "  </thead>\n",
       "  <tbody>\n",
       "    <tr>\n",
       "      <th>87939</th>\n",
       "      <td>0</td>\n",
       "      <td>0</td>\n",
       "    </tr>\n",
       "    <tr>\n",
       "      <th>105290</th>\n",
       "      <td>0</td>\n",
       "      <td>0</td>\n",
       "    </tr>\n",
       "    <tr>\n",
       "      <th>105361</th>\n",
       "      <td>0</td>\n",
       "      <td>0</td>\n",
       "    </tr>\n",
       "    <tr>\n",
       "      <th>105828</th>\n",
       "      <td>0</td>\n",
       "      <td>0</td>\n",
       "    </tr>\n",
       "    <tr>\n",
       "      <th>106110</th>\n",
       "      <td>0</td>\n",
       "      <td>0</td>\n",
       "    </tr>\n",
       "    <tr>\n",
       "      <th>...</th>\n",
       "      <td>...</td>\n",
       "      <td>...</td>\n",
       "    </tr>\n",
       "    <tr>\n",
       "      <th>170771</th>\n",
       "      <td>0</td>\n",
       "      <td>0</td>\n",
       "    </tr>\n",
       "    <tr>\n",
       "      <th>171136</th>\n",
       "      <td>2</td>\n",
       "      <td>17960</td>\n",
       "    </tr>\n",
       "    <tr>\n",
       "      <th>171156</th>\n",
       "      <td>1</td>\n",
       "      <td>8850</td>\n",
       "    </tr>\n",
       "    <tr>\n",
       "      <th>171877</th>\n",
       "      <td>1</td>\n",
       "      <td>8980</td>\n",
       "    </tr>\n",
       "    <tr>\n",
       "      <th>172043</th>\n",
       "      <td>2</td>\n",
       "      <td>17470</td>\n",
       "    </tr>\n",
       "  </tbody>\n",
       "</table>\n",
       "<p>87 rows × 2 columns</p>\n",
       "</div>"
      ],
      "text/plain": [
       "        주문수량    매출액\n",
       "87939      0      0\n",
       "105290     0      0\n",
       "105361     0      0\n",
       "105828     0      0\n",
       "106110     0      0\n",
       "...      ...    ...\n",
       "170771     0      0\n",
       "171136     2  17960\n",
       "171156     1   8850\n",
       "171877     1   8980\n",
       "172043     2  17470\n",
       "\n",
       "[87 rows x 2 columns]"
      ]
     },
     "execution_count": 66,
     "metadata": {},
     "output_type": "execute_result"
    }
   ],
   "source": [
    "df_n[df_n['자재명'] == '더비비고_수삼갈비탕500G/상온'][['주문수량','매출액']]\n",
    "#개당 8000원"
   ]
  },
  {
   "cell_type": "code",
   "execution_count": 67,
   "metadata": {},
   "outputs": [
    {
     "data": {
      "text/html": [
       "<div>\n",
       "<style scoped>\n",
       "    .dataframe tbody tr th:only-of-type {\n",
       "        vertical-align: middle;\n",
       "    }\n",
       "\n",
       "    .dataframe tbody tr th {\n",
       "        vertical-align: top;\n",
       "    }\n",
       "\n",
       "    .dataframe thead th {\n",
       "        text-align: right;\n",
       "    }\n",
       "</style>\n",
       "<table border=\"1\" class=\"dataframe\">\n",
       "  <thead>\n",
       "    <tr style=\"text-align: right;\">\n",
       "      <th></th>\n",
       "      <th>주문수량</th>\n",
       "      <th>매출액</th>\n",
       "    </tr>\n",
       "  </thead>\n",
       "  <tbody>\n",
       "    <tr>\n",
       "      <th>286</th>\n",
       "      <td>0</td>\n",
       "      <td>0</td>\n",
       "    </tr>\n",
       "    <tr>\n",
       "      <th>435</th>\n",
       "      <td>6</td>\n",
       "      <td>23330</td>\n",
       "    </tr>\n",
       "    <tr>\n",
       "      <th>526</th>\n",
       "      <td>6</td>\n",
       "      <td>25450</td>\n",
       "    </tr>\n",
       "    <tr>\n",
       "      <th>558</th>\n",
       "      <td>6</td>\n",
       "      <td>24570</td>\n",
       "    </tr>\n",
       "    <tr>\n",
       "      <th>563</th>\n",
       "      <td>6</td>\n",
       "      <td>23330</td>\n",
       "    </tr>\n",
       "    <tr>\n",
       "      <th>...</th>\n",
       "      <td>...</td>\n",
       "      <td>...</td>\n",
       "    </tr>\n",
       "    <tr>\n",
       "      <th>169863</th>\n",
       "      <td>6</td>\n",
       "      <td>26920</td>\n",
       "    </tr>\n",
       "    <tr>\n",
       "      <th>170039</th>\n",
       "      <td>6</td>\n",
       "      <td>26450</td>\n",
       "    </tr>\n",
       "    <tr>\n",
       "      <th>170773</th>\n",
       "      <td>6</td>\n",
       "      <td>28900</td>\n",
       "    </tr>\n",
       "    <tr>\n",
       "      <th>171087</th>\n",
       "      <td>6</td>\n",
       "      <td>26450</td>\n",
       "    </tr>\n",
       "    <tr>\n",
       "      <th>171507</th>\n",
       "      <td>6</td>\n",
       "      <td>26450</td>\n",
       "    </tr>\n",
       "  </tbody>\n",
       "</table>\n",
       "<p>582 rows × 2 columns</p>\n",
       "</div>"
      ],
      "text/plain": [
       "        주문수량    매출액\n",
       "286        0      0\n",
       "435        6  23330\n",
       "526        6  25450\n",
       "558        6  24570\n",
       "563        6  23330\n",
       "...      ...    ...\n",
       "169863     6  26920\n",
       "170039     6  26450\n",
       "170773     6  28900\n",
       "171087     6  26450\n",
       "171507     6  26450\n",
       "\n",
       "[582 rows x 2 columns]"
      ]
     },
     "execution_count": 67,
     "metadata": {},
     "output_type": "execute_result"
    }
   ],
   "source": [
    "df_n[df_n['자재명'] == '비비고/갈비탕 400G_18입/상온'][['주문수량','매출액']]\n",
    "#개당 4000원"
   ]
  },
  {
   "cell_type": "code",
   "execution_count": 68,
   "metadata": {},
   "outputs": [
    {
     "data": {
      "text/plain": [
       "Y    76\n",
       "N    11\n",
       "Name: 사은품여부, dtype: int64"
      ]
     },
     "execution_count": 68,
     "metadata": {},
     "output_type": "execute_result"
    }
   ],
   "source": [
    "gift[gift['자재명'] =='더비비고_수삼갈비탕500G/상온']['사은품여부'].value_counts()"
   ]
  },
  {
   "cell_type": "code",
   "execution_count": 69,
   "metadata": {},
   "outputs": [
    {
     "data": {
      "text/plain": [
       "N    562\n",
       "Y     20\n",
       "Name: 사은품여부, dtype: int64"
      ]
     },
     "execution_count": 69,
     "metadata": {},
     "output_type": "execute_result"
    }
   ],
   "source": [
    "gift[gift['자재명'] =='비비고/갈비탕 400G_18입/상온']['사은품여부'].value_counts()"
   ]
  },
  {
   "attachments": {},
   "cell_type": "markdown",
   "metadata": {},
   "source": [
    "---\n",
    "# 탕수육 \n",
    "### 유의미한 결과 X"
   ]
  },
  {
   "cell_type": "code",
   "execution_count": 70,
   "metadata": {},
   "outputs": [
    {
     "data": {
      "text/plain": [
       "Series([], Name: 자재명, dtype: int64)"
      ]
     },
     "execution_count": 70,
     "metadata": {},
     "output_type": "execute_result"
    }
   ],
   "source": [
    "gift_n[gift_n['상품명대분류']=='탕수육']['자재명'].value_counts()"
   ]
  },
  {
   "cell_type": "code",
   "execution_count": 71,
   "metadata": {},
   "outputs": [
    {
     "data": {
      "text/plain": [
       "Y    70\n",
       "N     8\n",
       "Name: 사은품여부, dtype: int64"
      ]
     },
     "execution_count": 71,
     "metadata": {},
     "output_type": "execute_result"
    }
   ],
   "source": [
    "gift[gift['자재명'] =='고메 바삭쫄깃한 탕수육 900G_EBIZ/냉동']['사은품여부'].value_counts()"
   ]
  },
  {
   "attachments": {},
   "cell_type": "markdown",
   "metadata": {},
   "source": [
    "----"
   ]
  },
  {
   "cell_type": "code",
   "execution_count": 73,
   "metadata": {},
   "outputs": [
    {
     "data": {
      "text/plain": [
       "220        \n",
       "449        \n",
       "799        \n",
       "802        \n",
       "952        \n",
       "         ..\n",
       "171135     \n",
       "171157     \n",
       "171160     \n",
       "171878     \n",
       "172044     \n",
       "Name: 상품명대분류, Length: 685, dtype: object"
      ]
     },
     "execution_count": 73,
     "metadata": {},
     "output_type": "execute_result"
    }
   ],
   "source": [
    "df_n[df_n['상품명대분류'] == '']['상품명대분류']"
   ]
  }
 ],
 "metadata": {
  "kernelspec": {
   "display_name": "kwix",
   "language": "python",
   "name": "python3"
  },
  "language_info": {
   "codemirror_mode": {
    "name": "ipython",
    "version": 3
   },
   "file_extension": ".py",
   "mimetype": "text/x-python",
   "name": "python",
   "nbconvert_exporter": "python",
   "pygments_lexer": "ipython3",
   "version": "3.9.7"
  },
  "orig_nbformat": 4
 },
 "nbformat": 4,
 "nbformat_minor": 2
}
