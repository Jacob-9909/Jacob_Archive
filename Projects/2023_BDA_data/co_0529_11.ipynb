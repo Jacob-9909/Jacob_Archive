{
 "cells": [
  {
   "cell_type": "code",
   "execution_count": 2,
   "metadata": {},
   "outputs": [
    {
     "name": "stderr",
     "output_type": "stream",
     "text": [
      "c:\\Users\\wooyong\\anaconda3\\envs\\kwix\\lib\\site-packages\\tqdm\\auto.py:22: TqdmWarning: IProgress not found. Please update jupyter and ipywidgets. See https://ipywidgets.readthedocs.io/en/stable/user_install.html\n",
      "  from .autonotebook import tqdm as notebook_tqdm\n",
      "<frozen importlib._bootstrap>:228: RuntimeWarning: scipy._lib.messagestream.MessageStream size changed, may indicate binary incompatibility. Expected 56 from C header, got 64 from PyObject\n",
      "C:\\Users\\wooyong\\AppData\\Local\\Temp/ipykernel_17512/2378865906.py:3: DeprecationWarning: `import pandas_profiling` is going to be deprecated by April 1st. Please use `import ydata_profiling` instead.\n",
      "  import pandas_profiling as pp\n"
     ]
    }
   ],
   "source": [
    "import pandas as pd\n",
    "import numpy as np\n",
    "import pandas_profiling as pp\n",
    "import matplotlib.pyplot as plt\n",
    "import seaborn as sns\n",
    "import re\n",
    "import datetime\n",
    "from datetime import timedelta, datetime\n",
    "\n",
    "sns.set_theme(style='whitegrid', font_scale=1.5)\n",
    "sns.set_palette('Set2', n_colors=10)\n",
    "plt.rc('font', family='malgun gothic')\n",
    "plt.rc('axes', unicode_minus=False) "
   ]
  },
  {
   "cell_type": "code",
   "execution_count": 3,
   "metadata": {},
   "outputs": [],
   "source": [
    "# df_1111 = pd.read_excel('track1_11번가.xlsx',sheet_name = None)\n",
    "# df_11nnn = pd.read_excel('track1_네이버.xls',sheet_name = None)\n",
    "\n",
    "# sheets_11 = list(df_1111.keys())\n",
    "# df_11 = pd.DataFrame([])\n",
    "\n",
    "# for i in sheets_11:\n",
    "#     df1 = pd.read_excel('track1_11번가.xlsx',sheet_name = i)\n",
    "#     df1['날짜'] = i\n",
    "#     df_11 = pd.concat([df_11, df1])\n",
    "\n",
    "# sheets_n = list(df_11nnn.keys())\n",
    "# df_11 = pd.DataFrame([])\n",
    "\n",
    "# for i in sheets_n:\n",
    "#     df2 = pd.read_excel('track1_네이버.xls',sheet_name = i)\n",
    "#     df2['날짜'] = i\n",
    "#     df_11 = pd.concat([df_11, df2])\n",
    "    \n",
    "\n",
    "# report = df_11.profile_report(title='네이버 데이터')\n",
    "# report.to_file('네이버 데이터.html')\n",
    "# report = df_11.profile_report(title='11번가 데이터')\n",
    "# report.to_file('11번가 데이터.html')"
   ]
  },
  {
   "cell_type": "code",
   "execution_count": 4,
   "metadata": {},
   "outputs": [],
   "source": [
    "# df_11.to_pickle('df_11.pkl')\n",
    "# df_11.to_pickle('df_11.pkl')\n",
    "df_11 = pd.read_pickle('df_11.pkl')\n",
    "df_11.reset_index(drop= True,inplace=True)"
   ]
  },
  {
   "cell_type": "code",
   "execution_count": 5,
   "metadata": {},
   "outputs": [],
   "source": [
    "# df_11['주문일'] 날짜형식으로 전환 및 요일\n",
    "df_11['주문일'] = pd.to_datetime(df_11['주문일'], format = '%Y%m%d')\n",
    "df_11.insert(3, '구매연도', df_11['주문일'].dt.year)\n",
    "df_11.insert(4, '구매월', df_11['주문일'].dt.month)\n",
    "df_11.insert(5, '구매일', df_11['주문일'].dt.day)\n",
    "df_11.insert(6, '구매요일', df_11['주문일'].dt.day_name('ko_KR'))\n",
    "\n",
    "\n",
    "#운송장 등록일자 기준 도착일 지정, 운송장 등록 기준 반나절내에 택배사 도착, 12시 이후는 다음날로 설정함\n",
    "df_11['운송장등록일자'] = pd.to_datetime(df_11['운송장등록일자'])\n",
    "df_11['운송장등록일자_시간'] = df_11['운송장등록일자'].dt.time\n",
    "df_11.insert(10,'운송장등록_도착날짜',df_11['운송장등록일자'].dt.floor('D'))\n",
    "df_11.loc[df_11['운송장등록일자_시간'] >= pd.to_datetime('12:00:00').time(), '운송장등록_도착날짜'] = df_11.loc[df_11['운송장등록일자_시간'] >= pd.to_datetime('12:00:00').time(), '운송장등록_도착날짜'] + pd.DateOffset(days=1)\n",
    "\n",
    "\n",
    "#배송기간 설정\n",
    "df_11.insert(12,'배송기간',df_11['운송장등록_도착날짜'] - df_11['주문일'])\n",
    "\n",
    "# 주문일의 요일에 따라 주말 또는 평일로 구분하는 컬럼 생성\n",
    "df_11['요일'] = df_11['주문일'].dt.weekday\n",
    "df_11.insert(7,'평일/주말',df_11['요일'].apply(lambda x: '주말' if x >= 5 else '평일') )\n",
    "\n",
    "#필요없는 셀 정리\n",
    "df_11.drop(columns = ['날짜','요일','운송장등록일자_시간'],inplace=True)"
   ]
  },
  {
   "cell_type": "code",
   "execution_count": 6,
   "metadata": {},
   "outputs": [
    {
     "data": {
      "text/html": [
       "<div>\n",
       "<style scoped>\n",
       "    .dataframe tbody tr th:only-of-type {\n",
       "        vertical-align: middle;\n",
       "    }\n",
       "\n",
       "    .dataframe tbody tr th {\n",
       "        vertical-align: top;\n",
       "    }\n",
       "\n",
       "    .dataframe thead th {\n",
       "        text-align: right;\n",
       "    }\n",
       "</style>\n",
       "<table border=\"1\" class=\"dataframe\">\n",
       "  <thead>\n",
       "    <tr style=\"text-align: right;\">\n",
       "      <th></th>\n",
       "      <th>거래처</th>\n",
       "      <th>거래처주문번호</th>\n",
       "      <th>주문일</th>\n",
       "      <th>구매연도</th>\n",
       "      <th>구매월</th>\n",
       "      <th>구매일</th>\n",
       "      <th>구매요일</th>\n",
       "      <th>평일/주말</th>\n",
       "      <th>사은품여부</th>\n",
       "      <th>출고예정일</th>\n",
       "      <th>...</th>\n",
       "      <th>자재명</th>\n",
       "      <th>초기자재수량</th>\n",
       "      <th>주문수량</th>\n",
       "      <th>취소수량</th>\n",
       "      <th>반품수량</th>\n",
       "      <th>배송유형</th>\n",
       "      <th>마감구분</th>\n",
       "      <th>플랜트 정보</th>\n",
       "      <th>단독배송여부</th>\n",
       "      <th>GS홈쇼핑주문번호</th>\n",
       "    </tr>\n",
       "  </thead>\n",
       "  <tbody>\n",
       "    <tr>\n",
       "      <th>29030</th>\n",
       "      <td>외부몰_직거래_11번가(신)</td>\n",
       "      <td>20220507433016811</td>\n",
       "      <td>2022-05-08</td>\n",
       "      <td>2022</td>\n",
       "      <td>5</td>\n",
       "      <td>8</td>\n",
       "      <td>일요일</td>\n",
       "      <td>주말</td>\n",
       "      <td>N</td>\n",
       "      <td>20220515</td>\n",
       "      <td>...</td>\n",
       "      <td>하얀설탕3KG_6개입/상온</td>\n",
       "      <td>12</td>\n",
       "      <td>12</td>\n",
       "      <td>0</td>\n",
       "      <td>0</td>\n",
       "      <td>택배배송</td>\n",
       "      <td>상온</td>\n",
       "      <td>동탄센터 &gt; 동탄일반</td>\n",
       "      <td>N</td>\n",
       "      <td>NaN</td>\n",
       "    </tr>\n",
       "    <tr>\n",
       "      <th>30926</th>\n",
       "      <td>외부몰_직거래_11번가(신)</td>\n",
       "      <td>20220508433044536</td>\n",
       "      <td>2022-05-08</td>\n",
       "      <td>2022</td>\n",
       "      <td>5</td>\n",
       "      <td>8</td>\n",
       "      <td>일요일</td>\n",
       "      <td>주말</td>\n",
       "      <td>N</td>\n",
       "      <td>20220515</td>\n",
       "      <td>...</td>\n",
       "      <td>다담/부대찌개양념 140G/24입/냉장</td>\n",
       "      <td>3</td>\n",
       "      <td>3</td>\n",
       "      <td>0</td>\n",
       "      <td>0</td>\n",
       "      <td>택배배송</td>\n",
       "      <td>냉장</td>\n",
       "      <td>동탄센터 &gt; 동탄일반</td>\n",
       "      <td>N</td>\n",
       "      <td>NaN</td>\n",
       "    </tr>\n",
       "    <tr>\n",
       "      <th>30927</th>\n",
       "      <td>외부몰_직거래_11번가(신)</td>\n",
       "      <td>20220508433044536</td>\n",
       "      <td>2022-05-08</td>\n",
       "      <td>2022</td>\n",
       "      <td>5</td>\n",
       "      <td>8</td>\n",
       "      <td>일요일</td>\n",
       "      <td>주말</td>\n",
       "      <td>N</td>\n",
       "      <td>20220515</td>\n",
       "      <td>...</td>\n",
       "      <td>다담/마파두부양념150G/냉장</td>\n",
       "      <td>3</td>\n",
       "      <td>3</td>\n",
       "      <td>0</td>\n",
       "      <td>0</td>\n",
       "      <td>택배배송</td>\n",
       "      <td>냉장</td>\n",
       "      <td>동탄센터 &gt; 동탄일반</td>\n",
       "      <td>N</td>\n",
       "      <td>NaN</td>\n",
       "    </tr>\n",
       "  </tbody>\n",
       "</table>\n",
       "<p>3 rows × 34 columns</p>\n",
       "</div>"
      ],
      "text/plain": [
       "                   거래처            거래처주문번호        주문일  구매연도  구매월  구매일 구매요일  \\\n",
       "29030  외부몰_직거래_11번가(신)  20220507433016811 2022-05-08  2022    5    8  일요일   \n",
       "30926  외부몰_직거래_11번가(신)  20220508433044536 2022-05-08  2022    5    8  일요일   \n",
       "30927  외부몰_직거래_11번가(신)  20220508433044536 2022-05-08  2022    5    8  일요일   \n",
       "\n",
       "      평일/주말 사은품여부     출고예정일  ...                    자재명 초기자재수량 주문수량 취소수량 반품수량  \\\n",
       "29030    주말     N  20220515  ...         하얀설탕3KG_6개입/상온     12   12    0    0   \n",
       "30926    주말     N  20220515  ...  다담/부대찌개양념 140G/24입/냉장      3    3    0    0   \n",
       "30927    주말     N  20220515  ...       다담/마파두부양념150G/냉장      3    3    0    0   \n",
       "\n",
       "       배송유형 마감구분       플랜트 정보  단독배송여부  GS홈쇼핑주문번호  \n",
       "29030  택배배송   상온  동탄센터 > 동탄일반       N        NaN  \n",
       "30926  택배배송   냉장  동탄센터 > 동탄일반       N        NaN  \n",
       "30927  택배배송   냉장  동탄센터 > 동탄일반       N        NaN  \n",
       "\n",
       "[3 rows x 34 columns]"
      ]
     },
     "execution_count": 6,
     "metadata": {},
     "output_type": "execute_result"
    }
   ],
   "source": [
    "# 타켓으로 할 기념일 선정\n",
    "기념일 = {'어린이날': '20220505',\n",
    "          '어버이날': '20220508'}\n",
    "\n",
    "# 기념일부터 일주일 전의기간 추출\n",
    "기념일주간 = {}\n",
    "for key, value in 기념일.items():\n",
    "    기념일주간[key] = []\n",
    "    기념일_날짜 = datetime.strptime(value, '%Y%m%d')\n",
    "    주간_시작 = 기념일_날짜 - timedelta(weeks=1)\n",
    "        \n",
    "    # 주간 범위 내 모든 날짜 추가 (5월 이상만)\n",
    "    while 주간_시작 <= 기념일_날짜:\n",
    "        if 주간_시작.month == 5:\n",
    "            기념일주간[key].append(주간_시작.strftime('%Y-%m-%d'))\n",
    "        주간_시작 += timedelta(days=1)\n",
    "\n",
    "기념일df_11 = df_11[df_11['주문일'].isin([date for lst in 기념일주간.values() for date in lst])];기념일df_11.head(3)\n"
   ]
  },
  {
   "cell_type": "code",
   "execution_count": 7,
   "metadata": {},
   "outputs": [],
   "source": [
    "#자재명을 str타입으로 변경\n",
    "df_11['자재명'] = df_11['자재명'].astype(str)"
   ]
  },
  {
   "cell_type": "code",
   "execution_count": 8,
   "metadata": {},
   "outputs": [],
   "source": [
    "# 정규 표현식 패턴을 사용하여 *뒤의 숫자와 EA앞의 숫자를 추출\n",
    "pattern1 = r'(?<=G\\*)\\d+'\n",
    "pattern2 = r'(?<=\\b)\\d+(?=EA\\b)'\n",
    "\n",
    "def extract_numbers(text):\n",
    "    if '*' in text:\n",
    "        match = re.search(pattern1, text)\n",
    "        if match:\n",
    "            return match.group()\n",
    "    elif 'EA' in text:\n",
    "        match = re.search(pattern2, text)\n",
    "        if match:\n",
    "            return match.group()\n",
    "    return None\n",
    "\n",
    "df_11['실제_상품수량'] = df_11['자재명'].apply(extract_numbers)"
   ]
  },
  {
   "cell_type": "code",
   "execution_count": 9,
   "metadata": {},
   "outputs": [],
   "source": [
    "def extract_numbers(text):\n",
    "    if '*' in text:\n",
    "        match = re.search(pattern1, text)\n",
    "        if match:\n",
    "            return match.group()\n",
    "    elif 'EA' in text:\n",
    "        match = re.search(pattern2, text)\n",
    "        if match:\n",
    "            return match.group()\n",
    "    else:\n",
    "        return 0\n",
    "    return None\n",
    "\n",
    "df_11['실질상품수량'] = df_11['자재명'].apply(extract_numbers)"
   ]
  },
  {
   "cell_type": "code",
   "execution_count": 10,
   "metadata": {},
   "outputs": [
    {
     "data": {
      "text/html": [
       "<div>\n",
       "<style scoped>\n",
       "    .dataframe tbody tr th:only-of-type {\n",
       "        vertical-align: middle;\n",
       "    }\n",
       "\n",
       "    .dataframe tbody tr th {\n",
       "        vertical-align: top;\n",
       "    }\n",
       "\n",
       "    .dataframe thead th {\n",
       "        text-align: right;\n",
       "    }\n",
       "</style>\n",
       "<table border=\"1\" class=\"dataframe\">\n",
       "  <thead>\n",
       "    <tr style=\"text-align: right;\">\n",
       "      <th></th>\n",
       "      <th>실질상품수량</th>\n",
       "      <th>주문수량</th>\n",
       "      <th>실질상품수량X주문수량</th>\n",
       "    </tr>\n",
       "  </thead>\n",
       "  <tbody>\n",
       "    <tr>\n",
       "      <th>10</th>\n",
       "      <td>2</td>\n",
       "      <td>0</td>\n",
       "      <td>0</td>\n",
       "    </tr>\n",
       "    <tr>\n",
       "      <th>11</th>\n",
       "      <td>2</td>\n",
       "      <td>0</td>\n",
       "      <td>0</td>\n",
       "    </tr>\n",
       "    <tr>\n",
       "      <th>18</th>\n",
       "      <td>2</td>\n",
       "      <td>1</td>\n",
       "      <td>2</td>\n",
       "    </tr>\n",
       "    <tr>\n",
       "      <th>19</th>\n",
       "      <td>2</td>\n",
       "      <td>2</td>\n",
       "      <td>4</td>\n",
       "    </tr>\n",
       "    <tr>\n",
       "      <th>25</th>\n",
       "      <td>2</td>\n",
       "      <td>1</td>\n",
       "      <td>2</td>\n",
       "    </tr>\n",
       "    <tr>\n",
       "      <th>...</th>\n",
       "      <td>...</td>\n",
       "      <td>...</td>\n",
       "      <td>...</td>\n",
       "    </tr>\n",
       "    <tr>\n",
       "      <th>172420</th>\n",
       "      <td>2</td>\n",
       "      <td>1</td>\n",
       "      <td>2</td>\n",
       "    </tr>\n",
       "    <tr>\n",
       "      <th>172421</th>\n",
       "      <td>2</td>\n",
       "      <td>2</td>\n",
       "      <td>4</td>\n",
       "    </tr>\n",
       "    <tr>\n",
       "      <th>172431</th>\n",
       "      <td>2</td>\n",
       "      <td>1</td>\n",
       "      <td>2</td>\n",
       "    </tr>\n",
       "    <tr>\n",
       "      <th>172432</th>\n",
       "      <td>2</td>\n",
       "      <td>1</td>\n",
       "      <td>2</td>\n",
       "    </tr>\n",
       "    <tr>\n",
       "      <th>172433</th>\n",
       "      <td>2</td>\n",
       "      <td>1</td>\n",
       "      <td>2</td>\n",
       "    </tr>\n",
       "  </tbody>\n",
       "</table>\n",
       "<p>34808 rows × 3 columns</p>\n",
       "</div>"
      ],
      "text/plain": [
       "        실질상품수량  주문수량  실질상품수량X주문수량\n",
       "10           2     0            0\n",
       "11           2     0            0\n",
       "18           2     1            2\n",
       "19           2     2            4\n",
       "25           2     1            2\n",
       "...        ...   ...          ...\n",
       "172420       2     1            2\n",
       "172421       2     2            4\n",
       "172431       2     1            2\n",
       "172432       2     1            2\n",
       "172433       2     1            2\n",
       "\n",
       "[34808 rows x 3 columns]"
      ]
     },
     "execution_count": 10,
     "metadata": {},
     "output_type": "execute_result"
    }
   ],
   "source": [
    "df_11['실질상품수량'].fillna(1, inplace=True)\n",
    "df_11['실질상품수량'] = df_11['실질상품수량'].astype(int)\n",
    "\n",
    "#앞으로 수량으로 사용할 새로운 컬럼 정의\n",
    "df_11['실질상품수량X주문수량'] = df_11['실질상품수량'] * df_11['주문수량']\n",
    "df_11.query('실질상품수량 != 0')[['실질상품수량','주문수량','실질상품수량X주문수량']]"
   ]
  },
  {
   "cell_type": "code",
   "execution_count": 11,
   "metadata": {},
   "outputs": [],
   "source": [
    "#브랜드명 추출\n",
    "pattern = r'(비비고|햇반|고메|백설|다시다|다담|스팸|맛밤|맛군밤|맥스봉|더건강한|즐거운동행|쁘띠첼|산들애|설탕|밥이랑|크레잇|밸런스밀|쿡킷|올리고당|요리당|물엿|식초|참좋은 조미김가루|천일염|파스타소스|가루|시럽|하선정|소금|알찬소시지|아메리칸스타일포크|빅소시지|행복한콩|고급면용|쉐프솔루션|푸드웨어|파우더|남원|물로만끓여도|유|기름|믹스|중력|박력|강력|분|고추장|된장|쌈장|비빔장|톡톡까먹어밤|한식예찬|아이미|쉐프솔루션|동그랑땡|CJ|특별한선택|함흥비빔냉면소스|프레시안구이|고기팡팡미트볼|고단백 두부면|미정당|오리지널후랑크|햄스빌|한입쏙 비엔나|프레시안|아티장|가쓰오|4무|주부초밥왕|제일제면소|삼호|얼큰우동|오리지널부어스트|청양초 매운물냉면|씨제이)'\n",
    "\n",
    "def extract_brand(text):\n",
    "    match = re.search(pattern, text)\n",
    "    if match:\n",
    "        return match.group()\n",
    "    else:\n",
    "        return None\n",
    "\n",
    "df_11['브랜드'] = df_11['자재명'].apply(extract_brand)\n"
   ]
  },
  {
   "cell_type": "code",
   "execution_count": 12,
   "metadata": {},
   "outputs": [],
   "source": [
    "# 자재명에 브랜드명이 포함되지 않은 상품들 브랜드로 변경\n",
    "brand_mapping = {'남원' : '씨제이', '맛군밤' : '맛밤', '밥이랑' : '백설', '물로만 끓여도' : '해찬들', '유' : '백설', '기름' : '백설', '설탕' : '백설', '고추장' : '해찬들', '된장' : '해찬들', '쌈장' : '해찬들', '비빔장' : '해찬들', '함흥비빔냉면소스' : '씨제이', '고단백 두부면' : '즐거운 동행', '밸런스밀' : '씨제이', '요리당' : '백설', '올리고당' : '백설', '가루' : '백설', '참좋은 조미김가루' : '씨제이', '믹스' : '백설', '중력' : '백설', '박력' : '백설' ,'강력' : '백설', '분' : '백설', '소금': '백설', '식초' : '백설',\n",
    "'물엿' : '백설',\n",
    "'천일염' : '백설',\n",
    "'시럽' : '메티에',\n",
    "'파스타소스' : '백설',\n",
    "'고급면용' : '백설',\n",
    "'톡톡까먹어밤' : '씨제이',\n",
    "'한식예찬' : '백설',\n",
    "'아이미' : '백설',\n",
    "'쉐프솔루션' : '씨제이',\n",
    "'동그랑땡' : '백설',\n",
    "'특별한선택' : '씨제이',\n",
    "'CJ' : '씨제이',\n",
    "'프레시안구이' : '백설',\n",
    "'고기팡팡미트볼' : '씨제이',\n",
    "'미정당' : '즐거운동행',\n",
    "'오리지널후랑크' : '백설',\n",
    "'햄스빌' : '백설',\n",
    "'한입쏙 비엔나' : '백설',\n",
    "'프레시안' : '씨제이',\n",
    "'아티장' : '백설',\n",
    "'가쓰오' : '씨제이',\n",
    "'4무' : '하선정',\n",
    "'주부초밥왕' : '씨제이',\n",
    "'제일제면소' : '백설',\n",
    "'얼큰우동' : '씨제이',\n",
    "'오리지널부어스트' : '더건강한',\n",
    "'청양초 매운물냉면' : '씨제이',\n",
    "'물로만끓여도' : '해찬들',\n",
    "'파우더' : '메티에',\n",
    "'알찬소시지':'백설',\n",
    "'빅소시지' : '맥스봉',\n",
    "'아메리칸스타일포크':'씨제이',\n",
    "'푸드웨어' : '씨제이'}\n",
    "# '브랜드' 열의 값을 딕셔너리를 사용하여 변경\n",
    "df_11['브랜드'] = df_11['브랜드'].map(brand_mapping).fillna(df_11['브랜드'])"
   ]
  },
  {
   "cell_type": "code",
   "execution_count": 14,
   "metadata": {},
   "outputs": [],
   "source": [
    "#11번가에서는 햇반 상품들 뒤에 주먹밥이나 김치와 같은 다른 상품들의 이름이 기입이 되어 있는 상품이 많기 때문에 그걸 해결하고자 나머지 함술ㄹ 조금 변형함\n",
    "product_pattern = r'(주먹밥|양념|밀|쌈무|밀면|기름|력|가루|오이|스파게티|고급면|교자|쉐이크|쫄면|마늘|한우|요리유|짜장|치킨가라아게|감자전|쌀국수|치킨|부침가루|새우까스|소스|소고기|특별한선택 1호|설탕|두부|비지|콩기름|콩|포도씨유|고추장|쿡킷|카놀라유|튀김가루|쿠키|냉면|솔트|소금|믹스|식초|떡국|떡볶이|김치|막국수|쫄볶이|쫄면사리|간짜장|초밥|다시다|칼국수|소바|된장|해바라기유|김가루|밀가루|올리고당|요리당|파우더|옥수수유|군밤|우동|전골|올리브유|소시지|만두|드레싱|김자반|간장김|파래김|돌김|구이김|재래김|미역|구운김|김밥김|돈까스|신백설|너비아니|스팸|어묵|육수|마라탕면|비빔장|쌈장|쁘띠첼|사골곰탕|황태국|추어탕|육개장|찌개|볶음밥|설렁탕|죽|미역국|잡채|구이|오징어채볶음|불고기|배추|순댓국|장터국|장조림|소고기무국|삼계탕|사골곰탕|비빔밥|무말랭이|해물완자|동그랑땡|도가니|닭곰탕|장조림|묵은지|장조림|꼬리곰탕|깍두기|곤드레나물밥|멸치볶음|감자탕|갈비탕|야채고기말이|스파게티면|베이컨|소면|맛술|청|당면|밥이랑|바삭한요리유|물엿|청양초|차돌된장|바지락꽃게|천일염|맥스봉|맛밤|백숙|스테이크|햄|등심|후랑크|비엔나|샌드위치햄|닭가슴살|핫도그|미트볼|페스츄리|크림치즈파이|너겟|짬뽕|피자|스콘|크로와상|치즈볼|애플파이|깐풍기|탕수육|감자수제비가루|메밀생면|젓|소불고기|고구마|떡갈비|김말이|핫봉|돈카츠|함박|딤섬|시럽|소프트)'\n",
    "def extract_product(text):\n",
    "    if '햇반' in text:\n",
    "        return '햇반'\n",
    "    else:\n",
    "        pick = re.findall(product_pattern, text)\n",
    "        if pick:\n",
    "            for item in reversed(pick):\n",
    "                if item != '':\n",
    "                    return item\n",
    "    return ''\n",
    "\n",
    "\n",
    "df_11['상품명대분류'] = df_11['자재명'].apply(extract_product)\n",
    "\n"
   ]
  },
  {
   "cell_type": "code",
   "execution_count": 15,
   "metadata": {},
   "outputs": [],
   "source": [
    "#용량 추출하기\n",
    "pattern1 = r'(?<![A-Za-z])\\d+(?:\\.\\d+)?(?=[GgMLmlKGkg])'\n",
    "pattern2 = r'(?<=\\b)\\d+(?=[Ee][Aa]\\b)'\n",
    "pattern3 = r'(?<![A-Za-z])\\d+(?:\\.\\d+)?(?=[Mm][Ll]\\b)'\n",
    "\n",
    "def extract_numbers(text):\n",
    "    if re.search(pattern1, text):\n",
    "        matches = re.findall(pattern1, text)\n",
    "        if len(matches) > 1:\n",
    "            return '+'.join(matches)\n",
    "        else:\n",
    "            return matches[0]\n",
    "    elif re.search(pattern2, text):\n",
    "        match = re.search(pattern2, text)\n",
    "        return match.group()\n",
    "    elif re.search(pattern3, text):\n",
    "        match = re.search(pattern3, text)\n",
    "        return match.group()\n",
    "    return ''\n",
    "\n",
    "def combine_numbers(row):\n",
    "    if '+' in row['용량']:\n",
    "        numbers = row['용량'].split('+')\n",
    "        total = sum([float(num) for num in numbers])\n",
    "        return str(total)\n",
    "    return row['용량']\n",
    "\n",
    "def adjust_format(row):\n",
    "    if re.search(r'(?i)KG', row['자재명']):\n",
    "        return str(float(row['용량']) * 1000)\n",
    "    elif re.search(r'(?i)L', row['자재명']):\n",
    "        return str(float(row['용량']) * 1000)\n",
    "    elif re.search(r'(?i)G', row['자재명']):\n",
    "        return row['용량']\n",
    "    elif re.search(r'(?i)ML', row['자재명']):\n",
    "        return row['용량']\n",
    "    return row['용량']\n",
    "\n",
    "df_11['용량'] = df_11['자재명'].apply(extract_numbers)\n",
    "df_11['용량'] = df_11.apply(combine_numbers, axis=1)\n",
    "df_11['용량'] = df_11.apply(adjust_format, axis=1)"
   ]
  },
  {
   "attachments": {},
   "cell_type": "markdown",
   "metadata": {},
   "source": [
    "---"
   ]
  },
  {
   "attachments": {},
   "cell_type": "markdown",
   "metadata": {},
   "source": [
    "## 거래처"
   ]
  },
  {
   "cell_type": "code",
   "execution_count": 16,
   "metadata": {},
   "outputs": [
    {
     "data": {
      "text/plain": [
       "외부몰_직거래_11번가(신)    172443\n",
       "Name: 거래처, dtype: int64"
      ]
     },
     "execution_count": 16,
     "metadata": {},
     "output_type": "execute_result"
    }
   ],
   "source": [
    "# 거래처 컬럼 분석, '외부물_직거래_네이버(신) 단일값밖에 없음\n",
    "df_11['거래처'].value_counts()\n"
   ]
  },
  {
   "attachments": {},
   "cell_type": "markdown",
   "metadata": {},
   "source": [
    "## 주문일 "
   ]
  },
  {
   "cell_type": "code",
   "execution_count": 17,
   "metadata": {},
   "outputs": [
    {
     "data": {
      "text/plain": [
       "2022-04-11    0.254107\n",
       "2022-05-11    0.184154\n",
       "2022-05-25    0.073891\n",
       "2022-05-07    0.072059\n",
       "2022-04-27    0.039097\n",
       "Name: 주문일, dtype: float64"
      ]
     },
     "execution_count": 17,
     "metadata": {},
     "output_type": "execute_result"
    }
   ],
   "source": [
    "#사람들이 가장 많이 주문한 일은 6월 10일, 5월 17일, 6월 17일, 5월 18일, 6월 30일로 top5를 나눌 수 있음\n",
    "df_11['주문일'].value_counts(normalize = True).head(5)"
   ]
  },
  {
   "cell_type": "code",
   "execution_count": 18,
   "metadata": {},
   "outputs": [
    {
     "data": {
      "text/plain": [
       "교자     0.305187\n",
       "양념     0.165773\n",
       "만두     0.113900\n",
       "햇반     0.090144\n",
       "탕수육    0.031128\n",
       "Name: 상품명대분류, dtype: float64"
      ]
     },
     "execution_count": 18,
     "metadata": {},
     "output_type": "execute_result"
    }
   ],
   "source": [
    "#사람들이 가장 많이 주문한 일인 4월 11일에는 교자, 양념, 만두, 햇반\n",
    "df_11[df_11['주문일'] =='2022-04-11']['상품명대분류'].value_counts(normalize = True).head()"
   ]
  },
  {
   "cell_type": "code",
   "execution_count": 19,
   "metadata": {},
   "outputs": [
    {
     "data": {
      "text/plain": [
       "교자    0.284545\n",
       "양념    0.206071\n",
       "햇반    0.126149\n",
       "만두    0.092014\n",
       "구이    0.020469\n",
       "Name: 상품명대분류, dtype: float64"
      ]
     },
     "execution_count": 19,
     "metadata": {},
     "output_type": "execute_result"
    }
   ],
   "source": [
    "#사람들이 가장 많이 주문한 일인 5월 11일에는 교자, 양념, 햇반, 만두\n",
    "df_11[df_11['주문일'] =='2022-05-11']['상품명대분류'].value_counts(normalize = True).head()"
   ]
  },
  {
   "attachments": {},
   "cell_type": "markdown",
   "metadata": {},
   "source": [
    "날짜와 상관없이 햇반 만두 왕교자 상품은 주문일과 관계없이 판매상품들중에서 항상 우위를 점하는 것으로 보임, 그렇다면 그러한 상품들을 빼고 다시 상품들을 확인을 해야하는 건지?"
   ]
  },
  {
   "cell_type": "code",
   "execution_count": 20,
   "metadata": {},
   "outputs": [
    {
     "data": {
      "image/png": "[encoded data removed]",
      "text/plain": [
       "<Figure size 720x432 with 1 Axes>"
      ]
     },
     "metadata": {
      "needs_background": "light"
     },
     "output_type": "display_data"
    }
   ],
   "source": [
    "#주문일, 4월 11일과 5월 11일의 주문일이 몰려있는 경향 발견\n",
    "\n",
    "df_11['주문일'] = pd.to_datetime(df_11['주문일'])\n",
    "date_counts = df_11['주문일'].value_counts().sort_index()\n",
    "plt.figure(figsize=(10, 6))\n",
    "plt.hist(df_11['주문일'], bins='auto')\n",
    "plt.title('주문일 분포')\n",
    "plt.xlabel('날짜')\n",
    "plt.ylabel('빈도수')\n",
    "plt.xticks(rotation=45)\n",
    "plt.show()\n"
   ]
  },
  {
   "attachments": {},
   "cell_type": "markdown",
   "metadata": {},
   "source": [
    "## 사은품 여부 "
   ]
  },
  {
   "cell_type": "code",
   "execution_count": 21,
   "metadata": {},
   "outputs": [
    {
     "data": {
      "text/plain": [
       "짬뽕     109\n",
       "        95\n",
       "탕수육     42\n",
       "깐풍기     16\n",
       "짜장      13\n",
       "Name: 상품명대분류, dtype: int64"
      ]
     },
     "execution_count": 21,
     "metadata": {},
     "output_type": "execute_result"
    }
   ],
   "source": [
    "# 사은품여부, nan값을 제외한 상품들 중 사은품을 주는 상품들로는 꼬리곰탕, 백숫, 사골곰탕, 볶음밥의 비율이 제일 높았음  #가장 문제가 되는 nan값이 자재명에서 상품명대분류 컬럼을 방해하고 있음, 이값에 대한 정의가 필요함\n",
    "df_11[df_11['사은품여부'] == 'Y']['상품명대분류'].value_counts().head()\n"
   ]
  },
  {
   "attachments": {},
   "cell_type": "markdown",
   "metadata": {},
   "source": [
    "## 출고예정일 "
   ]
  },
  {
   "cell_type": "code",
   "execution_count": 22,
   "metadata": {},
   "outputs": [],
   "source": [
    "df_11['출고예정일'] = pd.to_datetime(df_11['출고예정일'], format = '%Y%m%d')"
   ]
  },
  {
   "cell_type": "code",
   "execution_count": 23,
   "metadata": {},
   "outputs": [
    {
     "data": {
      "text/plain": [
       "2022-04-13    0.157971\n",
       "2022-05-13    0.136770\n",
       "2022-04-12    0.075080\n",
       "2022-04-28    0.064456\n",
       "2022-05-27    0.052870\n",
       "Name: 출고예정일, dtype: float64"
      ]
     },
     "execution_count": 23,
     "metadata": {},
     "output_type": "execute_result"
    }
   ],
   "source": [
    "#출고예정일은 4월 13일, 5월 13일 순으로 점유율이 높음 #6월 10일과 5월 17일 # 출고예정일이 높게 나온 일들은 모두 주문일이 가장 높은 일수와 1~2일 차이가 나고 있음.\n",
    "df_11['출고예정일'].value_counts(normalize = True).head()"
   ]
  },
  {
   "cell_type": "code",
   "execution_count": 24,
   "metadata": {},
   "outputs": [
    {
     "data": {
      "image/png": "[encoded data removed]",
      "text/plain": [
       "<Figure size 720x432 with 1 Axes>"
      ]
     },
     "metadata": {
      "needs_background": "light"
     },
     "output_type": "display_data"
    }
   ],
   "source": [
    "df_11['출고예정일'] = pd.to_datetime(df_11['출고예정일'])\n",
    "date_counts = df_11['출고예정일'].value_counts().sort_index()\n",
    "plt.figure(figsize=(10, 6))\n",
    "plt.hist(df_11['출고예정일'], bins='auto')\n",
    "plt.title('출고예정일 분포')\n",
    "plt.xlabel('날짜')\n",
    "plt.ylabel('빈도수')\n",
    "plt.xticks(rotation=45)\n",
    "plt.show()\n"
   ]
  },
  {
   "attachments": {},
   "cell_type": "markdown",
   "metadata": {},
   "source": [
    "## 주문/배송상태 "
   ]
  },
  {
   "cell_type": "code",
   "execution_count": 25,
   "metadata": {},
   "outputs": [
    {
     "data": {
      "text/plain": [
       "배송 완료    0.977796\n",
       "주문취소     0.021943\n",
       "배송 취소    0.000110\n",
       "배송 중     0.000093\n",
       "배송 준비    0.000058\n",
       "Name: 주문/배송상태, dtype: float64"
      ]
     },
     "execution_count": 25,
     "metadata": {},
     "output_type": "execute_result"
    }
   ],
   "source": [
    "#주문/배송상태,  주문취소와 배송취소 항목을 확인하여 어떤 상품이 주문과 배송이 취소되었는 지 분석할 필요성이 있음\n",
    "df_11['주문/배송상태'].value_counts(normalize= True)"
   ]
  },
  {
   "cell_type": "code",
   "execution_count": 26,
   "metadata": {},
   "outputs": [
    {
     "data": {
      "text/plain": [
       "양념    0.255814\n",
       "교자    0.142178\n",
       "햇반    0.117600\n",
       "만두    0.063425\n",
       "죽     0.038848\n",
       "Name: 상품명대분류, dtype: float64"
      ]
     },
     "execution_count": 26,
     "metadata": {},
     "output_type": "execute_result"
    }
   ],
   "source": [
    "# 주문취소상품 양념 교자 햇반 만두 죽 \n",
    "df_11[df_11['주문/배송상태'] =='주문취소']['상품명대분류'].value_counts(normalize = True).head()"
   ]
  },
  {
   "cell_type": "code",
   "execution_count": 27,
   "metadata": {},
   "outputs": [
    {
     "data": {
      "text/plain": [
       "핫도그    0.315789\n",
       "냉면     0.157895\n",
       "햇반     0.157895\n",
       "만두     0.157895\n",
       "양념     0.105263\n",
       "Name: 상품명대분류, dtype: float64"
      ]
     },
     "execution_count": 27,
     "metadata": {},
     "output_type": "execute_result"
    }
   ],
   "source": [
    "# 배송취소상품 핫도그 냉면 햇반 만두 양념\n",
    "df_11[df_11['주문/배송상태'] =='배송 취소']['상품명대분류'].value_counts(normalize = True).head()"
   ]
  },
  {
   "cell_type": "code",
   "execution_count": 28,
   "metadata": {},
   "outputs": [
    {
     "data": {
      "text/plain": [
       "-        0.975076\n",
       "취소완료     0.021943\n",
       "반품처리중    0.001444\n",
       "교환완료     0.000899\n",
       "교환처리중    0.000632\n",
       "교환철회     0.000006\n",
       "Name: 클레임 상태, dtype: float64"
      ]
     },
     "execution_count": 28,
     "metadata": {},
     "output_type": "execute_result"
    }
   ],
   "source": [
    "#클레임상태  #주문/배송상태와는 다른 반품과 교환롼료 라는 항목이 들어있고, 그에 따른 분석 가능\n",
    "df_11['클레임 상태'].value_counts(normalize= True)"
   ]
  },
  {
   "cell_type": "code",
   "execution_count": 29,
   "metadata": {},
   "outputs": [
    {
     "data": {
      "text/plain": [
       "양념    0.255814\n",
       "교자    0.142178\n",
       "햇반    0.117600\n",
       "만두    0.063425\n",
       "죽     0.038848\n",
       "Name: 상품명대분류, dtype: float64"
      ]
     },
     "execution_count": 29,
     "metadata": {},
     "output_type": "execute_result"
    }
   ],
   "source": [
    "#주문취소상품과 동일한 퍼센트를 가지고 있음\n",
    "df_11[df_11['클레임 상태'] =='취소완료']['상품명대분류'].value_counts(normalize = True).head()"
   ]
  },
  {
   "cell_type": "code",
   "execution_count": 30,
   "metadata": {},
   "outputs": [
    {
     "data": {
      "text/plain": [
       "양념     0.160643\n",
       "교자     0.140562\n",
       "햇반     0.072289\n",
       "핫도그    0.068273\n",
       "만두     0.044177\n",
       "Name: 상품명대분류, dtype: float64"
      ]
     },
     "execution_count": 30,
     "metadata": {},
     "output_type": "execute_result"
    }
   ],
   "source": [
    "# 반품처리중 상품 햇반,설탕,볶음밥,구이,고추장\n",
    "df_11[df_11['클레임 상태'] =='반품처리중']['상품명대분류'].value_counts(normalize = True).head()"
   ]
  },
  {
   "cell_type": "code",
   "execution_count": 31,
   "metadata": {},
   "outputs": [],
   "source": [
    "weight=df_11['자재명']"
   ]
  },
  {
   "cell_type": "code",
   "execution_count": 32,
   "metadata": {},
   "outputs": [
    {
     "data": {
      "text/plain": [
       "0         400\n",
       "1         420\n",
       "2         420\n",
       "3         140\n",
       "4         140\n",
       "         ... \n",
       "172438    500\n",
       "172439    500\n",
       "172440    450\n",
       "172441    450\n",
       "172442    450\n",
       "Name: 중량, Length: 172443, dtype: object"
      ]
     },
     "execution_count": 32,
     "metadata": {},
     "output_type": "execute_result"
    }
   ],
   "source": [
    "df_11['중량'] = weight.str.extract(r'(\\d+)')\n",
    "df_11['중량']"
   ]
  },
  {
   "cell_type": "code",
   "execution_count": 33,
   "metadata": {},
   "outputs": [],
   "source": [
    "# # 중량 추출하기\n",
    "# df_11['중량'] = df_11['자재명'].str.extract('(\\d+G)')\n",
    "\n",
    "# # 새로운 컬럼 생성\n",
    "# df_11['중량(숫자)'] = df_11['중량'].str.extract('(\\d+)').astype(int)\n"
   ]
  },
  {
   "attachments": {},
   "cell_type": "markdown",
   "metadata": {},
   "source": [
    "-------"
   ]
  },
  {
   "cell_type": "code",
   "execution_count": 34,
   "metadata": {},
   "outputs": [],
   "source": [
    "plus = df_11[df_11['사은품여부'] =='Y']\n"
   ]
  },
  {
   "cell_type": "code",
   "execution_count": 35,
   "metadata": {},
   "outputs": [],
   "source": [
    "gift_11 = plus[['상품명','상품명대분류','자재명','브랜드','사은품여부','구매월']] #사은품여부가 Y 인 데이터\n",
    "gift = df_11[['상품명','상품명대분류','자재명','브랜드','사은품여부','구매월']] # 전체 데이터"
   ]
  },
  {
   "cell_type": "code",
   "execution_count": 40,
   "metadata": {},
   "outputs": [
    {
     "data": {
      "text/plain": [
       "고메/(리뉴얼)중화짬뽕/652G/냉동         109\n",
       "nan                           95\n",
       "고메 바삭쫄깃한 탕수육 450G/냉동          26\n",
       "고메 바삭촉촉한 깐풍기 450G/냉동          16\n",
       "CJ/고메/(리뉴얼)중화짜장/760G/냉동       13\n",
       "고메 바삭쫄깃한 탕수육 900G_EBIZ/냉동      9\n",
       "고메 바삭쫄깃한 사천탕수육 450G/냉동         7\n",
       "고메/중화게살볶음밥840G_4P/냉동           7\n",
       "고메/삼선해물볶음밥840G_4P/냉동           5\n",
       "비비고/수제진한김치만두400G*2/번들/냉동       3\n",
       "A)햇반/쿡반 김치치즈주먹밥 500G/냉동        3\n",
       "다담/청국장찌개양념 130G/24입/냉장         1\n",
       "고메치킨 달콤양념 550G/냉동              1\n",
       "다담/갈치조림양념150G/냉장               1\n",
       "고메치킨 후라이드 550G/냉동              1\n",
       "다담/정통된장찌개양념 140G/24입/냉장        1\n",
       "고메 순살치킨 허니 450G/냉동             1\n",
       "다담/순두부찌개양념 140G/24입/냉장         1\n",
       "햇반210G(36입)NEW/상온              1\n",
       "비비고/플랜테이블왕교자420G/냉동            1\n",
       "씨제이/흑당씨앗만두500G/냉동              1\n",
       "CJ제일제당 고메함박스테이크 540G/냉동        1\n",
       "비비고/매운왕교자 385G*2EA/냉동          1\n",
       "비비고/수제군교자 360G*2EA/번들/냉동       1\n",
       "비비고/수제소고기한섬320G*2/번들/냉동        1\n",
       "비비고/부추새우만두509G/냉동              1\n",
       "비비고/수제깔끔고기만두200G/냉동            1\n",
       "고메핫도그 크리스피 480G/냉동             1\n",
       "Name: 자재명, dtype: int64"
      ]
     },
     "execution_count": 40,
     "metadata": {},
     "output_type": "execute_result"
    }
   ],
   "source": [
    "df_11[df_11['사은품여부'] =='Y']['자재명'].value_counts()"
   ]
  },
  {
   "cell_type": "code",
   "execution_count": 37,
   "metadata": {},
   "outputs": [
    {
     "data": {
      "text/html": [
       "<div>\n",
       "<style scoped>\n",
       "    .dataframe tbody tr th:only-of-type {\n",
       "        vertical-align: middle;\n",
       "    }\n",
       "\n",
       "    .dataframe tbody tr th {\n",
       "        vertical-align: top;\n",
       "    }\n",
       "\n",
       "    .dataframe thead th {\n",
       "        text-align: right;\n",
       "    }\n",
       "</style>\n",
       "<table border=\"1\" class=\"dataframe\">\n",
       "  <thead>\n",
       "    <tr style=\"text-align: right;\">\n",
       "      <th></th>\n",
       "      <th>상품명</th>\n",
       "      <th>상품명대분류</th>\n",
       "      <th>자재명</th>\n",
       "      <th>브랜드</th>\n",
       "      <th>사은품여부</th>\n",
       "      <th>구매월</th>\n",
       "    </tr>\n",
       "  </thead>\n",
       "  <tbody>\n",
       "    <tr>\n",
       "      <th>83369</th>\n",
       "      <td>중화짬뽕652GX2개+(증정)</td>\n",
       "      <td>짬뽕</td>\n",
       "      <td>고메/(리뉴얼)중화짬뽕/652G/냉동</td>\n",
       "      <td>고메</td>\n",
       "      <td>Y</td>\n",
       "      <td>5</td>\n",
       "    </tr>\n",
       "    <tr>\n",
       "      <th>83370</th>\n",
       "      <td>고메/(리뉴얼)중화짬뽕/652G/냉동</td>\n",
       "      <td>짬뽕</td>\n",
       "      <td>고메/(리뉴얼)중화짬뽕/652G/냉동</td>\n",
       "      <td>고메</td>\n",
       "      <td>Y</td>\n",
       "      <td>5</td>\n",
       "    </tr>\n",
       "    <tr>\n",
       "      <th>84352</th>\n",
       "      <td>고메/(리뉴얼)중화짬뽕/652G/냉동</td>\n",
       "      <td>짬뽕</td>\n",
       "      <td>고메/(리뉴얼)중화짬뽕/652G/냉동</td>\n",
       "      <td>고메</td>\n",
       "      <td>Y</td>\n",
       "      <td>5</td>\n",
       "    </tr>\n",
       "    <tr>\n",
       "      <th>85659</th>\n",
       "      <td>고메/(리뉴얼)중화짬뽕/652G/냉동</td>\n",
       "      <td>짬뽕</td>\n",
       "      <td>고메/(리뉴얼)중화짬뽕/652G/냉동</td>\n",
       "      <td>고메</td>\n",
       "      <td>Y</td>\n",
       "      <td>5</td>\n",
       "    </tr>\n",
       "    <tr>\n",
       "      <th>85820</th>\n",
       "      <td>고메/(리뉴얼)중화짬뽕/652G/냉동</td>\n",
       "      <td>짬뽕</td>\n",
       "      <td>고메/(리뉴얼)중화짬뽕/652G/냉동</td>\n",
       "      <td>고메</td>\n",
       "      <td>Y</td>\n",
       "      <td>4</td>\n",
       "    </tr>\n",
       "    <tr>\n",
       "      <th>...</th>\n",
       "      <td>...</td>\n",
       "      <td>...</td>\n",
       "      <td>...</td>\n",
       "      <td>...</td>\n",
       "      <td>...</td>\n",
       "      <td>...</td>\n",
       "    </tr>\n",
       "    <tr>\n",
       "      <th>105820</th>\n",
       "      <td>고메/(리뉴얼)중화짬뽕/652G/냉동</td>\n",
       "      <td>짬뽕</td>\n",
       "      <td>고메/(리뉴얼)중화짬뽕/652G/냉동</td>\n",
       "      <td>고메</td>\n",
       "      <td>Y</td>\n",
       "      <td>4</td>\n",
       "    </tr>\n",
       "    <tr>\n",
       "      <th>105825</th>\n",
       "      <td>고메/(리뉴얼)중화짬뽕/652G/냉동</td>\n",
       "      <td>짬뽕</td>\n",
       "      <td>고메/(리뉴얼)중화짬뽕/652G/냉동</td>\n",
       "      <td>고메</td>\n",
       "      <td>Y</td>\n",
       "      <td>4</td>\n",
       "    </tr>\n",
       "    <tr>\n",
       "      <th>105880</th>\n",
       "      <td>고메/(리뉴얼)중화짬뽕/652G/냉동</td>\n",
       "      <td>짬뽕</td>\n",
       "      <td>고메/(리뉴얼)중화짬뽕/652G/냉동</td>\n",
       "      <td>고메</td>\n",
       "      <td>Y</td>\n",
       "      <td>4</td>\n",
       "    </tr>\n",
       "    <tr>\n",
       "      <th>105905</th>\n",
       "      <td>고메/(리뉴얼)중화짬뽕/652G/냉동</td>\n",
       "      <td>짬뽕</td>\n",
       "      <td>고메/(리뉴얼)중화짬뽕/652G/냉동</td>\n",
       "      <td>고메</td>\n",
       "      <td>Y</td>\n",
       "      <td>4</td>\n",
       "    </tr>\n",
       "    <tr>\n",
       "      <th>105908</th>\n",
       "      <td>고메/(리뉴얼)중화짬뽕/652G/냉동</td>\n",
       "      <td>짬뽕</td>\n",
       "      <td>고메/(리뉴얼)중화짬뽕/652G/냉동</td>\n",
       "      <td>고메</td>\n",
       "      <td>Y</td>\n",
       "      <td>4</td>\n",
       "    </tr>\n",
       "  </tbody>\n",
       "</table>\n",
       "<p>109 rows × 6 columns</p>\n",
       "</div>"
      ],
      "text/plain": [
       "                         상품명 상품명대분류                   자재명 브랜드 사은품여부  구매월\n",
       "83369       중화짬뽕652GX2개+(증정)     짬뽕  고메/(리뉴얼)중화짬뽕/652G/냉동  고메     Y    5\n",
       "83370   고메/(리뉴얼)중화짬뽕/652G/냉동     짬뽕  고메/(리뉴얼)중화짬뽕/652G/냉동  고메     Y    5\n",
       "84352   고메/(리뉴얼)중화짬뽕/652G/냉동     짬뽕  고메/(리뉴얼)중화짬뽕/652G/냉동  고메     Y    5\n",
       "85659   고메/(리뉴얼)중화짬뽕/652G/냉동     짬뽕  고메/(리뉴얼)중화짬뽕/652G/냉동  고메     Y    5\n",
       "85820   고메/(리뉴얼)중화짬뽕/652G/냉동     짬뽕  고메/(리뉴얼)중화짬뽕/652G/냉동  고메     Y    4\n",
       "...                      ...    ...                   ...  ..   ...  ...\n",
       "105820  고메/(리뉴얼)중화짬뽕/652G/냉동     짬뽕  고메/(리뉴얼)중화짬뽕/652G/냉동  고메     Y    4\n",
       "105825  고메/(리뉴얼)중화짬뽕/652G/냉동     짬뽕  고메/(리뉴얼)중화짬뽕/652G/냉동  고메     Y    4\n",
       "105880  고메/(리뉴얼)중화짬뽕/652G/냉동     짬뽕  고메/(리뉴얼)중화짬뽕/652G/냉동  고메     Y    4\n",
       "105905  고메/(리뉴얼)중화짬뽕/652G/냉동     짬뽕  고메/(리뉴얼)중화짬뽕/652G/냉동  고메     Y    4\n",
       "105908  고메/(리뉴얼)중화짬뽕/652G/냉동     짬뽕  고메/(리뉴얼)중화짬뽕/652G/냉동  고메     Y    4\n",
       "\n",
       "[109 rows x 6 columns]"
      ]
     },
     "execution_count": 37,
     "metadata": {},
     "output_type": "execute_result"
    }
   ],
   "source": [
    "gift_11[gift_11['자재명']=='고메/(리뉴얼)중화짬뽕/652G/냉동']"
   ]
  },
  {
   "attachments": {},
   "cell_type": "markdown",
   "metadata": {},
   "source": [
    "# 짬뽕 \n",
    "### 5월에 비해 4월의 구매수량 자체가 더 많았던 것으로 보아 부분 상품의 사은품 프로모션을 진행한 것으로 추측"
   ]
  },
  {
   "cell_type": "code",
   "execution_count": 38,
   "metadata": {},
   "outputs": [
    {
     "data": {
      "text/plain": [
       "N    570\n",
       "Y      4\n",
       "Name: 사은품여부, dtype: int64"
      ]
     },
     "execution_count": 38,
     "metadata": {},
     "output_type": "execute_result"
    }
   ],
   "source": [
    "gift_5 = gift[gift['구매월'] == 5]\n",
    "gift_5[gift_5['자재명'] =='고메/(리뉴얼)중화짬뽕/652G/냉동']['사은품여부'].value_counts()"
   ]
  },
  {
   "cell_type": "code",
   "execution_count": 39,
   "metadata": {},
   "outputs": [
    {
     "data": {
      "text/plain": [
       "N    1181\n",
       "Y     105\n",
       "Name: 사은품여부, dtype: int64"
      ]
     },
     "execution_count": 39,
     "metadata": {},
     "output_type": "execute_result"
    }
   ],
   "source": [
    "gift_4 = gift[gift['구매월'] == 4]\n",
    "gift_4[gift_4['자재명'] =='고메/(리뉴얼)중화짬뽕/652G/냉동']['사은품여부'].value_counts()"
   ]
  }
 ],
 "metadata": {
  "kernelspec": {
   "display_name": "kwix",
   "language": "python",
   "name": "python3"
  },
  "language_info": {
   "codemirror_mode": {
    "name": "ipython",
    "version": 3
   },
   "file_extension": ".py",
   "mimetype": "text/x-python",
   "name": "python",
   "nbconvert_exporter": "python",
   "pygments_lexer": "ipython3",
   "version": "3.9.7"
  },
  "orig_nbformat": 4
 },
 "nbformat": 4,
 "nbformat_minor": 2
}
