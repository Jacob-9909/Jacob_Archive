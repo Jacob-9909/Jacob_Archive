{
 "cells": [
  {
   "cell_type": "code",
   "execution_count": 1,
   "metadata": {},
   "outputs": [
    {
     "name": "stderr",
     "output_type": "stream",
     "text": [
      "c:\\Users\\jy173\\anaconda3\\Lib\\site-packages\\dask\\dataframe\\utils.py:367: FutureWarning: pandas.Int64Index is deprecated and will be removed from pandas in a future version. Use pandas.Index with the appropriate dtype instead.\n",
      "  _numeric_index_types = (pd.Int64Index, pd.Float64Index, pd.UInt64Index)\n",
      "c:\\Users\\jy173\\anaconda3\\Lib\\site-packages\\dask\\dataframe\\utils.py:367: FutureWarning: pandas.Float64Index is deprecated and will be removed from pandas in a future version. Use pandas.Index with the appropriate dtype instead.\n",
      "  _numeric_index_types = (pd.Int64Index, pd.Float64Index, pd.UInt64Index)\n",
      "c:\\Users\\jy173\\anaconda3\\Lib\\site-packages\\dask\\dataframe\\utils.py:367: FutureWarning: pandas.UInt64Index is deprecated and will be removed from pandas in a future version. Use pandas.Index with the appropriate dtype instead.\n",
      "  _numeric_index_types = (pd.Int64Index, pd.Float64Index, pd.UInt64Index)\n"
     ]
    }
   ],
   "source": [
    "# Library\n",
    "import os\n",
    "import random\n",
    "import pickle\n",
    "import gc\n",
    "import warnings\n",
    "import seaborn as sns\n",
    "import numpy as np\n",
    "import pandas as pd\n",
    "from tqdm import tqdm\n",
    "import matplotlib.pyplot as plt\n",
    "from datetime import datetime\n",
    "from matplotlib import font_manager, rc\n",
    "from sklearn.compose import ColumnTransformer, make_column_transformer\n",
    "from sklearn.base import BaseEstimator, TransformerMixin\n",
    "from sklearn.impute import SimpleImputer\n",
    "from sklearn.experimental import enable_iterative_imputer\n",
    "from sklearn.manifold import LocallyLinearEmbedding\n",
    "from sklearn.cluster import KMeans, MiniBatchKMeans\n",
    "# from category_encoders import TargetEncoder\n",
    "from sklearn.preprocessing import (\n",
    "    StandardScaler, PowerTransformer, OrdinalEncoder,\n",
    "    OneHotEncoder, FunctionTransformer, PolynomialFeatures, LabelEncoder, MinMaxScaler\n",
    ")\n",
    "from sklearn.decomposition import PCA, IncrementalPCA, KernelPCA\n",
    "from sklearn.feature_selection import SelectKBest, SelectPercentile, RFE\n",
    "from sklearn.feature_extraction.text import CountVectorizer\n",
    "from sklearn.linear_model import (\n",
    "    LogisticRegression, LinearRegression, Ridge, Lasso,\n",
    "    SGDRegressor, ElasticNet\n",
    ")\n",
    "from sklearn.model_selection import (\n",
    "    train_test_split, cross_val_score, cross_validate,\n",
    "    GridSearchCV, KFold, cross_val_predict\n",
    ")\n",
    "from sklearn.metrics import (\n",
    "    roc_auc_score, mean_squared_error, make_scorer, accuracy_score, log_loss\n",
    ")\n",
    "from sklearn import set_config, datasets\n",
    "from catboost import (\n",
    "    CatBoostRegressor, CatBoostClassifier,\n",
    ")\n",
    "# import category_encoders as ce\n",
    "# from sklearn.pipeline import (\n",
    "#     Pipeline, FeatureUnion, make_pipeline\n",
    "# )\n",
    "from sklearn.ensemble import (\n",
    "    RandomForestClassifier, StackingClassifier, StackingRegressor,\n",
    "    GradientBoostingRegressor, VotingClassifier, VotingRegressor,\n",
    "    HistGradientBoostingRegressor, GradientBoostingClassifier,\n",
    "    BaggingClassifier, AdaBoostClassifier, RandomForestRegressor,ExtraTreesRegressor\n",
    ")\n",
    "from lightgbm import LGBMRegressor, LGBMClassifier\n",
    "from sklearn.svm import SVC, SVR, LinearSVC\n",
    "from xgboost import XGBRegressor, XGBClassifier\n",
    "from catboost import CatBoostClassifier, Pool\n",
    "from sklearn.neural_network import MLPClassifier\n",
    "from sklearn.neighbors import KNeighborsClassifier, KNeighborsRegressor\n",
    "from sklearn.naive_bayes import GaussianNB\n",
    "from sklearn.tree import DecisionTreeClassifier\n",
    "from sklearn.datasets import make_moons\n",
    "\n",
    "import xgboost as xgb\n",
    "import lightgbm as lgb\n",
    "import re\n",
    "import math\n",
    "import optuna\n",
    "\n",
    "from scipy.stats import zscore\n",
    "\n",
    "%matplotlib inline\n",
    "\n",
    "warnings.filterwarnings(\"ignore\")\n",
    "\n",
    "def seed_everything(seed):\n",
    "    random.seed(seed)\n",
    "    os.environ['PYTHONHASHSEED'] = str(seed)\n",
    "    np.random.seed(seed)\n",
    "\n",
    "seed_everything(42)\n",
    "pd.set_option('display.max_columns', None)"
   ]
  },
  {
   "cell_type": "code",
   "execution_count": 2,
   "metadata": {},
   "outputs": [],
   "source": [
    "df = pd.read_pickle('matches_df.pkl')"
   ]
  },
  {
   "cell_type": "markdown",
   "metadata": {},
   "source": [
    "## Preprocessing"
   ]
  },
  {
   "cell_type": "code",
   "execution_count": 3,
   "metadata": {},
   "outputs": [],
   "source": [
    "X = df\n",
    "y = df['home_team_result']\n",
    "\n",
    "split_index = 2024 # 2021년도까지의 index\n",
    "\n",
    "train = X.iloc[:split_index]\n",
    "test = X.iloc[split_index:]\n",
    "y_train = y.iloc[:split_index]\n",
    "y_test = y.iloc[split_index:]\n",
    "\n",
    "\n",
    "# train, test, y_train, y_test = train_test_split(X, y, test_size=0.3, random_state=42) ## 이 방법에 의문을 품는 바이요!!"
   ]
  },
  {
   "cell_type": "code",
   "execution_count": 4,
   "metadata": {},
   "outputs": [],
   "source": [
    "def team_encoding(train):\n",
    "    train['home_win'] = train['home_team_result'].apply(lambda x: 1 if x=='승' else 0) # home_win 열 추가, 승리인 경우 1, 아닌 경우 0\n",
    "    dic = {}\n",
    "    # 각 홈팀별 이긴 경기 수를 딕셔너리에 저장\n",
    "    for team in train['home_team_name'].unique():\n",
    "        value = train[train['home_team_name'] == team]['home_win'].sum() \n",
    "        #home_team_name  열에서 고유한 팀 이름을 가져와 각 팀이 홈에서 이긴 경기 수 계산, 이 값을 dic에 저장\n",
    "        dic[team] = value\n",
    "\n",
    "    label_dic={}\n",
    "    # 승리 횧수를 기준으로 오름차순 정렬, 각 팀에 대해 라벨 부여, 승리 횟수가 적은 팀부터 0,1,2 의 라벨을 부여\n",
    "    for idx, (team, _) in enumerate(sorted(dic.items(), key= lambda x: x[1])):\n",
    "        label_dic[team] = idx\n",
    "    \n",
    "    return label_dic\n",
    "\n",
    "\n",
    "''' 홈팀 득점 이동평균 계산 함수 '''\n",
    "\n",
    "def homeGoal_day_mean(train, test, day):\n",
    "    train[f'home_Goal_{day}_mean'] = -1  # 초기값 -1로 설정\n",
    "    test[f'home_Goal_{day}_mean'] = -1\n",
    "    \n",
    "    teams = train['home_team_name'].unique()\n",
    "    for team in tqdm(teams): # train에서 고유 팀 이름을 가져오고 이를 시각적으로 표시해줌 : tqdm\n",
    "        team_df = train[train['home_team_name'] == team]\n",
    "        # 롤링 윈도우 크기 설정\n",
    "        ch_day = len(team_df) if len(team_df) < day else day # 팀의 경기 수가 주어진 day 보다 적으면, 경기 수 만큼의 윈도우 크기 사용\n",
    "        idx = team_df['home_team_goal_count'].rolling(ch_day).mean().index.values # 롤링 윈도우 평균 계산\n",
    "        val = team_df['home_team_goal_count'].rolling(ch_day).mean().values\n",
    "        train[f'home_Goal_{day}_mean'].loc[idx] = val\n",
    "        test_idx = test[test['home_team_name'] == team].index\n",
    "        test[f'home_Goal_{day}_mean'].loc[test_idx] = val[-1]\n",
    "    # 결측값 처리\n",
    "    train[f'home_Goal_{day}_mean'] = train[f'home_Goal_{day}_mean'].fillna(0)\n",
    "\n",
    "\n",
    "''' 원정팀 득점 이동평균 계산 함수 '''\n",
    "\n",
    "def awayGoal_day_mean(train, test, day):\n",
    "    # 초기값 설정\n",
    "    train[f'away_Goal_{day}_mean'] = -1\n",
    "    test[f'away_Goal_{day}_mean'] = -1\n",
    "    \n",
    "    teams = train['away_team_name'].unique()\n",
    "    for team in tqdm(teams):\n",
    "        team_df = train[train['away_team_name'] == team]\n",
    "        # 롤링 윈도우 크기 설정\n",
    "        ch_day = len(team_df) if len(team_df) < day else day\n",
    "        idx = team_df['away_team_goal_count'].rolling(ch_day).mean().index.values\n",
    "        val = team_df['away_team_goal_count'].rolling(ch_day).mean().values\n",
    "        train[f'away_Goal_{day}_mean'].loc[idx] = val\n",
    "        test_idx = test[test['away_team_name'] == team].index\n",
    "        test[f'away_Goal_{day}_mean'].loc[test_idx] = val[-1]\n",
    "    # 결측값 처리\n",
    "    train[f'away_Goal_{day}_mean'] = train[f'away_Goal_{day}_mean'].fillna(0)\n",
    "\n",
    "\n",
    "'''홈팀 승리율 평균 계산 함수'''\n",
    "\n",
    "def homeWin_day_mean(train, test, day):\n",
    "    train[f'home_winRate_{day}_mean'] = -1\n",
    "    test[f'home_winRate_{day}_mean'] = -1\n",
    "    train['win'] = train['home_team_result'].apply(lambda x: 1 if x == '승' else 0)\n",
    "\n",
    "    teams = train['home_team_name'].unique()\n",
    "    for team in tqdm(teams):\n",
    "        team_df = train[train['home_team_name'] == team]\n",
    "        ch_day = len(team_df) if len(team_df) < day else day\n",
    "        idx = team_df['win'].rolling(ch_day).mean().index.values\n",
    "        val = team_df['win'].rolling(ch_day).mean().values\n",
    "        train[f'home_winRate_{day}_mean'].loc[idx] = val\n",
    "        test_idx = test[test['home_team_name'] == team].index\n",
    "        test[f'home_winRate_{day}_mean'].loc[test_idx] = val[-1]\n",
    "\n",
    "    train.drop(columns=['win'], inplace=True)\n",
    "\n",
    "    train[f'home_winRate_{day}_mean'] = train[f'home_winRate_{day}_mean'].fillna(0)\n",
    "\n",
    "\n",
    "'''원정팀 승리율 평균 계산 함수'''\n",
    "\n",
    "def awayWin_day_mean(train, test, day):\n",
    "\n",
    "    train[f'away_winRate_{day}_mean'] = -1\n",
    "    test[f'away_winRate_{day}_mean'] = -1\n",
    "    train['win'] = train['home_team_result'].apply(lambda x: 1 if x == '패' else 0)\n",
    "    \n",
    "    teams = train['away_team_name'].unique()\n",
    "    for team in tqdm(teams):\n",
    "        team_df = train[train['away_team_name'] == team]\n",
    "\n",
    "        ch_day = len(team_df) if len(team_df) < day else day\n",
    "        idx = team_df['win'].rolling(ch_day).mean().index.values\n",
    "        val = team_df['win'].rolling(ch_day).mean().values\n",
    "        train[f'away_winRate_{day}_mean'].loc[idx] = val\n",
    "        test_idx = test[test['away_team_name'] == team].index\n",
    "        test[f'away_winRate_{day}_mean'].loc[test_idx] = val[-1]\n",
    "\n",
    "    train.drop(columns=['win'], inplace=True)\n",
    "\n",
    "    train[f'away_winRate_{day}_mean'] = train[f'away_winRate_{day}_mean'].fillna(0)\n",
    "\n",
    "\n",
    "'''홈팀 평균 계산 함수'''\n",
    "\n",
    "def home_day_mean(train, test, columns, day):\n",
    "    for column in tqdm(columns):\n",
    "        teams = train['home_team_name'].values\n",
    "        train[f'home_{column}_{day}_mean'] = -1\n",
    "        test[f'home_{column}_{day}_mean'] = -1\n",
    "\n",
    "        for team in tqdm(teams):\n",
    "            team_df = train[train['home_team_name'] == team]\n",
    "            idx = team_df[column].rolling(day).mean().index.values\n",
    "            val = team_df[column].rolling(day).mean().values\n",
    "            train[f'home_{column}_{day}_mean'].loc[idx] = val\n",
    "            test_idx = test[test['home_team_name'] == team].index\n",
    "            test[f'home_{column}_{day}_mean'].loc[test_idx] = val[-1]\n",
    "\n",
    "        train[f'home_{column}_{day}_mean'] = train[f'home_{column}_{day}_mean'].fillna(0)\n",
    "        test[f'home_{column}_{day}_mean'] = test[f'home_{column}_{day}_mean'].fillna(0)\n",
    "\n",
    "\n",
    "'''원정팀 평균 계산 함수'''\n",
    "\n",
    "def away_day_mean(train, test, columns, day):\n",
    "    for column in tqdm(columns):\n",
    "        teams = train['away_team_name'].values\n",
    "        train[f'away_{column}_{day}_mean'] = -1\n",
    "        test[f'away_{column}_{day}_mean'] = -1\n",
    "\n",
    "        for team in tqdm(teams):\n",
    "            team_df = train[train['away_team_name'] == team]\n",
    "            idx = team_df[column].rolling(day).mean().index.values\n",
    "            val = team_df[column].rolling(day).mean().values\n",
    "            train[f'away_{column}_{day}_mean'].loc[idx] = val\n",
    "            test_idx = test[test['away_team_name'] == team].index\n",
    "            test[f'away_{column}_{day}_mean'].loc[test_idx] = val[-1]\n",
    "\n",
    "        train[f'away_{column}_{day}_mean'] = train[f'away_{column}_{day}_mean'].fillna(0)\n",
    "        test[f'away_{column}_{day}_mean'] = test[f'away_{column}_{day}_mean'].fillna(0)\n",
    "\n",
    "\n",
    "'''전처리 함수'''\n",
    "\n",
    "def preprocessing(train, test, dic):\n",
    "    # 년과 월일로 나누기\n",
    "    train['date_GMT'] = train['date_GMT'].dt.strftime('%Y%m%d')\n",
    "    test['date_GMT'] = test['date_GMT'].dt.strftime('%Y%m%d')\n",
    "    train['year'] = train['date_GMT'].apply(lambda x : int(x[0:4]))\n",
    "    train['month'] = train['date_GMT'].apply(lambda x : int(x[5:7]))\n",
    "    # train['day'] = train['date_GMT'].apply(lambda x : int(x[8:10]))\n",
    "\n",
    "    test['year'] = test['date_GMT'].apply(lambda x : int(x[0:4]))\n",
    "    test['month'] = test['date_GMT'].apply(lambda x : int(x[5:7]))\n",
    "    # test['day'] = test['date_GMT'].apply(lambda x : int(x[8:10]))\n",
    "    train.drop(columns=['date_GMT'], inplace=True)\n",
    "    test.drop(columns=['date_GMT'], inplace=True)\n",
    "\n",
    "    # 팀 인코딩 적용\n",
    "    label_dic = dic\n",
    "    train['home_team_name'] = train['home_team_name'].apply(lambda x: label_dic[x])\n",
    "    train['away_team_name'] = train['away_team_name'].apply(lambda x: label_dic[x])\n",
    "    test['home_team_name'] = test['home_team_name'].apply(lambda x: label_dic[x])\n",
    "    test['away_team_name'] = test['away_team_name'].apply(lambda x: label_dic[x])\n",
    "\n",
    "    # 5일간 홈팀 승리 비율 계산\n",
    "    homeWin_day_mean(train, test, 5)\n",
    "    # 5일간 원정팀 승리 비율 계산\n",
    "    awayWin_day_mean(train, test, 5)\n",
    "\n",
    "    # 5일간 홈팀 평균 득점 계산\n",
    "    homeGoal_day_mean(train, test, 5)\n",
    "    # 5일간 원정팀 평균 득점 계산\n",
    "    awayGoal_day_mean(train, test, 5)\n",
    "\n",
    "    # 불필요한 컬럼 제거\n",
    "    # train = train.drop(columns=['home_win', 'index','home_team_goal_count','away_team_goal_count','home_team_result','game_points'])\n",
    "    train = train.drop(columns=['home_win', 'index','home_team_goal_count','away_team_goal_count','game_points'])\n",
    "    test = test.drop(columns=['index','home_team_goal_count','away_team_goal_count','home_team_result','game_points'])\n",
    "\n",
    "    return train, test\n"
   ]
  },
  {
   "cell_type": "markdown",
   "metadata": {},
   "source": [
    "## Train / Test"
   ]
  },
  {
   "cell_type": "code",
   "execution_count": 5,
   "metadata": {},
   "outputs": [
    {
     "name": "stderr",
     "output_type": "stream",
     "text": [
      "100%|██████████| 17/17 [00:00<00:00, 663.39it/s]\n",
      "100%|██████████| 17/17 [00:00<00:00, 617.12it/s]\n",
      "100%|██████████| 17/17 [00:00<00:00, 671.82it/s]\n",
      "100%|██████████| 17/17 [00:00<00:00, 686.04it/s]\n"
     ]
    }
   ],
   "source": [
    "hometeam_list = list(train['home_team_name'].unique())\n",
    "dic = team_encoding(train)\n",
    "train, test= preprocessing(train, test, dic)\n",
    "test_idx = test.index.values\n",
    "\n",
    "\n",
    "# 승무패 인코딩\n",
    "lec = LabelEncoder()\n",
    "lec.fit(df['home_team_result'])\n",
    "y_train = lec.transform(y_train)\n",
    "y_test = lec.transform(y_test)"
   ]
  },
  {
   "cell_type": "code",
   "execution_count": 6,
   "metadata": {},
   "outputs": [],
   "source": [
    "# 홈팀과 원정팀의 공격 효율성을 계산한 피쳐 생성\n",
    "train['home_attack_efficiency'] = train['home_Goal_5_mean'] * train['home_team_shots_on_target']\n",
    "train['away_attack_efficiency'] = train['away_Goal_5_mean'] * train['away_team_shots_on_target']\n",
    "# 홈팀과 원정팀의 공격 효율성 차이를 나타내는 피쳐 생성\n",
    "train['attack_efficiency_difference'] = train['home_attack_efficiency'] - train['away_attack_efficiency']\n",
    "\n",
    "# 홈팀과 원정팀의 점유율 비율을 나타내는 피쳐 생성\n",
    "train['possession_ratio'] = train['home_team_possession'] / train['away_team_possession']\n",
    "\n",
    "# 최근 5경기 평균 득점의 표준 편차를 나타내는 피쳐 생성\n",
    "train['home_Goal_5_std'] = train['home_Goal_5_mean'].rolling(window=5).std()\n",
    "train['away_Goal_5_std'] = train['away_Goal_5_mean'].rolling(window=5).std()\n",
    "\n",
    "# 결측값을 0으로 대체\n",
    "train = train.fillna(0)\n",
    "\n",
    "# 테스트 데이터에도 동일한 피쳐 생성\n",
    "test['home_attack_efficiency'] = test['home_Goal_5_mean'] * test['home_team_shots_on_target']\n",
    "test['away_attack_efficiency'] = test['away_Goal_5_mean'] * test['away_team_shots_on_target']\n",
    "test['attack_efficiency_difference'] = test['home_attack_efficiency'] - test['away_attack_efficiency']\n",
    "test['possession_ratio'] = test['home_team_possession'] / test['away_team_possession']\n",
    "test['home_Goal_5_std'] = test['home_Goal_5_mean'].rolling(window=5).std()\n",
    "test['away_Goal_5_std'] = test['away_Goal_5_mean'].rolling(window=5).std()\n",
    "test = test.fillna(0)\n",
    "\n",
    "# 학습 데이터에서 목표 변수 'home_team_result' 컬럼 제거\n",
    "train.drop(columns = ['home_team_result'], inplace = True)\n"
   ]
  },
  {
   "cell_type": "code",
   "execution_count": 7,
   "metadata": {},
   "outputs": [],
   "source": [
    "# import sweetviz as sv\n",
    "\n",
    "# report = sv.analyze(train)\n",
    "# report.show_html(\"new_features.html\")"
   ]
  },
  {
   "cell_type": "markdown",
   "metadata": {},
   "source": [
    "## Feature scaler"
   ]
  },
  {
   "cell_type": "code",
   "execution_count": 8,
   "metadata": {},
   "outputs": [],
   "source": [
    "cat = ['home_team_name','away_team_name','year','month']\n",
    "\n",
    "num_features = list(set(train.columns) - set(cat))\n",
    "# scaler = MinMaxScaler()\n",
    "scaler = StandardScaler()\n",
    "train[num_features] = scaler.fit_transform(train[num_features])\n",
    "test[num_features] = scaler.fit_transform(test[num_features])"
   ]
  },
  {
   "cell_type": "markdown",
   "metadata": {},
   "source": [
    "## model train"
   ]
  },
  {
   "cell_type": "code",
   "execution_count": 9,
   "metadata": {},
   "outputs": [
    {
     "name": "stderr",
     "output_type": "stream",
     "text": [
      "[I 2024-06-26 19:46:21,402] A new study created in memory with name: no-name-8954265a-264d-4ede-97c0-e8f527f7c969\n",
      "[I 2024-06-26 19:46:50,275] Trial 0 finished with value: 0.6669991443588803 and parameters: {'l1_ratio': 0.9493245743449642, 'C': 0.14653781842432864}. Best is trial 0 with value: 0.6669991443588803.\n",
      "[I 2024-06-26 19:47:20,317] Trial 1 finished with value: 0.6630509717638431 and parameters: {'l1_ratio': 0.9015387152063188, 'C': 1.2553922223118843}. Best is trial 0 with value: 0.6669991443588803.\n",
      "[I 2024-06-26 19:47:51,128] Trial 2 finished with value: 0.6640386260848308 and parameters: {'l1_ratio': 0.7234999102627218, 'C': 26.678012580016507}. Best is trial 0 with value: 0.6669991443588803.\n",
      "[I 2024-06-26 19:48:20,486] Trial 3 finished with value: 0.6660114900378927 and parameters: {'l1_ratio': 0.23650168966301022, 'C': 0.06754834723441912}. Best is trial 0 with value: 0.6669991443588803.\n",
      "[I 2024-06-26 19:48:42,666] Trial 4 finished with value: 0.5800354479892433 and parameters: {'l1_ratio': 0.37515719267457204, 'C': 0.0022344429597424384}. Best is trial 0 with value: 0.6669991443588803.\n",
      "[I 2024-06-26 19:49:12,348] Trial 5 finished with value: 0.6640386260848308 and parameters: {'l1_ratio': 0.3544056684865433, 'C': 4.495328818714667}. Best is trial 0 with value: 0.6669991443588803.\n",
      "[I 2024-06-26 19:49:38,971] Trial 6 finished with value: 0.6620633174428555 and parameters: {'l1_ratio': 0.29385218766753385, 'C': 0.011791488201362797}. Best is trial 0 with value: 0.6669991443588803.\n",
      "[I 2024-06-26 19:49:44,855] Trial 7 finished with value: 0.43180295807358515 and parameters: {'l1_ratio': 0.48548212178559147, 'C': 0.0013562662992930813}. Best is trial 0 with value: 0.6669991443588803.\n",
      "[I 2024-06-26 19:50:13,318] Trial 8 finished with value: 0.665023835716905 and parameters: {'l1_ratio': 0.5355219768215786, 'C': 0.134859416684258}. Best is trial 0 with value: 0.6669991443588803.\n",
      "[I 2024-06-26 19:50:22,589] Trial 9 finished with value: 0.451564600904535 and parameters: {'l1_ratio': 0.20690874544288262, 'C': 0.0006910595993733721}. Best is trial 0 with value: 0.6669991443588803.\n",
      "[I 2024-06-26 19:50:22,807] Trial 10 finished with value: 0.39525730350812854 and parameters: {'l1_ratio': 0.9935914438085898, 'C': 0.00015682107040166068}. Best is trial 0 with value: 0.6669991443588803.\n",
      "[I 2024-06-26 19:50:52,192] Trial 11 finished with value: 0.6640386260848307 and parameters: {'l1_ratio': 0.017903272352849248, 'C': 0.09920737696109655}. Best is trial 0 with value: 0.6669991443588803.\n",
      "[I 2024-06-26 19:51:21,421] Trial 12 finished with value: 0.6605793912724607 and parameters: {'l1_ratio': 0.12124002199622957, 'C': 0.08185926007412324}. Best is trial 0 with value: 0.6669991443588803.\n",
      "[I 2024-06-26 19:51:50,413] Trial 13 finished with value: 0.6630509717638431 and parameters: {'l1_ratio': 0.6749623543546445, 'C': 0.714826625363744}. Best is trial 0 with value: 0.6669991443588803.\n",
      "[I 2024-06-26 19:52:16,695] Trial 14 finished with value: 0.6556435643564357 and parameters: {'l1_ratio': 0.7910671685383687, 'C': 0.015406791377750867}. Best is trial 0 with value: 0.6669991443588803.\n",
      "[I 2024-06-26 19:52:43,474] Trial 15 finished with value: 0.6655213299107688 and parameters: {'l1_ratio': 0.559968780311859, 'C': 0.018093273262962447}. Best is trial 0 with value: 0.6669991443588803.\n",
      "[I 2024-06-26 19:53:13,103] Trial 16 finished with value: 0.6640386260848308 and parameters: {'l1_ratio': 0.0026470455667193526, 'C': 54.20763699499662}. Best is trial 0 with value: 0.6669991443588803.\n",
      "[I 2024-06-26 19:53:42,752] Trial 17 finished with value: 0.6630509717638431 and parameters: {'l1_ratio': 0.19802719806715607, 'C': 0.5117865029644771}. Best is trial 0 with value: 0.6669991443588803.\n",
      "[I 2024-06-26 19:54:12,571] Trial 18 finished with value: 0.6640386260848308 and parameters: {'l1_ratio': 0.4434510240510502, 'C': 5.666309568382513}. Best is trial 0 with value: 0.6669991443588803.\n",
      "[I 2024-06-26 19:54:37,624] Trial 19 finished with value: 0.6146241290795746 and parameters: {'l1_ratio': 0.638388808934923, 'C': 0.00491422992344512}. Best is trial 0 with value: 0.6669991443588803.\n"
     ]
    }
   ],
   "source": [
    "def logreg_objective(trial):\n",
    "    \n",
    "    r = trial.suggest_float('l1_ratio', 0, 1, log=False)\n",
    "    c = trial.suggest_float('C', 1e-4, 1e2, log=True)\n",
    "     \n",
    "    clf =  LogisticRegression(max_iter=5000, solver='saga', penalty='elasticnet', l1_ratio=r, C=c)\n",
    "    scores = cross_val_score(clf, train, y_train, cv=5, scoring='accuracy')\n",
    "    \n",
    "    return scores.mean()\n",
    "    \n",
    "logreg_study = optuna.create_study(direction='maximize')\n",
    "logreg_study.optimize(logreg_objective, n_trials=20)\n",
    "\n",
    "logreg_best_params = logreg_study.best_params"
   ]
  },
  {
   "cell_type": "code",
   "execution_count": 17,
   "metadata": {},
   "outputs": [
    {
     "name": "stdout",
     "output_type": "stream",
     "text": [
      "Accuracy: 0.5153508771929824\n"
     ]
    }
   ],
   "source": [
    "model_logis=LogisticRegression(**logreg_best_params)\n",
    "model_logis=LogisticRegression()\n",
    "model_logis.fit(train,y_train)\n",
    "y_pred = model_logis.predict(test)\n",
    "\n",
    "accuracy = accuracy_score(y_test, y_pred)\n",
    "print(\"Accuracy:\", accuracy)"
   ]
  },
  {
   "cell_type": "code",
   "execution_count": 18,
   "metadata": {},
   "outputs": [
    {
     "data": {
      "text/html": [
       "<style>#sk-container-id-3 {color: black;background-color: white;}#sk-container-id-3 pre{padding: 0;}#sk-container-id-3 div.sk-toggleable {background-color: white;}#sk-container-id-3 label.sk-toggleable__label {cursor: pointer;display: block;width: 100%;margin-bottom: 0;padding: 0.3em;box-sizing: border-box;text-align: center;}#sk-container-id-3 label.sk-toggleable__label-arrow:before {content: \"▸\";float: left;margin-right: 0.25em;color: #696969;}#sk-container-id-3 label.sk-toggleable__label-arrow:hover:before {color: black;}#sk-container-id-3 div.sk-estimator:hover label.sk-toggleable__label-arrow:before {color: black;}#sk-container-id-3 div.sk-toggleable__content {max-height: 0;max-width: 0;overflow: hidden;text-align: left;background-color: #f0f8ff;}#sk-container-id-3 div.sk-toggleable__content pre {margin: 0.2em;color: black;border-radius: 0.25em;background-color: #f0f8ff;}#sk-container-id-3 input.sk-toggleable__control:checked~div.sk-toggleable__content {max-height: 200px;max-width: 100%;overflow: auto;}#sk-container-id-3 input.sk-toggleable__control:checked~label.sk-toggleable__label-arrow:before {content: \"▾\";}#sk-container-id-3 div.sk-estimator input.sk-toggleable__control:checked~label.sk-toggleable__label {background-color: #d4ebff;}#sk-container-id-3 div.sk-label input.sk-toggleable__control:checked~label.sk-toggleable__label {background-color: #d4ebff;}#sk-container-id-3 input.sk-hidden--visually {border: 0;clip: rect(1px 1px 1px 1px);clip: rect(1px, 1px, 1px, 1px);height: 1px;margin: -1px;overflow: hidden;padding: 0;position: absolute;width: 1px;}#sk-container-id-3 div.sk-estimator {font-family: monospace;background-color: #f0f8ff;border: 1px dotted black;border-radius: 0.25em;box-sizing: border-box;margin-bottom: 0.5em;}#sk-container-id-3 div.sk-estimator:hover {background-color: #d4ebff;}#sk-container-id-3 div.sk-parallel-item::after {content: \"\";width: 100%;border-bottom: 1px solid gray;flex-grow: 1;}#sk-container-id-3 div.sk-label:hover label.sk-toggleable__label {background-color: #d4ebff;}#sk-container-id-3 div.sk-serial::before {content: \"\";position: absolute;border-left: 1px solid gray;box-sizing: border-box;top: 0;bottom: 0;left: 50%;z-index: 0;}#sk-container-id-3 div.sk-serial {display: flex;flex-direction: column;align-items: center;background-color: white;padding-right: 0.2em;padding-left: 0.2em;position: relative;}#sk-container-id-3 div.sk-item {position: relative;z-index: 1;}#sk-container-id-3 div.sk-parallel {display: flex;align-items: stretch;justify-content: center;background-color: white;position: relative;}#sk-container-id-3 div.sk-item::before, #sk-container-id-3 div.sk-parallel-item::before {content: \"\";position: absolute;border-left: 1px solid gray;box-sizing: border-box;top: 0;bottom: 0;left: 50%;z-index: -1;}#sk-container-id-3 div.sk-parallel-item {display: flex;flex-direction: column;z-index: 1;position: relative;background-color: white;}#sk-container-id-3 div.sk-parallel-item:first-child::after {align-self: flex-end;width: 50%;}#sk-container-id-3 div.sk-parallel-item:last-child::after {align-self: flex-start;width: 50%;}#sk-container-id-3 div.sk-parallel-item:only-child::after {width: 0;}#sk-container-id-3 div.sk-dashed-wrapped {border: 1px dashed gray;margin: 0 0.4em 0.5em 0.4em;box-sizing: border-box;padding-bottom: 0.4em;background-color: white;}#sk-container-id-3 div.sk-label label {font-family: monospace;font-weight: bold;display: inline-block;line-height: 1.2em;}#sk-container-id-3 div.sk-label-container {text-align: center;}#sk-container-id-3 div.sk-container {/* jupyter's `normalize.less` sets `[hidden] { display: none; }` but bootstrap.min.css set `[hidden] { display: none !important; }` so we also need the `!important` here to be able to override the default hidden behavior on the sphinx rendered scikit-learn.org. See: https://github.com/scikit-learn/scikit-learn/issues/21755 */display: inline-block !important;position: relative;}#sk-container-id-3 div.sk-text-repr-fallback {display: none;}</style><div id=\"sk-container-id-3\" class=\"sk-top-container\"><div class=\"sk-text-repr-fallback\"><pre>RandomForestClassifier()</pre><b>In a Jupyter environment, please rerun this cell to show the HTML representation or trust the notebook. <br />On GitHub, the HTML representation is unable to render, please try loading this page with nbviewer.org.</b></div><div class=\"sk-container\" hidden><div class=\"sk-item\"><div class=\"sk-estimator sk-toggleable\"><input class=\"sk-toggleable__control sk-hidden--visually\" id=\"sk-estimator-id-3\" type=\"checkbox\" checked><label for=\"sk-estimator-id-3\" class=\"sk-toggleable__label sk-toggleable__label-arrow\">RandomForestClassifier</label><div class=\"sk-toggleable__content\"><pre>RandomForestClassifier()</pre></div></div></div></div></div>"
      ],
      "text/plain": [
       "RandomForestClassifier()"
      ]
     },
     "execution_count": 18,
     "metadata": {},
     "output_type": "execute_result"
    }
   ],
   "source": [
    "model = RandomForestClassifier()\n",
    "model.fit(train, y_train)\n",
    "# y_pred = model.predict(test)"
   ]
  },
  {
   "cell_type": "markdown",
   "metadata": {},
   "source": [
    "## Randomforest feature seletion"
   ]
  },
  {
   "cell_type": "code",
   "execution_count": 12,
   "metadata": {},
   "outputs": [
    {
     "name": "stdout",
     "output_type": "stream",
     "text": [
      "1. attack_efficiency_difference (중요도: 0.07679128897986834)\n",
      "2. away_winRate_5_mean (중요도: 0.05019924986932356)\n",
      "3. home_winRate_5_mean (중요도: 0.04679307994708357)\n",
      "4. 5_games_result (중요도: 0.04591759857746539)\n",
      "5. home_attack_efficiency (중요도: 0.04551382741253214)\n",
      "6. away_attack_efficiency (중요도: 0.04193029469524437)\n",
      "7. away_team_goal_count_half_time (중요도: 0.03764227929481992)\n",
      "8. home_team_goal_count_half_time (중요도: 0.033371662999508785)\n",
      "9. home_team_shots_on_target (중요도: 0.030542073731065815)\n",
      "10. away_Goal_5_std (중요도: 0.029906640239556196)\n",
      "11. home_Goal_5_std (중요도: 0.029389806082744965)\n",
      "12. home_team_possession (중요도: 0.028547386737770374)\n",
      "13. month (중요도: 0.027859325396847733)\n",
      "14. possession_ratio (중요도: 0.02777269516636719)\n",
      "15. away_team_possession (중요도: 0.027206135857921927)\n",
      "16. away_team_free_kick (중요도: 0.027019250538931887)\n",
      "17. away_team_fouls (중요도: 0.026330997513591615)\n",
      "18. away_team_shots_on_target (중요도: 0.026293516202548654)\n",
      "19. away_Goal_5_mean (중요도: 0.026157329993515662)\n",
      "20. home_team_name (중요도: 0.026130068410954884)\n",
      "21. home_team_fouls (중요도: 0.026103442915394216)\n",
      "22. home_team_shots (중요도: 0.026032517915488572)\n",
      "23. away_team_name (중요도: 0.02566756080881394)\n",
      "24. home_team_free_kick (중요도: 0.025356570293894282)\n",
      "25. home_Goal_5_mean (중요도: 0.023926863793970642)\n",
      "26. away_team_shots (중요도: 0.023716310127253937)\n",
      "27. home_team_corner_count (중요도: 0.02316143862977239)\n",
      "28. away_team_corner_count (중요도: 0.023150664399672265)\n",
      "29. year (중요도: 0.020751537720324374)\n",
      "30. home_team_offside (중요도: 0.01783897257003607)\n",
      "31. away_team_yellow_cards (중요도: 0.015901680782458544)\n"
     ]
    }
   ],
   "source": [
    "rn_features = []\n",
    "importances = model.feature_importances_\n",
    "feature_names = train.columns\n",
    "\n",
    "# 피처 중요도를 기준으로 정렬하여 상위 피처 선택\n",
    "indices = np.argsort(importances)[::-1]\n",
    "\n",
    "# 중요도가 0.01 이상인 피처만 선택\n",
    "# top_number = 40            # 33개 안에서 고르면 될 듯\n",
    "top_num_indices = [idx for idx in indices if importances[idx] >= 0.015] #[:top_number]\n",
    "top_features = feature_names[top_num_indices]\n",
    "\n",
    "for i, feature in enumerate(top_features):\n",
    "    print(f\"{i+1}. {feature} (중요도: {importances[top_num_indices[i]]})\")\n",
    "    rn_features.append(feature)\n",
    "\n",
    "# 이 피쳐로 모델 돌려보기"
   ]
  },
  {
   "cell_type": "code",
   "execution_count": 21,
   "metadata": {},
   "outputs": [],
   "source": [
    "rn_train = train[rn_features]\n",
    "rn_test = test[rn_features]"
   ]
  },
  {
   "cell_type": "code",
   "execution_count": 22,
   "metadata": {},
   "outputs": [
    {
     "name": "stdout",
     "output_type": "stream",
     "text": [
      "Accuracy: 0.5109649122807017\n"
     ]
    }
   ],
   "source": [
    "model_logis=LogisticRegression(**logreg_best_params)\n",
    "model_logis.fit(rn_train,y_train)\n",
    "y_pred = model_logis.predict(rn_test)\n",
    "\n",
    "accuracy = accuracy_score(y_test, y_pred)\n",
    "print(\"Accuracy:\", accuracy)"
   ]
  },
  {
   "cell_type": "code",
   "execution_count": null,
   "metadata": {},
   "outputs": [],
   "source": [
    "# def logreg_objective(trial):\n",
    "    \n",
    "#     r = trial.suggest_float('l1_ratio', 0, 1, log=False)\n",
    "#     c = trial.suggest_float('C', 1e-4, 1e2, log=True)\n",
    "     \n",
    "#     clf =  LogisticRegression(max_iter=5000, solver='saga', penalty='elasticnet', l1_ratio=r, C=c)\n",
    "#     scores = cross_val_score(clf, rn_train, y_train, cv=5, scoring='accuracy')\n",
    "    \n",
    "#     return scores.mean()\n",
    "    \n",
    "# logreg_study = optuna.create_study(direction='maximize')\n",
    "# logreg_study.optimize(logreg_objective, n_trials=20)\n",
    "\n",
    "# logreg_best_params = logreg_study.best_params\n"
   ]
  },
  {
   "cell_type": "markdown",
   "metadata": {},
   "source": [
    "## 상관계수 계산"
   ]
  },
  {
   "cell_type": "code",
   "execution_count": 24,
   "metadata": {},
   "outputs": [
    {
     "ename": "KeyError",
     "evalue": "\"['away_team_possession', 'away_team_free_kick', 'possession_ratio'] not found in axis\"",
     "output_type": "error",
     "traceback": [
      "\u001b[1;31m---------------------------------------------------------------------------\u001b[0m",
      "\u001b[1;31mKeyError\u001b[0m                                  Traceback (most recent call last)",
      "Cell \u001b[1;32mIn[24], line 7\u001b[0m\n\u001b[0;32m      5\u001b[0m to_drop\n\u001b[0;32m      6\u001b[0m \u001b[38;5;66;03m# # 특징 제거\u001b[39;00m\n\u001b[1;32m----> 7\u001b[0m rn_train \u001b[38;5;241m=\u001b[39m rn_train\u001b[38;5;241m.\u001b[39mdrop(columns\u001b[38;5;241m=\u001b[39mto_drop)  \n\u001b[0;32m      8\u001b[0m rn_test \u001b[38;5;241m=\u001b[39m rn_test\u001b[38;5;241m.\u001b[39mdrop(columns\u001b[38;5;241m=\u001b[39mto_drop)\n",
      "File \u001b[1;32mc:\\Users\\jy173\\anaconda3\\Lib\\site-packages\\pandas\\util\\_decorators.py:331\u001b[0m, in \u001b[0;36mdeprecate_nonkeyword_arguments.<locals>.decorate.<locals>.wrapper\u001b[1;34m(*args, **kwargs)\u001b[0m\n\u001b[0;32m    325\u001b[0m \u001b[38;5;28;01mif\u001b[39;00m \u001b[38;5;28mlen\u001b[39m(args) \u001b[38;5;241m>\u001b[39m num_allow_args:\n\u001b[0;32m    326\u001b[0m     warnings\u001b[38;5;241m.\u001b[39mwarn(\n\u001b[0;32m    327\u001b[0m         msg\u001b[38;5;241m.\u001b[39mformat(arguments\u001b[38;5;241m=\u001b[39m_format_argument_list(allow_args)),\n\u001b[0;32m    328\u001b[0m         \u001b[38;5;167;01mFutureWarning\u001b[39;00m,\n\u001b[0;32m    329\u001b[0m         stacklevel\u001b[38;5;241m=\u001b[39mfind_stack_level(),\n\u001b[0;32m    330\u001b[0m     )\n\u001b[1;32m--> 331\u001b[0m \u001b[38;5;28;01mreturn\u001b[39;00m func(\u001b[38;5;241m*\u001b[39margs, \u001b[38;5;241m*\u001b[39m\u001b[38;5;241m*\u001b[39mkwargs)\n",
      "File \u001b[1;32mc:\\Users\\jy173\\anaconda3\\Lib\\site-packages\\pandas\\core\\frame.py:5399\u001b[0m, in \u001b[0;36mDataFrame.drop\u001b[1;34m(self, labels, axis, index, columns, level, inplace, errors)\u001b[0m\n\u001b[0;32m   5251\u001b[0m \u001b[38;5;129m@deprecate_nonkeyword_arguments\u001b[39m(version\u001b[38;5;241m=\u001b[39m\u001b[38;5;28;01mNone\u001b[39;00m, allowed_args\u001b[38;5;241m=\u001b[39m[\u001b[38;5;124m\"\u001b[39m\u001b[38;5;124mself\u001b[39m\u001b[38;5;124m\"\u001b[39m, \u001b[38;5;124m\"\u001b[39m\u001b[38;5;124mlabels\u001b[39m\u001b[38;5;124m\"\u001b[39m])\n\u001b[0;32m   5252\u001b[0m \u001b[38;5;28;01mdef\u001b[39;00m \u001b[38;5;21mdrop\u001b[39m(  \u001b[38;5;66;03m# type: ignore[override]\u001b[39;00m\n\u001b[0;32m   5253\u001b[0m     \u001b[38;5;28mself\u001b[39m,\n\u001b[1;32m   (...)\u001b[0m\n\u001b[0;32m   5260\u001b[0m     errors: IgnoreRaise \u001b[38;5;241m=\u001b[39m \u001b[38;5;124m\"\u001b[39m\u001b[38;5;124mraise\u001b[39m\u001b[38;5;124m\"\u001b[39m,\n\u001b[0;32m   5261\u001b[0m ) \u001b[38;5;241m-\u001b[39m\u001b[38;5;241m>\u001b[39m DataFrame \u001b[38;5;241m|\u001b[39m \u001b[38;5;28;01mNone\u001b[39;00m:\n\u001b[0;32m   5262\u001b[0m \u001b[38;5;250m    \u001b[39m\u001b[38;5;124;03m\"\"\"\u001b[39;00m\n\u001b[0;32m   5263\u001b[0m \u001b[38;5;124;03m    Drop specified labels from rows or columns.\u001b[39;00m\n\u001b[0;32m   5264\u001b[0m \n\u001b[1;32m   (...)\u001b[0m\n\u001b[0;32m   5397\u001b[0m \u001b[38;5;124;03m            weight  1.0     0.8\u001b[39;00m\n\u001b[0;32m   5398\u001b[0m \u001b[38;5;124;03m    \"\"\"\u001b[39;00m\n\u001b[1;32m-> 5399\u001b[0m     \u001b[38;5;28;01mreturn\u001b[39;00m \u001b[38;5;28msuper\u001b[39m()\u001b[38;5;241m.\u001b[39mdrop(\n\u001b[0;32m   5400\u001b[0m         labels\u001b[38;5;241m=\u001b[39mlabels,\n\u001b[0;32m   5401\u001b[0m         axis\u001b[38;5;241m=\u001b[39maxis,\n\u001b[0;32m   5402\u001b[0m         index\u001b[38;5;241m=\u001b[39mindex,\n\u001b[0;32m   5403\u001b[0m         columns\u001b[38;5;241m=\u001b[39mcolumns,\n\u001b[0;32m   5404\u001b[0m         level\u001b[38;5;241m=\u001b[39mlevel,\n\u001b[0;32m   5405\u001b[0m         inplace\u001b[38;5;241m=\u001b[39minplace,\n\u001b[0;32m   5406\u001b[0m         errors\u001b[38;5;241m=\u001b[39merrors,\n\u001b[0;32m   5407\u001b[0m     )\n",
      "File \u001b[1;32mc:\\Users\\jy173\\anaconda3\\Lib\\site-packages\\pandas\\util\\_decorators.py:331\u001b[0m, in \u001b[0;36mdeprecate_nonkeyword_arguments.<locals>.decorate.<locals>.wrapper\u001b[1;34m(*args, **kwargs)\u001b[0m\n\u001b[0;32m    325\u001b[0m \u001b[38;5;28;01mif\u001b[39;00m \u001b[38;5;28mlen\u001b[39m(args) \u001b[38;5;241m>\u001b[39m num_allow_args:\n\u001b[0;32m    326\u001b[0m     warnings\u001b[38;5;241m.\u001b[39mwarn(\n\u001b[0;32m    327\u001b[0m         msg\u001b[38;5;241m.\u001b[39mformat(arguments\u001b[38;5;241m=\u001b[39m_format_argument_list(allow_args)),\n\u001b[0;32m    328\u001b[0m         \u001b[38;5;167;01mFutureWarning\u001b[39;00m,\n\u001b[0;32m    329\u001b[0m         stacklevel\u001b[38;5;241m=\u001b[39mfind_stack_level(),\n\u001b[0;32m    330\u001b[0m     )\n\u001b[1;32m--> 331\u001b[0m \u001b[38;5;28;01mreturn\u001b[39;00m func(\u001b[38;5;241m*\u001b[39margs, \u001b[38;5;241m*\u001b[39m\u001b[38;5;241m*\u001b[39mkwargs)\n",
      "File \u001b[1;32mc:\\Users\\jy173\\anaconda3\\Lib\\site-packages\\pandas\\core\\generic.py:4505\u001b[0m, in \u001b[0;36mNDFrame.drop\u001b[1;34m(self, labels, axis, index, columns, level, inplace, errors)\u001b[0m\n\u001b[0;32m   4503\u001b[0m \u001b[38;5;28;01mfor\u001b[39;00m axis, labels \u001b[38;5;129;01min\u001b[39;00m axes\u001b[38;5;241m.\u001b[39mitems():\n\u001b[0;32m   4504\u001b[0m     \u001b[38;5;28;01mif\u001b[39;00m labels \u001b[38;5;129;01mis\u001b[39;00m \u001b[38;5;129;01mnot\u001b[39;00m \u001b[38;5;28;01mNone\u001b[39;00m:\n\u001b[1;32m-> 4505\u001b[0m         obj \u001b[38;5;241m=\u001b[39m obj\u001b[38;5;241m.\u001b[39m_drop_axis(labels, axis, level\u001b[38;5;241m=\u001b[39mlevel, errors\u001b[38;5;241m=\u001b[39merrors)\n\u001b[0;32m   4507\u001b[0m \u001b[38;5;28;01mif\u001b[39;00m inplace:\n\u001b[0;32m   4508\u001b[0m     \u001b[38;5;28mself\u001b[39m\u001b[38;5;241m.\u001b[39m_update_inplace(obj)\n",
      "File \u001b[1;32mc:\\Users\\jy173\\anaconda3\\Lib\\site-packages\\pandas\\core\\generic.py:4546\u001b[0m, in \u001b[0;36mNDFrame._drop_axis\u001b[1;34m(self, labels, axis, level, errors, only_slice)\u001b[0m\n\u001b[0;32m   4544\u001b[0m         new_axis \u001b[38;5;241m=\u001b[39m axis\u001b[38;5;241m.\u001b[39mdrop(labels, level\u001b[38;5;241m=\u001b[39mlevel, errors\u001b[38;5;241m=\u001b[39merrors)\n\u001b[0;32m   4545\u001b[0m     \u001b[38;5;28;01melse\u001b[39;00m:\n\u001b[1;32m-> 4546\u001b[0m         new_axis \u001b[38;5;241m=\u001b[39m axis\u001b[38;5;241m.\u001b[39mdrop(labels, errors\u001b[38;5;241m=\u001b[39merrors)\n\u001b[0;32m   4547\u001b[0m     indexer \u001b[38;5;241m=\u001b[39m axis\u001b[38;5;241m.\u001b[39mget_indexer(new_axis)\n\u001b[0;32m   4549\u001b[0m \u001b[38;5;66;03m# Case for non-unique axis\u001b[39;00m\n\u001b[0;32m   4550\u001b[0m \u001b[38;5;28;01melse\u001b[39;00m:\n",
      "File \u001b[1;32mc:\\Users\\jy173\\anaconda3\\Lib\\site-packages\\pandas\\core\\indexes\\base.py:6934\u001b[0m, in \u001b[0;36mIndex.drop\u001b[1;34m(self, labels, errors)\u001b[0m\n\u001b[0;32m   6932\u001b[0m \u001b[38;5;28;01mif\u001b[39;00m mask\u001b[38;5;241m.\u001b[39many():\n\u001b[0;32m   6933\u001b[0m     \u001b[38;5;28;01mif\u001b[39;00m errors \u001b[38;5;241m!=\u001b[39m \u001b[38;5;124m\"\u001b[39m\u001b[38;5;124mignore\u001b[39m\u001b[38;5;124m\"\u001b[39m:\n\u001b[1;32m-> 6934\u001b[0m         \u001b[38;5;28;01mraise\u001b[39;00m \u001b[38;5;167;01mKeyError\u001b[39;00m(\u001b[38;5;124mf\u001b[39m\u001b[38;5;124m\"\u001b[39m\u001b[38;5;132;01m{\u001b[39;00m\u001b[38;5;28mlist\u001b[39m(labels[mask])\u001b[38;5;132;01m}\u001b[39;00m\u001b[38;5;124m not found in axis\u001b[39m\u001b[38;5;124m\"\u001b[39m)\n\u001b[0;32m   6935\u001b[0m     indexer \u001b[38;5;241m=\u001b[39m indexer[\u001b[38;5;241m~\u001b[39mmask]\n\u001b[0;32m   6936\u001b[0m \u001b[38;5;28;01mreturn\u001b[39;00m \u001b[38;5;28mself\u001b[39m\u001b[38;5;241m.\u001b[39mdelete(indexer)\n",
      "\u001b[1;31mKeyError\u001b[0m: \"['away_team_possession', 'away_team_free_kick', 'possession_ratio'] not found in axis\""
     ]
    }
   ],
   "source": [
    "corr_matrix = train.corr().abs()\n",
    "upper = corr_matrix.where(np.triu(np.ones(corr_matrix.shape), k=1).astype(np.bool))\n",
    "corr_number = 0.9\n",
    "to_drop = [column for column in upper.columns if any(upper[column] > corr_number)]\n",
    "to_drop\n",
    "# # 특징 제거\n",
    "rn_train = rn_train.drop(columns=to_drop)  \n",
    "rn_test = rn_test.drop(columns=to_drop)"
   ]
  },
  {
   "cell_type": "code",
   "execution_count": 25,
   "metadata": {},
   "outputs": [
    {
     "name": "stderr",
     "output_type": "stream",
     "text": [
      "[I 2024-06-26 19:56:58,918] A new study created in memory with name: no-name-f770dac9-9dec-4a44-b5ae-bd15a6f41afc\n",
      "[I 2024-06-26 19:57:21,649] Trial 0 finished with value: 0.6768891333577802 and parameters: {'l1_ratio': 0.5710772829440637, 'C': 0.16750989695982324}. Best is trial 0 with value: 0.6768891333577802.\n",
      "[I 2024-06-26 19:57:44,042] Trial 1 finished with value: 0.6754125412541254 and parameters: {'l1_ratio': 0.9152599264694679, 'C': 0.11754076619775668}. Best is trial 0 with value: 0.6768891333577802.\n",
      "[I 2024-06-26 19:58:03,408] Trial 2 finished with value: 0.5899168805769466 and parameters: {'l1_ratio': 0.5580026202023411, 'C': 0.0033542880894964714}. Best is trial 0 with value: 0.6768891333577802.\n",
      "[I 2024-06-26 19:58:07,739] Trial 3 finished with value: 0.4258770321476592 and parameters: {'l1_ratio': 0.9803406103788604, 'C': 0.0023039935957463106}. Best is trial 0 with value: 0.6768891333577802.\n",
      "[I 2024-06-26 19:58:30,755] Trial 4 finished with value: 0.6754052071873854 and parameters: {'l1_ratio': 0.07838026295781342, 'C': 2.119620681028427}. Best is trial 0 with value: 0.6768891333577802.\n",
      "[I 2024-06-26 19:58:51,570] Trial 5 finished with value: 0.6556447867008923 and parameters: {'l1_ratio': 0.7153306462396337, 'C': 0.012794192696331367}. Best is trial 0 with value: 0.6768891333577802.\n",
      "[I 2024-06-26 19:58:51,754] Trial 6 finished with value: 0.39525730350812854 and parameters: {'l1_ratio': 0.7538734256678136, 'C': 0.0003884520008824528}. Best is trial 0 with value: 0.6768891333577802.\n",
      "[I 2024-06-26 19:58:55,571] Trial 7 finished with value: 0.4046436865908813 and parameters: {'l1_ratio': 0.5953814839025616, 'C': 0.001196103099390157}. Best is trial 0 with value: 0.6768891333577802.\n",
      "[I 2024-06-26 19:59:00,092] Trial 8 finished with value: 0.43328443955506657 and parameters: {'l1_ratio': 0.574743148894489, 'C': 0.0015290331260595033}. Best is trial 0 with value: 0.6768891333577802.\n",
      "[I 2024-06-26 19:59:00,286] Trial 9 finished with value: 0.39525730350812854 and parameters: {'l1_ratio': 0.6872036029212616, 'C': 0.0005373986806335554}. Best is trial 0 with value: 0.6768891333577802.\n",
      "[I 2024-06-26 19:59:23,138] Trial 10 finished with value: 0.6754052071873854 and parameters: {'l1_ratio': 0.2830492030212206, 'C': 74.24433202692884}. Best is trial 0 with value: 0.6768891333577802.\n",
      "[I 2024-06-26 19:59:45,942] Trial 11 finished with value: 0.6763953061972863 and parameters: {'l1_ratio': 0.9719224881678162, 'C': 0.2485490326134597}. Best is trial 0 with value: 0.6768891333577802.\n",
      "[I 2024-06-26 20:00:08,960] Trial 12 finished with value: 0.6754076518762988 and parameters: {'l1_ratio': 0.3888519162797721, 'C': 0.31106949863217837}. Best is trial 0 with value: 0.6768891333577802.\n",
      "[I 2024-06-26 20:00:32,121] Trial 13 finished with value: 0.6749113800268917 and parameters: {'l1_ratio': 0.22121132450225794, 'C': 1.5594921787510119}. Best is trial 0 with value: 0.6768891333577802.\n",
      "[I 2024-06-26 20:00:53,381] Trial 14 finished with value: 0.6605830583058305 and parameters: {'l1_ratio': 0.8701668547230859, 'C': 0.021595150598062232}. Best is trial 0 with value: 0.6768891333577802.\n",
      "[I 2024-06-26 20:01:16,486] Trial 15 finished with value: 0.6754052071873854 and parameters: {'l1_ratio': 0.46530903281062214, 'C': 8.624020948950358}. Best is trial 0 with value: 0.6768891333577802.\n",
      "[I 2024-06-26 20:01:39,437] Trial 16 finished with value: 0.6759014790367925 and parameters: {'l1_ratio': 0.7845443389253854, 'C': 0.3072394146933787}. Best is trial 0 with value: 0.6768891333577802.\n",
      "[I 2024-06-26 20:02:02,366] Trial 17 finished with value: 0.6734298985454101 and parameters: {'l1_ratio': 0.04120881499993556, 'C': 0.039112390521494164}. Best is trial 0 with value: 0.6768891333577802.\n",
      "[I 2024-06-26 20:02:25,568] Trial 18 finished with value: 0.6754064295318422 and parameters: {'l1_ratio': 0.3726125906846444, 'C': 1.2587492188501685}. Best is trial 0 with value: 0.6768891333577802.\n",
      "[I 2024-06-26 20:02:48,798] Trial 19 finished with value: 0.6749113800268917 and parameters: {'l1_ratio': 0.9943372959288973, 'C': 16.082407599788777}. Best is trial 0 with value: 0.6768891333577802.\n"
     ]
    }
   ],
   "source": [
    "def logreg_objective(trial):\n",
    "    \n",
    "    r = trial.suggest_float('l1_ratio', 0, 1, log=False)\n",
    "    c = trial.suggest_float('C', 1e-4, 1e2, log=True)\n",
    "     \n",
    "    clf =  LogisticRegression(max_iter=5000, solver='saga', penalty='elasticnet', l1_ratio=r, C=c)\n",
    "    scores = cross_val_score(clf, rn_train, y_train, cv=5, scoring='accuracy')\n",
    "    \n",
    "    return scores.mean()\n",
    "    \n",
    "logreg_study = optuna.create_study(direction='maximize')\n",
    "logreg_study.optimize(logreg_objective, n_trials=20)\n",
    "\n",
    "logreg_best_params = logreg_study.best_params\n"
   ]
  },
  {
   "cell_type": "code",
   "execution_count": 27,
   "metadata": {},
   "outputs": [
    {
     "name": "stdout",
     "output_type": "stream",
     "text": [
      "Accuracy: 0.49122807017543857\n"
     ]
    }
   ],
   "source": [
    "model_logis=LogisticRegression(**logreg_best_params)\n",
    "model_logis.fit(rn_train,y_train)\n",
    "y_pred = model_logis.predict(rn_test)\n",
    "\n",
    "accuracy = accuracy_score(y_test, y_pred)\n",
    "print(\"Accuracy:\", accuracy)"
   ]
  },
  {
   "cell_type": "markdown",
   "metadata": {},
   "source": [
    "## L1 규제(Lasso)"
   ]
  },
  {
   "cell_type": "code",
   "execution_count": 28,
   "metadata": {},
   "outputs": [
    {
     "data": {
      "text/plain": [
       "0.005"
      ]
     },
     "execution_count": 28,
     "metadata": {},
     "output_type": "execute_result"
    }
   ],
   "source": [
    "# alpha 값 후보군 설정\n",
    "alpha_values = [0.0001, 0.0005, 0.001, 0.005, 0.01, 0.05, 0.1, 1, 10, 100]\n",
    "param_grid = {'alpha': alpha_values}\n",
    "\n",
    "# Lasso 모델과 GridSearchCV 설정\n",
    "lasso = Lasso()\n",
    "grid_search = GridSearchCV(lasso, param_grid, cv=5, scoring='neg_mean_squared_error')\n",
    "\n",
    "# 최적의 alpha 값 찾기\n",
    "grid_search.fit(rn_train, y_train)\n",
    "best_alpha = grid_search.best_params_['alpha']\n",
    "best_alpha"
   ]
  },
  {
   "cell_type": "code",
   "execution_count": 29,
   "metadata": {},
   "outputs": [
    {
     "data": {
      "text/plain": [
       "Index(['away_winRate_5_mean', 'home_winRate_5_mean', '5_games_result',\n",
       "       'away_team_goal_count_half_time', 'home_team_shots_on_target',\n",
       "       'away_Goal_5_std', 'home_Goal_5_std', 'home_team_possession', 'month',\n",
       "       'away_team_shots_on_target', 'away_Goal_5_mean', 'home_team_name',\n",
       "       'home_team_shots', 'away_team_name', 'home_team_free_kick',\n",
       "       'home_Goal_5_mean', 'away_team_shots', 'home_team_corner_count',\n",
       "       'away_team_corner_count', 'year', 'away_team_yellow_cards'],\n",
       "      dtype='object')"
      ]
     },
     "execution_count": 29,
     "metadata": {},
     "output_type": "execute_result"
    }
   ],
   "source": [
    "lasso = Lasso(alpha=best_alpha)  # 위에서 나온 alpha 값으로 조정한 거임\n",
    "lasso.fit(rn_train, y_train)\n",
    "\n",
    "# 가중치가 0이 아닌 특징 선택\n",
    "selected_features = rn_train.columns[lasso.coef_ != 0]\n",
    "selected_features"
   ]
  },
  {
   "cell_type": "code",
   "execution_count": 31,
   "metadata": {},
   "outputs": [],
   "source": [
    "rn_train = rn_train[selected_features]\n",
    "rn_test = rn_test[selected_features]"
   ]
  },
  {
   "cell_type": "code",
   "execution_count": 32,
   "metadata": {},
   "outputs": [
    {
     "name": "stderr",
     "output_type": "stream",
     "text": [
      "[I 2024-06-26 20:03:47,867] A new study created in memory with name: no-name-d178cbf4-6834-4287-8157-0991915ef894\n",
      "[I 2024-06-26 20:04:05,594] Trial 0 finished with value: 0.6546620217577314 and parameters: {'l1_ratio': 0.3073118236939879, 'C': 0.05707887487016698}. Best is trial 0 with value: 0.6546620217577314.\n",
      "[I 2024-06-26 20:04:16,880] Trial 1 finished with value: 0.6220388705537221 and parameters: {'l1_ratio': 0.05110685210328936, 'C': 0.0016827113094853119}. Best is trial 0 with value: 0.6546620217577314.\n",
      "[I 2024-06-26 20:04:31,672] Trial 2 finished with value: 0.48812370125901483 and parameters: {'l1_ratio': 0.5454458500490001, 'C': 0.002068708243429115}. Best is trial 0 with value: 0.6546620217577314.\n",
      "[I 2024-06-26 20:04:49,563] Trial 3 finished with value: 0.6551570712626817 and parameters: {'l1_ratio': 0.06290667873304856, 'C': 8.236099117783326}. Best is trial 3 with value: 0.6551570712626817.\n",
      "[I 2024-06-26 20:05:05,153] Trial 4 finished with value: 0.5568084586236403 and parameters: {'l1_ratio': 0.5904359693870225, 'C': 0.003093798798544894}. Best is trial 3 with value: 0.6551570712626817.\n",
      "[I 2024-06-26 20:05:21,134] Trial 5 finished with value: 0.5148013690257913 and parameters: {'l1_ratio': 0.6155135049398247, 'C': 0.0026208188463606413}. Best is trial 3 with value: 0.6551570712626817.\n",
      "[I 2024-06-26 20:05:39,224] Trial 6 finished with value: 0.6551570712626817 and parameters: {'l1_ratio': 0.5078050389963857, 'C': 68.94106255431652}. Best is trial 3 with value: 0.6551570712626817.\n",
      "[I 2024-06-26 20:05:57,079] Trial 7 finished with value: 0.6551570712626817 and parameters: {'l1_ratio': 0.6472208277930724, 'C': 65.04798984288034}. Best is trial 3 with value: 0.6551570712626817.\n",
      "[I 2024-06-26 20:06:15,030] Trial 8 finished with value: 0.6556521207676324 and parameters: {'l1_ratio': 0.43099310746215236, 'C': 0.45707759207074455}. Best is trial 8 with value: 0.6556521207676324.\n",
      "[I 2024-06-26 20:06:31,130] Trial 9 finished with value: 0.6329165138736095 and parameters: {'l1_ratio': 0.9021262461596214, 'C': 0.011507556596734572}. Best is trial 8 with value: 0.6556521207676324.\n",
      "[I 2024-06-26 20:06:49,145] Trial 10 finished with value: 0.6551570712626817 and parameters: {'l1_ratio': 0.3193268101519742, 'C': 1.013705190447934}. Best is trial 8 with value: 0.6556521207676324.\n",
      "[I 2024-06-26 20:07:06,690] Trial 11 finished with value: 0.6546632441021879 and parameters: {'l1_ratio': 0.012777920313905344, 'C': 1.664083025937049}. Best is trial 8 with value: 0.6556521207676324.\n",
      "[I 2024-06-26 20:07:24,511] Trial 12 finished with value: 0.6546632441021879 and parameters: {'l1_ratio': 0.23043982023691967, 'C': 2.2156529021821343}. Best is trial 8 with value: 0.6556521207676324.\n",
      "[I 2024-06-26 20:07:24,675] Trial 13 finished with value: 0.39525730350812854 and parameters: {'l1_ratio': 0.9134734719199774, 'C': 0.00011225096395977485}. Best is trial 8 with value: 0.6556521207676324.\n",
      "[I 2024-06-26 20:07:42,288] Trial 14 finished with value: 0.6551570712626817 and parameters: {'l1_ratio': 0.16960132339170508, 'C': 9.991611433817797}. Best is trial 8 with value: 0.6556521207676324.\n",
      "[I 2024-06-26 20:08:01,020] Trial 15 finished with value: 0.6546620217577312 and parameters: {'l1_ratio': 0.7740800489819776, 'C': 0.1671833697603818}. Best is trial 8 with value: 0.6556521207676324.\n",
      "[I 2024-06-26 20:08:19,911] Trial 16 finished with value: 0.6541694169416943 and parameters: {'l1_ratio': 0.4159524686126612, 'C': 0.17451604040899307}. Best is trial 8 with value: 0.6556521207676324.\n",
      "[I 2024-06-26 20:08:38,818] Trial 17 finished with value: 0.6551570712626817 and parameters: {'l1_ratio': 0.1079723759188954, 'C': 10.264491751943808}. Best is trial 8 with value: 0.6556521207676324.\n",
      "[I 2024-06-26 20:08:57,527] Trial 18 finished with value: 0.6551570712626817 and parameters: {'l1_ratio': 0.39190957593328024, 'C': 9.362884718096895}. Best is trial 8 with value: 0.6556521207676324.\n",
      "[I 2024-06-26 20:09:16,253] Trial 19 finished with value: 0.6556521207676324 and parameters: {'l1_ratio': 0.7715553064336392, 'C': 0.5470271119205806}. Best is trial 8 with value: 0.6556521207676324.\n"
     ]
    }
   ],
   "source": [
    "def logreg_objective(trial):\n",
    "    \n",
    "    r = trial.suggest_float('l1_ratio', 0, 1, log=False)\n",
    "    c = trial.suggest_float('C', 1e-4, 1e2, log=True)\n",
    "     \n",
    "    clf =  LogisticRegression(max_iter=5000, solver='saga', penalty='elasticnet', l1_ratio=r, C=c)\n",
    "    scores = cross_val_score(clf, rn_train, y_train, cv=5, scoring='accuracy')\n",
    "    \n",
    "    return scores.mean()\n",
    "    \n",
    "logreg_study = optuna.create_study(direction='maximize')\n",
    "logreg_study.optimize(logreg_objective, n_trials=20)\n",
    "\n",
    "logreg_best_params = logreg_study.best_params"
   ]
  },
  {
   "cell_type": "markdown",
   "metadata": {},
   "source": [
    "## model select"
   ]
  },
  {
   "cell_type": "code",
   "execution_count": 33,
   "metadata": {},
   "outputs": [
    {
     "name": "stdout",
     "output_type": "stream",
     "text": [
      "Accuracy: 0.4956140350877193\n"
     ]
    }
   ],
   "source": [
    "model_logis=LogisticRegression(**logreg_best_params)\n",
    "model_logis.fit(rn_train,y_train)\n",
    "\n",
    "y_pred = model_logis.predict(rn_test)\n",
    "\n",
    "accuracy = accuracy_score(y_test, y_pred)\n",
    "print(\"Accuracy:\", accuracy)"
   ]
  },
  {
   "cell_type": "code",
   "execution_count": null,
   "metadata": {},
   "outputs": [],
   "source": [
    "# model = lgb.LGBMClassifier(n_estimators=100, random_state=42)\n",
    "# model.fit(train, y_train) \n",
    "# y_pred = model.predict(test)\n",
    "\n",
    "# accuracy = accuracy_score(y_test, y_pred)\n",
    "# print(\"Accuracy:\", accuracy)"
   ]
  },
  {
   "cell_type": "markdown",
   "metadata": {},
   "source": [
    "# 2013~2023  \n",
    "### 많긴 하지만 정확도 떨어질 것으로 예상됨\n",
    "\n",
    "# 2020~2023\n",
    "### 데이터 수가 급격히 줄어듬"
   ]
  }
 ],
 "metadata": {
  "kernelspec": {
   "display_name": "code_sim",
   "language": "python",
   "name": "python3"
  },
  "language_info": {
   "codemirror_mode": {
    "name": "ipython",
    "version": 3
   },
   "file_extension": ".py",
   "mimetype": "text/x-python",
   "name": "python",
   "nbconvert_exporter": "python",
   "pygments_lexer": "ipython3",
   "version": "3.11.5"
  }
 },
 "nbformat": 4,
 "nbformat_minor": 2
}
